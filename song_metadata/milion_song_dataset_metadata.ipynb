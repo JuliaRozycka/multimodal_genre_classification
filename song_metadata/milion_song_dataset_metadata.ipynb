{
 "cells": [
  {
   "cell_type": "code",
   "id": "initial_id",
   "metadata": {
    "collapsed": true,
    "ExecuteTime": {
     "end_time": "2025-01-06T18:30:59.135270Z",
     "start_time": "2025-01-06T18:30:53.076735Z"
    }
   },
   "source": [
    "import pandas as pd\n",
    "import numpy as np\n",
    "import os\n",
    "import matplotlib.pyplot as plt"
   ],
   "outputs": [],
   "execution_count": 1
  },
  {
   "metadata": {
    "ExecuteTime": {
     "end_time": "2025-01-06T18:32:53.598351Z",
     "start_time": "2025-01-06T18:32:53.596836Z"
    }
   },
   "cell_type": "code",
   "source": [
    "# Load example h5 file to pandas dataframe\n",
    "\n",
    "# Load the h5 file\n",
    "file_path = \"data/TRAWYLO128F9315681.h5\""
   ],
   "id": "7cd5f6d11685a998",
   "outputs": [],
   "execution_count": 5
  },
  {
   "metadata": {
    "ExecuteTime": {
     "end_time": "2025-01-06T18:34:13.029255Z",
     "start_time": "2025-01-06T18:34:13.025045Z"
    }
   },
   "cell_type": "code",
   "source": [
    "# Load the h5 file\n",
    "store = pd.HDFStore(file_path)"
   ],
   "id": "f0972dd36ba694c6",
   "outputs": [],
   "execution_count": 9
  },
  {
   "metadata": {
    "ExecuteTime": {
     "end_time": "2025-01-06T18:36:41.454510Z",
     "start_time": "2025-01-06T18:36:41.452477Z"
    }
   },
   "cell_type": "code",
   "source": "store.groups()",
   "id": "b01ccdd9fd814178",
   "outputs": [
    {
     "data": {
      "text/plain": [
       "[]"
      ]
     },
     "execution_count": 15,
     "metadata": {},
     "output_type": "execute_result"
    }
   ],
   "execution_count": 15
  },
  {
   "metadata": {
    "ExecuteTime": {
     "end_time": "2025-01-06T18:37:45.179392Z",
     "start_time": "2025-01-06T18:37:45.176824Z"
    }
   },
   "cell_type": "code",
   "source": [
    "# Read .db file\n",
    "\n",
    "# Load the db file\n",
    "db_path = \"data/track_metadata.db\"\n",
    "\n"
   ],
   "id": "69e6889a3a306116",
   "outputs": [],
   "execution_count": 17
  },
  {
   "metadata": {
    "ExecuteTime": {
     "end_time": "2025-01-06T18:40:32.279803Z",
     "start_time": "2025-01-06T18:40:32.275665Z"
    }
   },
   "cell_type": "code",
   "source": [
    "# Read the db using sqlite3\n",
    "\n",
    "import sqlite3\n",
    "\n",
    "# Connect to the database\n",
    "conn = sqlite3.connect(db_path)\n",
    "\n",
    "# Create a cursor\n",
    "cur = conn.cursor()\n",
    "\n",
    "# Find out the table names\n",
    "cur.execute(\"SELECT name FROM sqlite_master WHERE type='table'\")\n",
    "\n",
    "# Fetch the results\n",
    "tables = cur.fetchall()\n",
    "\n",
    "# Print the results\n",
    "\n",
    "tables"
   ],
   "id": "bc306f0911ba9612",
   "outputs": [
    {
     "data": {
      "text/plain": [
       "[('songs',)]"
      ]
     },
     "execution_count": 19,
     "metadata": {},
     "output_type": "execute_result"
    }
   ],
   "execution_count": 19
  },
  {
   "metadata": {
    "ExecuteTime": {
     "end_time": "2025-01-06T18:44:20.742636Z",
     "start_time": "2025-01-06T18:44:19.278794Z"
    }
   },
   "cell_type": "code",
   "source": [
    "# Select all from songs with headers\n",
    "cur.execute(\"SELECT * FROM songs\")\n",
    "songs = cur.fetchall()\n",
    "\n",
    "# Print the first row\n",
    "songs[0]\n",
    "\n",
    "# Find out the column names\n",
    "cur.execute(\"PRAGMA table_info(songs)\")\n",
    "columns = cur.fetchall()\n",
    "\n",
    "print(columns)\n"
   ],
   "id": "4293b5f67afc5bed",
   "outputs": [
    {
     "name": "stdout",
     "output_type": "stream",
     "text": [
      "[(0, 'track_id', 'TEXT', 0, None, 1), (1, 'title', 'TEXT', 0, None, 0), (2, 'song_id', 'TEXT', 0, None, 0), (3, 'release', 'TEXT', 0, None, 0), (4, 'artist_id', 'TEXT', 0, None, 0), (5, 'artist_mbid', 'TEXT', 0, None, 0), (6, 'artist_name', 'TEXT', 0, None, 0), (7, 'duration', 'REAL', 0, None, 0), (8, 'artist_familiarity', 'REAL', 0, None, 0), (9, 'artist_hotttnesss', 'REAL', 0, None, 0), (10, 'year', 'INT', 0, None, 0), (11, 'track_7digitalid', 'INT', 0, None, 0), (12, 'shs_perf', 'INT', 0, None, 0), (13, 'shs_work', 'INT', 0, None, 0)]\n"
     ]
    }
   ],
   "execution_count": 22
  },
  {
   "metadata": {
    "ExecuteTime": {
     "end_time": "2025-01-06T18:41:11.442351Z",
     "start_time": "2025-01-06T18:41:11.440922Z"
    }
   },
   "cell_type": "code",
   "source": "\n",
   "id": "3572043a39d1a979",
   "outputs": [],
   "execution_count": null
  },
  {
   "metadata": {},
   "cell_type": "code",
   "outputs": [],
   "execution_count": null,
   "source": "",
   "id": "63286b28a11eedf8"
  }
 ],
 "metadata": {
  "kernelspec": {
   "display_name": "Python 3",
   "language": "python",
   "name": "python3"
  },
  "language_info": {
   "codemirror_mode": {
    "name": "ipython",
    "version": 2
   },
   "file_extension": ".py",
   "mimetype": "text/x-python",
   "name": "python",
   "nbconvert_exporter": "python",
   "pygments_lexer": "ipython2",
   "version": "2.7.6"
  }
 },
 "nbformat": 4,
 "nbformat_minor": 5
}
