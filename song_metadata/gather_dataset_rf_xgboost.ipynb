{
 "cells": [
  {
   "metadata": {},
   "cell_type": "markdown",
   "source": "## Gather data",
   "id": "6db39d5c86909d75"
  },
  {
   "metadata": {},
   "cell_type": "code",
   "source": [
    "import pandas as pd\n",
    "import joblib\n",
    "from sklearn.feature_selection import SelectKBest\n",
    "from sklearn.feature_selection import f_classif\n",
    "from imblearn.over_sampling import SMOTE\n",
    "from sklearn.preprocessing import StandardScaler, LabelEncoder"
   ],
   "id": "df5f478bc1e68597",
   "outputs": [],
   "execution_count": null
  },
  {
   "metadata": {},
   "cell_type": "code",
   "source": [
    "# Load the data from csv file\n",
    "df = pd.read_csv('data/spotify_songs.csv')"
   ],
   "id": "dd4d0dbc3c458247",
   "outputs": [],
   "execution_count": null
  },
  {
   "metadata": {},
   "cell_type": "code",
   "source": "df.head()",
   "id": "c2199f270ebeda58",
   "outputs": [],
   "execution_count": null
  },
  {
   "metadata": {},
   "cell_type": "code",
   "source": "df['playlist_subgenre'].str.contains('hip hop').sum()",
   "id": "25701053eaa496f6",
   "outputs": [],
   "execution_count": null
  },
  {
   "metadata": {},
   "cell_type": "code",
   "source": "df2 = pd.read_csv('data/spotify_songs_2.csv')\n",
   "id": "cdf8ed631018b5b",
   "outputs": [],
   "execution_count": null
  },
  {
   "metadata": {},
   "cell_type": "code",
   "source": [
    "# Get common columns from both dataframes\n",
    "common_columns = df.columns.intersection(df2.columns)\n"
   ],
   "id": "f3ccf74544e93e76",
   "outputs": [],
   "execution_count": null
  },
  {
   "metadata": {},
   "cell_type": "code",
   "source": "common_columns",
   "id": "b1860de5a1aa5359",
   "outputs": [],
   "execution_count": null
  },
  {
   "metadata": {},
   "cell_type": "code",
   "source": [
    "df = df[common_columns]\n",
    "df2 = df2[common_columns]"
   ],
   "id": "4da6537bb48a23ba",
   "outputs": [],
   "execution_count": null
  },
  {
   "metadata": {},
   "cell_type": "code",
   "source": [
    "# Combine those two dataframes\n",
    "df = pd.concat([df, df2], ignore_index=True)"
   ],
   "id": "5c9cfdd313d7aff6",
   "outputs": [],
   "execution_count": null
  },
  {
   "metadata": {},
   "cell_type": "code",
   "source": [
    "# Check for duplicates in pairs track name : track_artist\n",
    "df.duplicated(subset=['track_name', 'track_artist']).sum()"
   ],
   "id": "ba0040db3112547c",
   "outputs": [],
   "execution_count": null
  },
  {
   "metadata": {},
   "cell_type": "code",
   "source": [
    "# Delete those duplicates\n",
    "df.drop_duplicates(subset=['track_name', 'track_artist'], inplace=True)"
   ],
   "id": "ceaa10a3887976f",
   "outputs": [],
   "execution_count": null
  },
  {
   "metadata": {},
   "cell_type": "code",
   "source": [
    "# Convert duration_ms to duration (in seconds)\n",
    "df['duration'] = df['duration_ms'] / 1000"
   ],
   "id": "f957fdeefe83aa87",
   "outputs": [],
   "execution_count": null
  },
  {
   "metadata": {},
   "cell_type": "code",
   "source": "df[df['playlist_genre'].isin(['rock', 'pop', 'rap'])]",
   "id": "85f9e7b13fc845a",
   "outputs": [],
   "execution_count": null
  },
  {
   "metadata": {},
   "cell_type": "code",
   "source": "df['playlist_genre'].unique()",
   "id": "fa42d5e0640bf74b",
   "outputs": [],
   "execution_count": null
  },
  {
   "metadata": {},
   "cell_type": "code",
   "source": [
    "# Print unique values of playlist subgenre for every unique playlist genre\n",
    "for genre in df['playlist_genre'].unique():\n",
    "    print(genre)\n",
    "    print(df[df['playlist_genre'] == genre]['playlist_subgenre'].unique())"
   ],
   "id": "f4a72f738892ef12",
   "outputs": [],
   "execution_count": null
  },
  {
   "metadata": {},
   "cell_type": "code",
   "source": "df['playlist_subgenre'].unique()",
   "id": "61713d68cb664c35",
   "outputs": [],
   "execution_count": null
  },
  {
   "metadata": {},
   "cell_type": "code",
   "source": [
    "# Get year_released from track_album_release_date (date is either in format yyyy-mm-dd or yyyy)\n",
    "df['year_released'] = df['track_album_release_date'].str.extract(r'(\\d{4})')\n",
    "df.year_released.astype('int').min()"
   ],
   "id": "ba86f90281eaf5f6",
   "outputs": [],
   "execution_count": null
  },
  {
   "metadata": {},
   "cell_type": "markdown",
   "source": "",
   "id": "34022ec4169969fb"
  },
  {
   "metadata": {},
   "cell_type": "code",
   "source": [
    "# Load from path /Users/julia.rozycka/Master/multi_modal_genre_classification/data/fma_full_echonest_lyrics.csv\n",
    "\n",
    "# Combine tracks with echonest\n",
    "\n",
    "# Load fma data\n",
    "fma = pd.read_csv('data/fma/tracks.csv', header=[0, 1], skiprows=[2])\n",
    "fma = fma.rename(columns={\"Unnamed: 0_level_1\": \"track_id\"}, level=1)\n",
    "fma = fma.rename(columns={\"Unnamed: 0_level_0\": \"track\"}, level=0)\n",
    "\n",
    "# Load echonest data\n",
    "echonest = pd.read_csv('data/fma/echonest.csv', header=[0,1], skiprows=[1,3])\n",
    "\n",
    "# Drop last 100 columns\n",
    "echonest = echonest.iloc[:, :-224]\n",
    "echonest = echonest.rename(columns={\"Unnamed: 0_level_1\": \"track_id\"}, level=1)\n",
    "echonest = echonest.rename(columns={\"Unnamed: 0_level_0\": \"track\"}, level=0)\n",
    "\n",
    "# Change track_id to int\n",
    "fma[('track', 'track_id')] = fma[('track', 'track_id')].astype(int)\n",
    "echonest[('track', 'track_id')] = echonest[('track', 'track_id')].astype(int)"
   ],
   "id": "98c394f02afa1514",
   "outputs": [],
   "execution_count": null
  },
  {
   "metadata": {},
   "cell_type": "code",
   "source": [
    "# Merge fma and echonest\n",
    "feg = pd.merge(echonest, fma, on=[('track', 'track_id')], how='inner')\n",
    "\n",
    "genres = pd.read_csv('data/fma/genres.csv')\n",
    "\n",
    "def get_genres(row):\n",
    "    return ', '.join(genres[genres['genre_id'].isin(eval(row[('track', 'genres')]))]['title'])\n",
    "\n",
    "def get_genres_all(row):\n",
    "    return ', '.join(genres[genres['genre_id'].isin(eval(row[('track', 'genres_all')]))]['title'])\n",
    "\n",
    "feg[('track', 'genres')] = feg.apply(get_genres, axis=1)\n",
    "feg[('track', 'genres_all')] = feg.apply(get_genres_all, axis=1)"
   ],
   "id": "27387ba75d240f3b",
   "outputs": [],
   "execution_count": null
  },
  {
   "metadata": {},
   "cell_type": "code",
   "source": "feg[('track', 'genre_top')].value_counts()",
   "id": "69a84ef3aafd103c",
   "outputs": [],
   "execution_count": null
  },
  {
   "metadata": {},
   "cell_type": "code",
   "source": "feg[('track', 'genres')].str.split(', ').explode().value_counts()",
   "id": "903251b0e3ab8bcc",
   "outputs": [],
   "execution_count": null
  },
  {
   "metadata": {},
   "cell_type": "code",
   "source": "feg[('track', 'genres_all')].str.split(', ').explode().value_counts()",
   "id": "bca738a71f7fefb8",
   "outputs": [],
   "execution_count": null
  },
  {
   "metadata": {},
   "cell_type": "code",
   "source": "fma_country = pd.DataFrame(columns=feg.columns)",
   "id": "9bd4a2d32d27d072",
   "outputs": [],
   "execution_count": null
  },
  {
   "metadata": {},
   "cell_type": "code",
   "source": [
    "# My desired 8 genres are rock, pop, rap, hip hop, indie, country, jazz, metal\n",
    "# I have rock, pop, rap, hip hop, indie so I need country, jazz and metal from this dataset (country can be folk)\n",
    "\n",
    "# First let's handle country -> look for rows containing Country in genres_all or genres\n",
    "#feg[feg[('track', 'genres_all')].str.contains('Country', case=False) | feg[('track', 'genres')].str.contains('Country', case=False)]\n",
    "\n",
    "# Let's add this to fma_country dataframe use concat\n",
    "fma_country = pd.concat([fma_country, feg[feg[('track', 'genres_all')].str.contains('Country', case=False) | feg[('track', 'genres')].str.contains('Country', case=False)]], ignore_index=True)\n",
    "fma_country"
   ],
   "id": "d8b0b579ee95a4c7",
   "outputs": [],
   "execution_count": null
  },
  {
   "metadata": {},
   "cell_type": "code",
   "source": [
    "# Let's see if there is genre very similar to Country like: Folk in genres\n",
    "fma_country = pd.concat([fma_country, feg[feg[('track', 'genres')].str.contains('Folk', case=False)]], ignore_index=True)"
   ],
   "id": "44529fd54a340e3b",
   "outputs": [],
   "execution_count": null
  },
  {
   "metadata": {},
   "cell_type": "code",
   "source": "fma_country.drop_duplicates(subset=[('artist', 'name'),('track', 'title')], inplace=True)",
   "id": "c26d63132bd2562a",
   "outputs": [],
   "execution_count": null
  },
  {
   "metadata": {},
   "cell_type": "code",
   "source": [
    "# Add new column track echonest genre to fma_country\n",
    "fma_country[('echonest', 'genre')] = 'Country'"
   ],
   "id": "e2972eacbed32e56",
   "outputs": [],
   "execution_count": null
  },
  {
   "metadata": {},
   "cell_type": "code",
   "source": "fma_country",
   "id": "c807bd02d2937482",
   "outputs": [],
   "execution_count": null
  },
  {
   "metadata": {},
   "cell_type": "code",
   "source": [
    "# Exclude fma_country from feg by track_id\n",
    "feg = feg[~feg[('track', 'track_id')].isin(fma_country[('track', 'track_id')])]\n",
    "feg.count()"
   ],
   "id": "1239787e5aaeb696",
   "outputs": [],
   "execution_count": null
  },
  {
   "metadata": {},
   "cell_type": "code",
   "source": [
    "# Now let's add jazz\n",
    "fma_jazz = pd.DataFrame(columns=feg.columns)\n",
    "fma_jazz = pd.concat([fma_jazz, feg[feg[('track', 'genre_top')] == 'Jazz']], ignore_index=True)\n",
    "fma_jazz.track.track_id.count()"
   ],
   "id": "5f235518c877a8d4",
   "outputs": [],
   "execution_count": null
  },
  {
   "metadata": {},
   "cell_type": "code",
   "source": [
    "# Now check in genres and add\n",
    "fma_jazz = pd.concat([fma_jazz, feg[feg[('track', 'genres_all')].str.contains('Jazz', case=False) | feg[('track', 'genres')].str.contains('Jazz', case=False)]], ignore_index=True)\n",
    "fma_jazz.track.track_id.count()"
   ],
   "id": "82edfc0b124caaf5",
   "outputs": [],
   "execution_count": null
  },
  {
   "metadata": {},
   "cell_type": "code",
   "source": "fma_jazz.drop_duplicates(subset=[('artist', 'name'),('track', 'title')], inplace=True)",
   "id": "ee90c0354a41d6c8",
   "outputs": [],
   "execution_count": null
  },
  {
   "metadata": {},
   "cell_type": "code",
   "source": "fma_jazz.track.track_id.count()",
   "id": "1c87116140d402ce",
   "outputs": [],
   "execution_count": null
  },
  {
   "metadata": {},
   "cell_type": "code",
   "source": "fma_jazz[('echonest', 'genre')] = 'Jazz'",
   "id": "1c80bca8f3d15d6d",
   "outputs": [],
   "execution_count": null
  },
  {
   "metadata": {},
   "cell_type": "code",
   "source": [
    "# Exclude fma_jazz from feg by track_id\n",
    "feg = feg[~feg[('track', 'track_id')].isin(fma_jazz[('track', 'track_id')])]"
   ],
   "id": "6876f7cf4a276436",
   "outputs": [],
   "execution_count": null
  },
  {
   "metadata": {},
   "cell_type": "code",
   "source": "feg.track.track_id.count()",
   "id": "a1d8ac448427b7a5",
   "outputs": [],
   "execution_count": null
  },
  {
   "metadata": {},
   "cell_type": "code",
   "source": [
    "# Now let's add metal\n",
    "fma_metal = pd.DataFrame(columns=feg.columns)\n",
    "fma_metal = pd.concat([fma_metal, feg[feg[('track', 'genre_top')] == 'Metal']], ignore_index=True)\n",
    "fma_metal.track.track_id.count()"
   ],
   "id": "c37e83402463f853",
   "outputs": [],
   "execution_count": null
  },
  {
   "metadata": {},
   "cell_type": "code",
   "source": [
    "# Now check in genres and add\n",
    "fma_metal = pd.concat([fma_metal, feg[feg[('track', 'genres_all')].str.contains('Metal', case=False) | feg[('track', 'genres')].str.contains('Metal', case=False)]], ignore_index=True)\n",
    "fma_metal.track.track_id.count()"
   ],
   "id": "7b8f96bddaa737d3",
   "outputs": [],
   "execution_count": null
  },
  {
   "metadata": {},
   "cell_type": "code",
   "source": "fma_metal.drop_duplicates(subset=[('artist', 'name'),('track', 'title')], inplace=True)",
   "id": "88e5c911b169dd56",
   "outputs": [],
   "execution_count": null
  },
  {
   "metadata": {},
   "cell_type": "code",
   "source": "fma_metal[('echonest', 'genre')] = 'Metal'",
   "id": "1c31bc45fbcecb5e",
   "outputs": [],
   "execution_count": null
  },
  {
   "metadata": {},
   "cell_type": "code",
   "source": "fma_metal.track.track_id.count()",
   "id": "b0d396dec0cd6a82",
   "outputs": [],
   "execution_count": null
  },
  {
   "metadata": {},
   "cell_type": "code",
   "source": "",
   "id": "a0a7b292a9bec379",
   "outputs": [],
   "execution_count": null
  },
  {
   "metadata": {},
   "cell_type": "code",
   "source": [
    "# Concat fma_country, fma_jazz, fma_metal\n",
    "fma_cjm = pd.concat([fma_country, fma_jazz, fma_metal], ignore_index=True)\n",
    "\n",
    "fma_cjm.drop_duplicates(subset=[('artist', 'name'),('track', 'title')], inplace=True)"
   ],
   "id": "77459d0dc8c5f210",
   "outputs": [],
   "execution_count": null
  },
  {
   "metadata": {},
   "cell_type": "code",
   "source": "fma_cjm.track.track_id.count()",
   "id": "7785ed0454d81542",
   "outputs": [],
   "execution_count": null
  },
  {
   "metadata": {},
   "cell_type": "code",
   "source": [
    "# Take columns from fma_cjm that have 1st header level 'echonest' and second: ['danceability', 'energy', 'speechiness', 'acousticness', 'instrumentalness', 'liveness', 'valence', 'tempo', 'genre'] + ('track' , 'duration') \n",
    "\n",
    "fma_cjm_echonest = fma_cjm[[('echonest', 'danceability'), ('echonest', 'energy'), ('echonest', 'speechiness'), ('echonest', 'acousticness'), ('echonest', 'instrumentalness'), ('echonest', 'liveness'), ('echonest', 'valence'), ('echonest', 'tempo'), ('echonest', 'genre'), ('track', 'duration'), ('album', 'date_released')]]"
   ],
   "id": "e25f649440fcbbca",
   "outputs": [],
   "execution_count": null
  },
  {
   "metadata": {},
   "cell_type": "code",
   "source": [
    "# Drop 1st level of columns\n",
    "fma_cjm_echonest.columns = fma_cjm_echonest.columns.droplevel(0)\n",
    "fma_cjm_echonest['year_released'] = fma_cjm_echonest['date_released'].str.extract(r'(\\d{4})')\n",
    "# When NaN insert median year_released by the genre\n",
    "\n",
    "# Ensure all values in 'year_released' are numeric\n",
    "fma_cjm_echonest['year_released'] = pd.to_numeric(fma_cjm_echonest['year_released'], errors='coerce')\n",
    "\n",
    "# Fill NaN values with the median year_released by genre\n",
    "fma_cjm_echonest['year_released'] = fma_cjm_echonest['year_released'].fillna(fma_cjm_echonest.groupby('genre')['year_released'].transform('median'))\n",
    "\n",
    "#fma_cjm_echonest.year_released.astype(int).min()"
   ],
   "id": "496f698529a1e9af",
   "outputs": [],
   "execution_count": null
  },
  {
   "metadata": {},
   "cell_type": "code",
   "source": "fma_cjm_echonest['year_released'] = fma_cjm_echonest['year_released'].astype(int)",
   "id": "9c8b31ac3b89b7c8",
   "outputs": [],
   "execution_count": null
  },
  {
   "metadata": {},
   "cell_type": "code",
   "source": "fma_cjm_echonest",
   "id": "c4d41719f7157a3",
   "outputs": [],
   "execution_count": null
  },
  {
   "metadata": {},
   "cell_type": "code",
   "source": "fma_cjm_echonest",
   "id": "e0cf8733aeeee192",
   "outputs": [],
   "execution_count": null
  },
  {
   "metadata": {},
   "cell_type": "code",
   "source": [
    "# Get common columns from both dataframes\n",
    "common_columns = df.columns.intersection(fma_cjm_echonest.columns)\n",
    "common_columns"
   ],
   "id": "5acc85fea594c8f9",
   "outputs": [],
   "execution_count": null
  },
  {
   "metadata": {},
   "cell_type": "code",
   "source": "df",
   "id": "9ad3a94d2b864997",
   "outputs": [],
   "execution_count": null
  },
  {
   "metadata": {},
   "cell_type": "code",
   "source": [
    "df = df[common_columns]\n",
    "fma_cjm_echonest = fma_cjm_echonest[common_columns]\n",
    "# Combine those two dataframes\n",
    "df = pd.concat([df, fma_cjm_echonest], ignore_index=True)"
   ],
   "id": "8acc197fb2c4974c",
   "outputs": [],
   "execution_count": null
  },
  {
   "metadata": {},
   "cell_type": "code",
   "source": [
    "# Create new column called genre. rock -> when playlist_genre is rock, pop -> when playlist_genre is pop but not indie poptimism, hiphop -> when playlist_subgenre is hip hop or southern hip hop, rap -> when playlist_genre is rap but subgenre is not hip hop, indie when playlist_genre is pop and playlist_subgenre is indie poptimism.\n",
    "\n",
    "df['genre'] = 'other'\n",
    "df.loc[df['playlist_genre'] == 'rock', 'genre'] = 'rock'\n",
    "df.loc[(df['playlist_genre'] == 'pop') &(df['playlist_subgenre'] != 'indie poptimism'), 'genre'] = 'pop'\n",
    "df.loc[(df['playlist_subgenre'] == 'hip hop') | (df['playlist_subgenre'] == 'southern hip hop'), 'genre'] = 'hip hop'\n",
    "df.loc[(df['playlist_genre'] == 'rap') & (df['playlist_subgenre'] != 'hip hop'), 'genre'] = 'rap'\n",
    "df.loc[(df['playlist_genre'] == 'pop') & (df['playlist_subgenre'] == 'indie poptimism'), 'genre'] = 'indie'"
   ],
   "id": "5fcb6014f82b8c5",
   "outputs": [],
   "execution_count": null
  },
  {
   "metadata": {},
   "cell_type": "code",
   "source": [
    "# Remove rows when genre is other\n",
    "df = df[df['genre'] != 'other']\n",
    "\n",
    "# Remove columns playlist_genre and playlist_subgenre\n",
    "df.drop(columns=['playlist_genre', 'playlist_subgenre'], inplace=True)"
   ],
   "id": "e69f472850f10389",
   "outputs": [],
   "execution_count": null
  },
  {
   "metadata": {},
   "cell_type": "code",
   "source": "df",
   "id": "45f90f9d48dadc72",
   "outputs": [],
   "execution_count": null
  },
  {
   "metadata": {},
   "cell_type": "code",
   "source": [
    "# Change genre names to Uppercase and Hip hop to Hip-Hop\n",
    "df['genre'] = df['genre'].str.title()\n",
    "df['genre'] = df['genre'].str.replace('Hip Hop', 'Hip-Hop')"
   ],
   "id": "db9fc9b06f15fb92",
   "outputs": [],
   "execution_count": null
  },
  {
   "metadata": {},
   "cell_type": "code",
   "source": "df['genre'].value_counts()",
   "id": "73c69c8871d04677",
   "outputs": [],
   "execution_count": null
  },
  {
   "metadata": {},
   "cell_type": "code",
   "source": [
    "# Fatures are danceability, energy, key, loudness, mode, speechiness, acousticness, instrumentalness, liveness, valence, tempo, duration_ms\n",
    "\n",
    "# Compare hip hop and hip pop subgenres using PCA\n",
    "\n",
    "features = ['danceability', 'energy', 'speechiness', 'acousticness', 'instrumentalness', 'liveness', 'valence', 'tempo','duration', 'year_released']\n",
    "\n",
    "# See how well the features separate hip hop and hip pop in the space"
   ],
   "id": "f63821050a0acc2c",
   "outputs": [],
   "execution_count": null
  },
  {
   "metadata": {},
   "cell_type": "code",
   "source": "df",
   "id": "8f57e9c73bb69721",
   "outputs": [],
   "execution_count": null
  },
  {
   "metadata": {},
   "cell_type": "code",
   "source": [
    "#check if year released is not null\n",
    "df['year_released'].isnull().sum()"
   ],
   "id": "131f02f346ed7744",
   "outputs": [],
   "execution_count": null
  },
  {
   "metadata": {},
   "cell_type": "markdown",
   "source": "## Apply SMOTE and preprocessing",
   "id": "d9a16be3bff8bd9a"
  },
  {
   "metadata": {},
   "cell_type": "code",
   "source": [
    "# SMOTE upsample the data for Jazz and Metal genres to 1000 samples\n",
    "\n",
    "X = df[features]\n",
    "y = df['genre']\n",
    "\n",
    "smote = SMOTE(sampling_strategy={'Jazz': 1000, 'Metal': 1000}, random_state=42)\n",
    "X, y = smote.fit_resample(X, y)\n",
    "\n",
    "df = pd.DataFrame(X, columns=features)\n",
    "df['genre'] = y\n",
    "\n",
    "df['genre'].value_counts()"
   ],
   "id": "da7c0afff9f0478d",
   "outputs": [],
   "execution_count": null
  },
  {
   "metadata": {},
   "cell_type": "code",
   "source": [
    "# Select KBest features to separate hip hop and hip pop\n",
    "selector = SelectKBest(f_classif, k=8)\n",
    "\n",
    "X = df[features]\n",
    "y = df['genre']\n",
    "\n",
    "X_new = selector.fit_transform(X, y)\n",
    "\n",
    "# Get the selected features\n",
    "selected_features = X.columns[selector.get_support()]\n",
    "selected_features"
   ],
   "id": "ef20f0b5ae6cad31",
   "outputs": [],
   "execution_count": null
  },
  {
   "metadata": {},
   "cell_type": "code",
   "source": [
    "# Normalize the data\n",
    "\n",
    "X = df[features]\n",
    "y = df['genre']\n",
    "label_encoder = LabelEncoder()\n",
    "y = label_encoder.fit_transform(y)\n",
    "\n",
    "# Normalize the features\n",
    "scaler = StandardScaler()\n",
    "X = scaler.fit_transform(X)"
   ],
   "id": "3aea5f7a3cfce305",
   "outputs": [],
   "execution_count": null
  },
  {
   "metadata": {},
   "cell_type": "code",
   "source": "df[selected_features]",
   "id": "1eccd0f7a90efd53",
   "outputs": [],
   "execution_count": null
  },
  {
   "metadata": {},
   "cell_type": "markdown",
   "source": "### PCA",
   "id": "eaa7bbb830fe4986"
  },
  {
   "metadata": {},
   "cell_type": "code",
   "source": [
    "# Perform PCA\n",
    "from sklearn.decomposition import PCA\n",
    "\n",
    "pca = PCA(n_components=3)\n",
    "pca.fit(df[selected_features])\n",
    "X = pca.transform(df[selected_features])\n"
   ],
   "id": "32a409c813081b2b",
   "outputs": [],
   "execution_count": null
  },
  {
   "metadata": {},
   "cell_type": "code",
   "source": [
    "# Plot the data in 3d plot with plotly\n",
    "import plotly.express as px\n",
    "\n",
    "fig = px.scatter_3d(x=X[:, 0], y=X[:, 1], z=X[:, 2], color=df['genre'])\n",
    "fig.show()\n",
    "\n"
   ],
   "id": "1ea1c5c8aec83b22",
   "outputs": [],
   "execution_count": null
  },
  {
   "metadata": {},
   "cell_type": "code",
   "source": [
    "# Check genres distribution\n",
    "df['genre'].value_counts()"
   ],
   "id": "a2e18694fac776cb",
   "outputs": [],
   "execution_count": null
  },
  {
   "metadata": {},
   "cell_type": "markdown",
   "source": "## Random forest",
   "id": "16de103ee43b4683"
  },
  {
   "metadata": {},
   "cell_type": "code",
   "source": [
    "# Build a model to predict genre based on metadata (features)\n",
    "from sklearn.metrics import accuracy_score\n",
    "import optuna\n",
    "\n",
    "X = df[features]\n",
    "y = df['genre']\n",
    "\n",
    "# Train the model \\using k-fold cross validation (k=10). Try to optimize the model using optuna. Use random forest classifier. Calculate accuracy for each fold. Calculate mean accuracy for all folds. Optimize with Optuna.\n",
    "\n",
    "def objective(trial):\n",
    "    # Do stratified k-fold cross validation and take mean accuracy as the objective\n",
    "    skf = StratifiedKFold(n_splits=10, shuffle=True, random_state=42)\n",
    "\n",
    "    # Get the parameters\n",
    "    n_estimators = trial.suggest_int('n_estimators', 10, 100)\n",
    "    max_depth = trial.suggest_int('max_depth', 2, 20)\n",
    "    min_samples_split = trial.suggest_int('min_samples_split', 2, 10)\n",
    "    max_leaf_nodes = trial.suggest_int('max_leaf_nodes', 10, 100)\n",
    "\n",
    "    model = RandomForestClassifier(n_estimators=n_estimators, max_depth=max_depth, min_samples_split=min_samples_split, max_leaf_nodes=max_leaf_nodes, random_state=42)\n",
    "\n",
    "    accuracies = []\n",
    "\n",
    "    for train_index, val_index in skf.split(X, y):\n",
    "        X_train, X_val = X.iloc[train_index], X.iloc[val_index]\n",
    "        y_train, y_val = y.iloc[train_index], y.iloc[val_index]\n",
    "\n",
    "        model.fit(X_train, y_train)\n",
    "\n",
    "        y_pred = model.predict(X_val)\n",
    "\n",
    "        accuracies.append(accuracy_score(y_val, y_pred))\n",
    "\n",
    "    return sum(accuracies) / len(accuracies)\n",
    "\n",
    "\n",
    "study = optuna.create_study(direction='maximize', study_name='random_forest_metadata_8genres', storage='sqlite:///random_forest_metadata.db', load_if_exists=True)\n",
    "study.optimize(objective, n_trials=50)\n"
   ],
   "id": "ef4b107e4a8871d2",
   "outputs": [],
   "execution_count": null
  },
  {
   "metadata": {},
   "cell_type": "code",
   "source": [
    "# Check the model on test set\n",
    "# Train the model using the best parameters\n",
    "# best_params = study.best_params\n",
    "# model = RandomForestClassifier(n_estimators=best_params['n_estimators'], max_depth=best_params['max_depth'], min_samples_split=best_params['min_samples_split'], max_leaf_nodes=best_params['max_leaf_nodes'], random_state=42)\n",
    "\n",
    "# import train test split\n",
    "from sklearn.model_selection import train_test_split\n",
    "\n",
    "X_train, X_temp, y_train, y_temp = train_test_split(X, y, test_size=0.1, random_state=42, stratify=y)\n",
    "X_val, X_test, y_val, y_test = train_test_split(X_temp, y_temp, test_size=0.5, random_state=42, stratify=y_temp)\n",
    "\n",
    "# model.fit(X_train, y_train)\n",
    "# \n",
    "# y_pred = model.predict(X_val)\n",
    "# accuracy_score(y_val, y_pred)\n",
    "# # Save model\n",
    "# \n",
    "# joblib.dump(model, 'models/random_forest_metadata_8_genres.joblib')"
   ],
   "id": "2db0dfb425e4543c",
   "outputs": [],
   "execution_count": null
  },
  {
   "metadata": {},
   "cell_type": "code",
   "source": [
    "# Load the model\n",
    "model = joblib.load('models/random_forest_metadata_8_genres_smote_normalized.joblib')\n",
    "# Evaluate on test set\n",
    "y_pred = model.predict(X_test)\n",
    "# Calculate metrics for inbalanced dataset like f1 score, precision, recall, auc\n",
    "from sklearn.metrics import classification_report\n",
    "\n",
    "print(classification_report(y_test, y_pred, target_names=df['genre'].unique()))\n",
    "accuracy_score(y_test, y_pred)"
   ],
   "id": "9bc412a9cb7646a8",
   "outputs": [],
   "execution_count": null
  },
  {
   "metadata": {},
   "cell_type": "code",
   "source": [
    "# Check feature importance\n",
    "importances = model.feature_importances_\n",
    "\n",
    "importances_df = pd.DataFrame({'feature': features, 'importance': importances})\n",
    "importances_df.sort_values(by='importance', ascending=False)"
   ],
   "id": "e2098be918cf925a",
   "outputs": [],
   "execution_count": null
  },
  {
   "metadata": {},
   "cell_type": "code",
   "source": [
    "# Plot confusion matrix with target names\n",
    "from sklearn.metrics import confusion_matrix\n",
    "import seaborn as sns\n",
    "import matplotlib.pyplot as plt\n",
    "\n",
    "cm = confusion_matrix(y_test, y_pred, labels=df['genre'].unique())\n",
    "sns.heatmap(cm, annot=True, xticklabels=df['genre'].unique(), yticklabels=df['genre'].unique())\n",
    "plt.xlabel('Predicted')\n",
    "plt.ylabel('True')\n",
    "plt.show()"
   ],
   "id": "799b2ece030fcc86",
   "outputs": [],
   "execution_count": null
  },
  {
   "metadata": {},
   "cell_type": "code",
   "source": [
    "# Normalized confusion matrix\n",
    "import numpy as np\n",
    "\n",
    "from matplotlib.colors import LinearSegmentedColormap\n",
    "\n",
    "colors = [\"white\", \"#455681\"]  # White to #455681 gradient\n",
    "custom_cmap = LinearSegmentedColormap.from_list(\"custom_white_to_blue\", colors)\n",
    "\n",
    "# Normalize the confusion matrix# \n",
    "conf_matrix_norm = cm / cm.sum(axis=1)[:, np.newaxis]\n",
    "\n",
    "plt.rc('text', usetex=True)\n",
    "plt.rc('font', family='serif')\n",
    "# Plot the normalized confusion matrix\n",
    "plt.figure(figsize=(8, 6))\n",
    "sns.heatmap(conf_matrix_norm, cmap=custom_cmap, annot=True, fmt=\".2f\", xticklabels=genre_names, yticklabels=genre_names, vmax=1.0)\n",
    "plt.xlabel(\"Predicted\", fontdict={\"fontsize\": 12})\n",
    "plt.ylabel(\"True\", fontdict={\"fontsize\": 12})\n",
    "plt.tight_layout()\n",
    "plt.savefig(\"confusion_matrix_normalized_metadata.eps\", dpi=300)\n",
    "plt.show()\n"
   ],
   "id": "de1a974192213c78",
   "outputs": [],
   "execution_count": null
  },
  {
   "metadata": {},
   "cell_type": "code",
   "source": [
    "# Genre\n",
    "genre_dict = {\n",
    "'hip hop': 0, 'indie': 1, 'pop': 2, 'rap': 3, 'rock': 4}\n"
   ],
   "id": "6451a9d1af289e16",
   "outputs": [],
   "execution_count": null
  },
  {
   "metadata": {},
   "cell_type": "code",
   "source": [
    "# Print normalized confusion matrix with genre names\n",
    "# TODO: something is off with the names\n",
    "genre_names = y_test.unique()\n",
    "cm = pd.DataFrame(cm, columns=genre_names, index=genre_names)\n",
    "sns.heatmap(cm, annot=True)\n",
    "plt.xlabel('Predicted')\n",
    "plt.ylabel('True')\n",
    "\n",
    "plt.show()\n"
   ],
   "id": "61300d9c332682ee",
   "outputs": [],
   "execution_count": null
  },
  {
   "metadata": {},
   "cell_type": "markdown",
   "source": "## XGBoost",
   "id": "9b2f58c6ab703153"
  },
  {
   "metadata": {},
   "cell_type": "code",
   "source": [
    "# Now train the model with XGBClassifier\n",
    "from sklearn.preprocessing import LabelEncoder\n",
    "from xgboost import XGBClassifier\n",
    "from sklearn.utils.class_weight import compute_sample_weight\n",
    "\n",
    "def objective(trial):\n",
    "    # Do stratified k-fold cross validation and take mean accuracy as the objective\n",
    "    skf = StratifiedKFold(n_splits=10, shuffle=True, random_state=42)\n",
    "\n",
    "    # Get the parameters\n",
    "    n_estimators = trial.suggest_int('n_estimators', 10, 100)\n",
    "    max_depth = trial.suggest_int('max_depth', 2, 20)\n",
    "    learning_rate = trial.suggest_float('learning_rate', 0.01, 0.5)\n",
    "    gamma = trial.suggest_float('gamma', 0.01, 1)\n",
    "    min_child_weight = trial.suggest_int('min_child_weight', 1, 10)\n",
    "    \n",
    "    \n",
    "    \n",
    "    scaler = StandardScaler()\n",
    "    \n",
    "    df[features] = scaler.fit_transform(df[features])\n",
    "    \n",
    "    X = df[features]\n",
    "\n",
    "    y = df['genre']\n",
    "\n",
    "    label_encoder = LabelEncoder()\n",
    "    y = label_encoder.fit_transform(y)\n",
    "    \n",
    "    # Compute weights for classes with compute_sample_weight\n",
    "    sample_weight = compute_sample_weight('balanced', y)\n",
    "\n",
    "    model = XGBClassifier(n_estimators=n_estimators, max_depth=max_depth, learning_rate=learning_rate, gamma=gamma, min_child_weight=min_child_weight, random_state=42)\n",
    "    \n",
    "    accuracies = []\n",
    "\n",
    "    for train_index, val_index in skf.split(X, y):\n",
    "        X_train, X_val = X.iloc[train_index], X.iloc[val_index]\n",
    "        y_train, y_val = y[train_index], y[val_index]\n",
    "\n",
    "        model.fit(X_train, y_train, sample_weight=sample_weight[train_index])\n",
    "\n",
    "        y_pred = model.predict(X_val)\n",
    "\n",
    "        accuracies.append(accuracy_score(y_val, y_pred))\n",
    "\n",
    "    return sum(accuracies) / len(accuracies)\n",
    "\n"
   ],
   "id": "39ba3c643e78f90a",
   "outputs": [],
   "execution_count": null
  },
  {
   "metadata": {},
   "cell_type": "code",
   "source": [
    "from sklearn.model_selection import train_test_split, StratifiedKFold\n",
    "from sklearn.ensemble import RandomForestClassifier\n",
    "from sklearn.metrics import accuracy_score\n",
    "import optuna\n",
    "from sklearn.preprocessing import StandardScaler\n",
    "\n",
    "study = optuna.create_study(direction='maximize', study_name='xgb_metadata_v1_8_genres_smote_normalized', storage='sqlite:///random_forest_metadata.db', load_if_exists=True)\n",
    "study.optimize(objective, n_trials=50)"
   ],
   "id": "5a067b432a7202cd",
   "outputs": [],
   "execution_count": null
  },
  {
   "metadata": {},
   "cell_type": "code",
   "source": "df",
   "id": "df87897a1aec99c8",
   "outputs": [],
   "execution_count": null
  },
  {
   "metadata": {},
   "cell_type": "code",
   "source": "X = df[features]",
   "id": "3887c80172bdc70c",
   "outputs": [],
   "execution_count": null
  },
  {
   "metadata": {},
   "cell_type": "code",
   "source": "X",
   "id": "35056f9f4dc3d9f5",
   "outputs": [],
   "execution_count": null
  },
  {
   "metadata": {},
   "cell_type": "code",
   "source": "y",
   "id": "7abcc42a6039b1c6",
   "outputs": [],
   "execution_count": null
  },
  {
   "metadata": {},
   "cell_type": "code",
   "source": [
    "# Train the model using the best parameters\n",
    "best_params = study.best_params\n",
    "model = XGBClassifier(n_estimators=best_params['n_estimators'], max_depth=best_params['max_depth'], learning_rate=best_params['learning_rate'], gamma=best_params['gamma'], min_child_weight=best_params['min_child_weight'], random_state=42)\n",
    "label_encoder = LabelEncoder()\n",
    "y = label_encoder.fit_transform(y)\n",
    "\n",
    "X_train, X_val, y_train, y_val = train_test_split(X, y, test_size=0.05, random_state=42)\n",
    "\n",
    "model.fit(X_train, y_train)\n",
    "\n",
    "y_pred = model.predict(X_val)\n",
    "accuracy_score(y_val, y_pred)\n",
    "\n"
   ],
   "id": "3a347c4c91d5dd19",
   "outputs": [],
   "execution_count": null
  },
  {
   "metadata": {},
   "cell_type": "code",
   "source": "",
   "id": "e3239e29216fadf3",
   "outputs": [],
   "execution_count": null
  },
  {
   "metadata": {},
   "cell_type": "code",
   "source": [
    "print(list(label_encoder.classes_))\n",
    "print(list(label_encoder.inverse_transform([0,1,2,3, 4,5,6,7])))"
   ],
   "id": "c2af605ae85b6f79",
   "outputs": [],
   "execution_count": null
  },
  {
   "metadata": {},
   "cell_type": "code",
   "source": [
    "# Save model\n",
    "import joblib\n",
    "joblib.dump(model, 'models/xgb_metadata_v1_8_genres_smote_normalized.joblib')"
   ],
   "id": "5133842a3c04516b",
   "outputs": [],
   "execution_count": null
  },
  {
   "metadata": {},
   "cell_type": "code",
   "source": [
    "# Import classification report\n",
    "from sklearn.metrics import classification_report, accuracy_score, confusion_matrix\n",
    "\n",
    "model = joblib.load('models/xgb_metadata_v1_8_genres_smote.joblib')\n",
    "# Evaluate on test set\n",
    "y_pred = model.predict(X_test)\n",
    "print(classification_report(y_test, y_pred, target_names=list(label_encoder.inverse_transform([0,1,2,3, 4,5,6,7]))))\n",
    "accuracy_score(y_test, y_pred)"
   ],
   "id": "a0c479685596756b",
   "outputs": [],
   "execution_count": null
  },
  {
   "metadata": {},
   "cell_type": "code",
   "source": [
    "# Use latex\n",
    "import matplotlib.pyplot as plt\n",
    "import seaborn as sns\n",
    "import numpy as np\n",
    "\n",
    "plt.rc('text', usetex=True)\n",
    "plt.rc('font', family='serif')"
   ],
   "id": "15c22551284b0c09",
   "outputs": [],
   "execution_count": null
  },
  {
   "metadata": {},
   "cell_type": "code",
   "source": [
    "# Plot confusion matrix with genre names\n",
    "genre_names = list(label_encoder.inverse_transform([0,1,2,3, 4,5,6,7]))\n",
    "cm = confusion_matrix(y_test, y_pred)\n",
    "sns.heatmap(cm, annot=True, xticklabels=genre_names, yticklabels=genre_names)\n",
    "plt.xlabel('Predicted')\n",
    "plt.ylabel('True')\n",
    "\n",
    "plt.show()\n"
   ],
   "id": "37b6d4724852ed11",
   "outputs": [],
   "execution_count": null
  },
  {
   "metadata": {},
   "cell_type": "code",
   "source": [
    "# Normalize confusion matrix with genre names\n",
    "from matplotlib.colors import LinearSegmentedColormap\n",
    "\n",
    "colors = [\"#FFFFFF\", \"#455681\"]  # White to #455681 gradient\n",
    "custom_cmap = LinearSegmentedColormap.from_list(\"custom_white_to_blue\", colors)\n",
    "\n",
    "# Normalize the confusion matrix# \n",
    "conf_matrix_norm = cm / cm.sum(axis=1)[:, np.newaxis]\n",
    "\n",
    "plt.rc('text', usetex=True)\n",
    "plt.rc('font', family='serif')\n",
    "# Plot the normalized confusion matrix\n",
    "plt.figure(figsize=(8, 6))\n",
    "sns.heatmap(conf_matrix_norm, cmap=custom_cmap, annot=True, fmt=\".2f\", xticklabels=genre_names, yticklabels=genre_names, vmax=1.0)\n",
    "plt.xlabel(\"Predicted\", fontdict={\"fontsize\": 12})\n",
    "plt.ylabel(\"True\", fontdict={\"fontsize\": 12})\n",
    "plt.tight_layout()\n",
    "plt.savefig(\"confusion_matrix_normalized_metadata.eps\", dpi=300)\n",
    "plt.show()\n",
    "\n"
   ],
   "id": "a52369f5105874f1",
   "outputs": [],
   "execution_count": null
  },
  {
   "metadata": {},
   "cell_type": "code",
   "source": [
    "import matplotlib.pyplot as plt\n",
    "from sklearn.metrics import roc_curve, auc, roc_auc_score\n",
    "from sklearn.preprocessing import label_binarize\n",
    "import numpy as np\n",
    "\n",
    "classes = list(label_encoder.inverse_transform([0, 1, 2, 3, 4, 5, 6, 7]))\n",
    "y_test_bin = label_binarize(y_test, classes=range(len(classes)))\n",
    "y_pred_prob = model.predict_proba(X_test)  # Get probabilities for ROC computation\n",
    "\n",
    "fpr = {}\n",
    "tpr = {}\n",
    "roc_auc = {}\n",
    "\n",
    "for i in range(len(classes)):\n",
    "    fpr[i], tpr[i], _ = roc_curve(y_test_bin[:, i], y_pred_prob[:, i])\n",
    "    roc_auc[i] = auc(fpr[i], tpr[i])\n",
    "\n",
    "\n",
    "np.save(\"fpr_meta.npy\", fpr)\n",
    "np.save(\"tpr_meta.npy\", tpr)\n",
    "np.save(\"roc_auc_meta.npy\", roc_auc)\n",
    "\n",
    "# Save label\n",
    "np.save(\"labels_meta.npy\", classes)\n",
    "\n",
    "# Plot ROC curve for each class\n",
    "plt.figure(figsize=(8, 6))\n",
    "for i in range(len(classes)):\n",
    "    plt.plot(fpr[i], tpr[i], label=f\"Class {classes[i]} (AUC = {roc_auc[i]:.2f})\")\n",
    "\n",
    "# Plot diagonal line for random guess\n",
    "plt.plot([0, 1], [0, 1], 'k--')\n",
    "\n",
    "plt.title(\"Multi-Class ROC Curve\")\n",
    "plt.xlabel(\"False Positive Rate\", fontdict={\"fontsize\": 12})\n",
    "plt.ylabel(\"True Positive Rate\", fontdict={\"fontsize\": 12})\n",
    "plt.legend(loc=\"lower right\", prop={\"size\": 12})  # Adjust legend location if needed\n",
    "plt.yticks(fontsize=11)\n",
    "plt.xticks(fontsize=11)\n",
    "plt.style.use('fast')\n",
    "plt.tight_layout()\n",
    "plt.grid()\n",
    "plt.savefig(\"roc_curve_metadata.png\", dpi=300)\n",
    "plt.show()\n"
   ],
   "id": "3db67090cfbc6dd3",
   "outputs": [],
   "execution_count": null
  },
  {
   "metadata": {},
   "cell_type": "code",
   "source": [
    "# PCA for hip hop and indie\n",
    "\n",
    "df_pop = df[df['genre'] == 'hip hop']\n",
    "df_indie = df[df['genre'] == 'indie']\n",
    "\n",
    "combined_hiphop_indie = pd.concat([df_pop, df_indie], ignore_index=True)\n",
    "\n",
    "X = combined_hiphop_indie[features]\n",
    "y = combined_hiphop_indie['genre']\n",
    "\n",
    "# Perform PCA\n",
    "pca = PCA(n_components=3)\n",
    "pca.fit(X)\n",
    "X = pca.transform(X)\n",
    "\n",
    "# Plot the data in 2d plot with plotly\n",
    "fig = px.scatter_3d(x=X[:, 0], y=X[:, 1], z=X[:, 2], color=combined_hiphop_indie['genre'])\n",
    "fig.show()\n",
    "\n"
   ],
   "id": "5afa1394d4f9a684",
   "outputs": [],
   "execution_count": null
  },
  {
   "metadata": {},
   "cell_type": "code",
   "source": [
    "# PCA for hip hop and indie\n",
    "\n",
    "df_pop = df[df['genre'] == 'pop']\n",
    "df_rock = df[df['genre'] == 'rock']\n",
    "\n",
    "combined_pop_rock = pd.concat([df_pop, df_rock], ignore_index=True)\n",
    "\n",
    "X = combined_pop_rock[features]\n",
    "y = combined_pop_rock['genre']\n",
    "\n",
    "# Perform PCA\n",
    "pca = PCA(n_components=12)\n",
    "pca.fit(X)\n",
    "X = pca.transform(X)\n",
    "\n",
    "# Plot the data in 2d plot with plotly\n",
    "fig = px.scatter_3d(x=X[:, 0], y=X[:, 1], z=X[:, 2], color=combined_pop_rock['genre'])\n",
    "fig.show()\n"
   ],
   "id": "b30716b03b1833ee",
   "outputs": [],
   "execution_count": null
  },
  {
   "metadata": {},
   "cell_type": "code",
   "source": [
    "# Print classification report\n",
    "from sklearn.metrics import classification_report\n",
    "\n",
    "print(classification_report(y_test, y_pred, target_names=genre_names))"
   ],
   "id": "999533eb19e29354",
   "outputs": [],
   "execution_count": null
  },
  {
   "metadata": {},
   "cell_type": "code",
   "source": [
    "# Compare y_test and y_pred and check where hip hop (0) is predicted as indie (3)\n",
    "\n",
    "for i in range(len(y_test)):\n",
    "    if y_test[i] == 0 and y_pred[i] == 3:\n",
    "        print(f'y_test: {y_test[i]}, y_pred: {y_pred[i]}')\n",
    "        print(f'index: {i}')\n",
    "        print(f'features: {X_test.iloc[i]}')\n",
    "        print(f'genre: {genre_names[y_test[i]]}')\n",
    "        print(f'predicted genre: {genre_names[y_pred[i]]}')\n",
    "        print('---')\n",
    "\n"
   ],
   "id": "9bfaaf6190813ff",
   "outputs": [],
   "execution_count": null
  },
  {
   "metadata": {},
   "cell_type": "code",
   "source": [
    "# Add y pred and y test to X_test\n",
    "X_test['y_test'] = y_test\n",
    "X_test['y_pred'] = y_pred"
   ],
   "id": "2c7da8c70e797bd5",
   "outputs": [],
   "execution_count": null
  },
  {
   "metadata": {},
   "cell_type": "code",
   "source": "X_test",
   "id": "94dd632238f4eccb",
   "outputs": [],
   "execution_count": null
  },
  {
   "metadata": {},
   "cell_type": "code",
   "source": [
    "# Get subset of df where rows are in X_test without ordering by index\n",
    "is_in_X = df.index.isin(X_test.index)"
   ],
   "id": "2d821ed5783dcbd6",
   "outputs": [],
   "execution_count": null
  },
  {
   "metadata": {},
   "cell_type": "code",
   "source": [
    "# Get the rows from df where index is in X_test without ordering by index\n",
    "df_test = df[is_in_X]"
   ],
   "id": "bed1d1514d2ec770",
   "outputs": [],
   "execution_count": null
  },
  {
   "metadata": {},
   "cell_type": "code",
   "source": "df_test",
   "id": "bcefecf5bc790310",
   "outputs": [],
   "execution_count": null
  },
  {
   "metadata": {},
   "cell_type": "code",
   "source": [
    "# Combine X_test and df_test\n",
    "df_test = pd.concat([X_test, df_test], axis=1)"
   ],
   "id": "8768b171e3bec889",
   "outputs": [],
   "execution_count": null
  },
  {
   "metadata": {},
   "cell_type": "code",
   "source": [
    "# Print unique genres and unique y_test values for the genre\n",
    "for genre in genre_names:\n",
    "    print(f'Genre: {genre}')\n",
    "    print(f'Unique y_test values: {df_test[df_test[\"genre\"] == genre][\"y_test\"].unique()}')\n",
    "    print('---')"
   ],
   "id": "345155521b86f7fd",
   "outputs": [],
   "execution_count": null
  }
 ],
 "metadata": {
  "kernelspec": {
   "display_name": "Python 3",
   "language": "python",
   "name": "python3"
  },
  "language_info": {
   "codemirror_mode": {
    "name": "ipython",
    "version": 2
   },
   "file_extension": ".py",
   "mimetype": "text/x-python",
   "name": "python",
   "nbconvert_exporter": "python",
   "pygments_lexer": "ipython2",
   "version": "2.7.6"
  }
 },
 "nbformat": 4,
 "nbformat_minor": 5
}
