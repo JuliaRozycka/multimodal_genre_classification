{
 "cells": [
  {
   "metadata": {},
   "cell_type": "markdown",
   "source": [
    "## ResNet18 + RNN Hybrid Model\n",
    "\n",
    "Input should remain the same as npy file shape: input_data = (1, 96, 1376)"
   ],
   "id": "55b8aa8fe41e6947"
  },
  {
   "metadata": {
    "ExecuteTime": {
     "end_time": "2025-01-06T16:48:32.389985Z",
     "start_time": "2025-01-06T16:48:32.387178Z"
    }
   },
   "cell_type": "code",
   "source": [
    "# Importing needed libraries with pytorch\n",
    "import numpy as np\n",
    "import torch\n",
    "import torch.nn as nn\n",
    "import torch.optim as optim\n",
    "import torch.nn.functional as F\n",
    "from torch.utils.data import DataLoader, Dataset, Subset\n",
    "from torch.autograd import Variable\n",
    "from sklearn.model_selection import train_test_split\n",
    "from sklearn.preprocessing import StandardScaler\n",
    "from sklearn.metrics import confusion_matrix\n",
    "import matplotlib.pyplot as plt\n",
    "import seaborn as sns\n",
    "import os\n",
    "import time\n",
    "import torchvision.models as models\n",
    "from torchsummary import summary\n",
    "import tqdm\n",
    "from torchvision.models import ResNet18_Weights\n",
    "from torch.utils.data import WeightedRandomSampler"
   ],
   "id": "5c28e3861f70bd69",
   "outputs": [],
   "execution_count": 14
  },
  {
   "metadata": {
    "ExecuteTime": {
     "end_time": "2025-01-06T16:47:08.071584Z",
     "start_time": "2025-01-06T16:47:08.068157Z"
    }
   },
   "cell_type": "code",
   "source": [
    "DEVICE = (\n",
    "    \"mps\"\n",
    "    if torch.backends.mps.is_built()\n",
    "    else \"cuda\"\n",
    "    if torch.cuda.is_available()\n",
    "    else \"cpu\"\n",
    ")\n",
    "print(\"Using device:\", DEVICE)\n",
    "\n",
    "# Create a class for hybrid model (ResNet18 + RNN), import model from Torchvision, models. Input size of the model should be the same as spectogram shape (1, 96, 1376)\n",
    "\n",
    "class ResNetRNN(nn.Module):\n",
    "    def __init__(self, input_size, hidden_size, num_layers, num_classes):\n",
    "        super(ResNetRNN, self).__init__()\n",
    "        self.hidden_size = hidden_size\n",
    "        self.num_layers = num_layers\n",
    "        self.resnet = models.resnet18(pretrained=True)\n",
    "        self.resnet.conv1 = nn.Conv2d(1, 64, kernel_size=7, stride=2, padding=3, bias=False)\n",
    "        self.resnet.fc = nn.Identity()\n",
    "        self.rnn = nn.RNN(input_size, hidden_size, num_layers, batch_first=True)\n",
    "        self.fc = nn.Linear(hidden_size, num_classes)\n",
    "\n",
    "    def forward(self, x):\n",
    "        x = x.to(DEVICE)  # Ensure input is on the same device as the model\n",
    "        with torch.no_grad():\n",
    "            x = self.resnet(x)\n",
    "        x = x.view(x.size(0), -1, x.size(1))  # Reshape to (batch_size, sequence_length, input_size)\n",
    "        h0 = torch.zeros(self.num_layers, x.size(0), self.hidden_size).to(DEVICE)  # Ensure h0 is on the same device\n",
    "        out, _ = self.rnn(x, h0)\n",
    "        out = self.fc(out[:, -1, :])\n",
    "        return out"
   ],
   "id": "3d8162f99003de37",
   "outputs": [
    {
     "name": "stdout",
     "output_type": "stream",
     "text": [
      "Using device: mps\n"
     ]
    }
   ],
   "execution_count": 9
  },
  {
   "metadata": {
    "ExecuteTime": {
     "end_time": "2025-01-06T09:29:30.086861Z",
     "start_time": "2025-01-06T09:29:29.852141Z"
    }
   },
   "cell_type": "code",
   "source": [
    "# Create instance of the model and print summary\n",
    "model = ResNetRNN(input_size=512, hidden_size=512, num_layers=2, num_classes=8).to(DEVICE)\n",
    "summary(model, (1, 96, 1376))"
   ],
   "id": "3ed6997baf13cef1",
   "outputs": [
    {
     "name": "stdout",
     "output_type": "stream",
     "text": [
      "----------------------------------------------------------------\n",
      "        Layer (type)               Output Shape         Param #\n",
      "================================================================\n",
      "            Conv2d-1          [-1, 64, 48, 688]           3,136\n",
      "       BatchNorm2d-2          [-1, 64, 48, 688]             128\n",
      "              ReLU-3          [-1, 64, 48, 688]               0\n",
      "         MaxPool2d-4          [-1, 64, 24, 344]               0\n",
      "            Conv2d-5          [-1, 64, 24, 344]          36,864\n",
      "       BatchNorm2d-6          [-1, 64, 24, 344]             128\n",
      "              ReLU-7          [-1, 64, 24, 344]               0\n",
      "            Conv2d-8          [-1, 64, 24, 344]          36,864\n",
      "       BatchNorm2d-9          [-1, 64, 24, 344]             128\n",
      "             ReLU-10          [-1, 64, 24, 344]               0\n",
      "       BasicBlock-11          [-1, 64, 24, 344]               0\n",
      "           Conv2d-12          [-1, 64, 24, 344]          36,864\n",
      "      BatchNorm2d-13          [-1, 64, 24, 344]             128\n",
      "             ReLU-14          [-1, 64, 24, 344]               0\n",
      "           Conv2d-15          [-1, 64, 24, 344]          36,864\n",
      "      BatchNorm2d-16          [-1, 64, 24, 344]             128\n",
      "             ReLU-17          [-1, 64, 24, 344]               0\n",
      "       BasicBlock-18          [-1, 64, 24, 344]               0\n",
      "           Conv2d-19         [-1, 128, 12, 172]          73,728\n",
      "      BatchNorm2d-20         [-1, 128, 12, 172]             256\n",
      "             ReLU-21         [-1, 128, 12, 172]               0\n",
      "           Conv2d-22         [-1, 128, 12, 172]         147,456\n",
      "      BatchNorm2d-23         [-1, 128, 12, 172]             256\n",
      "           Conv2d-24         [-1, 128, 12, 172]           8,192\n",
      "      BatchNorm2d-25         [-1, 128, 12, 172]             256\n",
      "             ReLU-26         [-1, 128, 12, 172]               0\n",
      "       BasicBlock-27         [-1, 128, 12, 172]               0\n",
      "           Conv2d-28         [-1, 128, 12, 172]         147,456\n",
      "      BatchNorm2d-29         [-1, 128, 12, 172]             256\n",
      "             ReLU-30         [-1, 128, 12, 172]               0\n",
      "           Conv2d-31         [-1, 128, 12, 172]         147,456\n",
      "      BatchNorm2d-32         [-1, 128, 12, 172]             256\n",
      "             ReLU-33         [-1, 128, 12, 172]               0\n",
      "       BasicBlock-34         [-1, 128, 12, 172]               0\n",
      "           Conv2d-35           [-1, 256, 6, 86]         294,912\n",
      "      BatchNorm2d-36           [-1, 256, 6, 86]             512\n",
      "             ReLU-37           [-1, 256, 6, 86]               0\n",
      "           Conv2d-38           [-1, 256, 6, 86]         589,824\n",
      "      BatchNorm2d-39           [-1, 256, 6, 86]             512\n",
      "           Conv2d-40           [-1, 256, 6, 86]          32,768\n",
      "      BatchNorm2d-41           [-1, 256, 6, 86]             512\n",
      "             ReLU-42           [-1, 256, 6, 86]               0\n",
      "       BasicBlock-43           [-1, 256, 6, 86]               0\n",
      "           Conv2d-44           [-1, 256, 6, 86]         589,824\n",
      "      BatchNorm2d-45           [-1, 256, 6, 86]             512\n",
      "             ReLU-46           [-1, 256, 6, 86]               0\n",
      "           Conv2d-47           [-1, 256, 6, 86]         589,824\n",
      "      BatchNorm2d-48           [-1, 256, 6, 86]             512\n",
      "             ReLU-49           [-1, 256, 6, 86]               0\n",
      "       BasicBlock-50           [-1, 256, 6, 86]               0\n",
      "           Conv2d-51           [-1, 512, 3, 43]       1,179,648\n",
      "      BatchNorm2d-52           [-1, 512, 3, 43]           1,024\n",
      "             ReLU-53           [-1, 512, 3, 43]               0\n",
      "           Conv2d-54           [-1, 512, 3, 43]       2,359,296\n",
      "      BatchNorm2d-55           [-1, 512, 3, 43]           1,024\n",
      "           Conv2d-56           [-1, 512, 3, 43]         131,072\n",
      "      BatchNorm2d-57           [-1, 512, 3, 43]           1,024\n",
      "             ReLU-58           [-1, 512, 3, 43]               0\n",
      "       BasicBlock-59           [-1, 512, 3, 43]               0\n",
      "           Conv2d-60           [-1, 512, 3, 43]       2,359,296\n",
      "      BatchNorm2d-61           [-1, 512, 3, 43]           1,024\n",
      "             ReLU-62           [-1, 512, 3, 43]               0\n",
      "           Conv2d-63           [-1, 512, 3, 43]       2,359,296\n",
      "      BatchNorm2d-64           [-1, 512, 3, 43]           1,024\n",
      "             ReLU-65           [-1, 512, 3, 43]               0\n",
      "       BasicBlock-66           [-1, 512, 3, 43]               0\n",
      "AdaptiveAvgPool2d-67            [-1, 512, 1, 1]               0\n",
      "         Identity-68                  [-1, 512]               0\n",
      "           ResNet-69                  [-1, 512]               0\n",
      "              RNN-70  [[-1, 1, 512], [-1, 2, 512]]               0\n",
      "           Linear-71                    [-1, 8]           4,104\n",
      "================================================================\n",
      "Total params: 11,174,344\n",
      "Trainable params: 11,174,344\n",
      "Non-trainable params: 0\n",
      "----------------------------------------------------------------\n",
      "Input size (MB): 0.50\n",
      "Forward/backward pass size (MB): 161.29\n",
      "Params size (MB): 42.63\n",
      "Estimated Total Size (MB): 204.42\n",
      "----------------------------------------------------------------\n"
     ]
    }
   ],
   "execution_count": 36
  },
  {
   "metadata": {
    "ExecuteTime": {
     "end_time": "2025-01-06T16:44:33.236620Z",
     "start_time": "2025-01-06T16:44:33.233286Z"
    }
   },
   "cell_type": "code",
   "source": [
    "\n",
    "class MelSpectogramDataset(Dataset):\n",
    "    def __init__(self, data_path, transform=None, max_samples_dict=None):\n",
    "        \"\"\"\n",
    "        Initialize the MelSpectogramDataset class.\n",
    "\n",
    "        Args:\n",
    "            data_path (str): Path to the folder containing the mel spectrogram files.\n",
    "            transform (callable): Optional transform to be applied to the mel spectrogram.\n",
    "            max_samples_dict (dict): Dictionary specifying the maximum number of samples per genre. \n",
    "                                     For example: {'rock': 1000, 'pop': 600}.\n",
    "        \"\"\"\n",
    "\n",
    "        self.data_path = data_path\n",
    "        self.transform = transform\n",
    "        self.max_samples_dict = max_samples_dict\n",
    "        self.genres = [d for d in os.listdir(data_path) if os.path.isdir(os.path.join(data_path, d))]\n",
    "        self.file_paths = []\n",
    "        self.labels = []\n",
    "\n",
    "        for i, genre in enumerate(self.genres):\n",
    "            genre_folder = os.path.join(data_path, genre)\n",
    "            files = [f for f in os.listdir(genre_folder) if f.endswith('.npy')]\n",
    "\n",
    "            # Check if this genre has a max_samples limit\n",
    "            if max_samples_dict and genre in max_samples_dict:\n",
    "                max_samples = max_samples_dict[genre]\n",
    "                files = np.random.choice(files, size=min(max_samples, len(files)), replace=False).tolist()\n",
    "\n",
    "            self.file_paths.extend([os.path.join(genre_folder, f) for f in files])\n",
    "            self.labels.extend([i] * len(files))\n",
    "\n",
    "    def __len__(self):\n",
    "        return len(self.file_paths)\n",
    "\n",
    "    def __getitem__(self, idx):\n",
    "        if torch.is_tensor(idx):\n",
    "            idx = idx.tolist()\n",
    "\n",
    "        mel_spectrogram = np.load(self.file_paths[idx])\n",
    "        label = self.labels[idx]\n",
    "\n",
    "        if self.transform:\n",
    "            mel_spectrogram = self.transform(mel_spectrogram)\n",
    "\n",
    "        return mel_spectrogram, label\n",
    "\n",
    "\n",
    "from sklearn.metrics import roc_auc_score, precision_score, recall_score, f1_score"
   ],
   "id": "dd828dedb0bc4b42",
   "outputs": [],
   "execution_count": 3
  },
  {
   "metadata": {
    "ExecuteTime": {
     "end_time": "2025-01-06T16:44:35.649957Z",
     "start_time": "2025-01-06T16:44:35.647319Z"
    }
   },
   "cell_type": "code",
   "source": [
    "def calculate_metrics(y_true, y_pred_probs, num_classes):\n",
    "    \"\"\"\n",
    "    Calculate AUC, precision, recall, and F1 score for multiclass classification.\n",
    "\n",
    "    Args:\n",
    "        y_true (array-like): True labels.\n",
    "        y_pred_probs (array-like): Predicted probabilities or logits.\n",
    "        num_classes (int): Number of classes in the classification task.\n",
    "\n",
    "    Returns:\n",
    "        dict: A dictionary containing AUC, precision, recall, and F1 scores.\n",
    "    \"\"\"\n",
    "    # Convert predicted probabilities to class predictions\n",
    "    y_pred = y_pred_probs.argmax(axis=1)\n",
    "\n",
    "    # Calculate metrics\n",
    "    metrics = {\n",
    "        \"AUC\": roc_auc_score(y_true, y_pred_probs, multi_class=\"ovr\", average=\"macro\"),\n",
    "        \"Precision\": precision_score(y_true, y_pred, average=\"macro\", zero_division=1),\n",
    "        \"Recall\": recall_score(y_true, y_pred, average=\"macro\"),\n",
    "        \"F1 Score\": f1_score(y_true, y_pred, average=\"macro\")\n",
    "    }\n",
    "    return metrics\n",
    "\n",
    "\n",
    "from sklearn.metrics import classification_report\n",
    "\n",
    "\n",
    "def per_class_metrics(y_true, y_pred, num_classes):\n",
    "    \"\"\"\n",
    "    Prints classification metrics for each class.\n",
    "\n",
    "    Args:\n",
    "        y_true (array-like): True labels.\n",
    "        y_pred (array-like): Predicted labels.\n",
    "        num_classes (int): Number of classes in the classification task.\n",
    "    \"\"\"\n",
    "    report = classification_report(\n",
    "        y_true,\n",
    "        y_pred,\n",
    "        zero_division=1,\n",
    "        target_names=[f\"Class {i}\" for i in range(num_classes)]\n",
    "    )\n",
    "    print(report)"
   ],
   "id": "28b240d4c6dee091",
   "outputs": [],
   "execution_count": 4
  },
  {
   "metadata": {
    "ExecuteTime": {
     "end_time": "2025-01-06T09:37:02.349532Z",
     "start_time": "2025-01-06T09:37:02.340519Z"
    }
   },
   "cell_type": "code",
   "source": [
    "# Pop and hiphop are overwhealming rest of the classes because of the dataset imbalance\n",
    "# Let's try to undersample the dataset genres: pop and hiphop and train again.\n",
    "# Change the max_samples_dict to undersample pop and hiphop genres in the objective and train the model again.\n",
    "\n",
    "\n",
    "import optuna\n",
    "from sklearn.model_selection import train_test_split\n",
    "from torch.utils.data import WeightedRandomSampler\n",
    "\n",
    "\n",
    "def objective(trial):\n",
    "    # Hyperparameters to optimize\n",
    "    learning_rate = trial.suggest_float(\"learning_rate\", 1e-5, 1e-3, log=True)\n",
    "    batch_size = trial.suggest_categorical(\"batch_size\", [16, 32, 64])\n",
    "    \n",
    "    # Layers of the RNN to optimize\n",
    "    num_layers = trial.suggest_int(\"num_layers\", 1, 3)\n",
    "\n",
    "    # Create a MelSpectogramDataset instance\n",
    "    \"\"\"\n",
    "    Training the model with stratified split, apply weighted random sampler with Optuna.\n",
    "    \"\"\"\n",
    "    # Create dataset instance\n",
    "\n",
    "    mel_dataset = MelSpectogramDataset(data_path='spectograms_data')\n",
    "\n",
    "    # Split the dataset into train, validation and test with 90-5-5 split\n",
    "\n",
    "    # Access file paths and labels\n",
    "    file_paths = mel_dataset.file_paths\n",
    "    labels = mel_dataset.labels\n",
    "\n",
    "    # Split dataset using stratification to train - validate\n",
    "    train_file_paths, val_file_paths, train_labels, val_labels = train_test_split(\n",
    "        file_paths, labels, test_size=0.1, random_state=42, stratify=labels\n",
    "    )\n",
    "\n",
    "    # Create Datasets for each split\n",
    "    train_indices = [file_paths.index(path) for path in train_file_paths]\n",
    "    val_indices = [file_paths.index(path) for path in val_file_paths]\n",
    "\n",
    "    train_dataset = Subset(mel_dataset, train_indices)\n",
    "    val_dataset = Subset(mel_dataset, val_indices)\n",
    "\n",
    "    # Handle imabalanced dataset with WeightedRandomSampler\n",
    "\n",
    "    # Get train dataset labels\n",
    "    train_labels = [label for _, label in train_dataset]\n",
    "\n",
    "    # Get train dataset label count for each class\n",
    "    class_counts = np.bincount(train_labels)\n",
    "\n",
    "    # Calculate the class weights\n",
    "    class_weights = 1.0 / class_counts\n",
    "    weights = [class_weights[label] for label in train_labels]\n",
    "\n",
    "    # Create a WeightedRandomSampler\n",
    "    sampler = WeightedRandomSampler(weights, num_samples=len(train_dataset))\n",
    "\n",
    "    # Create DataLoader instances\n",
    "    train_loader = DataLoader(train_dataset, batch_size=batch_size, sampler=sampler)\n",
    "    val_loader = DataLoader(val_dataset, batch_size=batch_size)\n",
    "\n",
    "    # Set fixed random number of seed\n",
    "    torch.manual_seed(42)\n",
    "\n",
    "    # Make use of GPU if available or MPS (Apple) if one is available\n",
    "    device = (\n",
    "        \"mps\"\n",
    "        if torch.backends.mps.is_built()\n",
    "        else \"cuda\"\n",
    "        if torch.cuda.is_available()\n",
    "        else \"cpu\"\n",
    "    )\n",
    "\n",
    "    print(\"Using device:\", device)\n",
    "\n",
    "    # Define the model with dynamic num_filters\n",
    "    model = ResNetRNN(input_size=512, hidden_size=512, num_layers=num_layers, num_classes=8).to(device)\n",
    "\n",
    "    # Define the loss function and optimizer\n",
    "    criterion = nn.CrossEntropyLoss()\n",
    "    optimizer = torch.optim.Adam(model.parameters(), lr=learning_rate)\n",
    "\n",
    "    # Training loop\n",
    "    num_epochs = 4\n",
    "    for epoch in range(num_epochs):\n",
    "        model.train()\n",
    "        running_loss = 0.0\n",
    "        train_progress = tqdm.tqdm(train_loader, desc=f\"Training Epoch {epoch + 1}\", leave=False)\n",
    "\n",
    "        for mel_spectrogram, label in train_progress:\n",
    "            mel_spectrogram, label = mel_spectrogram.to(device).float(), label.to(device)\n",
    "            optimizer.zero_grad()\n",
    "            output = model(mel_spectrogram.unsqueeze(1))\n",
    "            loss = criterion(output, label)\n",
    "            loss.backward()\n",
    "            optimizer.step()\n",
    "\n",
    "            # Update progress bar\n",
    "            running_loss += loss.item()\n",
    "            train_progress.set_postfix({\"Loss\": f\"{running_loss / (train_progress.n + 1):.4f}\"})\n",
    "\n",
    "        # Evaluate the CNN model\n",
    "        model.eval()\n",
    "        all_labels, all_probs = [], []\n",
    "        test_progress = tqdm.tqdm(val_loader, desc=f\"Testing Epoch {epoch + 1}\", leave=False)\n",
    "\n",
    "        # Use Early Stopping\n",
    "        with torch.no_grad():\n",
    "            for mel_spectrogram, label in test_progress:\n",
    "                mel_spectrogram, label = mel_spectrogram.to(device).float(), label.to(device)\n",
    "                output = model(mel_spectrogram.unsqueeze(1))\n",
    "                probabilities = nn.Softmax(dim=1)(output).cpu().numpy()\n",
    "                all_probs.append(probabilities)\n",
    "                all_labels.append(label.cpu().numpy())\n",
    "\n",
    "        # Concatenate all predictions and true labels\n",
    "        all_labels = np.concatenate(all_labels)\n",
    "        all_probs = np.concatenate(all_probs)\n",
    "\n",
    "        # Calculate metrics\n",
    "        f1 = calculate_metrics(all_labels, all_probs, num_classes=8)[\"F1 Score\"]\n",
    "\n",
    "        trial.report(f1, epoch)\n",
    "\n",
    "        # Prune if needed based on the reported F1 score\n",
    "        if trial.should_prune():\n",
    "            raise optuna.exceptions.TrialPruned()\n",
    "\n",
    "        # Optionally, print the F1 score for each epoch\n",
    "        print(f\"Epoch {epoch + 1} - F1 Score: {f1:.4f}\")\n",
    "\n",
    "    # Return the F1 score after the training loop\n",
    "    return f1"
   ],
   "id": "841b681234321366",
   "outputs": [],
   "execution_count": 42
  },
  {
   "metadata": {
    "ExecuteTime": {
     "end_time": "2025-01-06T10:02:23.178489Z",
     "start_time": "2025-01-06T09:37:06.607794Z"
    }
   },
   "cell_type": "code",
   "source": [
    "# Optuna study\n",
    "study_name = \"resnet_rnn_hybrid_optimization_v1_weighted_stratified\"\n",
    "# Create a file to save study name and my comments on used dataset and hyperparameters\n",
    "study_comment = \"Full dataset. Optimizing learning rate, batch size. No cross-validation used. 90-10 split for training and validation. Stratified split used. WeightedRandomSampler used for training.\"\n",
    "study_comment_file = \"study_comment.csv\"\n",
    "\n",
    "# Write new line with study name and comment\n",
    "with open(study_comment_file, \"a\") as f:\n",
    "    f.write(f\"\\n{study_name},{study_comment}\")\n",
    "# Create an Optuna study\n",
    "study = optuna.create_study(direction=\"maximize\", storage=\"sqlite:///db.sqlite3\", study_name=study_name,\n",
    "                            load_if_exists=True)\n",
    "study.optimize(objective, n_trials=10)\n",
    "\n",
    "# Best trial\n",
    "print(\"Best trial:\")\n",
    "print(f\"F1 Score: {study.best_trial.value}\")\n",
    "print(f\"Params: {study.best_trial.params}\")\n"
   ],
   "id": "174464a23a1907aa",
   "outputs": [
    {
     "name": "stderr",
     "output_type": "stream",
     "text": [
      "[I 2025-01-06 10:37:06,631] Using an existing study with name 'resnet_rnn_hybrid_optimization_v1_weighted_stratified' instead of creating a new one.\n"
     ]
    },
    {
     "name": "stdout",
     "output_type": "stream",
     "text": [
      "Using device: mps\n"
     ]
    },
    {
     "name": "stderr",
     "output_type": "stream",
     "text": [
      "/Users/julia.rozycka/Master/MTG_Jamendo_dataset/venv/lib/python3.12/site-packages/torchvision/models/_utils.py:208: UserWarning: The parameter 'pretrained' is deprecated since 0.13 and may be removed in the future, please use 'weights' instead.\n",
      "  warnings.warn(\n",
      "/Users/julia.rozycka/Master/MTG_Jamendo_dataset/venv/lib/python3.12/site-packages/torchvision/models/_utils.py:223: UserWarning: Arguments other than a weight enum or `None` for 'weights' are deprecated since 0.13 and may be removed in the future. The current behavior is equivalent to passing `weights=ResNet18_Weights.IMAGENET1K_V1`. You can also use `weights=ResNet18_Weights.DEFAULT` to get the most up-to-date weights.\n",
      "  warnings.warn(msg)\n",
      "                                                                                \r"
     ]
    },
    {
     "name": "stdout",
     "output_type": "stream",
     "text": [
      "Epoch 1 - F1 Score: 0.2984\n"
     ]
    },
    {
     "name": "stderr",
     "output_type": "stream",
     "text": [
      "                                                                                \r"
     ]
    },
    {
     "name": "stdout",
     "output_type": "stream",
     "text": [
      "Epoch 2 - F1 Score: 0.3075\n"
     ]
    },
    {
     "name": "stderr",
     "output_type": "stream",
     "text": [
      "                                                                                \r"
     ]
    },
    {
     "name": "stdout",
     "output_type": "stream",
     "text": [
      "Epoch 3 - F1 Score: 0.3634\n"
     ]
    },
    {
     "name": "stderr",
     "output_type": "stream",
     "text": [
      "[I 2025-01-06 10:41:00,834] Trial 1 finished with value: 0.35951052781828635 and parameters: {'learning_rate': 5.886952730486881e-05, 'batch_size': 16, 'num_layers': 2}. Best is trial 1 with value: 0.35951052781828635.\n"
     ]
    },
    {
     "name": "stdout",
     "output_type": "stream",
     "text": [
      "Epoch 4 - F1 Score: 0.3595\n",
      "Using device: mps\n"
     ]
    },
    {
     "name": "stderr",
     "output_type": "stream",
     "text": [
      "/Users/julia.rozycka/Master/MTG_Jamendo_dataset/venv/lib/python3.12/site-packages/torchvision/models/_utils.py:208: UserWarning: The parameter 'pretrained' is deprecated since 0.13 and may be removed in the future, please use 'weights' instead.\n",
      "  warnings.warn(\n",
      "/Users/julia.rozycka/Master/MTG_Jamendo_dataset/venv/lib/python3.12/site-packages/torchvision/models/_utils.py:223: UserWarning: Arguments other than a weight enum or `None` for 'weights' are deprecated since 0.13 and may be removed in the future. The current behavior is equivalent to passing `weights=ResNet18_Weights.IMAGENET1K_V1`. You can also use `weights=ResNet18_Weights.DEFAULT` to get the most up-to-date weights.\n",
      "  warnings.warn(msg)\n",
      "                                                                                \r"
     ]
    },
    {
     "name": "stdout",
     "output_type": "stream",
     "text": [
      "Epoch 1 - F1 Score: 0.3026\n"
     ]
    },
    {
     "name": "stderr",
     "output_type": "stream",
     "text": [
      "                                                                                \r"
     ]
    },
    {
     "name": "stdout",
     "output_type": "stream",
     "text": [
      "Epoch 2 - F1 Score: 0.3010\n"
     ]
    },
    {
     "name": "stderr",
     "output_type": "stream",
     "text": [
      "                                                                                \r"
     ]
    },
    {
     "name": "stdout",
     "output_type": "stream",
     "text": [
      "Epoch 3 - F1 Score: 0.3825\n"
     ]
    },
    {
     "name": "stderr",
     "output_type": "stream",
     "text": [
      "[I 2025-01-06 10:44:41,023] Trial 2 finished with value: 0.3708876160592889 and parameters: {'learning_rate': 0.0002097714241764038, 'batch_size': 32, 'num_layers': 2}. Best is trial 2 with value: 0.3708876160592889.\n"
     ]
    },
    {
     "name": "stdout",
     "output_type": "stream",
     "text": [
      "Epoch 4 - F1 Score: 0.3709\n",
      "Using device: mps\n"
     ]
    },
    {
     "name": "stderr",
     "output_type": "stream",
     "text": [
      "/Users/julia.rozycka/Master/MTG_Jamendo_dataset/venv/lib/python3.12/site-packages/torchvision/models/_utils.py:208: UserWarning: The parameter 'pretrained' is deprecated since 0.13 and may be removed in the future, please use 'weights' instead.\n",
      "  warnings.warn(\n",
      "/Users/julia.rozycka/Master/MTG_Jamendo_dataset/venv/lib/python3.12/site-packages/torchvision/models/_utils.py:223: UserWarning: Arguments other than a weight enum or `None` for 'weights' are deprecated since 0.13 and may be removed in the future. The current behavior is equivalent to passing `weights=ResNet18_Weights.IMAGENET1K_V1`. You can also use `weights=ResNet18_Weights.DEFAULT` to get the most up-to-date weights.\n",
      "  warnings.warn(msg)\n",
      "                                                                                \r"
     ]
    },
    {
     "name": "stdout",
     "output_type": "stream",
     "text": [
      "Epoch 1 - F1 Score: 0.3569\n"
     ]
    },
    {
     "name": "stderr",
     "output_type": "stream",
     "text": [
      "                                                                                \r"
     ]
    },
    {
     "name": "stdout",
     "output_type": "stream",
     "text": [
      "Epoch 2 - F1 Score: 0.3343\n"
     ]
    },
    {
     "name": "stderr",
     "output_type": "stream",
     "text": [
      "                                                                                \r"
     ]
    },
    {
     "name": "stdout",
     "output_type": "stream",
     "text": [
      "Epoch 3 - F1 Score: 0.4030\n"
     ]
    },
    {
     "name": "stderr",
     "output_type": "stream",
     "text": [
      "[I 2025-01-06 10:48:29,854] Trial 3 finished with value: 0.3595341632416564 and parameters: {'learning_rate': 0.00049482667470072, 'batch_size': 16, 'num_layers': 2}. Best is trial 2 with value: 0.3708876160592889.\n"
     ]
    },
    {
     "name": "stdout",
     "output_type": "stream",
     "text": [
      "Epoch 4 - F1 Score: 0.3595\n",
      "Using device: mps\n"
     ]
    },
    {
     "name": "stderr",
     "output_type": "stream",
     "text": [
      "/Users/julia.rozycka/Master/MTG_Jamendo_dataset/venv/lib/python3.12/site-packages/torchvision/models/_utils.py:208: UserWarning: The parameter 'pretrained' is deprecated since 0.13 and may be removed in the future, please use 'weights' instead.\n",
      "  warnings.warn(\n",
      "/Users/julia.rozycka/Master/MTG_Jamendo_dataset/venv/lib/python3.12/site-packages/torchvision/models/_utils.py:223: UserWarning: Arguments other than a weight enum or `None` for 'weights' are deprecated since 0.13 and may be removed in the future. The current behavior is equivalent to passing `weights=ResNet18_Weights.IMAGENET1K_V1`. You can also use `weights=ResNet18_Weights.DEFAULT` to get the most up-to-date weights.\n",
      "  warnings.warn(msg)\n",
      "                                                                                \r"
     ]
    },
    {
     "name": "stdout",
     "output_type": "stream",
     "text": [
      "Epoch 1 - F1 Score: 0.2820\n"
     ]
    },
    {
     "name": "stderr",
     "output_type": "stream",
     "text": [
      "                                                                                \r"
     ]
    },
    {
     "name": "stdout",
     "output_type": "stream",
     "text": [
      "Epoch 2 - F1 Score: 0.2647\n"
     ]
    },
    {
     "name": "stderr",
     "output_type": "stream",
     "text": [
      "                                                                                \r"
     ]
    },
    {
     "name": "stdout",
     "output_type": "stream",
     "text": [
      "Epoch 3 - F1 Score: 0.2643\n"
     ]
    },
    {
     "name": "stderr",
     "output_type": "stream",
     "text": [
      "[I 2025-01-06 10:52:06,674] Trial 4 finished with value: 0.29123966226973863 and parameters: {'learning_rate': 1.5721437861490498e-05, 'batch_size': 64, 'num_layers': 1}. Best is trial 2 with value: 0.3708876160592889.\n"
     ]
    },
    {
     "name": "stdout",
     "output_type": "stream",
     "text": [
      "Epoch 4 - F1 Score: 0.2912\n",
      "Using device: mps\n"
     ]
    },
    {
     "name": "stderr",
     "output_type": "stream",
     "text": [
      "/Users/julia.rozycka/Master/MTG_Jamendo_dataset/venv/lib/python3.12/site-packages/torchvision/models/_utils.py:208: UserWarning: The parameter 'pretrained' is deprecated since 0.13 and may be removed in the future, please use 'weights' instead.\n",
      "  warnings.warn(\n",
      "/Users/julia.rozycka/Master/MTG_Jamendo_dataset/venv/lib/python3.12/site-packages/torchvision/models/_utils.py:223: UserWarning: Arguments other than a weight enum or `None` for 'weights' are deprecated since 0.13 and may be removed in the future. The current behavior is equivalent to passing `weights=ResNet18_Weights.IMAGENET1K_V1`. You can also use `weights=ResNet18_Weights.DEFAULT` to get the most up-to-date weights.\n",
      "  warnings.warn(msg)\n",
      "                                                                                \r"
     ]
    },
    {
     "name": "stdout",
     "output_type": "stream",
     "text": [
      "Epoch 1 - F1 Score: 0.2841\n"
     ]
    },
    {
     "name": "stderr",
     "output_type": "stream",
     "text": [
      "                                                                                \r"
     ]
    },
    {
     "name": "stdout",
     "output_type": "stream",
     "text": [
      "Epoch 2 - F1 Score: 0.2808\n"
     ]
    },
    {
     "name": "stderr",
     "output_type": "stream",
     "text": [
      "                                                                                \r"
     ]
    },
    {
     "name": "stdout",
     "output_type": "stream",
     "text": [
      "Epoch 3 - F1 Score: 0.3535\n"
     ]
    },
    {
     "name": "stderr",
     "output_type": "stream",
     "text": [
      "[I 2025-01-06 10:55:41,287] Trial 5 finished with value: 0.3560849133858458 and parameters: {'learning_rate': 0.0005912180701924612, 'batch_size': 64, 'num_layers': 2}. Best is trial 2 with value: 0.3708876160592889.\n"
     ]
    },
    {
     "name": "stdout",
     "output_type": "stream",
     "text": [
      "Epoch 4 - F1 Score: 0.3561\n",
      "Using device: mps\n"
     ]
    },
    {
     "name": "stderr",
     "output_type": "stream",
     "text": [
      "/Users/julia.rozycka/Master/MTG_Jamendo_dataset/venv/lib/python3.12/site-packages/torchvision/models/_utils.py:208: UserWarning: The parameter 'pretrained' is deprecated since 0.13 and may be removed in the future, please use 'weights' instead.\n",
      "  warnings.warn(\n",
      "/Users/julia.rozycka/Master/MTG_Jamendo_dataset/venv/lib/python3.12/site-packages/torchvision/models/_utils.py:223: UserWarning: Arguments other than a weight enum or `None` for 'weights' are deprecated since 0.13 and may be removed in the future. The current behavior is equivalent to passing `weights=ResNet18_Weights.IMAGENET1K_V1`. You can also use `weights=ResNet18_Weights.DEFAULT` to get the most up-to-date weights.\n",
      "  warnings.warn(msg)\n",
      "[I 2025-01-06 10:56:45,133] Trial 6 pruned.                                     \n"
     ]
    },
    {
     "name": "stdout",
     "output_type": "stream",
     "text": [
      "Using device: mps\n"
     ]
    },
    {
     "name": "stderr",
     "output_type": "stream",
     "text": [
      "/Users/julia.rozycka/Master/MTG_Jamendo_dataset/venv/lib/python3.12/site-packages/torchvision/models/_utils.py:208: UserWarning: The parameter 'pretrained' is deprecated since 0.13 and may be removed in the future, please use 'weights' instead.\n",
      "  warnings.warn(\n",
      "/Users/julia.rozycka/Master/MTG_Jamendo_dataset/venv/lib/python3.12/site-packages/torchvision/models/_utils.py:223: UserWarning: Arguments other than a weight enum or `None` for 'weights' are deprecated since 0.13 and may be removed in the future. The current behavior is equivalent to passing `weights=ResNet18_Weights.IMAGENET1K_V1`. You can also use `weights=ResNet18_Weights.DEFAULT` to get the most up-to-date weights.\n",
      "  warnings.warn(msg)\n",
      "                                                                                \r"
     ]
    },
    {
     "name": "stdout",
     "output_type": "stream",
     "text": [
      "Epoch 1 - F1 Score: 0.3043\n"
     ]
    },
    {
     "name": "stderr",
     "output_type": "stream",
     "text": [
      "                                                                                \r"
     ]
    },
    {
     "name": "stdout",
     "output_type": "stream",
     "text": [
      "Epoch 2 - F1 Score: 0.3556\n"
     ]
    },
    {
     "name": "stderr",
     "output_type": "stream",
     "text": [
      "[I 2025-01-06 10:59:26,249] Trial 7 pruned.                                     \n"
     ]
    },
    {
     "name": "stdout",
     "output_type": "stream",
     "text": [
      "Using device: mps\n"
     ]
    },
    {
     "name": "stderr",
     "output_type": "stream",
     "text": [
      "/Users/julia.rozycka/Master/MTG_Jamendo_dataset/venv/lib/python3.12/site-packages/torchvision/models/_utils.py:208: UserWarning: The parameter 'pretrained' is deprecated since 0.13 and may be removed in the future, please use 'weights' instead.\n",
      "  warnings.warn(\n",
      "/Users/julia.rozycka/Master/MTG_Jamendo_dataset/venv/lib/python3.12/site-packages/torchvision/models/_utils.py:223: UserWarning: Arguments other than a weight enum or `None` for 'weights' are deprecated since 0.13 and may be removed in the future. The current behavior is equivalent to passing `weights=ResNet18_Weights.IMAGENET1K_V1`. You can also use `weights=ResNet18_Weights.DEFAULT` to get the most up-to-date weights.\n",
      "  warnings.warn(msg)\n",
      "[I 2025-01-06 11:00:27,511] Trial 8 pruned.                                     \n",
      "/Users/julia.rozycka/Master/MTG_Jamendo_dataset/venv/lib/python3.12/site-packages/torchvision/models/_utils.py:208: UserWarning: The parameter 'pretrained' is deprecated since 0.13 and may be removed in the future, please use 'weights' instead.\n",
      "  warnings.warn(\n",
      "/Users/julia.rozycka/Master/MTG_Jamendo_dataset/venv/lib/python3.12/site-packages/torchvision/models/_utils.py:223: UserWarning: Arguments other than a weight enum or `None` for 'weights' are deprecated since 0.13 and may be removed in the future. The current behavior is equivalent to passing `weights=ResNet18_Weights.IMAGENET1K_V1`. You can also use `weights=ResNet18_Weights.DEFAULT` to get the most up-to-date weights.\n",
      "  warnings.warn(msg)\n"
     ]
    },
    {
     "name": "stdout",
     "output_type": "stream",
     "text": [
      "Using device: mps\n"
     ]
    },
    {
     "name": "stderr",
     "output_type": "stream",
     "text": [
      "[I 2025-01-06 11:01:25,059] Trial 9 pruned.                                     \n"
     ]
    },
    {
     "name": "stdout",
     "output_type": "stream",
     "text": [
      "Using device: mps\n"
     ]
    },
    {
     "name": "stderr",
     "output_type": "stream",
     "text": [
      "/Users/julia.rozycka/Master/MTG_Jamendo_dataset/venv/lib/python3.12/site-packages/torchvision/models/_utils.py:208: UserWarning: The parameter 'pretrained' is deprecated since 0.13 and may be removed in the future, please use 'weights' instead.\n",
      "  warnings.warn(\n",
      "/Users/julia.rozycka/Master/MTG_Jamendo_dataset/venv/lib/python3.12/site-packages/torchvision/models/_utils.py:223: UserWarning: Arguments other than a weight enum or `None` for 'weights' are deprecated since 0.13 and may be removed in the future. The current behavior is equivalent to passing `weights=ResNet18_Weights.IMAGENET1K_V1`. You can also use `weights=ResNet18_Weights.DEFAULT` to get the most up-to-date weights.\n",
      "  warnings.warn(msg)\n",
      "[I 2025-01-06 11:02:23,173] Trial 10 pruned.                                    \n"
     ]
    },
    {
     "name": "stdout",
     "output_type": "stream",
     "text": [
      "Best trial:\n",
      "F1 Score: 0.3708876160592889\n",
      "Params: {'learning_rate': 0.0002097714241764038, 'batch_size': 32, 'num_layers': 2}\n"
     ]
    }
   ],
   "execution_count": 43
  },
  {
   "metadata": {
    "ExecuteTime": {
     "end_time": "2025-01-06T10:42:20.199681Z",
     "start_time": "2025-01-06T10:35:29.812298Z"
    }
   },
   "cell_type": "code",
   "source": [
    "best_params = study.best_trial.params\n",
    "model = ResNetRNN(input_size=512, hidden_size=512, num_layers=best_params['num_layers'], num_classes=8).to(DEVICE)\n",
    "# Prepare data\n",
    "\n",
    "mel_dataset = MelSpectogramDataset(data_path='spectograms_data')\n",
    "\n",
    "# Split the dataset into train, validation and test with 90-5-5 split\n",
    "# Access file paths and labels\n",
    "file_paths = mel_dataset.file_paths\n",
    "labels = mel_dataset.labels\n",
    "\n",
    "# Split dataset using stratification\n",
    "train_file_paths, temp_file_paths, train_labels, temp_labels = train_test_split(\n",
    "    file_paths, labels, test_size=0.1, random_state=42, stratify=labels\n",
    ")\n",
    "\n",
    "val_file_paths, test_file_paths, val_labels, test_labels = train_test_split(\n",
    "    temp_file_paths, temp_labels, test_size=0.5, random_state=42, stratify=temp_labels\n",
    ")\n",
    "\n",
    "# Create Datasets for each split\n",
    "train_indices = [file_paths.index(path) for path in train_file_paths]\n",
    "val_indices = [file_paths.index(path) for path in val_file_paths]\n",
    "test_indices = [file_paths.index(path) for path in test_file_paths]\n",
    "\n",
    "train_dataset = Subset(mel_dataset, train_indices)\n",
    "val_dataset = Subset(mel_dataset, val_indices)\n",
    "test_dataset = Subset(mel_dataset, test_indices)\n",
    "\n",
    "# Handle imabalanced dataset with WeightedRandomSampler\n",
    "\n",
    "# Get train dataset labels\n",
    "train_labels = [label for _, label in train_dataset]\n",
    "\n",
    "# Get train dataset label count for each class\n",
    "class_counts = np.bincount(train_labels)\n",
    "\n",
    "# Calculate the class weights\n",
    "class_weights = 1.0 / class_counts\n",
    "weights = [class_weights[label] for label in train_labels]\n",
    "\n",
    "# Create a WeightedRandomSampler\n",
    "sampler = WeightedRandomSampler(weights, num_samples=len(train_dataset))\n",
    "\n",
    "# Create DataLoader instances\n",
    "train_loader = DataLoader(train_dataset, batch_size=best_params['batch_size'], sampler=sampler)\n",
    "val_loader = DataLoader(val_dataset, batch_size=best_params['batch_size'])\n",
    "test_loader = DataLoader(test_dataset, batch_size=best_params['batch_size'])\n",
    "\n",
    "# Model\n",
    "\n",
    "# Define the model with dynamic num_filters\n",
    "model = model.to(\"mps\")\n",
    "\n",
    "# Define the loss function and optimizer\n",
    "criterion = nn.CrossEntropyLoss()\n",
    "optimizer = torch.optim.Adam(model.parameters(), lr=best_params['learning_rate'])\n",
    "# Set fixed random number of seed\n",
    "torch.manual_seed(42)\n",
    "\n",
    "# Plain training loop without early stopping\n",
    "num_epochs = 8\n",
    "\n",
    "for epoch in range(num_epochs):\n",
    "    model.train()\n",
    "    running_loss = 0.0\n",
    "    train_progress = tqdm.tqdm(train_loader, desc=f\"Training Epoch {epoch + 1}\", leave=False)\n",
    "\n",
    "    for mel_spectrogram, label in train_progress:\n",
    "        mel_spectrogram, label = mel_spectrogram.to(\"mps\").float(), label.to(\"mps\")\n",
    "        optimizer.zero_grad()\n",
    "        output = model(mel_spectrogram.unsqueeze(1))\n",
    "        loss = criterion(output, label)\n",
    "        loss.backward()\n",
    "        optimizer.step()\n",
    "\n",
    "        # Update progress bar\n",
    "        running_loss += loss.item()\n",
    "        train_progress.set_postfix({\"Loss\": f\"{running_loss / (train_progress.n + 1):.4f}\"})\n",
    "\n",
    "    # Evaluate the CNN model on the validation set\n",
    "    model.eval()\n",
    "    correct, total = 0, 0\n",
    "    all_labels, all_probs = [], []\n",
    "    all_labels_per_class, all_probs_per_class = [], []\n",
    "    test_progress = tqdm.tqdm(val_loader, desc=f\"Testing Epoch {epoch + 1}\", leave=False)\n",
    "\n",
    "    with torch.no_grad():\n",
    "        for mel_spectrogram, label in test_progress:\n",
    "            mel_spectrogram, label = mel_spectrogram.to(\"mps\").float(), label.to(\"mps\")\n",
    "            output = model(mel_spectrogram.unsqueeze(1))\n",
    "            probabilities = nn.Softmax(dim=1)(output).cpu().numpy()\n",
    "            all_probs.append(probabilities)\n",
    "            all_labels.append(label.cpu().numpy())\n",
    "            all_labels_per_class.extend(label.cpu().numpy())\n",
    "            all_probs_per_class.extend(output.cpu().numpy())\n",
    "            _, predicted = torch.max(output.data, 1)\n",
    "            total += label.size(0)\n",
    "            correct += (predicted == label).sum().item()\n",
    "\n",
    "            # Calculate the loss\n",
    "            loss = criterion(output, label)\n",
    "            test_progress.set_postfix({\"Loss\": f\"{loss.item():.4f}\"})\n",
    "\n",
    "    # Concatenate all predictions and true labels\n",
    "    all_labels = np.concatenate(all_labels)\n",
    "    all_probs = np.concatenate(all_probs)\n",
    "\n",
    "    all_labels_per_class = np.array(all_labels_per_class)\n",
    "    all_probs_per_class = np.array(all_probs_per_class)\n",
    "    y_pred = all_probs_per_class.argmax(axis=1)\n",
    "\n",
    "    # Per-class metrics\n",
    "    print(f\"Epoch {epoch + 1}:\")\n",
    "    print(\"PER CLASS METRICS\")\n",
    "    per_class_metrics(all_labels, y_pred, num_classes=8)\n",
    "    print(\"OVERALL METRICS\")\n",
    "\n",
    "    # Calculate metrics\n",
    "    metrics = calculate_metrics(all_labels, all_probs, num_classes=8)\n",
    "    print(f\"Epoch {epoch + 1}: Accuracy: {100 * correct / total:.2f}% | Metrics: {metrics}\")\n",
    "\n",
    "# Save this model\n",
    "torch.save(model.state_dict(), \"models/resnet_model_v1_weighted.pth\")\n",
    "# Evaluate the model on the test set"
   ],
   "id": "4f2402bb877687d1",
   "outputs": [
    {
     "name": "stderr",
     "output_type": "stream",
     "text": [
      "/Users/julia.rozycka/Master/MTG_Jamendo_dataset/venv/lib/python3.12/site-packages/torchvision/models/_utils.py:208: UserWarning: The parameter 'pretrained' is deprecated since 0.13 and may be removed in the future, please use 'weights' instead.\n",
      "  warnings.warn(\n",
      "/Users/julia.rozycka/Master/MTG_Jamendo_dataset/venv/lib/python3.12/site-packages/torchvision/models/_utils.py:223: UserWarning: Arguments other than a weight enum or `None` for 'weights' are deprecated since 0.13 and may be removed in the future. The current behavior is equivalent to passing `weights=ResNet18_Weights.IMAGENET1K_V1`. You can also use `weights=ResNet18_Weights.DEFAULT` to get the most up-to-date weights.\n",
      "  warnings.warn(msg)\n",
      "                                                                                \r"
     ]
    },
    {
     "name": "stdout",
     "output_type": "stream",
     "text": [
      "Epoch 1:\n",
      "PER CLASS METRICS\n",
      "              precision    recall  f1-score   support\n",
      "\n",
      "     Class 0       0.53      0.32      0.40       260\n",
      "     Class 1       0.31      0.80      0.44        44\n",
      "     Class 2       0.21      0.19      0.20        53\n",
      "     Class 3       0.43      0.23      0.30       173\n",
      "     Class 4       0.41      0.62      0.49        73\n",
      "     Class 5       0.16      0.38      0.23        21\n",
      "     Class 6       0.29      0.57      0.38         7\n",
      "     Class 7       0.39      0.60      0.47        90\n",
      "\n",
      "    accuracy                           0.39       721\n",
      "   macro avg       0.34      0.46      0.36       721\n",
      "weighted avg       0.43      0.39      0.38       721\n",
      "\n",
      "OVERALL METRICS\n",
      "Epoch 1: Accuracy: 38.56% | Metrics: {'AUC': 0.835968880268581, 'Precision': 0.3407109496513192, 'Recall': 0.4622021743156538, 'F1 Score': 0.3632909215872916}\n"
     ]
    },
    {
     "name": "stderr",
     "output_type": "stream",
     "text": [
      "                                                                                \r"
     ]
    },
    {
     "name": "stdout",
     "output_type": "stream",
     "text": [
      "Epoch 2:\n",
      "PER CLASS METRICS\n",
      "              precision    recall  f1-score   support\n",
      "\n",
      "     Class 0       0.53      0.32      0.40       260\n",
      "     Class 1       0.30      0.86      0.45        44\n",
      "     Class 2       0.16      0.13      0.15        53\n",
      "     Class 3       0.52      0.23      0.31       173\n",
      "     Class 4       0.39      0.48      0.43        73\n",
      "     Class 5       0.14      0.62      0.23        21\n",
      "     Class 6       0.17      1.00      0.29         7\n",
      "     Class 7       0.45      0.50      0.48        90\n",
      "\n",
      "    accuracy                           0.37       721\n",
      "   macro avg       0.33      0.52      0.34       721\n",
      "weighted avg       0.45      0.37      0.37       721\n",
      "\n",
      "OVERALL METRICS\n",
      "Epoch 2: Accuracy: 36.89% | Metrics: {'AUC': 0.8342731314890198, 'Precision': 0.33400333133259874, 'Recall': 0.516878706321599, 'F1 Score': 0.34078491924206356}\n"
     ]
    },
    {
     "name": "stderr",
     "output_type": "stream",
     "text": [
      "                                                                                \r"
     ]
    },
    {
     "name": "stdout",
     "output_type": "stream",
     "text": [
      "Epoch 3:\n",
      "PER CLASS METRICS\n",
      "              precision    recall  f1-score   support\n",
      "\n",
      "     Class 0       0.56      0.38      0.45       260\n",
      "     Class 1       0.41      0.52      0.46        44\n",
      "     Class 2       0.14      0.19      0.16        53\n",
      "     Class 3       0.49      0.39      0.43       173\n",
      "     Class 4       0.42      0.53      0.47        73\n",
      "     Class 5       0.17      0.43      0.24        21\n",
      "     Class 6       0.11      1.00      0.19         7\n",
      "     Class 7       0.54      0.41      0.47        90\n",
      "\n",
      "    accuracy                           0.40       721\n",
      "   macro avg       0.35      0.48      0.36       721\n",
      "weighted avg       0.47      0.40      0.42       721\n",
      "\n",
      "OVERALL METRICS\n",
      "Epoch 3: Accuracy: 40.36% | Metrics: {'AUC': 0.839592192708053, 'Precision': 0.3543950379664194, 'Recall': 0.48167351259984337, 'F1 Score': 0.3599419726061386}\n"
     ]
    },
    {
     "name": "stderr",
     "output_type": "stream",
     "text": [
      "                                                                                \r"
     ]
    },
    {
     "name": "stdout",
     "output_type": "stream",
     "text": [
      "Epoch 4:\n",
      "PER CLASS METRICS\n",
      "              precision    recall  f1-score   support\n",
      "\n",
      "     Class 0       0.51      0.10      0.17       260\n",
      "     Class 1       0.33      0.75      0.46        44\n",
      "     Class 2       0.18      0.26      0.22        53\n",
      "     Class 3       0.50      0.13      0.21       173\n",
      "     Class 4       0.40      0.58      0.47        73\n",
      "     Class 5       0.08      0.76      0.15        21\n",
      "     Class 6       0.19      0.86      0.31         7\n",
      "     Class 7       0.41      0.53      0.47        90\n",
      "\n",
      "    accuracy                           0.29       721\n",
      "   macro avg       0.32      0.50      0.31       721\n",
      "weighted avg       0.43      0.29      0.27       721\n",
      "\n",
      "OVERALL METRICS\n",
      "Epoch 4: Accuracy: 28.99% | Metrics: {'AUC': 0.8292845913252461, 'Precision': 0.3249643577760081, 'Recall': 0.4973335615319212, 'F1 Score': 0.3059713611121031}\n"
     ]
    },
    {
     "name": "stderr",
     "output_type": "stream",
     "text": [
      "                                                                                \r"
     ]
    },
    {
     "name": "stdout",
     "output_type": "stream",
     "text": [
      "Epoch 5:\n",
      "PER CLASS METRICS\n",
      "              precision    recall  f1-score   support\n",
      "\n",
      "     Class 0       0.65      0.15      0.25       260\n",
      "     Class 1       0.45      0.39      0.41        44\n",
      "     Class 2       0.16      0.51      0.24        53\n",
      "     Class 3       0.50      0.29      0.37       173\n",
      "     Class 4       0.38      0.66      0.48        73\n",
      "     Class 5       0.35      0.29      0.32        21\n",
      "     Class 6       0.15      1.00      0.25         7\n",
      "     Class 7       0.39      0.68      0.49        90\n",
      "\n",
      "    accuracy                           0.36       721\n",
      "   macro avg       0.38      0.49      0.35       721\n",
      "weighted avg       0.49      0.36      0.34       721\n",
      "\n",
      "OVERALL METRICS\n",
      "Epoch 5: Accuracy: 35.51% | Metrics: {'AUC': 0.8386257494374039, 'Precision': 0.37691366196058124, 'Recall': 0.4949609254477262, 'F1 Score': 0.35175802375161425}\n"
     ]
    },
    {
     "name": "stderr",
     "output_type": "stream",
     "text": [
      "                                                                                \r"
     ]
    },
    {
     "name": "stdout",
     "output_type": "stream",
     "text": [
      "Epoch 6:\n",
      "PER CLASS METRICS\n",
      "              precision    recall  f1-score   support\n",
      "\n",
      "     Class 0       0.67      0.07      0.13       260\n",
      "     Class 1       0.28      0.84      0.42        44\n",
      "     Class 2       0.14      0.32      0.20        53\n",
      "     Class 3       0.48      0.16      0.24       173\n",
      "     Class 4       0.39      0.71      0.51        73\n",
      "     Class 5       0.19      0.48      0.27        21\n",
      "     Class 6       0.18      1.00      0.31         7\n",
      "     Class 7       0.39      0.69      0.50        90\n",
      "\n",
      "    accuracy                           0.32       721\n",
      "   macro avg       0.34      0.53      0.32       721\n",
      "weighted avg       0.48      0.32      0.27       721\n",
      "\n",
      "OVERALL METRICS\n",
      "Epoch 6: Accuracy: 32.04% | Metrics: {'AUC': 0.8396809033171454, 'Precision': 0.34061036453789534, 'Recall': 0.5337690525382879, 'F1 Score': 0.32100394997666254}\n"
     ]
    },
    {
     "name": "stderr",
     "output_type": "stream",
     "text": [
      "                                                                                \r"
     ]
    },
    {
     "name": "stdout",
     "output_type": "stream",
     "text": [
      "Epoch 7:\n",
      "PER CLASS METRICS\n",
      "              precision    recall  f1-score   support\n",
      "\n",
      "     Class 0       0.61      0.27      0.38       260\n",
      "     Class 1       0.36      0.86      0.50        44\n",
      "     Class 2       0.16      0.36      0.22        53\n",
      "     Class 3       0.49      0.10      0.16       173\n",
      "     Class 4       0.42      0.70      0.53        73\n",
      "     Class 5       0.16      0.57      0.25        21\n",
      "     Class 6       0.25      0.57      0.35         7\n",
      "     Class 7       0.41      0.60      0.48        90\n",
      "\n",
      "    accuracy                           0.37       721\n",
      "   macro avg       0.36      0.50      0.36       721\n",
      "weighted avg       0.47      0.37      0.35       721\n",
      "\n",
      "OVERALL METRICS\n",
      "Epoch 7: Accuracy: 36.89% | Metrics: {'AUC': 0.8367333599618335, 'Precision': 0.35594848534508905, 'Recall': 0.504369628568528, 'F1 Score': 0.35935803112578923}\n"
     ]
    },
    {
     "name": "stderr",
     "output_type": "stream",
     "text": [
      "                                                                                \r"
     ]
    },
    {
     "name": "stdout",
     "output_type": "stream",
     "text": [
      "Epoch 8:\n",
      "PER CLASS METRICS\n",
      "              precision    recall  f1-score   support\n",
      "\n",
      "     Class 0       0.65      0.13      0.21       260\n",
      "     Class 1       0.35      0.80      0.49        44\n",
      "     Class 2       0.16      0.34      0.22        53\n",
      "     Class 3       0.48      0.17      0.25       173\n",
      "     Class 4       0.36      0.73      0.48        73\n",
      "     Class 5       0.12      0.67      0.20        21\n",
      "     Class 6       0.33      0.43      0.38         7\n",
      "     Class 7       0.44      0.60      0.51        90\n",
      "\n",
      "    accuracy                           0.33       721\n",
      "   macro avg       0.36      0.48      0.34       721\n",
      "weighted avg       0.48      0.33      0.30       721\n",
      "\n",
      "OVERALL METRICS\n",
      "Epoch 8: Accuracy: 33.29% | Metrics: {'AUC': 0.8393097833559946, 'Precision': 0.36102559564424425, 'Recall': 0.48208452012621283, 'F1 Score': 0.3422794918670221}\n"
     ]
    }
   ],
   "execution_count": 45
  },
  {
   "metadata": {
    "ExecuteTime": {
     "end_time": "2025-01-06T10:42:22.976333Z",
     "start_time": "2025-01-06T10:42:20.206473Z"
    }
   },
   "cell_type": "code",
   "source": [
    "# Evaluate the model on the test set\n",
    "test_model = ResNetRNN(input_size=512, hidden_size=512, num_layers=best_params['num_layers'], num_classes=8).to(DEVICE)\n",
    "\n",
    "test_model = test_model.to(\"mps\")\n",
    "\n",
    "# Load the model weights\n",
    "test_model.load_state_dict(torch.load(\"models/resnet_model_v1_weighted.pth\", weights_only=True))\n",
    "\n",
    "# Create a DataLoader instance for the test set\n",
    "# test_loader = DataLoader(test_dataset, batch_size=32)\n",
    "\n",
    "test_model.eval()\n",
    "\n",
    "with torch.no_grad():\n",
    "    correct, total = 0, 0\n",
    "    all_labels, all_probs = [], []\n",
    "    all_labels_per_class, all_probs_per_class = [], []\n",
    "    test_progress = tqdm.tqdm(test_loader, desc=\"Testing\", leave=False)\n",
    "\n",
    "    for mel_spectrogram, label in test_progress:\n",
    "        mel_spectrogram, label = mel_spectrogram.to(\"mps\").float(), label.to(\"mps\")\n",
    "        output = test_model(mel_spectrogram.unsqueeze(1))\n",
    "        probabilities = nn.Softmax(dim=1)(output).cpu().numpy()\n",
    "        all_probs.append(probabilities)\n",
    "        all_labels.append(label.cpu().numpy())\n",
    "        all_labels_per_class.extend(label.cpu().numpy())\n",
    "        all_probs_per_class.extend(output.cpu().numpy())\n",
    "        _, predicted = torch.max(output.data, 1)\n",
    "        total += label.size(0)\n",
    "        correct += (predicted == label).sum().item()\n",
    "\n",
    "        # Calculate the loss\n",
    "        loss = criterion(output, label)\n",
    "        test_progress.set_postfix({\"Loss\": f\"{loss.item():.4f}\"})\n",
    "\n",
    "    # Concatenate all predictions and true labels\n",
    "    all_labels = np.concatenate(all_labels)\n",
    "    all_probs = np.concatenate(all_probs)\n",
    "\n",
    "    all_labels_per_class = np.array(all_labels_per_class)\n",
    "    all_probs_per_class = np.array(all_probs_per_class)\n",
    "    y_pred = all_probs_per_class.argmax(axis=1)\n",
    "\n",
    "    # Per-class metrics\n",
    "    print(\"PER CLASS METRICS\")\n",
    "    per_class_metrics(all_labels, y_pred, num_classes=8)\n",
    "\n",
    "    # Calculate metrics\n",
    "    metrics = calculate_metrics(all_labels, all_probs, num_classes=8)\n",
    "    print(\"OVERALL METRICS\")\n",
    "\n",
    "    print(f\"Accuracy: {100 * correct / total:.2f}% | Metrics: {metrics}\")"
   ],
   "id": "f6a4f36317f2d0d4",
   "outputs": [
    {
     "name": "stderr",
     "output_type": "stream",
     "text": [
      "/Users/julia.rozycka/Master/MTG_Jamendo_dataset/venv/lib/python3.12/site-packages/torchvision/models/_utils.py:208: UserWarning: The parameter 'pretrained' is deprecated since 0.13 and may be removed in the future, please use 'weights' instead.\n",
      "  warnings.warn(\n",
      "/Users/julia.rozycka/Master/MTG_Jamendo_dataset/venv/lib/python3.12/site-packages/torchvision/models/_utils.py:223: UserWarning: Arguments other than a weight enum or `None` for 'weights' are deprecated since 0.13 and may be removed in the future. The current behavior is equivalent to passing `weights=ResNet18_Weights.IMAGENET1K_V1`. You can also use `weights=ResNet18_Weights.DEFAULT` to get the most up-to-date weights.\n",
      "  warnings.warn(msg)\n",
      "                                                                     "
     ]
    },
    {
     "name": "stdout",
     "output_type": "stream",
     "text": [
      "PER CLASS METRICS\n",
      "              precision    recall  f1-score   support\n",
      "\n",
      "     Class 0       0.61      0.13      0.22       260\n",
      "     Class 1       0.38      0.84      0.52        45\n",
      "     Class 2       0.18      0.36      0.24        53\n",
      "     Class 3       0.65      0.21      0.32       173\n",
      "     Class 4       0.38      0.78      0.51        73\n",
      "     Class 5       0.14      0.68      0.23        22\n",
      "     Class 6       0.13      0.33      0.19         6\n",
      "     Class 7       0.46      0.66      0.54        90\n",
      "\n",
      "    accuracy                           0.36       722\n",
      "   macro avg       0.37      0.50      0.35       722\n",
      "weighted avg       0.52      0.36      0.33       722\n",
      "\n",
      "OVERALL METRICS\n",
      "Accuracy: 36.15% | Metrics: {'AUC': 0.822694831223635, 'Precision': 0.3669211446348545, 'Recall': 0.49964648364524844, 'F1 Score': 0.34607282020990704}\n"
     ]
    },
    {
     "name": "stderr",
     "output_type": "stream",
     "text": [
      "\r"
     ]
    }
   ],
   "execution_count": 46
  },
  {
   "metadata": {
    "ExecuteTime": {
     "end_time": "2025-01-06T12:38:35.566200Z",
     "start_time": "2025-01-06T12:38:34.856604Z"
    }
   },
   "cell_type": "code",
   "source": [
    "# Plot the confusion matrix with annotations on test set\n",
    "from sklearn.metrics import confusion_matrix\n",
    "import matplotlib.pyplot as plt\n",
    "\n",
    "# Calculate the confusion matrix\n",
    "conf_matrix = confusion_matrix(all_labels, y_pred)\n",
    "\n",
    "# Plot the confusion matrix with annotations\n",
    "plt.figure(figsize=(10, 8))\n",
    "plt.imshow(conf_matrix, cmap=\"Blues\")\n",
    "plt.colorbar()\n",
    "plt.title(\"Confusion Matrix\")\n",
    "plt.xlabel(\"Predicted Labels\")\n",
    "plt.ylabel(\"True Labels\")\n",
    "plt.xticks(range(8), mel_dataset.genres, rotation=45)\n",
    "plt.yticks(range(8), mel_dataset.genres)\n",
    "for i in range(8):\n",
    "    for j in range(8):\n",
    "        plt.text(j, i, conf_matrix[i, j], ha=\"center\", va=\"center\", color=\"black\")\n",
    "plt.show()\n",
    "# Now plot the normalized confusion matrix\n",
    "import seaborn as sns\n",
    "\n",
    "# Normalize the confusion matrix\n",
    "conf_matrix_norm = conf_matrix / conf_matrix.sum(axis=1)[:, np.newaxis]\n",
    "\n",
    "# Plot the normalized confusion matrix\n",
    "plt.figure(figsize=(10, 8))\n",
    "sns.heatmap(conf_matrix_norm, cmap=\"Blues\", annot=True, fmt=\".2f\", xticklabels=mel_dataset.genres,\n",
    "            yticklabels=mel_dataset.genres)\n",
    "plt.title(\"Normalized Confusion Matrix\")\n",
    "plt.xlabel(\"Predicted Labels\")\n",
    "plt.ylabel(\"True Labels\")\n",
    "plt.show()"
   ],
   "id": "51b1036ae59ce62c",
   "outputs": [
    {
     "data": {
      "text/plain": [
       "<Figure size 1000x800 with 2 Axes>"
      ],
      "image/png": "[encoded data removed]"
     },
     "metadata": {},
     "output_type": "display_data"
    },
    {
     "data": {
      "text/plain": [
       "<Figure size 1000x800 with 2 Axes>"
      ],
      "image/png": "[encoded data removed]"
     },
     "metadata": {},
     "output_type": "display_data"
    }
   ],
   "execution_count": 47
  },
  {
   "metadata": {
    "ExecuteTime": {
     "end_time": "2025-01-06T12:38:39.544700Z",
     "start_time": "2025-01-06T12:38:39.404680Z"
    }
   },
   "cell_type": "code",
   "source": [
    "# Plot ROC curve\n",
    "from sklearn.metrics import roc_curve\n",
    "\n",
    "# Get the true positive rate and false positive rate\n",
    "fpr = dict()\n",
    "tpr = dict()\n",
    "roc_auc = dict()\n",
    "for i in range(8):\n",
    "    fpr[i], tpr[i], _ = roc_curve((all_labels == i).astype(int), all_probs[:, i])\n",
    "    roc_auc[i] = roc_auc_score((all_labels == i).astype(int), all_probs[:, i])\n",
    "\n",
    "# Plot the ROC curve\n",
    "plt.figure(figsize=(10, 8))\n",
    "for i in range(8):\n",
    "    plt.plot(fpr[i], tpr[i], label=f\"{mel_dataset.genres[i]} (AUC = {roc_auc[i]:.2f})\")\n",
    "plt.plot([0, 1], [0, 1], \"k--\")\n",
    "plt.xlabel(\"False Positive Rate\")\n",
    "plt.ylabel(\"True Positive Rate\")\n",
    "plt.title(\"ROC Curve\")\n",
    "# Add legend\n",
    "plt.legend()\n",
    "plt.show()"
   ],
   "id": "da68494baf3429a1",
   "outputs": [
    {
     "data": {
      "text/plain": [
       "<Figure size 1000x800 with 1 Axes>"
      ],
      "image/png": "[encoded data removed]"
     },
     "metadata": {},
     "output_type": "display_data"
    }
   ],
   "execution_count": 48
  },
  {
   "metadata": {},
   "cell_type": "code",
   "outputs": [],
   "execution_count": null,
   "source": "# Worse with pop but better with f.ex. rap, metal, hiphop",
   "id": "4272728640ae7aa1"
  },
  {
   "metadata": {
    "ExecuteTime": {
     "end_time": "2025-01-06T16:45:00.852819Z",
     "start_time": "2025-01-06T16:45:00.848601Z"
    }
   },
   "cell_type": "code",
   "source": [
    "# ResNet18 + LSTM Hybrid Model\n",
    "# Create a class for hybrid model (ResNet18 + LSTM), import model from Torchvision, models. Input size of the model should be the same as spectogram shape (1, 96, 1376)    \n",
    "\n",
    "class ResNetLSTM(nn.Module):\n",
    "    def __init__(self, input_size, hidden_size, num_layers, num_classes):\n",
    "        super(ResNetLSTM, self).__init__()\n",
    "        self.hidden_size = hidden_size\n",
    "        self.num_layers = num_layers\n",
    "        self.resnet = models.resnet18(weights=ResNet18_Weights.IMAGENET1K_V1)\n",
    "        self.resnet.conv1 = nn.Conv2d(1, 64, kernel_size=7, stride=2, padding=3, bias=False)\n",
    "        self.resnet.fc = nn.Identity()\n",
    "        self.lstm = nn.LSTM(input_size, hidden_size, num_layers, batch_first=True)\n",
    "        self.fc = nn.Linear(hidden_size, num_classes)\n",
    "        \n",
    "    def forward(self, x):\n",
    "        \"\"\"\n",
    "        Forward pass for ResNet18 + LSTM hybrid.\n",
    "    \n",
    "        Args:\n",
    "            x (torch.Tensor): Input tensor of shape (Batch, Channels, Height, Width).\n",
    "    \n",
    "        Returns:\n",
    "            torch.Tensor: Output tensor of shape (Batch, num_classes).\n",
    "        \"\"\"\n",
    "\n",
    "        # Ensure input is 4D (Batch, Channels, Height, Width)\n",
    "        if x.dim() == 3:  # If input is (Batch, Height, Width)\n",
    "            x = x.unsqueeze(1)  # Add channel dimension\n",
    "                \n",
    "        # Pass input through ResNet18 layers\n",
    "        features = self.resnet.conv1(x)\n",
    "        features = self.resnet.bn1(features)\n",
    "        features = self.resnet.relu(features)\n",
    "        features = self.resnet.maxpool(features)\n",
    "    \n",
    "        features = self.resnet.layer1(features)\n",
    "        features = self.resnet.layer2(features)\n",
    "        features = self.resnet.layer3(features)\n",
    "        features = self.resnet.layer4(features)\n",
    "            \n",
    "        # Shape after ResNet: (Batch, Channels, Height, Width)\n",
    "        batch_size, channels, height, width = features.size()\n",
    "    \n",
    "        # Reshape features for LSTM: (Batch, Time, Features)\n",
    "        # Time = Width, Features = Channels * Height\n",
    "        rnn_input = features.permute(0, 3, 1, 2).reshape(batch_size, width, channels * height)\n",
    "            \n",
    "        # Pass through LSTM\n",
    "        lstm_out, _ = self.lstm(rnn_input)  # LSTM outputs all timesteps\n",
    "            \n",
    "        # Use the last timestep's output\n",
    "        final_output = self.fc(lstm_out[:, -1, :])  # Shape: (Batch, num_classes)\n",
    "    \n",
    "        return final_output\n",
    "\n",
    "        "
   ],
   "id": "dc6d73ad17fc6bbe",
   "outputs": [],
   "execution_count": 5
  },
  {
   "metadata": {
    "ExecuteTime": {
     "end_time": "2025-01-06T13:23:27.429549Z",
     "start_time": "2025-01-06T13:23:25.460933Z"
    }
   },
   "cell_type": "code",
   "source": [
    "# Instantiate the model\n",
    "input_size = 512 * 3# Channels * Height from ResNet output\n",
    "hidden_size = 256\n",
    "num_layers = 2\n",
    "num_classes = 8\n",
    "batch_size = 32\n",
    "\n",
    "model = ResNetLSTM(input_size, hidden_size, num_layers, num_classes)\n",
    "\n",
    "# Test the model\n",
    "test_input = torch.randn(batch_size, 1, 96, 1376) # Batch size 2, 1 channel, 96x1376 input\n",
    "output = model(test_input)\n",
    "print(f\"Output shape: {output.shape}\")  # Should be (Batch, num_classes)\n"
   ],
   "id": "29aa0a0fa633f55f",
   "outputs": [
    {
     "name": "stdout",
     "output_type": "stream",
     "text": [
      "Output shape: torch.Size([32, 8])\n"
     ]
    }
   ],
   "execution_count": 103
  },
  {
   "metadata": {
    "ExecuteTime": {
     "end_time": "2025-01-06T13:23:27.493699Z",
     "start_time": "2025-01-06T13:23:27.490331Z"
    }
   },
   "cell_type": "code",
   "source": "model.eval()",
   "id": "e94f365ae46f049b",
   "outputs": [
    {
     "data": {
      "text/plain": [
       "ResNetLSTM(\n",
       "  (resnet): ResNet(\n",
       "    (conv1): Conv2d(1, 64, kernel_size=(7, 7), stride=(2, 2), padding=(3, 3), bias=False)\n",
       "    (bn1): BatchNorm2d(64, eps=1e-05, momentum=0.1, affine=True, track_running_stats=True)\n",
       "    (relu): ReLU(inplace=True)\n",
       "    (maxpool): MaxPool2d(kernel_size=3, stride=2, padding=1, dilation=1, ceil_mode=False)\n",
       "    (layer1): Sequential(\n",
       "      (0): BasicBlock(\n",
       "        (conv1): Conv2d(64, 64, kernel_size=(3, 3), stride=(1, 1), padding=(1, 1), bias=False)\n",
       "        (bn1): BatchNorm2d(64, eps=1e-05, momentum=0.1, affine=True, track_running_stats=True)\n",
       "        (relu): ReLU(inplace=True)\n",
       "        (conv2): Conv2d(64, 64, kernel_size=(3, 3), stride=(1, 1), padding=(1, 1), bias=False)\n",
       "        (bn2): BatchNorm2d(64, eps=1e-05, momentum=0.1, affine=True, track_running_stats=True)\n",
       "      )\n",
       "      (1): BasicBlock(\n",
       "        (conv1): Conv2d(64, 64, kernel_size=(3, 3), stride=(1, 1), padding=(1, 1), bias=False)\n",
       "        (bn1): BatchNorm2d(64, eps=1e-05, momentum=0.1, affine=True, track_running_stats=True)\n",
       "        (relu): ReLU(inplace=True)\n",
       "        (conv2): Conv2d(64, 64, kernel_size=(3, 3), stride=(1, 1), padding=(1, 1), bias=False)\n",
       "        (bn2): BatchNorm2d(64, eps=1e-05, momentum=0.1, affine=True, track_running_stats=True)\n",
       "      )\n",
       "    )\n",
       "    (layer2): Sequential(\n",
       "      (0): BasicBlock(\n",
       "        (conv1): Conv2d(64, 128, kernel_size=(3, 3), stride=(2, 2), padding=(1, 1), bias=False)\n",
       "        (bn1): BatchNorm2d(128, eps=1e-05, momentum=0.1, affine=True, track_running_stats=True)\n",
       "        (relu): ReLU(inplace=True)\n",
       "        (conv2): Conv2d(128, 128, kernel_size=(3, 3), stride=(1, 1), padding=(1, 1), bias=False)\n",
       "        (bn2): BatchNorm2d(128, eps=1e-05, momentum=0.1, affine=True, track_running_stats=True)\n",
       "        (downsample): Sequential(\n",
       "          (0): Conv2d(64, 128, kernel_size=(1, 1), stride=(2, 2), bias=False)\n",
       "          (1): BatchNorm2d(128, eps=1e-05, momentum=0.1, affine=True, track_running_stats=True)\n",
       "        )\n",
       "      )\n",
       "      (1): BasicBlock(\n",
       "        (conv1): Conv2d(128, 128, kernel_size=(3, 3), stride=(1, 1), padding=(1, 1), bias=False)\n",
       "        (bn1): BatchNorm2d(128, eps=1e-05, momentum=0.1, affine=True, track_running_stats=True)\n",
       "        (relu): ReLU(inplace=True)\n",
       "        (conv2): Conv2d(128, 128, kernel_size=(3, 3), stride=(1, 1), padding=(1, 1), bias=False)\n",
       "        (bn2): BatchNorm2d(128, eps=1e-05, momentum=0.1, affine=True, track_running_stats=True)\n",
       "      )\n",
       "    )\n",
       "    (layer3): Sequential(\n",
       "      (0): BasicBlock(\n",
       "        (conv1): Conv2d(128, 256, kernel_size=(3, 3), stride=(2, 2), padding=(1, 1), bias=False)\n",
       "        (bn1): BatchNorm2d(256, eps=1e-05, momentum=0.1, affine=True, track_running_stats=True)\n",
       "        (relu): ReLU(inplace=True)\n",
       "        (conv2): Conv2d(256, 256, kernel_size=(3, 3), stride=(1, 1), padding=(1, 1), bias=False)\n",
       "        (bn2): BatchNorm2d(256, eps=1e-05, momentum=0.1, affine=True, track_running_stats=True)\n",
       "        (downsample): Sequential(\n",
       "          (0): Conv2d(128, 256, kernel_size=(1, 1), stride=(2, 2), bias=False)\n",
       "          (1): BatchNorm2d(256, eps=1e-05, momentum=0.1, affine=True, track_running_stats=True)\n",
       "        )\n",
       "      )\n",
       "      (1): BasicBlock(\n",
       "        (conv1): Conv2d(256, 256, kernel_size=(3, 3), stride=(1, 1), padding=(1, 1), bias=False)\n",
       "        (bn1): BatchNorm2d(256, eps=1e-05, momentum=0.1, affine=True, track_running_stats=True)\n",
       "        (relu): ReLU(inplace=True)\n",
       "        (conv2): Conv2d(256, 256, kernel_size=(3, 3), stride=(1, 1), padding=(1, 1), bias=False)\n",
       "        (bn2): BatchNorm2d(256, eps=1e-05, momentum=0.1, affine=True, track_running_stats=True)\n",
       "      )\n",
       "    )\n",
       "    (layer4): Sequential(\n",
       "      (0): BasicBlock(\n",
       "        (conv1): Conv2d(256, 512, kernel_size=(3, 3), stride=(2, 2), padding=(1, 1), bias=False)\n",
       "        (bn1): BatchNorm2d(512, eps=1e-05, momentum=0.1, affine=True, track_running_stats=True)\n",
       "        (relu): ReLU(inplace=True)\n",
       "        (conv2): Conv2d(512, 512, kernel_size=(3, 3), stride=(1, 1), padding=(1, 1), bias=False)\n",
       "        (bn2): BatchNorm2d(512, eps=1e-05, momentum=0.1, affine=True, track_running_stats=True)\n",
       "        (downsample): Sequential(\n",
       "          (0): Conv2d(256, 512, kernel_size=(1, 1), stride=(2, 2), bias=False)\n",
       "          (1): BatchNorm2d(512, eps=1e-05, momentum=0.1, affine=True, track_running_stats=True)\n",
       "        )\n",
       "      )\n",
       "      (1): BasicBlock(\n",
       "        (conv1): Conv2d(512, 512, kernel_size=(3, 3), stride=(1, 1), padding=(1, 1), bias=False)\n",
       "        (bn1): BatchNorm2d(512, eps=1e-05, momentum=0.1, affine=True, track_running_stats=True)\n",
       "        (relu): ReLU(inplace=True)\n",
       "        (conv2): Conv2d(512, 512, kernel_size=(3, 3), stride=(1, 1), padding=(1, 1), bias=False)\n",
       "        (bn2): BatchNorm2d(512, eps=1e-05, momentum=0.1, affine=True, track_running_stats=True)\n",
       "      )\n",
       "    )\n",
       "    (avgpool): AdaptiveAvgPool2d(output_size=(1, 1))\n",
       "    (fc): Identity()\n",
       "  )\n",
       "  (lstm): LSTM(1536, 256, num_layers=2, batch_first=True)\n",
       "  (fc): Linear(in_features=256, out_features=8, bias=True)\n",
       ")"
      ]
     },
     "execution_count": 104,
     "metadata": {},
     "output_type": "execute_result"
    }
   ],
   "execution_count": 104
  },
  {
   "metadata": {
    "ExecuteTime": {
     "end_time": "2025-01-06T13:23:32.452952Z",
     "start_time": "2025-01-06T13:23:32.441417Z"
    }
   },
   "cell_type": "code",
   "source": [
    "# Pop and hiphop are overwhealming rest of the classes because of the dataset imbalance\n",
    "# Let's try to undersample the dataset genres: pop and hiphop and train again.\n",
    "# Change the max_samples_dict to undersample pop and hiphop genres in the objective and train the model again.\n",
    "\n",
    "\n",
    "import optuna\n",
    "from sklearn.model_selection import train_test_split\n",
    "from torch.utils.data import WeightedRandomSampler\n",
    "\n",
    "\n",
    "def objective(trial):\n",
    "    # Hyperparameters to optimize\n",
    "    learning_rate = trial.suggest_float(\"learning_rate\", 1e-5, 1e-3, log=True)\n",
    "    batch_size = trial.suggest_categorical(\"batch_size\", [16, 32, 64])\n",
    "\n",
    "    # Layers of the RNN to optimize\n",
    "    num_layers = trial.suggest_int(\"num_layers\", 1, 3)\n",
    "\n",
    "    # Create a MelSpectogramDataset instance\n",
    "    \"\"\"\n",
    "    Training the model with stratified split, apply weighted random sampler with Optuna.\n",
    "    \"\"\"\n",
    "    # Create dataset instance\n",
    "\n",
    "    mel_dataset = MelSpectogramDataset(data_path='spectograms_data')\n",
    "\n",
    "    # Split the dataset into train, validation and test with 90-5-5 split\n",
    "\n",
    "    # Access file paths and labels\n",
    "    file_paths = mel_dataset.file_paths\n",
    "    labels = mel_dataset.labels\n",
    "\n",
    "    # Split dataset using stratification to train - validate\n",
    "    train_file_paths, val_file_paths, train_labels, val_labels = train_test_split(\n",
    "        file_paths, labels, test_size=0.1, random_state=42, stratify=labels\n",
    "    )\n",
    "\n",
    "    # Create Datasets for each split\n",
    "    train_indices = [file_paths.index(path) for path in train_file_paths]\n",
    "    val_indices = [file_paths.index(path) for path in val_file_paths]\n",
    "\n",
    "    train_dataset = Subset(mel_dataset, train_indices)\n",
    "    val_dataset = Subset(mel_dataset, val_indices)\n",
    "\n",
    "    # Handle imabalanced dataset with WeightedRandomSampler\n",
    "\n",
    "    # Get train dataset labels\n",
    "    train_labels = [label for _, label in train_dataset]\n",
    "\n",
    "    # Get train dataset label count for each class\n",
    "    class_counts = np.bincount(train_labels)\n",
    "\n",
    "    # Calculate the class weights\n",
    "    class_weights = 1.0 / class_counts\n",
    "    weights = [class_weights[label] for label in train_labels]\n",
    "\n",
    "    # Create a WeightedRandomSampler\n",
    "    sampler = WeightedRandomSampler(weights, num_samples=len(train_dataset))\n",
    "\n",
    "    # Create DataLoader instances\n",
    "    train_loader = DataLoader(train_dataset, batch_size=batch_size, sampler=sampler)\n",
    "    val_loader = DataLoader(val_dataset, batch_size=batch_size)\n",
    "\n",
    "    # Set fixed random number of seed\n",
    "    torch.manual_seed(42)\n",
    "\n",
    "    # Make use of GPU if available or MPS (Apple) if one is available\n",
    "    device = (\n",
    "        \"mps\"\n",
    "        if torch.backends.mps.is_built()\n",
    "        else \"cuda\"\n",
    "        if torch.cuda.is_available()\n",
    "        else \"cpu\"\n",
    "    )\n",
    "\n",
    "    # Define the model with dynamic num_filters\n",
    "    model = ResNetLSTM(input_size=512 * 3, hidden_size=512, num_layers=num_layers, num_classes=8).to(device)\n",
    "\n",
    "    # Define the loss function and optimizer\n",
    "    criterion = nn.CrossEntropyLoss()\n",
    "    optimizer = torch.optim.Adam(model.parameters(), lr=learning_rate)\n",
    "\n",
    "    # Training loop\n",
    "    num_epochs = 4\n",
    "    for epoch in range(num_epochs):\n",
    "        model.train()\n",
    "        running_loss = 0.0\n",
    "        train_progress = tqdm.tqdm(train_loader, desc=f\"Training Epoch {epoch + 1}\", leave=False)\n",
    "\n",
    "        for mel_spectrogram, label in train_progress:\n",
    "            mel_spectrogram, label = mel_spectrogram.to(device).float(), label.to(device)\n",
    "            optimizer.zero_grad()\n",
    "            output = model(mel_spectrogram.unsqueeze(1))\n",
    "            loss = criterion(output, label)\n",
    "            loss.backward()\n",
    "            optimizer.step()\n",
    "\n",
    "            # Update progress bar\n",
    "            running_loss += loss.item()\n",
    "            train_progress.set_postfix({\"Loss\": f\"{running_loss / (train_progress.n + 1):.4f}\"})\n",
    "\n",
    "        # Evaluate the CNN model\n",
    "        model.eval()\n",
    "        all_labels, all_probs = [], []\n",
    "        test_progress = tqdm.tqdm(val_loader, desc=f\"Testing Epoch {epoch + 1}\", leave=False)\n",
    "\n",
    "        # Use Early Stopping\n",
    "        with torch.no_grad():\n",
    "            for mel_spectrogram, label in test_progress:\n",
    "                mel_spectrogram, label = mel_spectrogram.to(device).float(), label.to(device)\n",
    "                output = model(mel_spectrogram.unsqueeze(1))\n",
    "                probabilities = nn.Softmax(dim=1)(output).cpu().numpy()\n",
    "                all_probs.append(probabilities)\n",
    "                all_labels.append(label.cpu().numpy())\n",
    "\n",
    "        # Concatenate all predictions and true labels\n",
    "        all_labels = np.concatenate(all_labels)\n",
    "        all_probs = np.concatenate(all_probs)\n",
    "\n",
    "        # Calculate metrics\n",
    "        f1 = calculate_metrics(all_labels, all_probs, num_classes=8)[\"F1 Score\"]\n",
    "\n",
    "        trial.report(f1, epoch)\n",
    "\n",
    "        # Prune if needed based on the reported F1 score\n",
    "        if trial.should_prune():\n",
    "            raise optuna.exceptions.TrialPruned()\n",
    "\n",
    "        # Optionally, print the F1 score for each epoch\n",
    "        print(f\"Epoch {epoch + 1} - F1 Score: {f1:.4f}\")\n",
    "\n",
    "    # Return the F1 score after the training loop\n",
    "    return f1\n"
   ],
   "id": "e43b222514d516c",
   "outputs": [],
   "execution_count": 105
  },
  {
   "metadata": {
    "ExecuteTime": {
     "end_time": "2025-01-06T15:49:43.657850Z",
     "start_time": "2025-01-06T13:23:37.956882Z"
    }
   },
   "cell_type": "code",
   "source": [
    "# Optuna study\n",
    "study_name = \"resnet_lstm_hybrid_optimization_v1_weighted_stratified\"\n",
    "# Create a file to save study name and my comments on used dataset and hyperparameters\n",
    "study_comment = \"Full dataset. Optimizing learning rate, batch size. No cross-validation used. 90-10 split for training and validation. Stratified split used. WeightedRandomSampler used for training. LSTM+ResNet model.\"\n",
    "study_comment_file = \"study_comment.csv\"\n",
    "\n",
    "# Write new line with study name and comment\n",
    "with open(study_comment_file, \"a\") as f:\n",
    "    f.write(f\"\\n{study_name},{study_comment}\")\n",
    "# Create an Optuna study\n",
    "study = optuna.create_study(direction=\"maximize\", storage=\"sqlite:///db.sqlite3\", study_name=study_name,\n",
    "                            load_if_exists=True)\n",
    "study.optimize(objective, n_trials=15)"
   ],
   "id": "9861dddcfdaaa399",
   "outputs": [
    {
     "name": "stderr",
     "output_type": "stream",
     "text": [
      "[I 2025-01-06 14:23:37,992] Using an existing study with name 'resnet_lstm_hybrid_optimization_v1_weighted_stratified' instead of creating a new one.\n",
      "                                                                                \r"
     ]
    },
    {
     "name": "stdout",
     "output_type": "stream",
     "text": [
      "Epoch 1 - F1 Score: 0.2934\n"
     ]
    },
    {
     "name": "stderr",
     "output_type": "stream",
     "text": [
      "                                                                                \r"
     ]
    },
    {
     "name": "stdout",
     "output_type": "stream",
     "text": [
      "Epoch 2 - F1 Score: 0.3390\n"
     ]
    },
    {
     "name": "stderr",
     "output_type": "stream",
     "text": [
      "                                                                                \r"
     ]
    },
    {
     "name": "stdout",
     "output_type": "stream",
     "text": [
      "Epoch 3 - F1 Score: 0.3243\n"
     ]
    },
    {
     "name": "stderr",
     "output_type": "stream",
     "text": [
      "[I 2025-01-06 14:34:46,824] Trial 4 finished with value: 0.2985889334802859 and parameters: {'learning_rate': 0.0005747574885926606, 'batch_size': 64, 'num_layers': 1}. Best is trial 4 with value: 0.2985889334802859.\n"
     ]
    },
    {
     "name": "stdout",
     "output_type": "stream",
     "text": [
      "Epoch 4 - F1 Score: 0.2986\n"
     ]
    },
    {
     "name": "stderr",
     "output_type": "stream",
     "text": [
      "                                                                                \r"
     ]
    },
    {
     "name": "stdout",
     "output_type": "stream",
     "text": [
      "Epoch 1 - F1 Score: 0.2638\n"
     ]
    },
    {
     "name": "stderr",
     "output_type": "stream",
     "text": [
      "                                                                                \r"
     ]
    },
    {
     "name": "stdout",
     "output_type": "stream",
     "text": [
      "Epoch 2 - F1 Score: 0.2986\n"
     ]
    },
    {
     "name": "stderr",
     "output_type": "stream",
     "text": [
      "                                                                                \r"
     ]
    },
    {
     "name": "stdout",
     "output_type": "stream",
     "text": [
      "Epoch 3 - F1 Score: 0.3315\n"
     ]
    },
    {
     "name": "stderr",
     "output_type": "stream",
     "text": [
      "[I 2025-01-06 14:46:04,111] Trial 5 finished with value: 0.3333054305283263 and parameters: {'learning_rate': 0.000665222112441532, 'batch_size': 64, 'num_layers': 3}. Best is trial 5 with value: 0.3333054305283263.\n"
     ]
    },
    {
     "name": "stdout",
     "output_type": "stream",
     "text": [
      "Epoch 4 - F1 Score: 0.3333\n"
     ]
    },
    {
     "name": "stderr",
     "output_type": "stream",
     "text": [
      "                                                                                \r"
     ]
    },
    {
     "name": "stdout",
     "output_type": "stream",
     "text": [
      "Epoch 1 - F1 Score: 0.3102\n"
     ]
    },
    {
     "name": "stderr",
     "output_type": "stream",
     "text": [
      "                                                                                \r"
     ]
    },
    {
     "name": "stdout",
     "output_type": "stream",
     "text": [
      "Epoch 2 - F1 Score: 0.3630\n"
     ]
    },
    {
     "name": "stderr",
     "output_type": "stream",
     "text": [
      "                                                                                \r"
     ]
    },
    {
     "name": "stdout",
     "output_type": "stream",
     "text": [
      "Epoch 3 - F1 Score: 0.3596\n"
     ]
    },
    {
     "name": "stderr",
     "output_type": "stream",
     "text": [
      "[I 2025-01-06 14:57:31,626] Trial 6 finished with value: 0.3895306997319654 and parameters: {'learning_rate': 0.00020240510503225724, 'batch_size': 32, 'num_layers': 3}. Best is trial 6 with value: 0.3895306997319654.\n"
     ]
    },
    {
     "name": "stdout",
     "output_type": "stream",
     "text": [
      "Epoch 4 - F1 Score: 0.3895\n"
     ]
    },
    {
     "name": "stderr",
     "output_type": "stream",
     "text": [
      "                                                                                \r"
     ]
    },
    {
     "name": "stdout",
     "output_type": "stream",
     "text": [
      "Epoch 1 - F1 Score: 0.1770\n"
     ]
    },
    {
     "name": "stderr",
     "output_type": "stream",
     "text": [
      "                                                                                \r"
     ]
    },
    {
     "name": "stdout",
     "output_type": "stream",
     "text": [
      "Epoch 2 - F1 Score: 0.2389\n"
     ]
    },
    {
     "name": "stderr",
     "output_type": "stream",
     "text": [
      "                                                                                \r"
     ]
    },
    {
     "name": "stdout",
     "output_type": "stream",
     "text": [
      "Epoch 3 - F1 Score: 0.2810\n"
     ]
    },
    {
     "name": "stderr",
     "output_type": "stream",
     "text": [
      "[I 2025-01-06 15:08:53,399] Trial 7 finished with value: 0.28088860765460855 and parameters: {'learning_rate': 0.0007370583840907838, 'batch_size': 32, 'num_layers': 3}. Best is trial 6 with value: 0.3895306997319654.\n"
     ]
    },
    {
     "name": "stdout",
     "output_type": "stream",
     "text": [
      "Epoch 4 - F1 Score: 0.2809\n"
     ]
    },
    {
     "name": "stderr",
     "output_type": "stream",
     "text": [
      "                                                                                \r"
     ]
    },
    {
     "name": "stdout",
     "output_type": "stream",
     "text": [
      "Epoch 1 - F1 Score: 0.3461\n"
     ]
    },
    {
     "name": "stderr",
     "output_type": "stream",
     "text": [
      "                                                                                \r"
     ]
    },
    {
     "name": "stdout",
     "output_type": "stream",
     "text": [
      "Epoch 2 - F1 Score: 0.4067\n"
     ]
    },
    {
     "name": "stderr",
     "output_type": "stream",
     "text": [
      "                                                                                \r"
     ]
    },
    {
     "name": "stdout",
     "output_type": "stream",
     "text": [
      "Epoch 3 - F1 Score: 0.3961\n"
     ]
    },
    {
     "name": "stderr",
     "output_type": "stream",
     "text": [
      "[I 2025-01-06 15:19:56,531] Trial 8 finished with value: 0.3886874944034447 and parameters: {'learning_rate': 0.00011416631767017522, 'batch_size': 32, 'num_layers': 1}. Best is trial 6 with value: 0.3895306997319654.\n"
     ]
    },
    {
     "name": "stdout",
     "output_type": "stream",
     "text": [
      "Epoch 4 - F1 Score: 0.3887\n"
     ]
    },
    {
     "name": "stderr",
     "output_type": "stream",
     "text": [
      "[I 2025-01-06 15:22:51,169] Trial 9 pruned.                                     \n",
      "                                                                                \r"
     ]
    },
    {
     "name": "stdout",
     "output_type": "stream",
     "text": [
      "Epoch 1 - F1 Score: 0.3463\n"
     ]
    },
    {
     "name": "stderr",
     "output_type": "stream",
     "text": [
      "                                                                                \r"
     ]
    },
    {
     "name": "stdout",
     "output_type": "stream",
     "text": [
      "Epoch 2 - F1 Score: 0.3468\n"
     ]
    },
    {
     "name": "stderr",
     "output_type": "stream",
     "text": [
      "                                                                                \r"
     ]
    },
    {
     "name": "stdout",
     "output_type": "stream",
     "text": [
      "Epoch 3 - F1 Score: 0.3769\n"
     ]
    },
    {
     "name": "stderr",
     "output_type": "stream",
     "text": [
      "[I 2025-01-06 15:34:21,839] Trial 10 finished with value: 0.36821754251747096 and parameters: {'learning_rate': 0.0003232314565496607, 'batch_size': 64, 'num_layers': 3}. Best is trial 6 with value: 0.3895306997319654.\n"
     ]
    },
    {
     "name": "stdout",
     "output_type": "stream",
     "text": [
      "Epoch 4 - F1 Score: 0.3682\n"
     ]
    },
    {
     "name": "stderr",
     "output_type": "stream",
     "text": [
      "[I 2025-01-06 15:37:23,473] Trial 11 pruned.                                    \n",
      "                                                                                \r"
     ]
    },
    {
     "name": "stdout",
     "output_type": "stream",
     "text": [
      "Epoch 1 - F1 Score: 0.3669\n"
     ]
    },
    {
     "name": "stderr",
     "output_type": "stream",
     "text": [
      "                                                                                \r"
     ]
    },
    {
     "name": "stdout",
     "output_type": "stream",
     "text": [
      "Epoch 2 - F1 Score: 0.3246\n"
     ]
    },
    {
     "name": "stderr",
     "output_type": "stream",
     "text": [
      "                                                                                \r"
     ]
    },
    {
     "name": "stdout",
     "output_type": "stream",
     "text": [
      "Epoch 3 - F1 Score: 0.4029\n"
     ]
    },
    {
     "name": "stderr",
     "output_type": "stream",
     "text": [
      "[I 2025-01-06 15:49:04,614] Trial 12 finished with value: 0.39167332355401563 and parameters: {'learning_rate': 0.00014847222161310005, 'batch_size': 16, 'num_layers': 3}. Best is trial 12 with value: 0.39167332355401563.\n"
     ]
    },
    {
     "name": "stdout",
     "output_type": "stream",
     "text": [
      "Epoch 4 - F1 Score: 0.3917\n"
     ]
    },
    {
     "name": "stderr",
     "output_type": "stream",
     "text": [
      "[I 2025-01-06 15:52:07,433] Trial 13 pruned.                                    \n",
      "                                                                                \r"
     ]
    },
    {
     "name": "stdout",
     "output_type": "stream",
     "text": [
      "Epoch 1 - F1 Score: 0.3682\n"
     ]
    },
    {
     "name": "stderr",
     "output_type": "stream",
     "text": [
      "                                                                                \r"
     ]
    },
    {
     "name": "stdout",
     "output_type": "stream",
     "text": [
      "Epoch 2 - F1 Score: 0.4345\n"
     ]
    },
    {
     "name": "stderr",
     "output_type": "stream",
     "text": [
      "                                                                                \r"
     ]
    },
    {
     "name": "stdout",
     "output_type": "stream",
     "text": [
      "Epoch 3 - F1 Score: 0.3992\n"
     ]
    },
    {
     "name": "stderr",
     "output_type": "stream",
     "text": [
      "[I 2025-01-06 16:03:49,361] Trial 14 finished with value: 0.39585016001174733 and parameters: {'learning_rate': 1.7813052916014896e-05, 'batch_size': 16, 'num_layers': 2}. Best is trial 14 with value: 0.39585016001174733.\n"
     ]
    },
    {
     "name": "stdout",
     "output_type": "stream",
     "text": [
      "Epoch 4 - F1 Score: 0.3959\n"
     ]
    },
    {
     "name": "stderr",
     "output_type": "stream",
     "text": [
      "                                                                                \r"
     ]
    },
    {
     "name": "stdout",
     "output_type": "stream",
     "text": [
      "Epoch 1 - F1 Score: 0.3562\n"
     ]
    },
    {
     "name": "stderr",
     "output_type": "stream",
     "text": [
      "                                                                                \r"
     ]
    },
    {
     "name": "stdout",
     "output_type": "stream",
     "text": [
      "Epoch 2 - F1 Score: 0.4085\n"
     ]
    },
    {
     "name": "stderr",
     "output_type": "stream",
     "text": [
      "                                                                                \r"
     ]
    },
    {
     "name": "stdout",
     "output_type": "stream",
     "text": [
      "Epoch 3 - F1 Score: 0.4371\n"
     ]
    },
    {
     "name": "stderr",
     "output_type": "stream",
     "text": [
      "[I 2025-01-06 16:15:28,316] Trial 15 finished with value: 0.45247498914693296 and parameters: {'learning_rate': 1.8529931417413163e-05, 'batch_size': 16, 'num_layers': 2}. Best is trial 15 with value: 0.45247498914693296.\n"
     ]
    },
    {
     "name": "stdout",
     "output_type": "stream",
     "text": [
      "Epoch 4 - F1 Score: 0.4525\n"
     ]
    },
    {
     "name": "stderr",
     "output_type": "stream",
     "text": [
      "                                                                                \r"
     ]
    },
    {
     "name": "stdout",
     "output_type": "stream",
     "text": [
      "Epoch 1 - F1 Score: 0.3493\n"
     ]
    },
    {
     "name": "stderr",
     "output_type": "stream",
     "text": [
      "                                                                                \r"
     ]
    },
    {
     "name": "stdout",
     "output_type": "stream",
     "text": [
      "Epoch 2 - F1 Score: 0.4077\n"
     ]
    },
    {
     "name": "stderr",
     "output_type": "stream",
     "text": [
      "                                                                                \r"
     ]
    },
    {
     "name": "stdout",
     "output_type": "stream",
     "text": [
      "Epoch 3 - F1 Score: 0.4188\n"
     ]
    },
    {
     "name": "stderr",
     "output_type": "stream",
     "text": [
      "[I 2025-01-06 16:26:52,496] Trial 16 finished with value: 0.42009676546125596 and parameters: {'learning_rate': 1.5251443301532725e-05, 'batch_size': 16, 'num_layers': 2}. Best is trial 15 with value: 0.45247498914693296.\n"
     ]
    },
    {
     "name": "stdout",
     "output_type": "stream",
     "text": [
      "Epoch 4 - F1 Score: 0.4201\n"
     ]
    },
    {
     "name": "stderr",
     "output_type": "stream",
     "text": [
      "                                                                                \r"
     ]
    },
    {
     "name": "stdout",
     "output_type": "stream",
     "text": [
      "Epoch 1 - F1 Score: 0.3572\n"
     ]
    },
    {
     "name": "stderr",
     "output_type": "stream",
     "text": [
      "                                                                                \r"
     ]
    },
    {
     "name": "stdout",
     "output_type": "stream",
     "text": [
      "Epoch 2 - F1 Score: 0.4231\n"
     ]
    },
    {
     "name": "stderr",
     "output_type": "stream",
     "text": [
      "                                                                                \r"
     ]
    },
    {
     "name": "stdout",
     "output_type": "stream",
     "text": [
      "Epoch 3 - F1 Score: 0.4121\n"
     ]
    },
    {
     "name": "stderr",
     "output_type": "stream",
     "text": [
      "[I 2025-01-06 16:38:17,142] Trial 17 finished with value: 0.43337912280258384 and parameters: {'learning_rate': 1.3600018514712059e-05, 'batch_size': 16, 'num_layers': 2}. Best is trial 15 with value: 0.45247498914693296.\n"
     ]
    },
    {
     "name": "stdout",
     "output_type": "stream",
     "text": [
      "Epoch 4 - F1 Score: 0.4334\n"
     ]
    },
    {
     "name": "stderr",
     "output_type": "stream",
     "text": [
      "                                                                                \r"
     ]
    },
    {
     "name": "stdout",
     "output_type": "stream",
     "text": [
      "Epoch 1 - F1 Score: 0.3856\n"
     ]
    },
    {
     "name": "stderr",
     "output_type": "stream",
     "text": [
      "                                                                                \r"
     ]
    },
    {
     "name": "stdout",
     "output_type": "stream",
     "text": [
      "Epoch 2 - F1 Score: 0.4185\n"
     ]
    },
    {
     "name": "stderr",
     "output_type": "stream",
     "text": [
      "                                                                                \r"
     ]
    },
    {
     "name": "stdout",
     "output_type": "stream",
     "text": [
      "Epoch 3 - F1 Score: 0.4250\n"
     ]
    },
    {
     "name": "stderr",
     "output_type": "stream",
     "text": [
      "[I 2025-01-06 16:49:43,656] Trial 18 finished with value: 0.4208869151633515 and parameters: {'learning_rate': 3.665815820490302e-05, 'batch_size': 16, 'num_layers': 2}. Best is trial 15 with value: 0.45247498914693296.\n"
     ]
    },
    {
     "name": "stdout",
     "output_type": "stream",
     "text": [
      "Epoch 4 - F1 Score: 0.4209\n"
     ]
    }
   ],
   "execution_count": 106
  },
  {
   "metadata": {
    "ExecuteTime": {
     "end_time": "2025-01-06T16:48:56.603683Z",
     "start_time": "2025-01-06T16:48:54.655851Z"
    }
   },
   "cell_type": "code",
   "source": [
    "# Best trial\n",
    "# print(\"Best trial:\")\n",
    "# print(f\"F1 Score: {study.best_trial.value}\")\n",
    "# print(f\"Params: {study.best_trial.params}\")\n",
    "# \n",
    "# best_params = study.best_trial.params\n",
    "model = ResNetLSTM(input_size=512 * 3, hidden_size=512, num_layers=best_params['num_layers'], num_classes=8).to(DEVICE)\n",
    "# Prepare data\n",
    "\n",
    "mel_dataset = MelSpectogramDataset(data_path='spectograms_data')\n",
    "\n",
    "# Split the dataset into train, validation and test with 90-5-5 split\n",
    "# Access file paths and labels\n",
    "file_paths = mel_dataset.file_paths\n",
    "labels = mel_dataset.labels\n",
    "\n",
    "# Split dataset using stratification\n",
    "train_file_paths, temp_file_paths, train_labels, temp_labels = train_test_split(\n",
    "    file_paths, labels, test_size=0.1, random_state=42, stratify=labels\n",
    ")\n",
    "\n",
    "val_file_paths, test_file_paths, val_labels, test_labels = train_test_split(\n",
    "    temp_file_paths, temp_labels, test_size=0.5, random_state=42, stratify=temp_labels\n",
    ")\n",
    "\n",
    "# Create Datasets for each split\n",
    "train_indices = [file_paths.index(path) for path in train_file_paths]\n",
    "val_indices = [file_paths.index(path) for path in val_file_paths]\n",
    "test_indices = [file_paths.index(path) for path in test_file_paths]\n",
    "\n",
    "train_dataset = Subset(mel_dataset, train_indices)\n",
    "val_dataset = Subset(mel_dataset, val_indices)\n",
    "test_dataset = Subset(mel_dataset, test_indices)\n",
    "\n",
    "# Handle imabalanced dataset with WeightedRandomSampler\n",
    "\n",
    "# Get train dataset labels\n",
    "train_labels = [label for _, label in train_dataset]\n",
    "\n",
    "# Get train dataset label count for each class\n",
    "class_counts = np.bincount(train_labels)\n",
    "\n",
    "# Calculate the class weights\n",
    "class_weights = 1.0 / class_counts\n",
    "weights = [class_weights[label] for label in train_labels]\n",
    "\n",
    "# Create a WeightedRandomSampler\n",
    "sampler = WeightedRandomSampler(weights, num_samples=len(train_dataset))\n",
    "\n",
    "# Create DataLoader instances\n",
    "train_loader = DataLoader(train_dataset, batch_size=best_params['batch_size'], sampler=sampler)\n",
    "val_loader = DataLoader(val_dataset, batch_size=best_params['batch_size'])\n",
    "test_loader = DataLoader(test_dataset, batch_size=best_params['batch_size'])"
   ],
   "id": "d1db8e2d1d225ee7",
   "outputs": [],
   "execution_count": 15
  },
  {
   "metadata": {},
   "cell_type": "code",
   "outputs": [],
   "execution_count": null,
   "source": [
    "# Model\n",
    "\n",
    "# Define the model with dynamic num_filters\n",
    "model = model.to(\"mps\")\n",
    "\n",
    "# Define the loss function and optimizer\n",
    "criterion = nn.CrossEntropyLoss()\n",
    "optimizer = torch.optim.Adam(model.parameters(), lr=best_params['learning_rate'])\n",
    "# Set fixed random number of seed\n",
    "torch.manual_seed(42)\n",
    "\n",
    "# Plain training loop without early stopping\n",
    "num_epochs = 8\n",
    "\n",
    "for epoch in range(num_epochs):\n",
    "    model.train()\n",
    "    running_loss = 0.0\n",
    "    train_progress = tqdm.tqdm(train_loader, desc=f\"Training Epoch {epoch + 1}\", leave=False)\n",
    "\n",
    "    for mel_spectrogram, label in train_progress:\n",
    "        mel_spectrogram, label = mel_spectrogram.to(\"mps\").float(), label.to(\"mps\")\n",
    "        optimizer.zero_grad()\n",
    "        output = model(mel_spectrogram.unsqueeze(1))\n",
    "        loss = criterion(output, label)\n",
    "        loss.backward()\n",
    "        optimizer.step()\n",
    "\n",
    "        # Update progress bar\n",
    "        running_loss += loss.item()\n",
    "        train_progress.set_postfix({\"Loss\": f\"{running_loss / (train_progress.n + 1):.4f}\"})\n",
    "\n",
    "    # Evaluate the CNN model on the validation set\n",
    "    model.eval()\n",
    "    correct, total = 0, 0\n",
    "    all_labels, all_probs = [], []\n",
    "    all_labels_per_class, all_probs_per_class = [], []\n",
    "    test_progress = tqdm.tqdm(val_loader, desc=f\"Testing Epoch {epoch + 1}\", leave=False)\n",
    "\n",
    "    with torch.no_grad():\n",
    "        for mel_spectrogram, label in test_progress:\n",
    "            mel_spectrogram, label = mel_spectrogram.to(\"mps\").float(), label.to(\"mps\")\n",
    "            output = model(mel_spectrogram.unsqueeze(1))\n",
    "            probabilities = nn.Softmax(dim=1)(output).cpu().numpy()\n",
    "            all_probs.append(probabilities)\n",
    "            all_labels.append(label.cpu().numpy())\n",
    "            all_labels_per_class.extend(label.cpu().numpy())\n",
    "            all_probs_per_class.extend(output.cpu().numpy())\n",
    "            _, predicted = torch.max(output.data, 1)\n",
    "            total += label.size(0)\n",
    "            correct += (predicted == label).sum().item()\n",
    "\n",
    "            # Calculate the loss\n",
    "            loss = criterion(output, label)\n",
    "            test_progress.set_postfix({\"Loss\": f\"{loss.item():.4f}\"})\n",
    "\n",
    "    # Concatenate all predictions and true labels\n",
    "    all_labels = np.concatenate(all_labels)\n",
    "    all_probs = np.concatenate(all_probs)\n",
    "\n",
    "    all_labels_per_class = np.array(all_labels_per_class)\n",
    "    all_probs_per_class = np.array(all_probs_per_class)\n",
    "    y_pred = all_probs_per_class.argmax(axis=1)\n",
    "\n",
    "    # Per-class metrics\n",
    "    print(f\"Epoch {epoch + 1}:\")\n",
    "    print(\"PER CLASS METRICS\")\n",
    "    per_class_metrics(all_labels, y_pred, num_classes=8)\n",
    "    print(\"OVERALL METRICS\")\n",
    "\n",
    "    # Calculate metrics\n",
    "    metrics = calculate_metrics(all_labels, all_probs, num_classes=8)\n",
    "    print(f\"Epoch {epoch + 1}: Accuracy: {100 * correct / total:.2f}% | Metrics: {metrics}\")\n",
    "\n",
    "# Save this model\n",
    "torch.save(model.state_dict(), \"models/resnet_lstm_model_v1_weighted.pth\")\n",
    "# Params: {'learning_rate': 1.8529931417413163e-05, 'batch_size': 16, 'num_layers': 2}"
   ],
   "id": "7ca436ec54ca4d19"
  },
  {
   "metadata": {
    "ExecuteTime": {
     "end_time": "2025-01-06T16:49:02.571938Z",
     "start_time": "2025-01-06T16:49:02.400248Z"
    }
   },
   "cell_type": "code",
   "source": [
    "# Plot training history with amtplotlib, use LateX font for better visualization\n",
    "# Load the model weights\n",
    "f1_values = [0.3862807751455983, 0.38883032407612794, 0.42452064798923006, 0.38011824897377877, 0.3984572420100985, 0.4114444715334195, 0.4179873479786368, 0.4050534271769628]\n",
    "\n",
    "# Use LaTeX font\n",
    "plt.rc(\"text\", usetex=True)\n",
    "plt.rc(\"font\", family=\"serif\")\n",
    "\n",
    "# Plot the training history\n",
    "plt.figure(figsize=(10, 6))\n",
    "plt.plot(f1_values, label=\"F1 Score\", marker=\"o\")\n",
    "plt.title(\"Training History\")\n",
    "plt.xlabel(\"Epoch\")\n",
    "plt.ylabel(\"F1 Score\")\n",
    "plt.legend()\n",
    "plt.grid()\n",
    "plt.show()\n"
   ],
   "id": "a0cdb9f413f639b2",
   "outputs": [
    {
     "data": {
      "text/plain": [
       "<Figure size 1000x600 with 1 Axes>"
      ],
      "image/png": "[encoded data removed]"
     },
     "metadata": {},
     "output_type": "display_data"
    }
   ],
   "execution_count": 16
  },
  {
   "metadata": {
    "ExecuteTime": {
     "end_time": "2025-01-06T16:51:16.485424Z",
     "start_time": "2025-01-06T16:50:48.993225Z"
    }
   },
   "cell_type": "code",
   "source": [
    "# Evaluate the model on the test set\n",
    "best_params = {'learning_rate': 1.8529931417413163e-05, 'batch_size': 16, 'num_layers': 2}\n",
    "\n",
    "test_model = ResNetLSTM(input_size=512*3, hidden_size=512, num_layers=best_params['num_layers'], num_classes=8).to(DEVICE)\n",
    "\n",
    "test_model = test_model.to(\"mps\")\n",
    "\n",
    "# Load the model weights\n",
    "test_model.load_state_dict(torch.load(\"models/resnet_lstm_model_v1_weighted.pth\", weights_only=True))\n",
    "\n",
    "# Create a DataLoader instance for the test set\n",
    "# test_loader = DataLoader(test_dataset, batch_size=32)\n",
    "criterion = nn.CrossEntropyLoss()\n",
    "test_model.eval()\n",
    "\n",
    "with torch.no_grad():\n",
    "    correct, total = 0, 0\n",
    "    all_labels, all_probs = [], []\n",
    "    all_labels_per_class, all_probs_per_class = [], []\n",
    "    test_progress = tqdm.tqdm(test_loader, desc=\"Testing\", leave=False)\n",
    "\n",
    "    for mel_spectrogram, label in test_progress:\n",
    "        mel_spectrogram, label = mel_spectrogram.to(\"mps\").float(), label.to(\"mps\")\n",
    "        output = test_model(mel_spectrogram.unsqueeze(1))\n",
    "        probabilities = nn.Softmax(dim=1)(output).cpu().numpy()\n",
    "        all_probs.append(probabilities)\n",
    "        all_labels.append(label.cpu().numpy())\n",
    "        all_labels_per_class.extend(label.cpu().numpy())\n",
    "        all_probs_per_class.extend(output.cpu().numpy())\n",
    "        _, predicted = torch.max(output.data, 1)\n",
    "        total += label.size(0)\n",
    "        correct += (predicted == label).sum().item()\n",
    "\n",
    "        # Calculate the loss\n",
    "        loss = criterion(output, label)\n",
    "        test_progress.set_postfix({\"Loss\": f\"{loss.item():.4f}\"})\n",
    "\n",
    "    # Concatenate all predictions and true labels\n",
    "    all_labels = np.concatenate(all_labels)\n",
    "    all_probs = np.concatenate(all_probs)\n",
    "\n",
    "    all_labels_per_class = np.array(all_labels_per_class)\n",
    "    all_probs_per_class = np.array(all_probs_per_class)\n",
    "    y_pred = all_probs_per_class.argmax(axis=1)\n",
    "\n",
    "    # Per-class metrics\n",
    "    print(\"PER CLASS METRICS\")\n",
    "    per_class_metrics(all_labels, y_pred, num_classes=8)\n",
    "\n",
    "    # Calculate metrics\n",
    "    metrics = calculate_metrics(all_labels, all_probs, num_classes=8)\n",
    "    print(\"OVERALL METRICS\")\n",
    "\n",
    "    print(f\"Accuracy: {100 * correct / total:.2f}% | Metrics: {metrics}\")\n",
    "# Plot the confusion matrix with annotations on test set\n",
    "from sklearn.metrics import confusion_matrix\n",
    "import matplotlib.pyplot as plt\n",
    "\n",
    "# Calculate the confusion matrix\n",
    "conf_matrix = confusion_matrix(all_labels, y_pred)\n",
    "\n",
    "# Plot the confusion matrix with annotations\n",
    "plt.figure(figsize=(10, 8))\n",
    "plt.imshow(conf_matrix, cmap=\"Blues\")\n",
    "plt.colorbar()\n",
    "plt.title(\"Confusion Matrix\")\n",
    "plt.xlabel(\"Predicted Labels\")\n",
    "plt.ylabel(\"True Labels\")\n",
    "plt.xticks(range(8), mel_dataset.genres, rotation=45)\n",
    "plt.yticks(range(8), mel_dataset.genres)\n",
    "for i in range(8):\n",
    "    for j in range(8):\n",
    "        plt.text(j, i, conf_matrix[i, j], ha=\"center\", va=\"center\", color=\"black\")\n",
    "plt.show()\n",
    "# Now plot the normalized confusion matrix\n",
    "import seaborn as sns\n",
    "\n",
    "# Normalize the confusion matrix\n",
    "conf_matrix_norm = conf_matrix / conf_matrix.sum(axis=1)[:, np.newaxis]\n",
    "\n",
    "# Plot the normalized confusion matrix\n",
    "plt.figure(figsize=(10, 8))\n",
    "sns.heatmap(conf_matrix_norm, cmap=\"Blues\", annot=True, fmt=\".2f\", xticklabels=mel_dataset.genres,\n",
    "            yticklabels=mel_dataset.genres)\n",
    "plt.title(\"Normalized Confusion Matrix\")\n",
    "plt.xlabel(\"Predicted Labels\")\n",
    "plt.ylabel(\"True Labels\")\n",
    "plt.show()\n",
    "# Plot ROC curve\n",
    "from sklearn.metrics import roc_curve\n",
    "\n",
    "# Get the true positive rate and false positive rate\n",
    "fpr = dict()\n",
    "tpr = dict()\n",
    "roc_auc = dict()\n",
    "for i in range(8):\n",
    "    fpr[i], tpr[i], _ = roc_curve((all_labels == i).astype(int), all_probs[:, i])\n",
    "    roc_auc[i] = roc_auc_score((all_labels == i).astype(int), all_probs[:, i])\n",
    "\n",
    "# Plot the ROC curve\n",
    "plt.figure(figsize=(10, 8))\n",
    "for i in range(8):\n",
    "    plt.plot(fpr[i], tpr[i], label=f\"{mel_dataset.genres[i]} (AUC = {roc_auc[i]:.2f})\")\n",
    "plt.plot([0, 1], [0, 1], \"k--\")\n",
    "plt.xlabel(\"False Positive Rate\")\n",
    "plt.ylabel(\"True Positive Rate\")\n",
    "plt.title(\"ROC Curve\")\n",
    "# Add legend\n",
    "plt.legend()\n",
    "plt.show()"
   ],
   "id": "b5c245fbf2eeb50f",
   "outputs": [
    {
     "name": "stderr",
     "output_type": "stream",
     "text": [
      "                                                                     \r"
     ]
    },
    {
     "name": "stdout",
     "output_type": "stream",
     "text": [
      "PER CLASS METRICS\n",
      "              precision    recall  f1-score   support\n",
      "\n",
      "     Class 0       0.61      0.44      0.51       260\n",
      "     Class 1       0.58      0.56      0.57        45\n",
      "     Class 2       0.13      0.11      0.12        53\n",
      "     Class 3       0.52      0.47      0.49       173\n",
      "     Class 4       0.62      0.62      0.62        73\n",
      "     Class 5       0.29      0.32      0.30        22\n",
      "     Class 6       1.00      0.00      0.00         6\n",
      "     Class 7       0.38      0.80      0.51        90\n",
      "\n",
      "    accuracy                           0.49       722\n",
      "   macro avg       0.52      0.41      0.39       722\n",
      "weighted avg       0.52      0.49      0.48       722\n",
      "\n",
      "OVERALL METRICS\n",
      "Accuracy: 48.61% | Metrics: {'AUC': 0.8370847160466971, 'Precision': 0.5155917263505125, 'Recall': 0.4144791568549332, 'F1 Score': 0.39105504758314613}\n"
     ]
    },
    {
     "data": {
      "text/plain": [
       "<Figure size 1000x800 with 2 Axes>"
      ],
      "image/png": "[encoded data removed]"
     },
     "metadata": {},
     "output_type": "display_data"
    },
    {
     "data": {
      "text/plain": [
       "<Figure size 1000x800 with 2 Axes>"
      ],
      "image/png": "[encoded data removed]"
     },
     "metadata": {},
     "output_type": "display_data"
    },
    {
     "data": {
      "text/plain": [
       "<Figure size 1000x800 with 1 Axes>"
      ],
      "image/png": "[encoded data removed]"
     },
     "metadata": {},
     "output_type": "display_data"
    }
   ],
   "execution_count": 18
  },
  {
   "metadata": {},
   "cell_type": "code",
   "outputs": [],
   "execution_count": null,
   "source": "",
   "id": "d145a119fdfc39d0"
  }
 ],
 "metadata": {
  "kernelspec": {
   "display_name": "Python 3",
   "language": "python",
   "name": "python3"
  },
  "language_info": {
   "codemirror_mode": {
    "name": "ipython",
    "version": 2
   },
   "file_extension": ".py",
   "mimetype": "text/x-python",
   "name": "python",
   "nbconvert_exporter": "python",
   "pygments_lexer": "ipython2",
   "version": "2.7.6"
  }
 },
 "nbformat": 4,
 "nbformat_minor": 5
}
