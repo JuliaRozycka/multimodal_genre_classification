{
 "cells": [
  {
   "metadata": {},
   "cell_type": "code",
   "source": [
    "import os\n",
    "import pandas as pd\n",
    "from utils.melspectrograms_librosa import mel_spectrogram\n",
    "\n",
    "# Set absolute path to the FMA dataset\n",
    "path_to_fma = '/Users/julia.rozycka/Downloads/fma_large'\n",
    "os.path.abspath(path_to_fma)"
   ],
   "id": "d037d7d62f40cb63",
   "outputs": [],
   "execution_count": null
  },
  {
   "metadata": {},
   "cell_type": "code",
   "source": [
    "# Set path from which read whicb audio files to save to spectrogram\n",
    "path = 'fma_cut100_echonest_lyrics_fake_country.csv'\n",
    "fma = pd.read_csv(path, header=[0,1], dtype={('track', 'track_id'): str, ('track', 'track_folder'): str})\n",
    "fma.sample(3)"
   ],
   "id": "ee7299169665a484",
   "outputs": [],
   "execution_count": null
  },
  {
   "metadata": {},
   "cell_type": "code",
   "source": "fma.shape",
   "id": "6a331b827a47baa1",
   "outputs": [],
   "execution_count": null
  },
  {
   "metadata": {},
   "cell_type": "code",
   "source": [
    "# For each row, take folder path and track id and get the audio file from path_to_fma/folder/track_id.mp3\n",
    "# Save the folder ../mel_spectogram/one_genre/folder_track_id.npy\n",
    "\n",
    "for index, row in fma.iterrows():\n",
    "    folder = row[('track', 'track_folder')]\n",
    "    track_id = row[('track', 'track_id')]\n",
    "    genre = row[('track', 'one_genre')]\n",
    "    input_path = os.path.join(path_to_fma, folder, track_id + '.mp3')\n",
    "    \n",
    "    # If folder genre does not exist, create it\n",
    "    if not os.path.exists(os.path.join('../mel_spectrogram', genre)):\n",
    "        os.makedirs(os.path.join('../mel_spectrogram', genre))\n",
    "        \n",
    "    output_path = os.path.join('../mel_spectrogram', genre, folder + '_' + track_id + '.npy')\n",
    "    try:\n",
    "        mel_spectrogram(mp3_file_path=input_path, output_path=output_path)\n",
    "    except Exception as e:\n",
    "        print(f'Error with {input_path} and {output_path}: {e}')"
   ],
   "id": "f963761684f4083d",
   "outputs": [],
   "execution_count": null
  },
  {
   "metadata": {},
   "cell_type": "code",
   "source": [
    "# Count how many files were created in each genre folder\n",
    "for genre in fma[('track', 'one_genre')].unique():\n",
    "    print(f'{genre}: {len(os.listdir(os.path.join(\"../mel_spectrogram\", genre)))}')"
   ],
   "id": "2f69b1f6eaed617f",
   "outputs": [],
   "execution_count": null
  },
  {
   "metadata": {},
   "cell_type": "code",
   "source": [
    "# Print shapes of 10 randomly selected\n",
    "import numpy as np\n",
    "import random\n",
    "\n",
    "for genre in fma[('track', 'one_genre')].unique():\n",
    "    files = os.listdir(os.path.join(\"../mel_spectrogram\", genre))\n",
    "    for i in range(10):\n",
    "        file = random.choice(files)\n",
    "        mel = np.load(os.path.join(\"../mel_spectrogram\", genre, file))\n",
    "        print(f'{genre} {file} shape: {mel.shape}')\n",
    "        \n",
    "        "
   ],
   "id": "ca9a88ccad2cd5e",
   "outputs": [],
   "execution_count": null
  },
  {
   "metadata": {},
   "cell_type": "code",
   "source": "",
   "id": "ceadb28ecdea0b08",
   "outputs": [],
   "execution_count": null
  }
 ],
 "metadata": {
  "kernelspec": {
   "display_name": "Python 3",
   "language": "python",
   "name": "python3"
  },
  "language_info": {
   "codemirror_mode": {
    "name": "ipython",
    "version": 2
   },
   "file_extension": ".py",
   "mimetype": "text/x-python",
   "name": "python",
   "nbconvert_exporter": "python",
   "pygments_lexer": "ipython2",
   "version": "2.7.6"
  }
 },
 "nbformat": 4,
 "nbformat_minor": 5
}
