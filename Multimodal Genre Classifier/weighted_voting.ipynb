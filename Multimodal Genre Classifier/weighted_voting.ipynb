{
 "cells": [
  {
   "cell_type": "code",
   "id": "initial_id",
   "metadata": {
    "collapsed": true,
    "ExecuteTime": {
     "end_time": "2025-01-21T23:53:15.029196Z",
     "start_time": "2025-01-21T23:53:12.844153Z"
    }
   },
   "source": [
    "# Import libraries\n",
    "import numpy as np\n",
    "import pandas as pd\n",
    "import matplotlib.pyplot as plt\n",
    "import torch\n",
    "import torch.nn as nn\n",
    "import torchsummary\n",
    "from seaborn.external.docscrape import header\n",
    "\n",
    "import utils.audio_utils\n",
    "from utils.preprocess import LyricPreprocessor\n",
    "from sklearn.preprocessing import LabelEncoder\n",
    "from transformers import RobertaTokenizerFast, RobertaForSequenceClassification\n",
    "from torch.utils.data import DataLoader\n",
    "import torchvision.models as models\n",
    "from sklearn.preprocessing import StandardScaler\n",
    "from xgboost import XGBClassifier\n",
    "import joblib\n",
    "from sklearn.metrics import accuracy_score, classification_report, confusion_matrix, f1_score\n",
    "import seaborn as sns"
   ],
   "outputs": [
    {
     "name": "stderr",
     "output_type": "stream",
     "text": [
      "/Users/julia.rozycka/Master/Multimodal Genre Classifier/venv/lib/python3.12/site-packages/tqdm/auto.py:21: TqdmWarning: IProgress not found. Please update jupyter and ipywidgets. See https://ipywidgets.readthedocs.io/en/stable/user_install.html\n",
      "  from .autonotebook import tqdm as notebook_tqdm\n"
     ]
    }
   ],
   "execution_count": 1
  },
  {
   "metadata": {
    "ExecuteTime": {
     "end_time": "2025-01-21T23:53:15.049330Z",
     "start_time": "2025-01-21T23:53:15.031474Z"
    }
   },
   "cell_type": "code",
   "source": [
    "# Load the data from csv for lyrics\n",
    "df = pd.read_csv('data/fma_cut100_echonest_lyrics_fake_country.csv', header=[0, 1])\n",
    "df.sort_values(('track', 'one_genre'), inplace=True)"
   ],
   "id": "a3d90caf5b040358",
   "outputs": [],
   "execution_count": 2
  },
  {
   "metadata": {
    "ExecuteTime": {
     "end_time": "2025-01-21T23:53:15.129958Z",
     "start_time": "2025-01-21T23:53:15.127845Z"
    }
   },
   "cell_type": "code",
   "source": "df = df[df['track', 'language_code'].isin(['en', np.nan])]",
   "id": "dd248c818adf171b",
   "outputs": [],
   "execution_count": 3
  },
  {
   "metadata": {
    "ExecuteTime": {
     "end_time": "2025-01-21T23:53:15.142919Z",
     "start_time": "2025-01-21T23:53:15.135369Z"
    }
   },
   "cell_type": "code",
   "source": "df.sample()",
   "id": "2ebcdd0776316cb",
   "outputs": [
    {
     "data": {
      "text/plain": [
       "       track    album                                                         \\\n",
       "    track_id comments         date_created        date_released     engineer   \n",
       "215     5119        0  2009-01-15 14:08:22  2009-01-15 00:00:00  Trent Wolbe   \n",
       "\n",
       "                                                                        \\\n",
       "    favorites    id                                        information   \n",
       "215         3  1803  <p>To mark the release of her new recording, <...   \n",
       "\n",
       "                             ...     track                                     \\\n",
       "    listens        producer  ... one_genre danceability    energy speechiness   \n",
       "215    5442  Scott McDowell  ...      Jazz     0.403479  0.472846    0.096352   \n",
       "\n",
       "                                                                            \n",
       "    acousticness instrumentalness  liveness   valence   tempo track_folder  \n",
       "215     0.802309         0.920348  0.135067  0.288152  74.331            5  \n",
       "\n",
       "[1 rows x 67 columns]"
      ],
      "text/html": [
       "<div>\n",
       "<style scoped>\n",
       "    .dataframe tbody tr th:only-of-type {\n",
       "        vertical-align: middle;\n",
       "    }\n",
       "\n",
       "    .dataframe tbody tr th {\n",
       "        vertical-align: top;\n",
       "    }\n",
       "\n",
       "    .dataframe thead tr th {\n",
       "        text-align: left;\n",
       "    }\n",
       "</style>\n",
       "<table border=\"1\" class=\"dataframe\">\n",
       "  <thead>\n",
       "    <tr>\n",
       "      <th></th>\n",
       "      <th>track</th>\n",
       "      <th colspan=\"9\" halign=\"left\">album</th>\n",
       "      <th>...</th>\n",
       "      <th colspan=\"10\" halign=\"left\">track</th>\n",
       "    </tr>\n",
       "    <tr>\n",
       "      <th></th>\n",
       "      <th>track_id</th>\n",
       "      <th>comments</th>\n",
       "      <th>date_created</th>\n",
       "      <th>date_released</th>\n",
       "      <th>engineer</th>\n",
       "      <th>favorites</th>\n",
       "      <th>id</th>\n",
       "      <th>information</th>\n",
       "      <th>listens</th>\n",
       "      <th>producer</th>\n",
       "      <th>...</th>\n",
       "      <th>one_genre</th>\n",
       "      <th>danceability</th>\n",
       "      <th>energy</th>\n",
       "      <th>speechiness</th>\n",
       "      <th>acousticness</th>\n",
       "      <th>instrumentalness</th>\n",
       "      <th>liveness</th>\n",
       "      <th>valence</th>\n",
       "      <th>tempo</th>\n",
       "      <th>track_folder</th>\n",
       "    </tr>\n",
       "  </thead>\n",
       "  <tbody>\n",
       "    <tr>\n",
       "      <th>215</th>\n",
       "      <td>5119</td>\n",
       "      <td>0</td>\n",
       "      <td>2009-01-15 14:08:22</td>\n",
       "      <td>2009-01-15 00:00:00</td>\n",
       "      <td>Trent Wolbe</td>\n",
       "      <td>3</td>\n",
       "      <td>1803</td>\n",
       "      <td>&lt;p&gt;To mark the release of her new recording, &lt;...</td>\n",
       "      <td>5442</td>\n",
       "      <td>Scott McDowell</td>\n",
       "      <td>...</td>\n",
       "      <td>Jazz</td>\n",
       "      <td>0.403479</td>\n",
       "      <td>0.472846</td>\n",
       "      <td>0.096352</td>\n",
       "      <td>0.802309</td>\n",
       "      <td>0.920348</td>\n",
       "      <td>0.135067</td>\n",
       "      <td>0.288152</td>\n",
       "      <td>74.331</td>\n",
       "      <td>5</td>\n",
       "    </tr>\n",
       "  </tbody>\n",
       "</table>\n",
       "<p>1 rows × 67 columns</p>\n",
       "</div>"
      ]
     },
     "execution_count": 4,
     "metadata": {},
     "output_type": "execute_result"
    }
   ],
   "execution_count": 4
  },
  {
   "metadata": {},
   "cell_type": "markdown",
   "source": "## Lyrics",
   "id": "ccdfd48bc59cd184"
  },
  {
   "metadata": {
    "ExecuteTime": {
     "end_time": "2025-01-21T23:53:17.160967Z",
     "start_time": "2025-01-21T23:53:15.165541Z"
    }
   },
   "cell_type": "code",
   "source": [
    "# Preprocess the lyrics\n",
    "lyrics = ('track', 'lyrics')\n",
    "\n",
    "lyricPreprocessor = LyricPreprocessor(lyrics=lyrics)\n",
    "df_lyrics = lyricPreprocessor.preprocess_lyrics(df, ('track', 'lemmatized_lyrics'))"
   ],
   "id": "de7b73c16e3206aa",
   "outputs": [
    {
     "name": "stderr",
     "output_type": "stream",
     "text": [
      "Handling contractions: 100%|██████████| 568/568 [00:00<00:00, 32481.18it/s]\n",
      "[nltk_data] Downloading package punkt to\n",
      "[nltk_data]     /Users/julia.rozycka/nltk_data...\n",
      "[nltk_data]   Package punkt is already up-to-date!\n",
      "[nltk_data] Downloading package wordnet to\n",
      "[nltk_data]     /Users/julia.rozycka/nltk_data...\n",
      "[nltk_data]   Package wordnet is already up-to-date!\n",
      "[nltk_data] Downloading package stopwords to\n",
      "[nltk_data]     /Users/julia.rozycka/nltk_data...\n",
      "[nltk_data]   Package stopwords is already up-to-date!\n",
      "[nltk_data] Downloading package punkt_tab to\n",
      "[nltk_data]     /Users/julia.rozycka/nltk_data...\n",
      "[nltk_data]   Package punkt_tab is already up-to-date!\n",
      "100%|██████████| 568/568 [00:01<00:00, 334.70it/s]\n"
     ]
    }
   ],
   "execution_count": 5
  },
  {
   "metadata": {
    "ExecuteTime": {
     "end_time": "2025-01-21T23:53:17.192922Z",
     "start_time": "2025-01-21T23:53:17.184021Z"
    }
   },
   "cell_type": "code",
   "source": "df_lyrics",
   "id": "29355559f9b9f5c7",
   "outputs": [
    {
     "data": {
      "text/plain": [
       "       track    album                                            \\\n",
       "    track_id comments         date_created        date_released   \n",
       "576    91935        0  2013-10-10 16:33:42  2013-09-28 00:00:00   \n",
       "543    12917        0  2009-05-14 07:10:28                  NaN   \n",
       "542    12915        0  2009-05-14 07:10:28                  NaN   \n",
       "541    12902        0  2009-05-14 07:10:28                  NaN   \n",
       "540    12885        0  2009-05-14 07:10:28                  NaN   \n",
       "..       ...      ...                  ...                  ...   \n",
       "366    11664        0  2009-04-28 23:58:48                  NaN   \n",
       "365    33542        1  2010-08-03 19:45:03                  NaN   \n",
       "364    66655        0  2012-06-19 12:13:52  2012-06-16 00:00:00   \n",
       "344    47951        5  2011-05-20 16:31:08  2011-04-27 00:00:00   \n",
       "318     4254        0  2008-12-04 09:29:25  2001-07-19 00:00:00   \n",
       "\n",
       "                                                      \\\n",
       "                           engineer favorites     id   \n",
       "576                             NaN         0  15205   \n",
       "543                             NaN         7   3077   \n",
       "542                             NaN         7   3077   \n",
       "541                             NaN         7   3077   \n",
       "540                             NaN         7   3077   \n",
       "..                              ...       ...    ...   \n",
       "366                             NaN         0   2867   \n",
       "365                             NaN         6   7011   \n",
       "364  Jason Sigal w/ Justin Colletti         1  11962   \n",
       "344                  Ernie Indradat         0   9211   \n",
       "318                    Diane Farris         0   1600   \n",
       "\n",
       "                                                                \\\n",
       "                                           information listens   \n",
       "576  <div><span><span style=\"font-family: arial, he...    4828   \n",
       "543  <p>From Roger McGuinn's <a href=\"http://www.ib...  139700   \n",
       "542  <p>From Roger McGuinn's <a href=\"http://www.ib...  139700   \n",
       "541  <p>From Roger McGuinn's <a href=\"http://www.ib...  139700   \n",
       "540  <p>From Roger McGuinn's <a href=\"http://www.ib...  139700   \n",
       "..                                                 ...     ...   \n",
       "366                                                NaN     739   \n",
       "365  <p>Recorded live in Nuremberg, 2009.</p>\\n<p> ...   14913   \n",
       "364  <p>Vermont's King Tuff are led by Kyle Thomas,...    3102   \n",
       "344  <p>DJ Keili of Beastin' The Airwaves! welcomes...    2587   \n",
       "318  <p>http://www.wfmu.org/Playlists/Joeb/joeb.010...    8830   \n",
       "\n",
       "                     ...        track                                     \\\n",
       "           producer  ... danceability    energy speechiness acousticness   \n",
       "576             NaN  ...     0.663895  0.362650    0.026750     0.841821   \n",
       "543             NaN  ...     0.430531  0.352678    0.027157     0.951153   \n",
       "542             NaN  ...     0.422721  0.392883    0.055997     0.986825   \n",
       "541             NaN  ...     0.429686  0.434506    0.026000     0.658341   \n",
       "540             NaN  ...     0.607850  0.338398    0.037315     0.972244   \n",
       "..              ...  ...          ...       ...         ...          ...   \n",
       "366             NaN  ...     0.465603  0.507497    0.026249     0.768220   \n",
       "365             NaN  ...     0.355776  0.442472    0.031735     0.927991   \n",
       "364         Terre T  ...     0.172863  0.904603    0.061700     0.000008   \n",
       "344  Keili Hamilton  ...     0.418464  0.522099    0.030471     0.898431   \n",
       "318             NaN  ...     0.217909  0.248152    0.031438     0.775916   \n",
       "\n",
       "                                                                \\\n",
       "    instrumentalness  liveness   valence    tempo track_folder   \n",
       "576     1.511013e-02  0.237332  0.379564   97.634           91   \n",
       "543     7.901457e-01  0.123691  0.667873  101.179           12   \n",
       "542     2.180000e-08  0.117046  0.883695  186.809           12   \n",
       "541     6.087492e-02  0.102025  0.659604   89.175           12   \n",
       "540     3.926800e-06  0.089071  0.962536  119.882           12   \n",
       "..               ...       ...       ...      ...          ...   \n",
       "366     9.174003e-01  0.166159  0.690850   96.756           11   \n",
       "365     8.548153e-01  0.737811  0.565145  112.310           33   \n",
       "364     6.973964e-01  0.404538  0.222476  115.109           66   \n",
       "344     9.070645e-01  0.116164  0.516430   93.211           47   \n",
       "318     8.032717e-01  0.221255  0.617054  149.922            4   \n",
       "\n",
       "                                                        \n",
       "                                     lemmatized_lyrics  \n",
       "576  wayward son where are you heading your fire bu...  \n",
       "543  when i wa a little lad and so my mother told m...  \n",
       "542  they signed u with a whaling crew for the icy ...  \n",
       "541  g oh freedom d oh freedom g oh freedom d over ...  \n",
       "540  what shall we do with a drunken sailor what sh...  \n",
       "..                                                 ...  \n",
       "366  what s going on with this hysteria no one seem...  \n",
       "365  joey burn there are code breaker with line wel...  \n",
       "364  sing the anthem a song of the dead sing the lo...  \n",
       "344  i will be there saturday night sucking up the ...  \n",
       "318  if the river run dry like it probably will i l...  \n",
       "\n",
       "[568 rows x 68 columns]"
      ],
      "text/html": [
       "<div>\n",
       "<style scoped>\n",
       "    .dataframe tbody tr th:only-of-type {\n",
       "        vertical-align: middle;\n",
       "    }\n",
       "\n",
       "    .dataframe tbody tr th {\n",
       "        vertical-align: top;\n",
       "    }\n",
       "\n",
       "    .dataframe thead tr th {\n",
       "        text-align: left;\n",
       "    }\n",
       "</style>\n",
       "<table border=\"1\" class=\"dataframe\">\n",
       "  <thead>\n",
       "    <tr>\n",
       "      <th></th>\n",
       "      <th>track</th>\n",
       "      <th colspan=\"9\" halign=\"left\">album</th>\n",
       "      <th>...</th>\n",
       "      <th colspan=\"10\" halign=\"left\">track</th>\n",
       "    </tr>\n",
       "    <tr>\n",
       "      <th></th>\n",
       "      <th>track_id</th>\n",
       "      <th>comments</th>\n",
       "      <th>date_created</th>\n",
       "      <th>date_released</th>\n",
       "      <th>engineer</th>\n",
       "      <th>favorites</th>\n",
       "      <th>id</th>\n",
       "      <th>information</th>\n",
       "      <th>listens</th>\n",
       "      <th>producer</th>\n",
       "      <th>...</th>\n",
       "      <th>danceability</th>\n",
       "      <th>energy</th>\n",
       "      <th>speechiness</th>\n",
       "      <th>acousticness</th>\n",
       "      <th>instrumentalness</th>\n",
       "      <th>liveness</th>\n",
       "      <th>valence</th>\n",
       "      <th>tempo</th>\n",
       "      <th>track_folder</th>\n",
       "      <th>lemmatized_lyrics</th>\n",
       "    </tr>\n",
       "  </thead>\n",
       "  <tbody>\n",
       "    <tr>\n",
       "      <th>576</th>\n",
       "      <td>91935</td>\n",
       "      <td>0</td>\n",
       "      <td>2013-10-10 16:33:42</td>\n",
       "      <td>2013-09-28 00:00:00</td>\n",
       "      <td>NaN</td>\n",
       "      <td>0</td>\n",
       "      <td>15205</td>\n",
       "      <td>&lt;div&gt;&lt;span&gt;&lt;span style=\"font-family: arial, he...</td>\n",
       "      <td>4828</td>\n",
       "      <td>NaN</td>\n",
       "      <td>...</td>\n",
       "      <td>0.663895</td>\n",
       "      <td>0.362650</td>\n",
       "      <td>0.026750</td>\n",
       "      <td>0.841821</td>\n",
       "      <td>1.511013e-02</td>\n",
       "      <td>0.237332</td>\n",
       "      <td>0.379564</td>\n",
       "      <td>97.634</td>\n",
       "      <td>91</td>\n",
       "      <td>wayward son where are you heading your fire bu...</td>\n",
       "    </tr>\n",
       "    <tr>\n",
       "      <th>543</th>\n",
       "      <td>12917</td>\n",
       "      <td>0</td>\n",
       "      <td>2009-05-14 07:10:28</td>\n",
       "      <td>NaN</td>\n",
       "      <td>NaN</td>\n",
       "      <td>7</td>\n",
       "      <td>3077</td>\n",
       "      <td>&lt;p&gt;From Roger McGuinn's &lt;a href=\"http://www.ib...</td>\n",
       "      <td>139700</td>\n",
       "      <td>NaN</td>\n",
       "      <td>...</td>\n",
       "      <td>0.430531</td>\n",
       "      <td>0.352678</td>\n",
       "      <td>0.027157</td>\n",
       "      <td>0.951153</td>\n",
       "      <td>7.901457e-01</td>\n",
       "      <td>0.123691</td>\n",
       "      <td>0.667873</td>\n",
       "      <td>101.179</td>\n",
       "      <td>12</td>\n",
       "      <td>when i wa a little lad and so my mother told m...</td>\n",
       "    </tr>\n",
       "    <tr>\n",
       "      <th>542</th>\n",
       "      <td>12915</td>\n",
       "      <td>0</td>\n",
       "      <td>2009-05-14 07:10:28</td>\n",
       "      <td>NaN</td>\n",
       "      <td>NaN</td>\n",
       "      <td>7</td>\n",
       "      <td>3077</td>\n",
       "      <td>&lt;p&gt;From Roger McGuinn's &lt;a href=\"http://www.ib...</td>\n",
       "      <td>139700</td>\n",
       "      <td>NaN</td>\n",
       "      <td>...</td>\n",
       "      <td>0.422721</td>\n",
       "      <td>0.392883</td>\n",
       "      <td>0.055997</td>\n",
       "      <td>0.986825</td>\n",
       "      <td>2.180000e-08</td>\n",
       "      <td>0.117046</td>\n",
       "      <td>0.883695</td>\n",
       "      <td>186.809</td>\n",
       "      <td>12</td>\n",
       "      <td>they signed u with a whaling crew for the icy ...</td>\n",
       "    </tr>\n",
       "    <tr>\n",
       "      <th>541</th>\n",
       "      <td>12902</td>\n",
       "      <td>0</td>\n",
       "      <td>2009-05-14 07:10:28</td>\n",
       "      <td>NaN</td>\n",
       "      <td>NaN</td>\n",
       "      <td>7</td>\n",
       "      <td>3077</td>\n",
       "      <td>&lt;p&gt;From Roger McGuinn's &lt;a href=\"http://www.ib...</td>\n",
       "      <td>139700</td>\n",
       "      <td>NaN</td>\n",
       "      <td>...</td>\n",
       "      <td>0.429686</td>\n",
       "      <td>0.434506</td>\n",
       "      <td>0.026000</td>\n",
       "      <td>0.658341</td>\n",
       "      <td>6.087492e-02</td>\n",
       "      <td>0.102025</td>\n",
       "      <td>0.659604</td>\n",
       "      <td>89.175</td>\n",
       "      <td>12</td>\n",
       "      <td>g oh freedom d oh freedom g oh freedom d over ...</td>\n",
       "    </tr>\n",
       "    <tr>\n",
       "      <th>540</th>\n",
       "      <td>12885</td>\n",
       "      <td>0</td>\n",
       "      <td>2009-05-14 07:10:28</td>\n",
       "      <td>NaN</td>\n",
       "      <td>NaN</td>\n",
       "      <td>7</td>\n",
       "      <td>3077</td>\n",
       "      <td>&lt;p&gt;From Roger McGuinn's &lt;a href=\"http://www.ib...</td>\n",
       "      <td>139700</td>\n",
       "      <td>NaN</td>\n",
       "      <td>...</td>\n",
       "      <td>0.607850</td>\n",
       "      <td>0.338398</td>\n",
       "      <td>0.037315</td>\n",
       "      <td>0.972244</td>\n",
       "      <td>3.926800e-06</td>\n",
       "      <td>0.089071</td>\n",
       "      <td>0.962536</td>\n",
       "      <td>119.882</td>\n",
       "      <td>12</td>\n",
       "      <td>what shall we do with a drunken sailor what sh...</td>\n",
       "    </tr>\n",
       "    <tr>\n",
       "      <th>...</th>\n",
       "      <td>...</td>\n",
       "      <td>...</td>\n",
       "      <td>...</td>\n",
       "      <td>...</td>\n",
       "      <td>...</td>\n",
       "      <td>...</td>\n",
       "      <td>...</td>\n",
       "      <td>...</td>\n",
       "      <td>...</td>\n",
       "      <td>...</td>\n",
       "      <td>...</td>\n",
       "      <td>...</td>\n",
       "      <td>...</td>\n",
       "      <td>...</td>\n",
       "      <td>...</td>\n",
       "      <td>...</td>\n",
       "      <td>...</td>\n",
       "      <td>...</td>\n",
       "      <td>...</td>\n",
       "      <td>...</td>\n",
       "      <td>...</td>\n",
       "    </tr>\n",
       "    <tr>\n",
       "      <th>366</th>\n",
       "      <td>11664</td>\n",
       "      <td>0</td>\n",
       "      <td>2009-04-28 23:58:48</td>\n",
       "      <td>NaN</td>\n",
       "      <td>NaN</td>\n",
       "      <td>0</td>\n",
       "      <td>2867</td>\n",
       "      <td>NaN</td>\n",
       "      <td>739</td>\n",
       "      <td>NaN</td>\n",
       "      <td>...</td>\n",
       "      <td>0.465603</td>\n",
       "      <td>0.507497</td>\n",
       "      <td>0.026249</td>\n",
       "      <td>0.768220</td>\n",
       "      <td>9.174003e-01</td>\n",
       "      <td>0.166159</td>\n",
       "      <td>0.690850</td>\n",
       "      <td>96.756</td>\n",
       "      <td>11</td>\n",
       "      <td>what s going on with this hysteria no one seem...</td>\n",
       "    </tr>\n",
       "    <tr>\n",
       "      <th>365</th>\n",
       "      <td>33542</td>\n",
       "      <td>1</td>\n",
       "      <td>2010-08-03 19:45:03</td>\n",
       "      <td>NaN</td>\n",
       "      <td>NaN</td>\n",
       "      <td>6</td>\n",
       "      <td>7011</td>\n",
       "      <td>&lt;p&gt;Recorded live in Nuremberg, 2009.&lt;/p&gt;\\n&lt;p&gt; ...</td>\n",
       "      <td>14913</td>\n",
       "      <td>NaN</td>\n",
       "      <td>...</td>\n",
       "      <td>0.355776</td>\n",
       "      <td>0.442472</td>\n",
       "      <td>0.031735</td>\n",
       "      <td>0.927991</td>\n",
       "      <td>8.548153e-01</td>\n",
       "      <td>0.737811</td>\n",
       "      <td>0.565145</td>\n",
       "      <td>112.310</td>\n",
       "      <td>33</td>\n",
       "      <td>joey burn there are code breaker with line wel...</td>\n",
       "    </tr>\n",
       "    <tr>\n",
       "      <th>364</th>\n",
       "      <td>66655</td>\n",
       "      <td>0</td>\n",
       "      <td>2012-06-19 12:13:52</td>\n",
       "      <td>2012-06-16 00:00:00</td>\n",
       "      <td>Jason Sigal w/ Justin Colletti</td>\n",
       "      <td>1</td>\n",
       "      <td>11962</td>\n",
       "      <td>&lt;p&gt;Vermont's King Tuff are led by Kyle Thomas,...</td>\n",
       "      <td>3102</td>\n",
       "      <td>Terre T</td>\n",
       "      <td>...</td>\n",
       "      <td>0.172863</td>\n",
       "      <td>0.904603</td>\n",
       "      <td>0.061700</td>\n",
       "      <td>0.000008</td>\n",
       "      <td>6.973964e-01</td>\n",
       "      <td>0.404538</td>\n",
       "      <td>0.222476</td>\n",
       "      <td>115.109</td>\n",
       "      <td>66</td>\n",
       "      <td>sing the anthem a song of the dead sing the lo...</td>\n",
       "    </tr>\n",
       "    <tr>\n",
       "      <th>344</th>\n",
       "      <td>47951</td>\n",
       "      <td>5</td>\n",
       "      <td>2011-05-20 16:31:08</td>\n",
       "      <td>2011-04-27 00:00:00</td>\n",
       "      <td>Ernie Indradat</td>\n",
       "      <td>0</td>\n",
       "      <td>9211</td>\n",
       "      <td>&lt;p&gt;DJ Keili of Beastin' The Airwaves! welcomes...</td>\n",
       "      <td>2587</td>\n",
       "      <td>Keili Hamilton</td>\n",
       "      <td>...</td>\n",
       "      <td>0.418464</td>\n",
       "      <td>0.522099</td>\n",
       "      <td>0.030471</td>\n",
       "      <td>0.898431</td>\n",
       "      <td>9.070645e-01</td>\n",
       "      <td>0.116164</td>\n",
       "      <td>0.516430</td>\n",
       "      <td>93.211</td>\n",
       "      <td>47</td>\n",
       "      <td>i will be there saturday night sucking up the ...</td>\n",
       "    </tr>\n",
       "    <tr>\n",
       "      <th>318</th>\n",
       "      <td>4254</td>\n",
       "      <td>0</td>\n",
       "      <td>2008-12-04 09:29:25</td>\n",
       "      <td>2001-07-19 00:00:00</td>\n",
       "      <td>Diane Farris</td>\n",
       "      <td>0</td>\n",
       "      <td>1600</td>\n",
       "      <td>&lt;p&gt;http://www.wfmu.org/Playlists/Joeb/joeb.010...</td>\n",
       "      <td>8830</td>\n",
       "      <td>NaN</td>\n",
       "      <td>...</td>\n",
       "      <td>0.217909</td>\n",
       "      <td>0.248152</td>\n",
       "      <td>0.031438</td>\n",
       "      <td>0.775916</td>\n",
       "      <td>8.032717e-01</td>\n",
       "      <td>0.221255</td>\n",
       "      <td>0.617054</td>\n",
       "      <td>149.922</td>\n",
       "      <td>4</td>\n",
       "      <td>if the river run dry like it probably will i l...</td>\n",
       "    </tr>\n",
       "  </tbody>\n",
       "</table>\n",
       "<p>568 rows × 68 columns</p>\n",
       "</div>"
      ]
     },
     "execution_count": 6,
     "metadata": {},
     "output_type": "execute_result"
    }
   ],
   "execution_count": 6
  },
  {
   "metadata": {
    "ExecuteTime": {
     "end_time": "2025-01-21T23:53:17.320525Z",
     "start_time": "2025-01-21T23:53:17.312283Z"
    }
   },
   "cell_type": "code",
   "source": "df_lyrics",
   "id": "279eadd4f9964e",
   "outputs": [
    {
     "data": {
      "text/plain": [
       "       track    album                                            \\\n",
       "    track_id comments         date_created        date_released   \n",
       "576    91935        0  2013-10-10 16:33:42  2013-09-28 00:00:00   \n",
       "543    12917        0  2009-05-14 07:10:28                  NaN   \n",
       "542    12915        0  2009-05-14 07:10:28                  NaN   \n",
       "541    12902        0  2009-05-14 07:10:28                  NaN   \n",
       "540    12885        0  2009-05-14 07:10:28                  NaN   \n",
       "..       ...      ...                  ...                  ...   \n",
       "366    11664        0  2009-04-28 23:58:48                  NaN   \n",
       "365    33542        1  2010-08-03 19:45:03                  NaN   \n",
       "364    66655        0  2012-06-19 12:13:52  2012-06-16 00:00:00   \n",
       "344    47951        5  2011-05-20 16:31:08  2011-04-27 00:00:00   \n",
       "318     4254        0  2008-12-04 09:29:25  2001-07-19 00:00:00   \n",
       "\n",
       "                                                      \\\n",
       "                           engineer favorites     id   \n",
       "576                             NaN         0  15205   \n",
       "543                             NaN         7   3077   \n",
       "542                             NaN         7   3077   \n",
       "541                             NaN         7   3077   \n",
       "540                             NaN         7   3077   \n",
       "..                              ...       ...    ...   \n",
       "366                             NaN         0   2867   \n",
       "365                             NaN         6   7011   \n",
       "364  Jason Sigal w/ Justin Colletti         1  11962   \n",
       "344                  Ernie Indradat         0   9211   \n",
       "318                    Diane Farris         0   1600   \n",
       "\n",
       "                                                                \\\n",
       "                                           information listens   \n",
       "576  <div><span><span style=\"font-family: arial, he...    4828   \n",
       "543  <p>From Roger McGuinn's <a href=\"http://www.ib...  139700   \n",
       "542  <p>From Roger McGuinn's <a href=\"http://www.ib...  139700   \n",
       "541  <p>From Roger McGuinn's <a href=\"http://www.ib...  139700   \n",
       "540  <p>From Roger McGuinn's <a href=\"http://www.ib...  139700   \n",
       "..                                                 ...     ...   \n",
       "366                                                NaN     739   \n",
       "365  <p>Recorded live in Nuremberg, 2009.</p>\\n<p> ...   14913   \n",
       "364  <p>Vermont's King Tuff are led by Kyle Thomas,...    3102   \n",
       "344  <p>DJ Keili of Beastin' The Airwaves! welcomes...    2587   \n",
       "318  <p>http://www.wfmu.org/Playlists/Joeb/joeb.010...    8830   \n",
       "\n",
       "                     ...        track                                     \\\n",
       "           producer  ... danceability    energy speechiness acousticness   \n",
       "576             NaN  ...     0.663895  0.362650    0.026750     0.841821   \n",
       "543             NaN  ...     0.430531  0.352678    0.027157     0.951153   \n",
       "542             NaN  ...     0.422721  0.392883    0.055997     0.986825   \n",
       "541             NaN  ...     0.429686  0.434506    0.026000     0.658341   \n",
       "540             NaN  ...     0.607850  0.338398    0.037315     0.972244   \n",
       "..              ...  ...          ...       ...         ...          ...   \n",
       "366             NaN  ...     0.465603  0.507497    0.026249     0.768220   \n",
       "365             NaN  ...     0.355776  0.442472    0.031735     0.927991   \n",
       "364         Terre T  ...     0.172863  0.904603    0.061700     0.000008   \n",
       "344  Keili Hamilton  ...     0.418464  0.522099    0.030471     0.898431   \n",
       "318             NaN  ...     0.217909  0.248152    0.031438     0.775916   \n",
       "\n",
       "                                                                \\\n",
       "    instrumentalness  liveness   valence    tempo track_folder   \n",
       "576     1.511013e-02  0.237332  0.379564   97.634           91   \n",
       "543     7.901457e-01  0.123691  0.667873  101.179           12   \n",
       "542     2.180000e-08  0.117046  0.883695  186.809           12   \n",
       "541     6.087492e-02  0.102025  0.659604   89.175           12   \n",
       "540     3.926800e-06  0.089071  0.962536  119.882           12   \n",
       "..               ...       ...       ...      ...          ...   \n",
       "366     9.174003e-01  0.166159  0.690850   96.756           11   \n",
       "365     8.548153e-01  0.737811  0.565145  112.310           33   \n",
       "364     6.973964e-01  0.404538  0.222476  115.109           66   \n",
       "344     9.070645e-01  0.116164  0.516430   93.211           47   \n",
       "318     8.032717e-01  0.221255  0.617054  149.922            4   \n",
       "\n",
       "                                                        \n",
       "                                     lemmatized_lyrics  \n",
       "576  wayward son where are you heading your fire bu...  \n",
       "543  when i wa a little lad and so my mother told m...  \n",
       "542  they signed u with a whaling crew for the icy ...  \n",
       "541  g oh freedom d oh freedom g oh freedom d over ...  \n",
       "540  what shall we do with a drunken sailor what sh...  \n",
       "..                                                 ...  \n",
       "366  what s going on with this hysteria no one seem...  \n",
       "365  joey burn there are code breaker with line wel...  \n",
       "364  sing the anthem a song of the dead sing the lo...  \n",
       "344  i will be there saturday night sucking up the ...  \n",
       "318  if the river run dry like it probably will i l...  \n",
       "\n",
       "[568 rows x 68 columns]"
      ],
      "text/html": [
       "<div>\n",
       "<style scoped>\n",
       "    .dataframe tbody tr th:only-of-type {\n",
       "        vertical-align: middle;\n",
       "    }\n",
       "\n",
       "    .dataframe tbody tr th {\n",
       "        vertical-align: top;\n",
       "    }\n",
       "\n",
       "    .dataframe thead tr th {\n",
       "        text-align: left;\n",
       "    }\n",
       "</style>\n",
       "<table border=\"1\" class=\"dataframe\">\n",
       "  <thead>\n",
       "    <tr>\n",
       "      <th></th>\n",
       "      <th>track</th>\n",
       "      <th colspan=\"9\" halign=\"left\">album</th>\n",
       "      <th>...</th>\n",
       "      <th colspan=\"10\" halign=\"left\">track</th>\n",
       "    </tr>\n",
       "    <tr>\n",
       "      <th></th>\n",
       "      <th>track_id</th>\n",
       "      <th>comments</th>\n",
       "      <th>date_created</th>\n",
       "      <th>date_released</th>\n",
       "      <th>engineer</th>\n",
       "      <th>favorites</th>\n",
       "      <th>id</th>\n",
       "      <th>information</th>\n",
       "      <th>listens</th>\n",
       "      <th>producer</th>\n",
       "      <th>...</th>\n",
       "      <th>danceability</th>\n",
       "      <th>energy</th>\n",
       "      <th>speechiness</th>\n",
       "      <th>acousticness</th>\n",
       "      <th>instrumentalness</th>\n",
       "      <th>liveness</th>\n",
       "      <th>valence</th>\n",
       "      <th>tempo</th>\n",
       "      <th>track_folder</th>\n",
       "      <th>lemmatized_lyrics</th>\n",
       "    </tr>\n",
       "  </thead>\n",
       "  <tbody>\n",
       "    <tr>\n",
       "      <th>576</th>\n",
       "      <td>91935</td>\n",
       "      <td>0</td>\n",
       "      <td>2013-10-10 16:33:42</td>\n",
       "      <td>2013-09-28 00:00:00</td>\n",
       "      <td>NaN</td>\n",
       "      <td>0</td>\n",
       "      <td>15205</td>\n",
       "      <td>&lt;div&gt;&lt;span&gt;&lt;span style=\"font-family: arial, he...</td>\n",
       "      <td>4828</td>\n",
       "      <td>NaN</td>\n",
       "      <td>...</td>\n",
       "      <td>0.663895</td>\n",
       "      <td>0.362650</td>\n",
       "      <td>0.026750</td>\n",
       "      <td>0.841821</td>\n",
       "      <td>1.511013e-02</td>\n",
       "      <td>0.237332</td>\n",
       "      <td>0.379564</td>\n",
       "      <td>97.634</td>\n",
       "      <td>91</td>\n",
       "      <td>wayward son where are you heading your fire bu...</td>\n",
       "    </tr>\n",
       "    <tr>\n",
       "      <th>543</th>\n",
       "      <td>12917</td>\n",
       "      <td>0</td>\n",
       "      <td>2009-05-14 07:10:28</td>\n",
       "      <td>NaN</td>\n",
       "      <td>NaN</td>\n",
       "      <td>7</td>\n",
       "      <td>3077</td>\n",
       "      <td>&lt;p&gt;From Roger McGuinn's &lt;a href=\"http://www.ib...</td>\n",
       "      <td>139700</td>\n",
       "      <td>NaN</td>\n",
       "      <td>...</td>\n",
       "      <td>0.430531</td>\n",
       "      <td>0.352678</td>\n",
       "      <td>0.027157</td>\n",
       "      <td>0.951153</td>\n",
       "      <td>7.901457e-01</td>\n",
       "      <td>0.123691</td>\n",
       "      <td>0.667873</td>\n",
       "      <td>101.179</td>\n",
       "      <td>12</td>\n",
       "      <td>when i wa a little lad and so my mother told m...</td>\n",
       "    </tr>\n",
       "    <tr>\n",
       "      <th>542</th>\n",
       "      <td>12915</td>\n",
       "      <td>0</td>\n",
       "      <td>2009-05-14 07:10:28</td>\n",
       "      <td>NaN</td>\n",
       "      <td>NaN</td>\n",
       "      <td>7</td>\n",
       "      <td>3077</td>\n",
       "      <td>&lt;p&gt;From Roger McGuinn's &lt;a href=\"http://www.ib...</td>\n",
       "      <td>139700</td>\n",
       "      <td>NaN</td>\n",
       "      <td>...</td>\n",
       "      <td>0.422721</td>\n",
       "      <td>0.392883</td>\n",
       "      <td>0.055997</td>\n",
       "      <td>0.986825</td>\n",
       "      <td>2.180000e-08</td>\n",
       "      <td>0.117046</td>\n",
       "      <td>0.883695</td>\n",
       "      <td>186.809</td>\n",
       "      <td>12</td>\n",
       "      <td>they signed u with a whaling crew for the icy ...</td>\n",
       "    </tr>\n",
       "    <tr>\n",
       "      <th>541</th>\n",
       "      <td>12902</td>\n",
       "      <td>0</td>\n",
       "      <td>2009-05-14 07:10:28</td>\n",
       "      <td>NaN</td>\n",
       "      <td>NaN</td>\n",
       "      <td>7</td>\n",
       "      <td>3077</td>\n",
       "      <td>&lt;p&gt;From Roger McGuinn's &lt;a href=\"http://www.ib...</td>\n",
       "      <td>139700</td>\n",
       "      <td>NaN</td>\n",
       "      <td>...</td>\n",
       "      <td>0.429686</td>\n",
       "      <td>0.434506</td>\n",
       "      <td>0.026000</td>\n",
       "      <td>0.658341</td>\n",
       "      <td>6.087492e-02</td>\n",
       "      <td>0.102025</td>\n",
       "      <td>0.659604</td>\n",
       "      <td>89.175</td>\n",
       "      <td>12</td>\n",
       "      <td>g oh freedom d oh freedom g oh freedom d over ...</td>\n",
       "    </tr>\n",
       "    <tr>\n",
       "      <th>540</th>\n",
       "      <td>12885</td>\n",
       "      <td>0</td>\n",
       "      <td>2009-05-14 07:10:28</td>\n",
       "      <td>NaN</td>\n",
       "      <td>NaN</td>\n",
       "      <td>7</td>\n",
       "      <td>3077</td>\n",
       "      <td>&lt;p&gt;From Roger McGuinn's &lt;a href=\"http://www.ib...</td>\n",
       "      <td>139700</td>\n",
       "      <td>NaN</td>\n",
       "      <td>...</td>\n",
       "      <td>0.607850</td>\n",
       "      <td>0.338398</td>\n",
       "      <td>0.037315</td>\n",
       "      <td>0.972244</td>\n",
       "      <td>3.926800e-06</td>\n",
       "      <td>0.089071</td>\n",
       "      <td>0.962536</td>\n",
       "      <td>119.882</td>\n",
       "      <td>12</td>\n",
       "      <td>what shall we do with a drunken sailor what sh...</td>\n",
       "    </tr>\n",
       "    <tr>\n",
       "      <th>...</th>\n",
       "      <td>...</td>\n",
       "      <td>...</td>\n",
       "      <td>...</td>\n",
       "      <td>...</td>\n",
       "      <td>...</td>\n",
       "      <td>...</td>\n",
       "      <td>...</td>\n",
       "      <td>...</td>\n",
       "      <td>...</td>\n",
       "      <td>...</td>\n",
       "      <td>...</td>\n",
       "      <td>...</td>\n",
       "      <td>...</td>\n",
       "      <td>...</td>\n",
       "      <td>...</td>\n",
       "      <td>...</td>\n",
       "      <td>...</td>\n",
       "      <td>...</td>\n",
       "      <td>...</td>\n",
       "      <td>...</td>\n",
       "      <td>...</td>\n",
       "    </tr>\n",
       "    <tr>\n",
       "      <th>366</th>\n",
       "      <td>11664</td>\n",
       "      <td>0</td>\n",
       "      <td>2009-04-28 23:58:48</td>\n",
       "      <td>NaN</td>\n",
       "      <td>NaN</td>\n",
       "      <td>0</td>\n",
       "      <td>2867</td>\n",
       "      <td>NaN</td>\n",
       "      <td>739</td>\n",
       "      <td>NaN</td>\n",
       "      <td>...</td>\n",
       "      <td>0.465603</td>\n",
       "      <td>0.507497</td>\n",
       "      <td>0.026249</td>\n",
       "      <td>0.768220</td>\n",
       "      <td>9.174003e-01</td>\n",
       "      <td>0.166159</td>\n",
       "      <td>0.690850</td>\n",
       "      <td>96.756</td>\n",
       "      <td>11</td>\n",
       "      <td>what s going on with this hysteria no one seem...</td>\n",
       "    </tr>\n",
       "    <tr>\n",
       "      <th>365</th>\n",
       "      <td>33542</td>\n",
       "      <td>1</td>\n",
       "      <td>2010-08-03 19:45:03</td>\n",
       "      <td>NaN</td>\n",
       "      <td>NaN</td>\n",
       "      <td>6</td>\n",
       "      <td>7011</td>\n",
       "      <td>&lt;p&gt;Recorded live in Nuremberg, 2009.&lt;/p&gt;\\n&lt;p&gt; ...</td>\n",
       "      <td>14913</td>\n",
       "      <td>NaN</td>\n",
       "      <td>...</td>\n",
       "      <td>0.355776</td>\n",
       "      <td>0.442472</td>\n",
       "      <td>0.031735</td>\n",
       "      <td>0.927991</td>\n",
       "      <td>8.548153e-01</td>\n",
       "      <td>0.737811</td>\n",
       "      <td>0.565145</td>\n",
       "      <td>112.310</td>\n",
       "      <td>33</td>\n",
       "      <td>joey burn there are code breaker with line wel...</td>\n",
       "    </tr>\n",
       "    <tr>\n",
       "      <th>364</th>\n",
       "      <td>66655</td>\n",
       "      <td>0</td>\n",
       "      <td>2012-06-19 12:13:52</td>\n",
       "      <td>2012-06-16 00:00:00</td>\n",
       "      <td>Jason Sigal w/ Justin Colletti</td>\n",
       "      <td>1</td>\n",
       "      <td>11962</td>\n",
       "      <td>&lt;p&gt;Vermont's King Tuff are led by Kyle Thomas,...</td>\n",
       "      <td>3102</td>\n",
       "      <td>Terre T</td>\n",
       "      <td>...</td>\n",
       "      <td>0.172863</td>\n",
       "      <td>0.904603</td>\n",
       "      <td>0.061700</td>\n",
       "      <td>0.000008</td>\n",
       "      <td>6.973964e-01</td>\n",
       "      <td>0.404538</td>\n",
       "      <td>0.222476</td>\n",
       "      <td>115.109</td>\n",
       "      <td>66</td>\n",
       "      <td>sing the anthem a song of the dead sing the lo...</td>\n",
       "    </tr>\n",
       "    <tr>\n",
       "      <th>344</th>\n",
       "      <td>47951</td>\n",
       "      <td>5</td>\n",
       "      <td>2011-05-20 16:31:08</td>\n",
       "      <td>2011-04-27 00:00:00</td>\n",
       "      <td>Ernie Indradat</td>\n",
       "      <td>0</td>\n",
       "      <td>9211</td>\n",
       "      <td>&lt;p&gt;DJ Keili of Beastin' The Airwaves! welcomes...</td>\n",
       "      <td>2587</td>\n",
       "      <td>Keili Hamilton</td>\n",
       "      <td>...</td>\n",
       "      <td>0.418464</td>\n",
       "      <td>0.522099</td>\n",
       "      <td>0.030471</td>\n",
       "      <td>0.898431</td>\n",
       "      <td>9.070645e-01</td>\n",
       "      <td>0.116164</td>\n",
       "      <td>0.516430</td>\n",
       "      <td>93.211</td>\n",
       "      <td>47</td>\n",
       "      <td>i will be there saturday night sucking up the ...</td>\n",
       "    </tr>\n",
       "    <tr>\n",
       "      <th>318</th>\n",
       "      <td>4254</td>\n",
       "      <td>0</td>\n",
       "      <td>2008-12-04 09:29:25</td>\n",
       "      <td>2001-07-19 00:00:00</td>\n",
       "      <td>Diane Farris</td>\n",
       "      <td>0</td>\n",
       "      <td>1600</td>\n",
       "      <td>&lt;p&gt;http://www.wfmu.org/Playlists/Joeb/joeb.010...</td>\n",
       "      <td>8830</td>\n",
       "      <td>NaN</td>\n",
       "      <td>...</td>\n",
       "      <td>0.217909</td>\n",
       "      <td>0.248152</td>\n",
       "      <td>0.031438</td>\n",
       "      <td>0.775916</td>\n",
       "      <td>8.032717e-01</td>\n",
       "      <td>0.221255</td>\n",
       "      <td>0.617054</td>\n",
       "      <td>149.922</td>\n",
       "      <td>4</td>\n",
       "      <td>if the river run dry like it probably will i l...</td>\n",
       "    </tr>\n",
       "  </tbody>\n",
       "</table>\n",
       "<p>568 rows × 68 columns</p>\n",
       "</div>"
      ]
     },
     "execution_count": 7,
     "metadata": {},
     "output_type": "execute_result"
    }
   ],
   "execution_count": 7
  },
  {
   "metadata": {
    "ExecuteTime": {
     "end_time": "2025-01-21T23:53:17.592364Z",
     "start_time": "2025-01-21T23:53:17.585195Z"
    }
   },
   "cell_type": "code",
   "source": [
    "# Check when lyrics language is 'it' or 'es'\n",
    "df_lyrics[df_lyrics[('track', 'language_code')].isin(['it', 'es'])]\n"
   ],
   "id": "5f5591c3f63ac9d9",
   "outputs": [
    {
     "data": {
      "text/plain": [
       "Empty DataFrame\n",
       "Columns: [(track, track_id), (album, comments), (album, date_created), (album, date_released), (album, engineer), (album, favorites), (album, id), (album, information), (album, listens), (album, producer), (album, tags), (album, title), (album, tracks), (album, type), (artist, active_year_begin), (artist, active_year_end), (artist, associated_labels), (artist, bio), (artist, comments), (artist, date_created), (artist, favorites), (artist, id), (artist, latitude), (artist, location), (artist, longitude), (artist, members), (artist, name), (artist, related_projects), (artist, tags), (artist, website), (artist, wikipedia_page), (set, split), (set, subset), (track, bit_rate), (track, comments), (track, composer), (track, date_created), (track, date_recorded), (track, duration), (track, favorites), (track, genre_top), (track, genres), (track, genres_all), (track, information), (track, interest), (track, language_code), (track, license), (track, listens), (track, lyricist), (track, number), (track, publisher), (track, tags), (track, title), (artist, name_clean), (track, title_clean), (track, key), (track, lyrics), (track, one_genre), (track, danceability), (track, energy), (track, speechiness), (track, acousticness), (track, instrumentalness), (track, liveness), (track, valence), (track, tempo), (track, track_folder), (track, lemmatized_lyrics)]\n",
       "Index: []\n",
       "\n",
       "[0 rows x 68 columns]"
      ],
      "text/html": [
       "<div>\n",
       "<style scoped>\n",
       "    .dataframe tbody tr th:only-of-type {\n",
       "        vertical-align: middle;\n",
       "    }\n",
       "\n",
       "    .dataframe tbody tr th {\n",
       "        vertical-align: top;\n",
       "    }\n",
       "\n",
       "    .dataframe thead tr th {\n",
       "        text-align: left;\n",
       "    }\n",
       "</style>\n",
       "<table border=\"1\" class=\"dataframe\">\n",
       "  <thead>\n",
       "    <tr>\n",
       "      <th></th>\n",
       "      <th>track</th>\n",
       "      <th colspan=\"9\" halign=\"left\">album</th>\n",
       "      <th>...</th>\n",
       "      <th colspan=\"10\" halign=\"left\">track</th>\n",
       "    </tr>\n",
       "    <tr>\n",
       "      <th></th>\n",
       "      <th>track_id</th>\n",
       "      <th>comments</th>\n",
       "      <th>date_created</th>\n",
       "      <th>date_released</th>\n",
       "      <th>engineer</th>\n",
       "      <th>favorites</th>\n",
       "      <th>id</th>\n",
       "      <th>information</th>\n",
       "      <th>listens</th>\n",
       "      <th>producer</th>\n",
       "      <th>...</th>\n",
       "      <th>danceability</th>\n",
       "      <th>energy</th>\n",
       "      <th>speechiness</th>\n",
       "      <th>acousticness</th>\n",
       "      <th>instrumentalness</th>\n",
       "      <th>liveness</th>\n",
       "      <th>valence</th>\n",
       "      <th>tempo</th>\n",
       "      <th>track_folder</th>\n",
       "      <th>lemmatized_lyrics</th>\n",
       "    </tr>\n",
       "  </thead>\n",
       "  <tbody>\n",
       "  </tbody>\n",
       "</table>\n",
       "<p>0 rows × 68 columns</p>\n",
       "</div>"
      ]
     },
     "execution_count": 8,
     "metadata": {},
     "output_type": "execute_result"
    }
   ],
   "execution_count": 8
  },
  {
   "metadata": {
    "ExecuteTime": {
     "end_time": "2025-01-21T23:53:17.856906Z",
     "start_time": "2025-01-21T23:53:17.854861Z"
    }
   },
   "cell_type": "code",
   "source": [
    "y_lyrics = df_lyrics[('track','one_genre')]\n",
    "\n",
    "label_encoder = LabelEncoder()\n",
    "y_lyrics = label_encoder.fit_transform(y_lyrics)\n",
    "y_lyrics = np.eye(len(label_encoder.classes_))[y_lyrics]  # One-hot encode genres\n",
    "\n",
    "X_lyrics = df_lyrics[('track', 'lemmatized_lyrics')]"
   ],
   "id": "28365d2d5c68f82c",
   "outputs": [],
   "execution_count": 9
  },
  {
   "metadata": {
    "ExecuteTime": {
     "end_time": "2025-01-21T23:53:18.091363Z",
     "start_time": "2025-01-21T23:53:18.090194Z"
    }
   },
   "cell_type": "code",
   "source": "",
   "id": "538a0f1ca8e1149c",
   "outputs": [],
   "execution_count": null
  },
  {
   "metadata": {
    "ExecuteTime": {
     "end_time": "2025-01-21T23:53:19.259558Z",
     "start_time": "2025-01-21T23:53:18.279117Z"
    }
   },
   "cell_type": "code",
   "source": [
    "# Load model\n",
    "device = 'mps'\n",
    "\n",
    "# Initialize tokenizer and model\n",
    "tokenizer = RobertaTokenizerFast.from_pretrained(\"distilroberta-base\")\n",
    "model_lyrics = RobertaForSequenceClassification.from_pretrained(\n",
    "    \"distilroberta-base\",\n",
    "    num_labels=8,\n",
    "    problem_type=\"multi_label_classification\"\n",
    ").to(device)\n",
    "\n",
    "model_lyrics.load_state_dict(torch.load(\"models/lyrics_genre_model_alphabetically.pt\", map_location=device, weights_only=True))\n",
    "model_lyrics.to(device)\n",
    "model_lyrics.eval()"
   ],
   "id": "891b13a61411a329",
   "outputs": [
    {
     "name": "stderr",
     "output_type": "stream",
     "text": [
      "Some weights of RobertaForSequenceClassification were not initialized from the model checkpoint at distilroberta-base and are newly initialized: ['classifier.dense.bias', 'classifier.dense.weight', 'classifier.out_proj.bias', 'classifier.out_proj.weight']\n",
      "You should probably TRAIN this model on a down-stream task to be able to use it for predictions and inference.\n"
     ]
    },
    {
     "data": {
      "text/plain": [
       "RobertaForSequenceClassification(\n",
       "  (roberta): RobertaModel(\n",
       "    (embeddings): RobertaEmbeddings(\n",
       "      (word_embeddings): Embedding(50265, 768, padding_idx=1)\n",
       "      (position_embeddings): Embedding(514, 768, padding_idx=1)\n",
       "      (token_type_embeddings): Embedding(1, 768)\n",
       "      (LayerNorm): LayerNorm((768,), eps=1e-05, elementwise_affine=True)\n",
       "      (dropout): Dropout(p=0.1, inplace=False)\n",
       "    )\n",
       "    (encoder): RobertaEncoder(\n",
       "      (layer): ModuleList(\n",
       "        (0-5): 6 x RobertaLayer(\n",
       "          (attention): RobertaAttention(\n",
       "            (self): RobertaSdpaSelfAttention(\n",
       "              (query): Linear(in_features=768, out_features=768, bias=True)\n",
       "              (key): Linear(in_features=768, out_features=768, bias=True)\n",
       "              (value): Linear(in_features=768, out_features=768, bias=True)\n",
       "              (dropout): Dropout(p=0.1, inplace=False)\n",
       "            )\n",
       "            (output): RobertaSelfOutput(\n",
       "              (dense): Linear(in_features=768, out_features=768, bias=True)\n",
       "              (LayerNorm): LayerNorm((768,), eps=1e-05, elementwise_affine=True)\n",
       "              (dropout): Dropout(p=0.1, inplace=False)\n",
       "            )\n",
       "          )\n",
       "          (intermediate): RobertaIntermediate(\n",
       "            (dense): Linear(in_features=768, out_features=3072, bias=True)\n",
       "            (intermediate_act_fn): GELUActivation()\n",
       "          )\n",
       "          (output): RobertaOutput(\n",
       "            (dense): Linear(in_features=3072, out_features=768, bias=True)\n",
       "            (LayerNorm): LayerNorm((768,), eps=1e-05, elementwise_affine=True)\n",
       "            (dropout): Dropout(p=0.1, inplace=False)\n",
       "          )\n",
       "        )\n",
       "      )\n",
       "    )\n",
       "  )\n",
       "  (classifier): RobertaClassificationHead(\n",
       "    (dense): Linear(in_features=768, out_features=768, bias=True)\n",
       "    (dropout): Dropout(p=0.1, inplace=False)\n",
       "    (out_proj): Linear(in_features=768, out_features=8, bias=True)\n",
       "  )\n",
       ")"
      ]
     },
     "execution_count": 10,
     "metadata": {},
     "output_type": "execute_result"
    }
   ],
   "execution_count": 10
  },
  {
   "metadata": {
    "ExecuteTime": {
     "end_time": "2025-01-21T23:53:19.273740Z",
     "start_time": "2025-01-21T23:53:19.270855Z"
    }
   },
   "cell_type": "code",
   "source": [
    "from utils.lyrics_utils import LyricsGenreDataset\n",
    "\n",
    "batch_size = 24\n",
    "dataset = LyricsGenreDataset(X_lyrics, y_lyrics, tokenizer)\n",
    "data_loader = DataLoader(dataset, batch_size=batch_size, shuffle=False)"
   ],
   "id": "12e1e3ef9a102ed7",
   "outputs": [],
   "execution_count": 11
  },
  {
   "metadata": {},
   "cell_type": "markdown",
   "source": "## Audio",
   "id": "224ce141f152021c"
  },
  {
   "metadata": {
    "ExecuteTime": {
     "end_time": "2025-01-21T23:53:19.290341Z",
     "start_time": "2025-01-21T23:53:19.285178Z"
    }
   },
   "cell_type": "code",
   "source": [
    "# Load the data from csv for audio\n",
    "\n",
    "from utils.audio_utils import MelSpectogramDataset\n",
    "\n",
    "mel_dataset = MelSpectogramDataset(data_path='mel_spectrogram')\n",
    "dataset_loader = DataLoader(mel_dataset, batch_size=32)"
   ],
   "id": "307066bdb96d6ef7",
   "outputs": [],
   "execution_count": 12
  },
  {
   "metadata": {
    "ExecuteTime": {
     "end_time": "2025-01-21T23:53:19.490316Z",
     "start_time": "2025-01-21T23:53:19.301301Z"
    }
   },
   "cell_type": "code",
   "source": [
    "# Evaluate the model on the test set\n",
    "audio_model = models.resnet18()\n",
    "audio_model.conv1 = nn.Conv2d(1, 64, kernel_size=7, stride=(1, 2), bias=True)\n",
    "audio_model.maxpool = nn.MaxPool2d((2, 3), stride=(1, 2))\n",
    "audio_model.fc = nn.Linear(512, 8)\n",
    "\n",
    "audio_model = audio_model.to(\"mps\")\n",
    "\n",
    "audio_model.load_state_dict(torch.load(\"models/resnet_model_v1_weighted_alphabetical.pt\", weights_only=True))\n",
    "\n",
    "audio_model.eval()"
   ],
   "id": "f2f024b259fd2260",
   "outputs": [
    {
     "data": {
      "text/plain": [
       "ResNet(\n",
       "  (conv1): Conv2d(1, 64, kernel_size=(7, 7), stride=(1, 2))\n",
       "  (bn1): BatchNorm2d(64, eps=1e-05, momentum=0.1, affine=True, track_running_stats=True)\n",
       "  (relu): ReLU(inplace=True)\n",
       "  (maxpool): MaxPool2d(kernel_size=(2, 3), stride=(1, 2), padding=0, dilation=1, ceil_mode=False)\n",
       "  (layer1): Sequential(\n",
       "    (0): BasicBlock(\n",
       "      (conv1): Conv2d(64, 64, kernel_size=(3, 3), stride=(1, 1), padding=(1, 1), bias=False)\n",
       "      (bn1): BatchNorm2d(64, eps=1e-05, momentum=0.1, affine=True, track_running_stats=True)\n",
       "      (relu): ReLU(inplace=True)\n",
       "      (conv2): Conv2d(64, 64, kernel_size=(3, 3), stride=(1, 1), padding=(1, 1), bias=False)\n",
       "      (bn2): BatchNorm2d(64, eps=1e-05, momentum=0.1, affine=True, track_running_stats=True)\n",
       "    )\n",
       "    (1): BasicBlock(\n",
       "      (conv1): Conv2d(64, 64, kernel_size=(3, 3), stride=(1, 1), padding=(1, 1), bias=False)\n",
       "      (bn1): BatchNorm2d(64, eps=1e-05, momentum=0.1, affine=True, track_running_stats=True)\n",
       "      (relu): ReLU(inplace=True)\n",
       "      (conv2): Conv2d(64, 64, kernel_size=(3, 3), stride=(1, 1), padding=(1, 1), bias=False)\n",
       "      (bn2): BatchNorm2d(64, eps=1e-05, momentum=0.1, affine=True, track_running_stats=True)\n",
       "    )\n",
       "  )\n",
       "  (layer2): Sequential(\n",
       "    (0): BasicBlock(\n",
       "      (conv1): Conv2d(64, 128, kernel_size=(3, 3), stride=(2, 2), padding=(1, 1), bias=False)\n",
       "      (bn1): BatchNorm2d(128, eps=1e-05, momentum=0.1, affine=True, track_running_stats=True)\n",
       "      (relu): ReLU(inplace=True)\n",
       "      (conv2): Conv2d(128, 128, kernel_size=(3, 3), stride=(1, 1), padding=(1, 1), bias=False)\n",
       "      (bn2): BatchNorm2d(128, eps=1e-05, momentum=0.1, affine=True, track_running_stats=True)\n",
       "      (downsample): Sequential(\n",
       "        (0): Conv2d(64, 128, kernel_size=(1, 1), stride=(2, 2), bias=False)\n",
       "        (1): BatchNorm2d(128, eps=1e-05, momentum=0.1, affine=True, track_running_stats=True)\n",
       "      )\n",
       "    )\n",
       "    (1): BasicBlock(\n",
       "      (conv1): Conv2d(128, 128, kernel_size=(3, 3), stride=(1, 1), padding=(1, 1), bias=False)\n",
       "      (bn1): BatchNorm2d(128, eps=1e-05, momentum=0.1, affine=True, track_running_stats=True)\n",
       "      (relu): ReLU(inplace=True)\n",
       "      (conv2): Conv2d(128, 128, kernel_size=(3, 3), stride=(1, 1), padding=(1, 1), bias=False)\n",
       "      (bn2): BatchNorm2d(128, eps=1e-05, momentum=0.1, affine=True, track_running_stats=True)\n",
       "    )\n",
       "  )\n",
       "  (layer3): Sequential(\n",
       "    (0): BasicBlock(\n",
       "      (conv1): Conv2d(128, 256, kernel_size=(3, 3), stride=(2, 2), padding=(1, 1), bias=False)\n",
       "      (bn1): BatchNorm2d(256, eps=1e-05, momentum=0.1, affine=True, track_running_stats=True)\n",
       "      (relu): ReLU(inplace=True)\n",
       "      (conv2): Conv2d(256, 256, kernel_size=(3, 3), stride=(1, 1), padding=(1, 1), bias=False)\n",
       "      (bn2): BatchNorm2d(256, eps=1e-05, momentum=0.1, affine=True, track_running_stats=True)\n",
       "      (downsample): Sequential(\n",
       "        (0): Conv2d(128, 256, kernel_size=(1, 1), stride=(2, 2), bias=False)\n",
       "        (1): BatchNorm2d(256, eps=1e-05, momentum=0.1, affine=True, track_running_stats=True)\n",
       "      )\n",
       "    )\n",
       "    (1): BasicBlock(\n",
       "      (conv1): Conv2d(256, 256, kernel_size=(3, 3), stride=(1, 1), padding=(1, 1), bias=False)\n",
       "      (bn1): BatchNorm2d(256, eps=1e-05, momentum=0.1, affine=True, track_running_stats=True)\n",
       "      (relu): ReLU(inplace=True)\n",
       "      (conv2): Conv2d(256, 256, kernel_size=(3, 3), stride=(1, 1), padding=(1, 1), bias=False)\n",
       "      (bn2): BatchNorm2d(256, eps=1e-05, momentum=0.1, affine=True, track_running_stats=True)\n",
       "    )\n",
       "  )\n",
       "  (layer4): Sequential(\n",
       "    (0): BasicBlock(\n",
       "      (conv1): Conv2d(256, 512, kernel_size=(3, 3), stride=(2, 2), padding=(1, 1), bias=False)\n",
       "      (bn1): BatchNorm2d(512, eps=1e-05, momentum=0.1, affine=True, track_running_stats=True)\n",
       "      (relu): ReLU(inplace=True)\n",
       "      (conv2): Conv2d(512, 512, kernel_size=(3, 3), stride=(1, 1), padding=(1, 1), bias=False)\n",
       "      (bn2): BatchNorm2d(512, eps=1e-05, momentum=0.1, affine=True, track_running_stats=True)\n",
       "      (downsample): Sequential(\n",
       "        (0): Conv2d(256, 512, kernel_size=(1, 1), stride=(2, 2), bias=False)\n",
       "        (1): BatchNorm2d(512, eps=1e-05, momentum=0.1, affine=True, track_running_stats=True)\n",
       "      )\n",
       "    )\n",
       "    (1): BasicBlock(\n",
       "      (conv1): Conv2d(512, 512, kernel_size=(3, 3), stride=(1, 1), padding=(1, 1), bias=False)\n",
       "      (bn1): BatchNorm2d(512, eps=1e-05, momentum=0.1, affine=True, track_running_stats=True)\n",
       "      (relu): ReLU(inplace=True)\n",
       "      (conv2): Conv2d(512, 512, kernel_size=(3, 3), stride=(1, 1), padding=(1, 1), bias=False)\n",
       "      (bn2): BatchNorm2d(512, eps=1e-05, momentum=0.1, affine=True, track_running_stats=True)\n",
       "    )\n",
       "  )\n",
       "  (avgpool): AdaptiveAvgPool2d(output_size=(1, 1))\n",
       "  (fc): Linear(in_features=512, out_features=8, bias=True)\n",
       ")"
      ]
     },
     "execution_count": 13,
     "metadata": {},
     "output_type": "execute_result"
    }
   ],
   "execution_count": 13
  },
  {
   "metadata": {
    "ExecuteTime": {
     "end_time": "2025-01-21T23:53:19.896137Z",
     "start_time": "2025-01-21T23:53:19.503814Z"
    }
   },
   "cell_type": "code",
   "source": [
    "# Get number of samples in test_loader\n",
    "\n",
    "num_samples = 0\n",
    "for mel_spectrogram, label in dataset_loader:\n",
    "    num_samples += mel_spectrogram.size(0)\n",
    "print(num_samples)"
   ],
   "id": "c937b3792ddcbb4c",
   "outputs": [
    {
     "name": "stdout",
     "output_type": "stream",
     "text": [
      "568\n"
     ]
    }
   ],
   "execution_count": 14
  },
  {
   "metadata": {},
   "cell_type": "markdown",
   "source": "## Metadata",
   "id": "af9b5aa289ab1e5c"
  },
  {
   "metadata": {
    "ExecuteTime": {
     "end_time": "2025-01-21T23:53:19.949435Z",
     "start_time": "2025-01-21T23:53:19.941063Z"
    }
   },
   "cell_type": "code",
   "source": [
    "# Load the data from csv for metadata\n",
    "df[('album','year_released')] = df[('album', 'date_released')].str.extract(r'(\\d{4})')\n",
    "\n",
    "# Select the features from the new dataset\n",
    "features = [('track', 'danceability'), ('track', 'energy'), ('track', 'speechiness'), ('track', 'acousticness'), ('track', 'instrumentalness'), ('track', 'liveness'), ('track', 'valence'), ('track', 'tempo'), ('track', 'duration'), ('album', 'year_released')]\n",
    "\n",
    "\n",
    "X_metadata = df[features]\n",
    "y_metadata = df[('track', 'one_genre')]\n",
    "label_encoder = LabelEncoder()\n",
    "y_metadata = label_encoder.fit_transform(y_metadata)\n",
    "\n",
    "# Normalize the features\n",
    "scaler = StandardScaler()\n",
    "X_metadata = scaler.fit_transform(X_metadata)\n"
   ],
   "id": "eeca35937133ccf3",
   "outputs": [],
   "execution_count": 15
  },
  {
   "metadata": {
    "ExecuteTime": {
     "end_time": "2025-01-21T23:53:19.978959Z",
     "start_time": "2025-01-21T23:53:19.967424Z"
    }
   },
   "cell_type": "code",
   "source": [
    "# Load model\n",
    "metadata_model = joblib.load('models/xgb_metadata_v1_8_genres_smote_normalized.joblib')"
   ],
   "id": "ee99c2ebf44cd0b6",
   "outputs": [],
   "execution_count": 16
  },
  {
   "metadata": {},
   "cell_type": "markdown",
   "source": "## Weighted Voting",
   "id": "2565ea70909203c7"
  },
  {
   "metadata": {
    "ExecuteTime": {
     "end_time": "2025-01-21T23:53:31.857184Z",
     "start_time": "2025-01-21T23:53:19.995402Z"
    }
   },
   "cell_type": "code",
   "source": [
    "# Extract predictions from lyrics\n",
    "\n",
    "def evaluate_model_single_genre(model, test_loader, device):\n",
    "    model.eval()\n",
    "    test_preds, test_labels, test_probs = [], [], []\n",
    "    with torch.no_grad():\n",
    "        for batch in test_loader:\n",
    "            input_ids = batch[\"input_ids\"].to(device)\n",
    "            attention_mask = batch[\"attention_mask\"].to(device)\n",
    "            labels = batch[\"labels\"].to(device)\n",
    "\n",
    "            outputs = model(input_ids, attention_mask=attention_mask)\n",
    "\n",
    "            # Get probabilities\n",
    "            probs = torch.sigmoid(outputs.logits).cpu().numpy()\n",
    "            test_probs.extend(probs)\n",
    "\n",
    "            test_preds.extend(np.argmax(probs, axis=1))\n",
    "            test_labels.extend(np.argmax(labels.cpu().numpy(), axis=1))\n",
    "\n",
    "    test_accuracy = accuracy_score(test_labels, test_preds)\n",
    "    test_f1 = f1_score(test_labels, test_preds, average=\"macro\")\n",
    "    print(f\"Test Accuracy: {test_accuracy}\")\n",
    "    print(f\"Test F1 Score: {test_f1}\")\n",
    "\n",
    "    return test_labels, test_preds, test_probs\n",
    "\n",
    "# Run evaluation and get predictions and labels\n",
    "lyrics_labels, lyrics_preds, lyrics_probs = evaluate_model_single_genre(model_lyrics, data_loader, device)"
   ],
   "id": "b119fc2c1dc9755",
   "outputs": [
    {
     "name": "stdout",
     "output_type": "stream",
     "text": [
      "Test Accuracy: 0.4014084507042254\n",
      "Test F1 Score: 0.3193300083584534\n"
     ]
    }
   ],
   "execution_count": 17
  },
  {
   "metadata": {
    "ExecuteTime": {
     "end_time": "2025-01-21T23:53:31.873724Z",
     "start_time": "2025-01-21T23:53:31.871568Z"
    }
   },
   "cell_type": "code",
   "source": "lyrics_labels[0]",
   "id": "b2bf1d4b7774979f",
   "outputs": [
    {
     "data": {
      "text/plain": [
       "0"
      ]
     },
     "execution_count": 18,
     "metadata": {},
     "output_type": "execute_result"
    }
   ],
   "execution_count": 18
  },
  {
   "metadata": {
    "ExecuteTime": {
     "end_time": "2025-01-21T23:53:31.891321Z",
     "start_time": "2025-01-21T23:53:31.889647Z"
    }
   },
   "cell_type": "code",
   "source": "lyrics_preds[0]",
   "id": "8dca4983f80b9ea1",
   "outputs": [
    {
     "data": {
      "text/plain": [
       "2"
      ]
     },
     "execution_count": 19,
     "metadata": {},
     "output_type": "execute_result"
    }
   ],
   "execution_count": 19
  },
  {
   "metadata": {
    "ExecuteTime": {
     "end_time": "2025-01-21T23:53:31.913813Z",
     "start_time": "2025-01-21T23:53:31.911392Z"
    }
   },
   "cell_type": "code",
   "source": [
    "# Get example predictions from lyrics model and assigned label for 1 sample\n",
    "example_idx = 0\n",
    "example_pred = lyrics_preds[example_idx]\n",
    "example_label = lyrics_labels[example_idx]\n",
    "\n",
    "print(\"Example prediction:\", example_pred)\n",
    "print(\"Example label:\", example_label)\n",
    "# Get the assigned genre for the example\n",
    "assigned_genre = label_encoder.inverse_transform([example_label.argmax()])[0]\n",
    "print(\"Assigned genre:\", assigned_genre)\n",
    "\n",
    "# Get true genre for the example\n",
    "true_genre = label_encoder.inverse_transform([np.argmax(y_lyrics[example_idx])])[0]\n",
    "print(\"True genre:\", true_genre)"
   ],
   "id": "107af2e7960d8d65",
   "outputs": [
    {
     "name": "stdout",
     "output_type": "stream",
     "text": [
      "Example prediction: 2\n",
      "Example label: 0\n",
      "Assigned genre: Country\n",
      "True genre: Country\n"
     ]
    }
   ],
   "execution_count": 20
  },
  {
   "metadata": {
    "ExecuteTime": {
     "end_time": "2025-01-21T23:53:31.933173Z",
     "start_time": "2025-01-21T23:53:31.931326Z"
    }
   },
   "cell_type": "code",
   "source": "lyrics_probs[0]",
   "id": "1fbde99461342ff0",
   "outputs": [
    {
     "data": {
      "text/plain": [
       "array([1.4031859e-02, 1.5633887e-03, 9.2956609e-01, 1.7587623e-02,\n",
       "       2.9917561e-02, 4.3581612e-03, 5.5142672e-04, 1.1620977e-03],\n",
       "      dtype=float32)"
      ]
     },
     "execution_count": 21,
     "metadata": {},
     "output_type": "execute_result"
    }
   ],
   "execution_count": 21
  },
  {
   "metadata": {
    "ExecuteTime": {
     "end_time": "2025-01-21T23:53:31.958590Z",
     "start_time": "2025-01-21T23:53:31.956633Z"
    }
   },
   "cell_type": "code",
   "source": "y_lyrics[0]",
   "id": "6c16604e11c4f9b5",
   "outputs": [
    {
     "data": {
      "text/plain": [
       "array([1., 0., 0., 0., 0., 0., 0., 0.])"
      ]
     },
     "execution_count": 22,
     "metadata": {},
     "output_type": "execute_result"
    }
   ],
   "execution_count": 22
  },
  {
   "metadata": {
    "ExecuteTime": {
     "end_time": "2025-01-21T23:53:38.072615Z",
     "start_time": "2025-01-21T23:53:31.974005Z"
    }
   },
   "cell_type": "code",
   "source": [
    "# Get predictions from the audio model\n",
    "# Get predictions from the audio model\n",
    "from tqdm import tqdm\n",
    "\n",
    "criterion = nn.CrossEntropyLoss()\n",
    "\n",
    "with torch.no_grad():\n",
    "    correct, total = 0, 0\n",
    "    audio_preds, audio_labels = [], []\n",
    "    test_progress = tqdm(dataset_loader, desc=\"Testing\", leave=False)\n",
    "\n",
    "    for mel_spectrogram, label in test_progress:\n",
    "        mel_spectrogram, label = mel_spectrogram.to(\"mps\").float(), label.to(\"mps\")\n",
    "        output = audio_model(mel_spectrogram.unsqueeze(1))\n",
    "        probabilities = nn.Softmax(dim=1)(output).cpu().numpy()\n",
    "        audio_preds.append(probabilities)\n",
    "        audio_labels.append(label.cpu().numpy())\n",
    "        _, predicted = torch.max(output.data, 1)\n",
    "        total += label.size(0)\n",
    "        correct += (predicted == label).sum().item()\n",
    "\n",
    "        # Calculate the loss\n",
    "        loss = criterion(output, label)\n",
    "        test_progress.set_postfix({\"Loss\": f\"{loss.item():.4f}\"})\n",
    "\n",
    "    # Concatenate all predictions and true labels\n",
    "    audio_labels = np.concatenate(audio_labels)\n",
    "    audio_preds = np.concatenate(audio_preds)\n",
    "\n",
    "    # Calculate metrics\n",
    "    metrics = utils.audio_utils.calculate_metrics(audio_labels, audio_preds, num_classes=8)\n",
    "    print(\"OVERALL METRICS\")\n",
    "\n",
    "    print(f\"Accuracy: {100 * correct / total:.2f}% | Metrics: {metrics}\")"
   ],
   "id": "d7d25318b600fd35",
   "outputs": [
    {
     "name": "stderr",
     "output_type": "stream",
     "text": [
      "                                                                     "
     ]
    },
    {
     "name": "stdout",
     "output_type": "stream",
     "text": [
      "OVERALL METRICS\n",
      "Accuracy: 16.73% | Metrics: {'AUC': 0.5813321233282243, 'Precision': 0.3303521308282736, 'Recall': 0.19887097640627807, 'F1 Score': 0.07949332079054854}\n"
     ]
    },
    {
     "name": "stderr",
     "output_type": "stream",
     "text": [
      "\r"
     ]
    }
   ],
   "execution_count": 23
  },
  {
   "metadata": {
    "ExecuteTime": {
     "end_time": "2025-01-21T23:53:38.246446Z",
     "start_time": "2025-01-21T23:53:38.244157Z"
    }
   },
   "cell_type": "code",
   "source": "audio_preds[0]",
   "id": "687c2a461bb6c896",
   "outputs": [
    {
     "data": {
      "text/plain": [
       "array([2.8578008e-03, 1.6548412e-02, 7.0661604e-01, 3.0282902e-02,\n",
       "       1.4531726e-01, 7.5687371e-02, 4.1710231e-05, 2.2648547e-02],\n",
       "      dtype=float32)"
      ]
     },
     "execution_count": 24,
     "metadata": {},
     "output_type": "execute_result"
    }
   ],
   "execution_count": 24
  },
  {
   "metadata": {
    "ExecuteTime": {
     "end_time": "2025-01-21T23:53:38.329816Z",
     "start_time": "2025-01-21T23:53:38.327904Z"
    }
   },
   "cell_type": "code",
   "source": "audio_labels[0]",
   "id": "dffc2b356215da2e",
   "outputs": [
    {
     "data": {
      "text/plain": [
       "0"
      ]
     },
     "execution_count": 25,
     "metadata": {},
     "output_type": "execute_result"
    }
   ],
   "execution_count": 25
  },
  {
   "metadata": {
    "ExecuteTime": {
     "end_time": "2025-01-21T23:53:38.421499Z",
     "start_time": "2025-01-21T23:53:38.414844Z"
    }
   },
   "cell_type": "code",
   "source": [
    "from utils.audio_utils import calculate_metrics\n",
    "\n",
    "# Calculate metrics\n",
    "calculate_metrics(audio_labels, audio_preds, 8)"
   ],
   "id": "f791ecdc5d4139a9",
   "outputs": [
    {
     "data": {
      "text/plain": [
       "{'AUC': 0.5813321233282243,\n",
       " 'Precision': 0.3303521308282736,\n",
       " 'Recall': 0.19887097640627807,\n",
       " 'F1 Score': 0.07949332079054854}"
      ]
     },
     "execution_count": 26,
     "metadata": {},
     "output_type": "execute_result"
    }
   ],
   "execution_count": 26
  },
  {
   "metadata": {
    "ExecuteTime": {
     "end_time": "2025-01-21T23:53:38.511597Z",
     "start_time": "2025-01-21T23:53:38.508907Z"
    }
   },
   "cell_type": "code",
   "source": [
    "# Get example predictions from audio model for 1 sample\n",
    "example_idx = 0\n",
    "example_pred = audio_preds[example_idx]\n",
    "\n",
    "print(\"Example prediction:\", example_pred)\n",
    "\n",
    "# Position with the highest probability\n",
    "print(\"Position with the highest probability:\", np.argmax(example_pred, axis=0))\n",
    "# Get the assigned genre for the example\n",
    "assigned_genre = mel_dataset.genres[np.argmax(example_pred, axis=0)]\n",
    "print(\"Assigned genre:\", assigned_genre)\n",
    "\n",
    "# Get true label for the example using dataset class\n",
    "true_label = mel_dataset.genres[example_idx]\n",
    "print(\"True label:\", true_label, mel_dataset[example_idx][1])"
   ],
   "id": "19b487a070f829ce",
   "outputs": [
    {
     "name": "stdout",
     "output_type": "stream",
     "text": [
      "Example prediction: [2.8578008e-03 1.6548412e-02 7.0661604e-01 3.0282902e-02 1.4531726e-01\n",
      " 7.5687371e-02 4.1710231e-05 2.2648547e-02]\n",
      "Position with the highest probability: 2\n",
      "Assigned genre: Indie\n",
      "True label: Country 0\n"
     ]
    }
   ],
   "execution_count": 27
  },
  {
   "metadata": {
    "ExecuteTime": {
     "end_time": "2025-01-21T23:53:38.598266Z",
     "start_time": "2025-01-21T23:53:38.597015Z"
    }
   },
   "cell_type": "code",
   "source": "# Get predictions from the metadata model\n",
   "id": "65dd46aa85171e84",
   "outputs": [],
   "execution_count": 28
  },
  {
   "metadata": {
    "ExecuteTime": {
     "end_time": "2025-01-21T23:53:38.690289Z",
     "start_time": "2025-01-21T23:53:38.683367Z"
    }
   },
   "cell_type": "code",
   "source": [
    "# Get predictions from the metadata model\n",
    "metadata_preds = metadata_model.predict_proba(X_metadata)  # Get probabilities from XGBoost"
   ],
   "id": "dfbe5a185865945b",
   "outputs": [],
   "execution_count": 29
  },
  {
   "metadata": {
    "ExecuteTime": {
     "end_time": "2025-01-21T23:53:38.767257Z",
     "start_time": "2025-01-21T23:53:38.764944Z"
    }
   },
   "cell_type": "code",
   "source": [
    "# Get example predictions from metadata model for 1 sample\n",
    "example_idx = 0\n",
    "example_pred = metadata_preds[example_idx]\n",
    "example_pred\n",
    "\n",
    "# Position with the highest probability\n",
    "print(\"Position with the highest probability:\", np.argmax(example_pred, axis=0))\n",
    "\n",
    "# Get the assigned genre for the example\n",
    "assigned_genre = label_encoder.inverse_transform([np.argmax(example_pred)])[0]\n",
    "print(\"Assigned genre:\", assigned_genre)\n",
    "\n",
    "# Get true label for the example\n",
    "true_label = label_encoder.inverse_transform([y_metadata[example_idx]])[0]\n",
    "print(\"True label:\", true_label)"
   ],
   "id": "e59e32e7f5f58e3c",
   "outputs": [
    {
     "name": "stdout",
     "output_type": "stream",
     "text": [
      "Position with the highest probability: 6\n",
      "Assigned genre: Rap\n",
      "True label: Country\n"
     ]
    }
   ],
   "execution_count": 30
  },
  {
   "metadata": {
    "ExecuteTime": {
     "end_time": "2025-01-21T23:53:38.845898Z",
     "start_time": "2025-01-21T23:53:38.843360Z"
    }
   },
   "cell_type": "code",
   "source": "type(audio_preds)",
   "id": "378a026c9ea677f1",
   "outputs": [
    {
     "data": {
      "text/plain": [
       "numpy.ndarray"
      ]
     },
     "execution_count": 31,
     "metadata": {},
     "output_type": "execute_result"
    }
   ],
   "execution_count": 31
  },
  {
   "metadata": {
    "ExecuteTime": {
     "end_time": "2025-01-21T23:53:38.933107Z",
     "start_time": "2025-01-21T23:53:38.931052Z"
    }
   },
   "cell_type": "code",
   "source": "audio_preds",
   "id": "1b46eaf8905baced",
   "outputs": [
    {
     "data": {
      "text/plain": [
       "array([[2.8578008e-03, 1.6548412e-02, 7.0661604e-01, ..., 7.5687371e-02,\n",
       "        4.1710231e-05, 2.2648547e-02],\n",
       "       [4.6147726e-04, 2.6590955e-02, 9.0864730e-01, ..., 2.5637168e-02,\n",
       "        1.0681839e-06, 6.6322498e-03],\n",
       "       [7.4475080e-05, 1.0719054e-01, 8.2504445e-01, ..., 1.9264285e-02,\n",
       "        7.9925400e-07, 5.1272381e-03],\n",
       "       ...,\n",
       "       [9.3626194e-02, 4.8169664e-01, 1.2918879e-01, ..., 1.4058700e-01,\n",
       "        1.0794029e-02, 4.4586379e-02],\n",
       "       [5.1009220e-01, 2.2163005e-01, 9.1481328e-02, ..., 1.1624318e-01,\n",
       "        1.2273465e-03, 3.1363614e-02],\n",
       "       [3.7942594e-01, 2.8792885e-01, 8.9053534e-02, ..., 1.3885525e-01,\n",
       "        1.5018820e-02, 3.5320207e-02]], dtype=float32)"
      ]
     },
     "execution_count": 32,
     "metadata": {},
     "output_type": "execute_result"
    }
   ],
   "execution_count": 32
  },
  {
   "metadata": {
    "ExecuteTime": {
     "end_time": "2025-01-21T23:53:39.036645Z",
     "start_time": "2025-01-21T23:53:39.034543Z"
    }
   },
   "cell_type": "code",
   "source": [
    "# Convert to numpy array\n",
    "lyrics_probs = np.array(lyrics_probs)"
   ],
   "id": "ae78c6ada821418f",
   "outputs": [],
   "execution_count": 33
  },
  {
   "metadata": {
    "ExecuteTime": {
     "end_time": "2025-01-21T23:53:39.061703Z",
     "start_time": "2025-01-21T23:53:39.058935Z"
    }
   },
   "cell_type": "code",
   "source": "lyrics_probs",
   "id": "67790fc6d7f8fa4d",
   "outputs": [
    {
     "data": {
      "text/plain": [
       "array([[1.4031859e-02, 1.5633887e-03, 9.2956609e-01, ..., 4.3581612e-03,\n",
       "        5.5142672e-04, 1.1620977e-03],\n",
       "       [1.2422914e-02, 6.9526252e-03, 6.6592389e-01, ..., 1.1456213e-02,\n",
       "        8.5178867e-04, 3.7787866e-04],\n",
       "       [2.9902659e-02, 1.0137752e-03, 8.9072824e-01, ..., 5.9647653e-03,\n",
       "        3.3338714e-04, 1.8145890e-03],\n",
       "       ...,\n",
       "       [1.8929897e-03, 2.4041187e-03, 1.5968722e-01, ..., 2.1362405e-03,\n",
       "        2.5744984e-04, 1.4075311e-04],\n",
       "       [1.7180765e-02, 2.0450980e-03, 9.3806720e-01, ..., 4.4454644e-03,\n",
       "        7.2959857e-04, 8.4262417e-04],\n",
       "       [1.8307215e-02, 1.7965415e-03, 9.3650168e-01, ..., 4.2159883e-03,\n",
       "        6.6611165e-04, 1.1542916e-03]], dtype=float32)"
      ]
     },
     "execution_count": 34,
     "metadata": {},
     "output_type": "execute_result"
    }
   ],
   "execution_count": 34
  },
  {
   "metadata": {
    "ExecuteTime": {
     "end_time": "2025-01-21T23:53:39.103725Z",
     "start_time": "2025-01-21T23:53:39.101027Z"
    }
   },
   "cell_type": "code",
   "source": "lyrics_preds[0]",
   "id": "61aa5435d159f4b0",
   "outputs": [
    {
     "data": {
      "text/plain": [
       "2"
      ]
     },
     "execution_count": 35,
     "metadata": {},
     "output_type": "execute_result"
    }
   ],
   "execution_count": 35
  },
  {
   "metadata": {
    "ExecuteTime": {
     "end_time": "2025-01-21T23:53:39.135093Z",
     "start_time": "2025-01-21T23:53:39.132820Z"
    }
   },
   "cell_type": "code",
   "source": "y_lyrics[0]",
   "id": "6f9292b6848dcb79",
   "outputs": [
    {
     "data": {
      "text/plain": [
       "array([1., 0., 0., 0., 0., 0., 0., 0.])"
      ]
     },
     "execution_count": 36,
     "metadata": {},
     "output_type": "execute_result"
    }
   ],
   "execution_count": 36
  },
  {
   "metadata": {
    "ExecuteTime": {
     "end_time": "2025-01-21T23:53:39.168165Z",
     "start_time": "2025-01-21T23:53:39.165767Z"
    }
   },
   "cell_type": "code",
   "source": "metadata_preds",
   "id": "8dc7d47306494460",
   "outputs": [
    {
     "data": {
      "text/plain": [
       "array([[8.7144916e-05, 2.5156148e-02, 1.3017146e-01, ..., 8.8085219e-02,\n",
       "        7.5266618e-01, 3.6832471e-03],\n",
       "       [4.2261163e-04, 4.5460615e-02, 8.4513348e-01, ..., 5.1988691e-02,\n",
       "        6.2842667e-03, 4.9800880e-02],\n",
       "       [5.9603728e-05, 3.3487382e-03, 9.6485472e-01, ..., 6.2465006e-03,\n",
       "        2.4273584e-02, 1.1509251e-03],\n",
       "       ...,\n",
       "       [4.9055569e-05, 1.1005068e-04, 1.9488112e-03, ..., 1.1791665e-02,\n",
       "        3.1297989e-03, 9.8284262e-01],\n",
       "       [7.6907404e-02, 1.3011592e-03, 8.2965791e-01, ..., 3.6866263e-02,\n",
       "        4.4625583e-03, 2.6653297e-02],\n",
       "       [2.9429980e-03, 3.2061874e-04, 2.6021239e-03, ..., 1.4761310e-02,\n",
       "        7.4278559e-03, 9.0159416e-01]], dtype=float32)"
      ]
     },
     "execution_count": 37,
     "metadata": {},
     "output_type": "execute_result"
    }
   ],
   "execution_count": 37
  },
  {
   "metadata": {
    "ExecuteTime": {
     "end_time": "2025-01-22T00:51:48.514579Z",
     "start_time": "2025-01-22T00:51:48.512100Z"
    }
   },
   "cell_type": "code",
   "source": [
    "weights = {\n",
    "    \"lyrics\": 0.49,\n",
    "    \"audio\": 0.04,\n",
    "    \"metadata\": 0.47\n",
    "}\n",
    "\n",
    "# Weighted sum of probabilities\n",
    "combined_probs = (\n",
    "    lyrics_probs * weights[\"lyrics\"] +\n",
    "    audio_preds * weights[\"audio\"] +\n",
    "    metadata_preds * weights[\"metadata\"]\n",
    ")"
   ],
   "id": "3ac9c0cee0a5dca",
   "outputs": [],
   "execution_count": 237
  },
  {
   "metadata": {
    "ExecuteTime": {
     "end_time": "2025-01-22T00:51:48.862142Z",
     "start_time": "2025-01-22T00:51:48.859384Z"
    }
   },
   "cell_type": "code",
   "source": "y_lyrics",
   "id": "f95d07a9557216e3",
   "outputs": [
    {
     "data": {
      "text/plain": [
       "array([[1., 0., 0., ..., 0., 0., 0.],\n",
       "       [1., 0., 0., ..., 0., 0., 0.],\n",
       "       [1., 0., 0., ..., 0., 0., 0.],\n",
       "       ...,\n",
       "       [0., 0., 0., ..., 0., 0., 1.],\n",
       "       [0., 0., 0., ..., 0., 0., 1.],\n",
       "       [0., 0., 0., ..., 0., 0., 1.]])"
      ]
     },
     "execution_count": 238,
     "metadata": {},
     "output_type": "execute_result"
    }
   ],
   "execution_count": 238
  },
  {
   "metadata": {
    "ExecuteTime": {
     "end_time": "2025-01-22T00:51:49.095736Z",
     "start_time": "2025-01-22T00:51:49.094100Z"
    }
   },
   "cell_type": "code",
   "source": [
    "# Final predictions\n",
    "final_preds = np.argmax(combined_probs, axis=1)"
   ],
   "id": "254963fe39ec08e4",
   "outputs": [],
   "execution_count": 239
  },
  {
   "metadata": {
    "ExecuteTime": {
     "end_time": "2025-01-22T00:51:49.317121Z",
     "start_time": "2025-01-22T00:51:49.314618Z"
    }
   },
   "cell_type": "code",
   "source": "combined_probs[291]",
   "id": "eb7edfeb546f7db4",
   "outputs": [
    {
     "data": {
      "text/plain": [
       "array([7.3308633e-03, 8.8984799e-03, 1.3148826e-02, 4.0068654e-03,\n",
       "       9.5439732e-01, 9.3244584e-03, 7.2690839e-04, 5.4965285e-03],\n",
       "      dtype=float32)"
      ]
     },
     "execution_count": 240,
     "metadata": {},
     "output_type": "execute_result"
    }
   ],
   "execution_count": 240
  },
  {
   "metadata": {
    "ExecuteTime": {
     "end_time": "2025-01-22T00:51:49.742441Z",
     "start_time": "2025-01-22T00:51:49.740159Z"
    }
   },
   "cell_type": "code",
   "source": "audio_preds[291]",
   "id": "157d75362bfe6329",
   "outputs": [
    {
     "data": {
      "text/plain": [
       "array([0.16464683, 0.20458728, 0.2276863 , 0.0122072 , 0.10550575,\n",
       "       0.21234454, 0.00514981, 0.06787235], dtype=float32)"
      ]
     },
     "execution_count": 241,
     "metadata": {},
     "output_type": "execute_result"
    }
   ],
   "execution_count": 241
  },
  {
   "metadata": {
    "ExecuteTime": {
     "end_time": "2025-01-22T00:51:50.299797Z",
     "start_time": "2025-01-22T00:51:50.135514Z"
    }
   },
   "cell_type": "code",
   "source": [
    "# True labels\n",
    "true_labels = audio_labels\n",
    " # Assuming all labels are the same\n",
    "\n",
    "# Accuracy\n",
    "accuracy = accuracy_score(true_labels, final_preds)\n",
    "print(f\"Weighted Voting Accuracy: {accuracy:.4f}\")\n",
    "\n",
    "# Classification report\n",
    "print(\"Classification Report:\")\n",
    "print(classification_report(true_labels, final_preds, target_names=label_encoder.classes_))\n",
    "\n",
    "# F1 score\n",
    "f1 = f1_score(true_labels, final_preds, average=\"weighted\")\n",
    "print(f\"Weighted Voting F1 Score: {f1:.4f}\")\n",
    "\n",
    "# Confusion matrix\n",
    "conf_matrix = confusion_matrix(true_labels, final_preds)\n",
    "\n",
    "# Plot confusion matrix\n",
    "sns.heatmap(conf_matrix, annot=True, fmt=\"d\", cmap=\"Blues\", xticklabels=label_encoder.classes_, yticklabels=label_encoder.classes_)\n",
    "plt.title(\"Confusion Matrix\")\n",
    "plt.xlabel(\"Predicted\")\n",
    "plt.ylabel(\"True\")\n",
    "plt.show()\n",
    "\n",
    "# Normalize the confusion matrix\n",
    "conf_matrix = conf_matrix / conf_matrix.sum(axis=1)[:, np.newaxis]\n",
    "\n",
    "# Plot normalized confusion matrix\n",
    "sns.heatmap(conf_matrix, annot=True, fmt=\".2f\", cmap=\"Blues\", xticklabels=label_encoder.classes_, yticklabels=label_encoder.classes_)\n",
    "plt.title(\"Normalized Confusion Matrix\")\n",
    "plt.xlabel(\"Predicted\")\n",
    "plt.ylabel(\"True\")\n",
    "plt.show()"
   ],
   "id": "ca3af62195a20683",
   "outputs": [
    {
     "name": "stdout",
     "output_type": "stream",
     "text": [
      "Weighted Voting Accuracy: 0.4419\n",
      "Classification Report:\n",
      "              precision    recall  f1-score   support\n",
      "\n",
      "     Country       0.11      0.02      0.03        60\n",
      "     Hip-Hop       0.23      0.17      0.20        35\n",
      "       Indie       0.33      0.67      0.44        95\n",
      "        Jazz       0.71      0.94      0.81        82\n",
      "       Metal       0.43      0.84      0.57        51\n",
      "         Pop       0.44      0.08      0.14        99\n",
      "         Rap       0.54      0.63      0.58        46\n",
      "        Rock       0.39      0.23      0.29       100\n",
      "\n",
      "    accuracy                           0.44       568\n",
      "   macro avg       0.40      0.45      0.38       568\n",
      "weighted avg       0.41      0.44      0.38       568\n",
      "\n",
      "Weighted Voting F1 Score: 0.3792\n"
     ]
    },
    {
     "data": {
      "text/plain": [
       "<Figure size 640x480 with 2 Axes>"
      ],
      "image/png": "[encoded data removed]"
     },
     "metadata": {},
     "output_type": "display_data"
    },
    {
     "data": {
      "text/plain": [
       "<Figure size 640x480 with 2 Axes>"
      ],
      "image/png": "[encoded data removed]"
     },
     "metadata": {},
     "output_type": "display_data"
    }
   ],
   "execution_count": 242
  },
  {
   "metadata": {
    "ExecuteTime": {
     "end_time": "2025-01-22T00:00:02.671920Z",
     "start_time": "2025-01-22T00:00:02.669968Z"
    }
   },
   "cell_type": "code",
   "source": "true_labels[0]",
   "id": "4fbfffb0acd5c76b",
   "outputs": [
    {
     "data": {
      "text/plain": [
       "0"
      ]
     },
     "execution_count": 121,
     "metadata": {},
     "output_type": "execute_result"
    }
   ],
   "execution_count": 121
  },
  {
   "metadata": {
    "ExecuteTime": {
     "end_time": "2025-01-21T23:53:40.079735Z",
     "start_time": "2025-01-21T23:53:40.078349Z"
    }
   },
   "cell_type": "code",
   "source": "",
   "id": "bd1fe9ee1ecae09d",
   "outputs": [],
   "execution_count": null
  },
  {
   "metadata": {
    "ExecuteTime": {
     "end_time": "2025-01-21T23:53:40.185677Z",
     "start_time": "2025-01-21T23:53:40.183857Z"
    }
   },
   "cell_type": "code",
   "source": [
    "# Get lyrics true labels\n",
    "lyrics_true_labels = np.argmax(y_lyrics, axis=1)"
   ],
   "id": "3785cb04c5e9f88f",
   "outputs": [],
   "execution_count": 45
  },
  {
   "metadata": {
    "ExecuteTime": {
     "end_time": "2025-01-21T23:53:40.281761Z",
     "start_time": "2025-01-21T23:53:40.279483Z"
    }
   },
   "cell_type": "code",
   "source": "lyrics_true_labels",
   "id": "332f19c41338c818",
   "outputs": [
    {
     "data": {
      "text/plain": [
       "array([0, 0, 0, 0, 0, 0, 0, 0, 0, 0, 0, 0, 0, 0, 0, 0, 0, 0, 0, 0, 0, 0,\n",
       "       0, 0, 0, 0, 0, 0, 0, 0, 0, 0, 0, 0, 0, 0, 0, 0, 0, 0, 0, 0, 0, 0,\n",
       "       0, 0, 0, 0, 0, 0, 0, 0, 0, 0, 0, 0, 0, 0, 0, 0, 1, 1, 1, 1, 1, 1,\n",
       "       1, 1, 1, 1, 1, 1, 1, 1, 1, 1, 1, 1, 1, 1, 1, 1, 1, 1, 1, 1, 1, 1,\n",
       "       1, 1, 1, 1, 1, 1, 1, 2, 2, 2, 2, 2, 2, 2, 2, 2, 2, 2, 2, 2, 2, 2,\n",
       "       2, 2, 2, 2, 2, 2, 2, 2, 2, 2, 2, 2, 2, 2, 2, 2, 2, 2, 2, 2, 2, 2,\n",
       "       2, 2, 2, 2, 2, 2, 2, 2, 2, 2, 2, 2, 2, 2, 2, 2, 2, 2, 2, 2, 2, 2,\n",
       "       2, 2, 2, 2, 2, 2, 2, 2, 2, 2, 2, 2, 2, 2, 2, 2, 2, 2, 2, 2, 2, 2,\n",
       "       2, 2, 2, 2, 2, 2, 2, 2, 2, 2, 2, 2, 2, 2, 3, 3, 3, 3, 3, 3, 3, 3,\n",
       "       3, 3, 3, 3, 3, 3, 3, 3, 3, 3, 3, 3, 3, 3, 3, 3, 3, 3, 3, 3, 3, 3,\n",
       "       3, 3, 3, 3, 3, 3, 3, 3, 3, 3, 3, 3, 3, 3, 3, 3, 3, 3, 3, 3, 3, 3,\n",
       "       3, 3, 3, 3, 3, 3, 3, 3, 3, 3, 3, 3, 3, 3, 3, 3, 3, 3, 3, 3, 3, 3,\n",
       "       3, 3, 3, 3, 3, 3, 3, 3, 4, 4, 4, 4, 4, 4, 4, 4, 4, 4, 4, 4, 4, 4,\n",
       "       4, 4, 4, 4, 4, 4, 4, 4, 4, 4, 4, 4, 4, 4, 4, 4, 4, 4, 4, 4, 4, 4,\n",
       "       4, 4, 4, 4, 4, 4, 4, 4, 4, 4, 4, 4, 4, 4, 4, 5, 5, 5, 5, 5, 5, 5,\n",
       "       5, 5, 5, 5, 5, 5, 5, 5, 5, 5, 5, 5, 5, 5, 5, 5, 5, 5, 5, 5, 5, 5,\n",
       "       5, 5, 5, 5, 5, 5, 5, 5, 5, 5, 5, 5, 5, 5, 5, 5, 5, 5, 5, 5, 5, 5,\n",
       "       5, 5, 5, 5, 5, 5, 5, 5, 5, 5, 5, 5, 5, 5, 5, 5, 5, 5, 5, 5, 5, 5,\n",
       "       5, 5, 5, 5, 5, 5, 5, 5, 5, 5, 5, 5, 5, 5, 5, 5, 5, 5, 5, 5, 5, 5,\n",
       "       5, 5, 5, 5, 6, 6, 6, 6, 6, 6, 6, 6, 6, 6, 6, 6, 6, 6, 6, 6, 6, 6,\n",
       "       6, 6, 6, 6, 6, 6, 6, 6, 6, 6, 6, 6, 6, 6, 6, 6, 6, 6, 6, 6, 6, 6,\n",
       "       6, 6, 6, 6, 6, 6, 7, 7, 7, 7, 7, 7, 7, 7, 7, 7, 7, 7, 7, 7, 7, 7,\n",
       "       7, 7, 7, 7, 7, 7, 7, 7, 7, 7, 7, 7, 7, 7, 7, 7, 7, 7, 7, 7, 7, 7,\n",
       "       7, 7, 7, 7, 7, 7, 7, 7, 7, 7, 7, 7, 7, 7, 7, 7, 7, 7, 7, 7, 7, 7,\n",
       "       7, 7, 7, 7, 7, 7, 7, 7, 7, 7, 7, 7, 7, 7, 7, 7, 7, 7, 7, 7, 7, 7,\n",
       "       7, 7, 7, 7, 7, 7, 7, 7, 7, 7, 7, 7, 7, 7, 7, 7, 7, 7])"
      ]
     },
     "execution_count": 46,
     "metadata": {},
     "output_type": "execute_result"
    }
   ],
   "execution_count": 46
  },
  {
   "metadata": {
    "ExecuteTime": {
     "end_time": "2025-01-21T23:53:40.380089Z",
     "start_time": "2025-01-21T23:53:40.376296Z"
    }
   },
   "cell_type": "code",
   "source": [
    "# Get audio true labels\n",
    "audio_true_labels = mel_dataset.labels\n",
    "audio_true_labels"
   ],
   "id": "ff92eace32a7ac90",
   "outputs": [
    {
     "data": {
      "text/plain": [
       "[0,\n",
       " 0,\n",
       " 0,\n",
       " 0,\n",
       " 0,\n",
       " 0,\n",
       " 0,\n",
       " 0,\n",
       " 0,\n",
       " 0,\n",
       " 0,\n",
       " 0,\n",
       " 0,\n",
       " 0,\n",
       " 0,\n",
       " 0,\n",
       " 0,\n",
       " 0,\n",
       " 0,\n",
       " 0,\n",
       " 0,\n",
       " 0,\n",
       " 0,\n",
       " 0,\n",
       " 0,\n",
       " 0,\n",
       " 0,\n",
       " 0,\n",
       " 0,\n",
       " 0,\n",
       " 0,\n",
       " 0,\n",
       " 0,\n",
       " 0,\n",
       " 0,\n",
       " 0,\n",
       " 0,\n",
       " 0,\n",
       " 0,\n",
       " 0,\n",
       " 0,\n",
       " 0,\n",
       " 0,\n",
       " 0,\n",
       " 0,\n",
       " 0,\n",
       " 0,\n",
       " 0,\n",
       " 0,\n",
       " 0,\n",
       " 0,\n",
       " 0,\n",
       " 0,\n",
       " 0,\n",
       " 0,\n",
       " 0,\n",
       " 0,\n",
       " 0,\n",
       " 0,\n",
       " 0,\n",
       " 1,\n",
       " 1,\n",
       " 1,\n",
       " 1,\n",
       " 1,\n",
       " 1,\n",
       " 1,\n",
       " 1,\n",
       " 1,\n",
       " 1,\n",
       " 1,\n",
       " 1,\n",
       " 1,\n",
       " 1,\n",
       " 1,\n",
       " 1,\n",
       " 1,\n",
       " 1,\n",
       " 1,\n",
       " 1,\n",
       " 1,\n",
       " 1,\n",
       " 1,\n",
       " 1,\n",
       " 1,\n",
       " 1,\n",
       " 1,\n",
       " 1,\n",
       " 1,\n",
       " 1,\n",
       " 1,\n",
       " 1,\n",
       " 1,\n",
       " 1,\n",
       " 1,\n",
       " 2,\n",
       " 2,\n",
       " 2,\n",
       " 2,\n",
       " 2,\n",
       " 2,\n",
       " 2,\n",
       " 2,\n",
       " 2,\n",
       " 2,\n",
       " 2,\n",
       " 2,\n",
       " 2,\n",
       " 2,\n",
       " 2,\n",
       " 2,\n",
       " 2,\n",
       " 2,\n",
       " 2,\n",
       " 2,\n",
       " 2,\n",
       " 2,\n",
       " 2,\n",
       " 2,\n",
       " 2,\n",
       " 2,\n",
       " 2,\n",
       " 2,\n",
       " 2,\n",
       " 2,\n",
       " 2,\n",
       " 2,\n",
       " 2,\n",
       " 2,\n",
       " 2,\n",
       " 2,\n",
       " 2,\n",
       " 2,\n",
       " 2,\n",
       " 2,\n",
       " 2,\n",
       " 2,\n",
       " 2,\n",
       " 2,\n",
       " 2,\n",
       " 2,\n",
       " 2,\n",
       " 2,\n",
       " 2,\n",
       " 2,\n",
       " 2,\n",
       " 2,\n",
       " 2,\n",
       " 2,\n",
       " 2,\n",
       " 2,\n",
       " 2,\n",
       " 2,\n",
       " 2,\n",
       " 2,\n",
       " 2,\n",
       " 2,\n",
       " 2,\n",
       " 2,\n",
       " 2,\n",
       " 2,\n",
       " 2,\n",
       " 2,\n",
       " 2,\n",
       " 2,\n",
       " 2,\n",
       " 2,\n",
       " 2,\n",
       " 2,\n",
       " 2,\n",
       " 2,\n",
       " 2,\n",
       " 2,\n",
       " 2,\n",
       " 2,\n",
       " 2,\n",
       " 2,\n",
       " 2,\n",
       " 2,\n",
       " 2,\n",
       " 2,\n",
       " 2,\n",
       " 2,\n",
       " 2,\n",
       " 2,\n",
       " 2,\n",
       " 2,\n",
       " 2,\n",
       " 2,\n",
       " 2,\n",
       " 3,\n",
       " 3,\n",
       " 3,\n",
       " 3,\n",
       " 3,\n",
       " 3,\n",
       " 3,\n",
       " 3,\n",
       " 3,\n",
       " 3,\n",
       " 3,\n",
       " 3,\n",
       " 3,\n",
       " 3,\n",
       " 3,\n",
       " 3,\n",
       " 3,\n",
       " 3,\n",
       " 3,\n",
       " 3,\n",
       " 3,\n",
       " 3,\n",
       " 3,\n",
       " 3,\n",
       " 3,\n",
       " 3,\n",
       " 3,\n",
       " 3,\n",
       " 3,\n",
       " 3,\n",
       " 3,\n",
       " 3,\n",
       " 3,\n",
       " 3,\n",
       " 3,\n",
       " 3,\n",
       " 3,\n",
       " 3,\n",
       " 3,\n",
       " 3,\n",
       " 3,\n",
       " 3,\n",
       " 3,\n",
       " 3,\n",
       " 3,\n",
       " 3,\n",
       " 3,\n",
       " 3,\n",
       " 3,\n",
       " 3,\n",
       " 3,\n",
       " 3,\n",
       " 3,\n",
       " 3,\n",
       " 3,\n",
       " 3,\n",
       " 3,\n",
       " 3,\n",
       " 3,\n",
       " 3,\n",
       " 3,\n",
       " 3,\n",
       " 3,\n",
       " 3,\n",
       " 3,\n",
       " 3,\n",
       " 3,\n",
       " 3,\n",
       " 3,\n",
       " 3,\n",
       " 3,\n",
       " 3,\n",
       " 3,\n",
       " 3,\n",
       " 3,\n",
       " 3,\n",
       " 3,\n",
       " 3,\n",
       " 3,\n",
       " 3,\n",
       " 3,\n",
       " 3,\n",
       " 4,\n",
       " 4,\n",
       " 4,\n",
       " 4,\n",
       " 4,\n",
       " 4,\n",
       " 4,\n",
       " 4,\n",
       " 4,\n",
       " 4,\n",
       " 4,\n",
       " 4,\n",
       " 4,\n",
       " 4,\n",
       " 4,\n",
       " 4,\n",
       " 4,\n",
       " 4,\n",
       " 4,\n",
       " 4,\n",
       " 4,\n",
       " 4,\n",
       " 4,\n",
       " 4,\n",
       " 4,\n",
       " 4,\n",
       " 4,\n",
       " 4,\n",
       " 4,\n",
       " 4,\n",
       " 4,\n",
       " 4,\n",
       " 4,\n",
       " 4,\n",
       " 4,\n",
       " 4,\n",
       " 4,\n",
       " 4,\n",
       " 4,\n",
       " 4,\n",
       " 4,\n",
       " 4,\n",
       " 4,\n",
       " 4,\n",
       " 4,\n",
       " 4,\n",
       " 4,\n",
       " 4,\n",
       " 4,\n",
       " 4,\n",
       " 4,\n",
       " 5,\n",
       " 5,\n",
       " 5,\n",
       " 5,\n",
       " 5,\n",
       " 5,\n",
       " 5,\n",
       " 5,\n",
       " 5,\n",
       " 5,\n",
       " 5,\n",
       " 5,\n",
       " 5,\n",
       " 5,\n",
       " 5,\n",
       " 5,\n",
       " 5,\n",
       " 5,\n",
       " 5,\n",
       " 5,\n",
       " 5,\n",
       " 5,\n",
       " 5,\n",
       " 5,\n",
       " 5,\n",
       " 5,\n",
       " 5,\n",
       " 5,\n",
       " 5,\n",
       " 5,\n",
       " 5,\n",
       " 5,\n",
       " 5,\n",
       " 5,\n",
       " 5,\n",
       " 5,\n",
       " 5,\n",
       " 5,\n",
       " 5,\n",
       " 5,\n",
       " 5,\n",
       " 5,\n",
       " 5,\n",
       " 5,\n",
       " 5,\n",
       " 5,\n",
       " 5,\n",
       " 5,\n",
       " 5,\n",
       " 5,\n",
       " 5,\n",
       " 5,\n",
       " 5,\n",
       " 5,\n",
       " 5,\n",
       " 5,\n",
       " 5,\n",
       " 5,\n",
       " 5,\n",
       " 5,\n",
       " 5,\n",
       " 5,\n",
       " 5,\n",
       " 5,\n",
       " 5,\n",
       " 5,\n",
       " 5,\n",
       " 5,\n",
       " 5,\n",
       " 5,\n",
       " 5,\n",
       " 5,\n",
       " 5,\n",
       " 5,\n",
       " 5,\n",
       " 5,\n",
       " 5,\n",
       " 5,\n",
       " 5,\n",
       " 5,\n",
       " 5,\n",
       " 5,\n",
       " 5,\n",
       " 5,\n",
       " 5,\n",
       " 5,\n",
       " 5,\n",
       " 5,\n",
       " 5,\n",
       " 5,\n",
       " 5,\n",
       " 5,\n",
       " 5,\n",
       " 5,\n",
       " 5,\n",
       " 5,\n",
       " 5,\n",
       " 5,\n",
       " 5,\n",
       " 6,\n",
       " 6,\n",
       " 6,\n",
       " 6,\n",
       " 6,\n",
       " 6,\n",
       " 6,\n",
       " 6,\n",
       " 6,\n",
       " 6,\n",
       " 6,\n",
       " 6,\n",
       " 6,\n",
       " 6,\n",
       " 6,\n",
       " 6,\n",
       " 6,\n",
       " 6,\n",
       " 6,\n",
       " 6,\n",
       " 6,\n",
       " 6,\n",
       " 6,\n",
       " 6,\n",
       " 6,\n",
       " 6,\n",
       " 6,\n",
       " 6,\n",
       " 6,\n",
       " 6,\n",
       " 6,\n",
       " 6,\n",
       " 6,\n",
       " 6,\n",
       " 6,\n",
       " 6,\n",
       " 6,\n",
       " 6,\n",
       " 6,\n",
       " 6,\n",
       " 6,\n",
       " 6,\n",
       " 6,\n",
       " 6,\n",
       " 6,\n",
       " 6,\n",
       " 7,\n",
       " 7,\n",
       " 7,\n",
       " 7,\n",
       " 7,\n",
       " 7,\n",
       " 7,\n",
       " 7,\n",
       " 7,\n",
       " 7,\n",
       " 7,\n",
       " 7,\n",
       " 7,\n",
       " 7,\n",
       " 7,\n",
       " 7,\n",
       " 7,\n",
       " 7,\n",
       " 7,\n",
       " 7,\n",
       " 7,\n",
       " 7,\n",
       " 7,\n",
       " 7,\n",
       " 7,\n",
       " 7,\n",
       " 7,\n",
       " 7,\n",
       " 7,\n",
       " 7,\n",
       " 7,\n",
       " 7,\n",
       " 7,\n",
       " 7,\n",
       " 7,\n",
       " 7,\n",
       " 7,\n",
       " 7,\n",
       " 7,\n",
       " 7,\n",
       " 7,\n",
       " 7,\n",
       " 7,\n",
       " 7,\n",
       " 7,\n",
       " 7,\n",
       " 7,\n",
       " 7,\n",
       " 7,\n",
       " 7,\n",
       " 7,\n",
       " 7,\n",
       " 7,\n",
       " 7,\n",
       " 7,\n",
       " 7,\n",
       " 7,\n",
       " 7,\n",
       " 7,\n",
       " 7,\n",
       " 7,\n",
       " 7,\n",
       " 7,\n",
       " 7,\n",
       " 7,\n",
       " 7,\n",
       " 7,\n",
       " 7,\n",
       " 7,\n",
       " 7,\n",
       " 7,\n",
       " 7,\n",
       " 7,\n",
       " 7,\n",
       " 7,\n",
       " 7,\n",
       " 7,\n",
       " 7,\n",
       " 7,\n",
       " 7,\n",
       " 7,\n",
       " 7,\n",
       " 7,\n",
       " 7,\n",
       " 7,\n",
       " 7,\n",
       " 7,\n",
       " 7,\n",
       " 7,\n",
       " 7,\n",
       " 7,\n",
       " 7,\n",
       " 7,\n",
       " 7,\n",
       " 7,\n",
       " 7,\n",
       " 7,\n",
       " 7,\n",
       " 7,\n",
       " 7]"
      ]
     },
     "execution_count": 47,
     "metadata": {},
     "output_type": "execute_result"
    }
   ],
   "execution_count": 47
  },
  {
   "metadata": {
    "ExecuteTime": {
     "end_time": "2025-01-21T23:53:40.472747Z",
     "start_time": "2025-01-21T23:53:40.470972Z"
    }
   },
   "cell_type": "code",
   "source": [
    "# Get metadata true labels\n",
    "metadata_true_labels = y_metadata"
   ],
   "id": "1c41bba9d690ffef",
   "outputs": [],
   "execution_count": 48
  },
  {
   "metadata": {
    "ExecuteTime": {
     "end_time": "2025-01-21T23:53:40.562828Z",
     "start_time": "2025-01-21T23:53:40.560452Z"
    }
   },
   "cell_type": "code",
   "source": "metadata_true_labels",
   "id": "88020e49b6d21fa",
   "outputs": [
    {
     "data": {
      "text/plain": [
       "array([0, 0, 0, 0, 0, 0, 0, 0, 0, 0, 0, 0, 0, 0, 0, 0, 0, 0, 0, 0, 0, 0,\n",
       "       0, 0, 0, 0, 0, 0, 0, 0, 0, 0, 0, 0, 0, 0, 0, 0, 0, 0, 0, 0, 0, 0,\n",
       "       0, 0, 0, 0, 0, 0, 0, 0, 0, 0, 0, 0, 0, 0, 0, 0, 1, 1, 1, 1, 1, 1,\n",
       "       1, 1, 1, 1, 1, 1, 1, 1, 1, 1, 1, 1, 1, 1, 1, 1, 1, 1, 1, 1, 1, 1,\n",
       "       1, 1, 1, 1, 1, 1, 1, 2, 2, 2, 2, 2, 2, 2, 2, 2, 2, 2, 2, 2, 2, 2,\n",
       "       2, 2, 2, 2, 2, 2, 2, 2, 2, 2, 2, 2, 2, 2, 2, 2, 2, 2, 2, 2, 2, 2,\n",
       "       2, 2, 2, 2, 2, 2, 2, 2, 2, 2, 2, 2, 2, 2, 2, 2, 2, 2, 2, 2, 2, 2,\n",
       "       2, 2, 2, 2, 2, 2, 2, 2, 2, 2, 2, 2, 2, 2, 2, 2, 2, 2, 2, 2, 2, 2,\n",
       "       2, 2, 2, 2, 2, 2, 2, 2, 2, 2, 2, 2, 2, 2, 3, 3, 3, 3, 3, 3, 3, 3,\n",
       "       3, 3, 3, 3, 3, 3, 3, 3, 3, 3, 3, 3, 3, 3, 3, 3, 3, 3, 3, 3, 3, 3,\n",
       "       3, 3, 3, 3, 3, 3, 3, 3, 3, 3, 3, 3, 3, 3, 3, 3, 3, 3, 3, 3, 3, 3,\n",
       "       3, 3, 3, 3, 3, 3, 3, 3, 3, 3, 3, 3, 3, 3, 3, 3, 3, 3, 3, 3, 3, 3,\n",
       "       3, 3, 3, 3, 3, 3, 3, 3, 4, 4, 4, 4, 4, 4, 4, 4, 4, 4, 4, 4, 4, 4,\n",
       "       4, 4, 4, 4, 4, 4, 4, 4, 4, 4, 4, 4, 4, 4, 4, 4, 4, 4, 4, 4, 4, 4,\n",
       "       4, 4, 4, 4, 4, 4, 4, 4, 4, 4, 4, 4, 4, 4, 4, 5, 5, 5, 5, 5, 5, 5,\n",
       "       5, 5, 5, 5, 5, 5, 5, 5, 5, 5, 5, 5, 5, 5, 5, 5, 5, 5, 5, 5, 5, 5,\n",
       "       5, 5, 5, 5, 5, 5, 5, 5, 5, 5, 5, 5, 5, 5, 5, 5, 5, 5, 5, 5, 5, 5,\n",
       "       5, 5, 5, 5, 5, 5, 5, 5, 5, 5, 5, 5, 5, 5, 5, 5, 5, 5, 5, 5, 5, 5,\n",
       "       5, 5, 5, 5, 5, 5, 5, 5, 5, 5, 5, 5, 5, 5, 5, 5, 5, 5, 5, 5, 5, 5,\n",
       "       5, 5, 5, 5, 6, 6, 6, 6, 6, 6, 6, 6, 6, 6, 6, 6, 6, 6, 6, 6, 6, 6,\n",
       "       6, 6, 6, 6, 6, 6, 6, 6, 6, 6, 6, 6, 6, 6, 6, 6, 6, 6, 6, 6, 6, 6,\n",
       "       6, 6, 6, 6, 6, 6, 7, 7, 7, 7, 7, 7, 7, 7, 7, 7, 7, 7, 7, 7, 7, 7,\n",
       "       7, 7, 7, 7, 7, 7, 7, 7, 7, 7, 7, 7, 7, 7, 7, 7, 7, 7, 7, 7, 7, 7,\n",
       "       7, 7, 7, 7, 7, 7, 7, 7, 7, 7, 7, 7, 7, 7, 7, 7, 7, 7, 7, 7, 7, 7,\n",
       "       7, 7, 7, 7, 7, 7, 7, 7, 7, 7, 7, 7, 7, 7, 7, 7, 7, 7, 7, 7, 7, 7,\n",
       "       7, 7, 7, 7, 7, 7, 7, 7, 7, 7, 7, 7, 7, 7, 7, 7, 7, 7])"
      ]
     },
     "execution_count": 49,
     "metadata": {},
     "output_type": "execute_result"
    }
   ],
   "execution_count": 49
  },
  {
   "metadata": {
    "ExecuteTime": {
     "end_time": "2025-01-21T23:53:40.649793Z",
     "start_time": "2025-01-21T23:53:40.647495Z"
    }
   },
   "cell_type": "code",
   "source": [
    "# check metadata_true_labels == lyrics_true_labels == audio_true_labels\n",
    "metadata_true_labels == lyrics_true_labels"
   ],
   "id": "28d940cd0cf5750c",
   "outputs": [
    {
     "data": {
      "text/plain": [
       "array([ True,  True,  True,  True,  True,  True,  True,  True,  True,\n",
       "        True,  True,  True,  True,  True,  True,  True,  True,  True,\n",
       "        True,  True,  True,  True,  True,  True,  True,  True,  True,\n",
       "        True,  True,  True,  True,  True,  True,  True,  True,  True,\n",
       "        True,  True,  True,  True,  True,  True,  True,  True,  True,\n",
       "        True,  True,  True,  True,  True,  True,  True,  True,  True,\n",
       "        True,  True,  True,  True,  True,  True,  True,  True,  True,\n",
       "        True,  True,  True,  True,  True,  True,  True,  True,  True,\n",
       "        True,  True,  True,  True,  True,  True,  True,  True,  True,\n",
       "        True,  True,  True,  True,  True,  True,  True,  True,  True,\n",
       "        True,  True,  True,  True,  True,  True,  True,  True,  True,\n",
       "        True,  True,  True,  True,  True,  True,  True,  True,  True,\n",
       "        True,  True,  True,  True,  True,  True,  True,  True,  True,\n",
       "        True,  True,  True,  True,  True,  True,  True,  True,  True,\n",
       "        True,  True,  True,  True,  True,  True,  True,  True,  True,\n",
       "        True,  True,  True,  True,  True,  True,  True,  True,  True,\n",
       "        True,  True,  True,  True,  True,  True,  True,  True,  True,\n",
       "        True,  True,  True,  True,  True,  True,  True,  True,  True,\n",
       "        True,  True,  True,  True,  True,  True,  True,  True,  True,\n",
       "        True,  True,  True,  True,  True,  True,  True,  True,  True,\n",
       "        True,  True,  True,  True,  True,  True,  True,  True,  True,\n",
       "        True,  True,  True,  True,  True,  True,  True,  True,  True,\n",
       "        True,  True,  True,  True,  True,  True,  True,  True,  True,\n",
       "        True,  True,  True,  True,  True,  True,  True,  True,  True,\n",
       "        True,  True,  True,  True,  True,  True,  True,  True,  True,\n",
       "        True,  True,  True,  True,  True,  True,  True,  True,  True,\n",
       "        True,  True,  True,  True,  True,  True,  True,  True,  True,\n",
       "        True,  True,  True,  True,  True,  True,  True,  True,  True,\n",
       "        True,  True,  True,  True,  True,  True,  True,  True,  True,\n",
       "        True,  True,  True,  True,  True,  True,  True,  True,  True,\n",
       "        True,  True,  True,  True,  True,  True,  True,  True,  True,\n",
       "        True,  True,  True,  True,  True,  True,  True,  True,  True,\n",
       "        True,  True,  True,  True,  True,  True,  True,  True,  True,\n",
       "        True,  True,  True,  True,  True,  True,  True,  True,  True,\n",
       "        True,  True,  True,  True,  True,  True,  True,  True,  True,\n",
       "        True,  True,  True,  True,  True,  True,  True,  True,  True,\n",
       "        True,  True,  True,  True,  True,  True,  True,  True,  True,\n",
       "        True,  True,  True,  True,  True,  True,  True,  True,  True,\n",
       "        True,  True,  True,  True,  True,  True,  True,  True,  True,\n",
       "        True,  True,  True,  True,  True,  True,  True,  True,  True,\n",
       "        True,  True,  True,  True,  True,  True,  True,  True,  True,\n",
       "        True,  True,  True,  True,  True,  True,  True,  True,  True,\n",
       "        True,  True,  True,  True,  True,  True,  True,  True,  True,\n",
       "        True,  True,  True,  True,  True,  True,  True,  True,  True,\n",
       "        True,  True,  True,  True,  True,  True,  True,  True,  True,\n",
       "        True,  True,  True,  True,  True,  True,  True,  True,  True,\n",
       "        True,  True,  True,  True,  True,  True,  True,  True,  True,\n",
       "        True,  True,  True,  True,  True,  True,  True,  True,  True,\n",
       "        True,  True,  True,  True,  True,  True,  True,  True,  True,\n",
       "        True,  True,  True,  True,  True,  True,  True,  True,  True,\n",
       "        True,  True,  True,  True,  True,  True,  True,  True,  True,\n",
       "        True,  True,  True,  True,  True,  True,  True,  True,  True,\n",
       "        True,  True,  True,  True,  True,  True,  True,  True,  True,\n",
       "        True,  True,  True,  True,  True,  True,  True,  True,  True,\n",
       "        True,  True,  True,  True,  True,  True,  True,  True,  True,\n",
       "        True,  True,  True,  True,  True,  True,  True,  True,  True,\n",
       "        True,  True,  True,  True,  True,  True,  True,  True,  True,\n",
       "        True,  True,  True,  True,  True,  True,  True,  True,  True,\n",
       "        True,  True,  True,  True,  True,  True,  True,  True,  True,\n",
       "        True,  True,  True,  True,  True,  True,  True,  True,  True,\n",
       "        True,  True,  True,  True,  True,  True,  True,  True,  True,\n",
       "        True,  True,  True,  True,  True,  True,  True,  True,  True,\n",
       "        True,  True,  True,  True,  True,  True,  True,  True,  True,\n",
       "        True])"
      ]
     },
     "execution_count": 50,
     "metadata": {},
     "output_type": "execute_result"
    }
   ],
   "execution_count": 50
  },
  {
   "metadata": {
    "ExecuteTime": {
     "end_time": "2025-01-21T23:53:40.747536Z",
     "start_time": "2025-01-21T23:53:40.745288Z"
    }
   },
   "cell_type": "code",
   "source": "audio_true_labels == lyrics_true_labels",
   "id": "9bf7a1184e68779",
   "outputs": [
    {
     "data": {
      "text/plain": [
       "array([ True,  True,  True,  True,  True,  True,  True,  True,  True,\n",
       "        True,  True,  True,  True,  True,  True,  True,  True,  True,\n",
       "        True,  True,  True,  True,  True,  True,  True,  True,  True,\n",
       "        True,  True,  True,  True,  True,  True,  True,  True,  True,\n",
       "        True,  True,  True,  True,  True,  True,  True,  True,  True,\n",
       "        True,  True,  True,  True,  True,  True,  True,  True,  True,\n",
       "        True,  True,  True,  True,  True,  True,  True,  True,  True,\n",
       "        True,  True,  True,  True,  True,  True,  True,  True,  True,\n",
       "        True,  True,  True,  True,  True,  True,  True,  True,  True,\n",
       "        True,  True,  True,  True,  True,  True,  True,  True,  True,\n",
       "        True,  True,  True,  True,  True,  True,  True,  True,  True,\n",
       "        True,  True,  True,  True,  True,  True,  True,  True,  True,\n",
       "        True,  True,  True,  True,  True,  True,  True,  True,  True,\n",
       "        True,  True,  True,  True,  True,  True,  True,  True,  True,\n",
       "        True,  True,  True,  True,  True,  True,  True,  True,  True,\n",
       "        True,  True,  True,  True,  True,  True,  True,  True,  True,\n",
       "        True,  True,  True,  True,  True,  True,  True,  True,  True,\n",
       "        True,  True,  True,  True,  True,  True,  True,  True,  True,\n",
       "        True,  True,  True,  True,  True,  True,  True,  True,  True,\n",
       "        True,  True,  True,  True,  True,  True,  True,  True,  True,\n",
       "        True,  True,  True,  True,  True,  True,  True,  True,  True,\n",
       "        True,  True,  True,  True,  True,  True,  True,  True,  True,\n",
       "        True,  True,  True,  True,  True,  True,  True,  True,  True,\n",
       "        True,  True,  True,  True,  True,  True,  True,  True,  True,\n",
       "        True,  True,  True,  True,  True,  True,  True,  True,  True,\n",
       "        True,  True,  True,  True,  True,  True,  True,  True,  True,\n",
       "        True,  True,  True,  True,  True,  True,  True,  True,  True,\n",
       "        True,  True,  True,  True,  True,  True,  True,  True,  True,\n",
       "        True,  True,  True,  True,  True,  True,  True,  True,  True,\n",
       "        True,  True,  True,  True,  True,  True,  True,  True,  True,\n",
       "        True,  True,  True,  True,  True,  True,  True,  True,  True,\n",
       "        True,  True,  True,  True,  True,  True,  True,  True,  True,\n",
       "        True,  True,  True,  True,  True,  True,  True,  True,  True,\n",
       "        True,  True,  True,  True,  True,  True,  True,  True,  True,\n",
       "        True,  True,  True,  True,  True,  True,  True,  True,  True,\n",
       "        True,  True,  True,  True,  True,  True,  True,  True,  True,\n",
       "        True,  True,  True,  True,  True,  True,  True,  True,  True,\n",
       "        True,  True,  True,  True,  True,  True,  True,  True,  True,\n",
       "        True,  True,  True,  True,  True,  True,  True,  True,  True,\n",
       "        True,  True,  True,  True,  True,  True,  True,  True,  True,\n",
       "        True,  True,  True,  True,  True,  True,  True,  True,  True,\n",
       "        True,  True,  True,  True,  True,  True,  True,  True,  True,\n",
       "        True,  True,  True,  True,  True,  True,  True,  True,  True,\n",
       "        True,  True,  True,  True,  True,  True,  True,  True,  True,\n",
       "        True,  True,  True,  True,  True,  True,  True,  True,  True,\n",
       "        True,  True,  True,  True,  True,  True,  True,  True,  True,\n",
       "        True,  True,  True,  True,  True,  True,  True,  True,  True,\n",
       "        True,  True,  True,  True,  True,  True,  True,  True,  True,\n",
       "        True,  True,  True,  True,  True,  True,  True,  True,  True,\n",
       "        True,  True,  True,  True,  True,  True,  True,  True,  True,\n",
       "        True,  True,  True,  True,  True,  True,  True,  True,  True,\n",
       "        True,  True,  True,  True,  True,  True,  True,  True,  True,\n",
       "        True,  True,  True,  True,  True,  True,  True,  True,  True,\n",
       "        True,  True,  True,  True,  True,  True,  True,  True,  True,\n",
       "        True,  True,  True,  True,  True,  True,  True,  True,  True,\n",
       "        True,  True,  True,  True,  True,  True,  True,  True,  True,\n",
       "        True,  True,  True,  True,  True,  True,  True,  True,  True,\n",
       "        True,  True,  True,  True,  True,  True,  True,  True,  True,\n",
       "        True,  True,  True,  True,  True,  True,  True,  True,  True,\n",
       "        True,  True,  True,  True,  True,  True,  True,  True,  True,\n",
       "        True,  True,  True,  True,  True,  True,  True,  True,  True,\n",
       "        True,  True,  True,  True,  True,  True,  True,  True,  True,\n",
       "        True,  True,  True,  True,  True,  True,  True,  True,  True,\n",
       "        True])"
      ]
     },
     "execution_count": 51,
     "metadata": {},
     "output_type": "execute_result"
    }
   ],
   "execution_count": 51
  },
  {
   "metadata": {
    "ExecuteTime": {
     "end_time": "2025-01-21T23:53:40.836693Z",
     "start_time": "2025-01-21T23:53:40.835585Z"
    }
   },
   "cell_type": "code",
   "source": "",
   "id": "fc9e066758475075",
   "outputs": [],
   "execution_count": null
  }
 ],
 "metadata": {
  "kernelspec": {
   "display_name": "Python 3",
   "language": "python",
   "name": "python3"
  },
  "language_info": {
   "codemirror_mode": {
    "name": "ipython",
    "version": 2
   },
   "file_extension": ".py",
   "mimetype": "text/x-python",
   "name": "python",
   "nbconvert_exporter": "python",
   "pygments_lexer": "ipython2",
   "version": "2.7.6"
  }
 },
 "nbformat": 4,
 "nbformat_minor": 5
}
