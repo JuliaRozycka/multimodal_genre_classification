{
 "cells": [
  {
   "cell_type": "code",
   "id": "initial_id",
   "metadata": {
    "collapsed": true
   },
   "source": [
    "import matplotlib.pyplot as plt\n",
    "import numpy as np\n",
    "import seaborn as sns"
   ],
   "outputs": [],
   "execution_count": null
  },
  {
   "metadata": {},
   "cell_type": "code",
   "source": [
    "# Visualize mel spectrgram for 2 genrres: jazz and rock\n",
    "\n",
    "# Use latex\n",
    "plt.rc('text', usetex=True)\n",
    "plt.rc('font', family='serif')\n",
    "\n",
    "# Load the mel spectrogram\n",
    "jazz = np.load('mel_spectrogram/Jazz/004_004704.npy')\n",
    "rock = np.load('mel_spectrogram/Metal/001_001017.npy')\n",
    "\n",
    "# Set the same min and max for amplitude for both\n",
    "# Look for minimum value in jazz mel spec\n",
    "vmin = min(np.min(jazz), np.min(rock))\n",
    "vmax = max(np.max(jazz), np.max(rock))\n",
    "\n",
    "fig, axs = plt.subplots(2, 1, figsize=(12, 8))\n",
    "sns.heatmap(jazz, ax=axs[0], vmin=vmin, vmax=vmax, cmap='viridis')\n",
    "axs[0].set_title('Jazz', fontdict={'fontsize': 14})\n",
    "axs[0].set_xlabel('Time', fontdict={'fontsize': 12})\n",
    "axs[0].set_ylabel('Mel bands', fontdict={'fontsize': 12})\n",
    "# Set custom tick positions and labels for Jazz\n",
    "time_ticks = np.linspace(0, jazz.shape[1], num=5)  # 5 evenly spaced ticks\n",
    "axs[0].set_xticks(time_ticks)\n",
    "axs[0].set_xticklabels([f\"{int(tick)}\" for tick in np.linspace(0, 30, num=5)])  # Map to time in seconds\n",
    "freq_ticks = np.arange(0, jazz.shape[0] + 1, step=12)  # Ticks every 12 Mel bands\n",
    "axs[0].set_yticks(freq_ticks)\n",
    "axs[0].set_yticklabels([str(int(tick)) for tick in freq_ticks])  # Keep labels numeric\n",
    "\n",
    "# Invert y axis\n",
    "axs[0].invert_yaxis()\n",
    "\n",
    "\n",
    "sns.heatmap(rock, ax=axs[1], vmin=vmin, vmax=vmax, cmap='viridis')\n",
    "axs[1].set_title('Metal', fontdict={'fontsize': 14})\n",
    "axs[1].set_xlabel('Time', fontdict={'fontsize': 12})\n",
    "axs[1].set_ylabel('Mel bands', fontdict={'fontsize': 12})\n",
    "# Set custom tick positions and labels for Rock\n",
    "time_ticks = np.linspace(0, rock.shape[1], num=5)  # 5 evenly spaced ticks\n",
    "axs[1].set_xticks(time_ticks)\n",
    "axs[1].set_xticklabels([f\"{int(tick)}\" for tick in np.linspace(0, 30, num=5)])  # Map to time in seconds\n",
    "\n",
    "freq_ticks = np.arange(0, jazz.shape[0] +1 , step=12)  # Ticks every 12 Mel bands\n",
    "axs[1].set_yticks(freq_ticks)\n",
    "axs[1].set_yticklabels([str(int(tick)) for tick in freq_ticks])  # Keep labels numeric\n",
    "\n",
    "axs[1].invert_yaxis()\n",
    "\n",
    "plt.tight_layout()\n",
    "plt.savefig('melspec.png', dpi=300)\n",
    "# plt.savefig('melspec.svg', dpi=300)\n",
    "plt.savefig('melspec.eps', dpi=300)\n",
    "plt.show()\n"
   ],
   "id": "ed39ebae991ccb40",
   "outputs": [],
   "execution_count": null
  },
  {
   "metadata": {},
   "cell_type": "code",
   "source": "",
   "id": "9f1adf994f4e1829",
   "outputs": [],
   "execution_count": null
  },
  {
   "metadata": {},
   "cell_type": "code",
   "source": [
    "import os\n",
    "os.getcwd()"
   ],
   "id": "c5dc350847ed0cff",
   "outputs": [],
   "execution_count": null
  },
  {
   "metadata": {},
   "cell_type": "code",
   "source": "|",
   "id": "25f56554e06febba",
   "outputs": [],
   "execution_count": null
  },
  {
   "metadata": {},
   "cell_type": "code",
   "source": [
    "jazz_file = \"data/001058.mp3\"\n",
    "metal_file = \"data/006716.mp3\"\n",
    "\n",
    "# Convert mp3 to mel spectrogram\n"
   ],
   "id": "ec390ba20805aa97",
   "outputs": [],
   "execution_count": null
  },
  {
   "metadata": {},
   "cell_type": "code",
   "source": [
    "import librosa\n",
    "import librosa.display\n",
    "# Convert MP3 to mel spectrogram with librosa\n",
    "def convert_to_mel_spectrogram(file_path):\n",
    "    y, sr = librosa.load(file_path, sr=None)\n",
    "    mel_spectrogram = librosa.feature.melspectrogram(y=y, sr=sr, n_fft=2048, hop_length=1024)\n",
    "    mel_spectrogram_db = librosa.power_to_db(mel_spectrogram, ref=np.max)\n",
    "    return mel_spectrogram_db, sr\n",
    "\n",
    "jazz_mel, sr_jazz = convert_to_mel_spectrogram(jazz_file)\n",
    "metal_mel, sr_metal = convert_to_mel_spectrogram(metal_file)"
   ],
   "id": "eab05551a8b4d14c",
   "outputs": [],
   "execution_count": null
  },
  {
   "metadata": {},
   "cell_type": "code",
   "source": [
    "# Plot mel spectrograms of both\n",
    "y, sr = librosa.load(jazz_file)\n",
    "plt.plot(y)\n",
    "plt.title('Signal')\n",
    "plt.xlabel('Time (samples)')\n",
    "plt.ylabel('Amplitude')\n",
    "plt.show()"
   ],
   "id": "338d8f0c6ccd3b03",
   "outputs": [],
   "execution_count": null
  },
  {
   "metadata": {},
   "cell_type": "code",
   "source": [
    "n_fft = 2048\n",
    "ft = np.abs(librosa.stft(y[:n_fft], hop_length = n_fft+1))\n",
    "plt.plot(ft)\n",
    "plt.title('Spectrum')\n",
    "plt.xlabel('Frequency Bin')\n",
    "plt.ylabel('Amplitude')\n",
    "plt.show()"
   ],
   "id": "9a6015524ad1a4a1",
   "outputs": [],
   "execution_count": null
  },
  {
   "metadata": {},
   "cell_type": "code",
   "source": [
    "spec = np.abs(librosa.stft(y, hop_length=512))\n",
    "spec = librosa.amplitude_to_db(spec, ref=np.max)\n",
    "librosa.display.specshow(spec, sr=sr, x_axis='time', y_axis='log')\n",
    "plt.colorbar(format='%+2.0f dB')\n",
    "plt.title('Spectrogram')\n",
    "plt.show()"
   ],
   "id": "2b306a5c9674bee8",
   "outputs": [],
   "execution_count": null
  },
  {
   "metadata": {},
   "cell_type": "code",
   "source": [
    "mel_spect = librosa.feature.melspectrogram(y=y, sr=sr, n_fft=2048, hop_length=1024)\n",
    "mel_spect = librosa.power_to_db(spec, ref=np.max)\n",
    "librosa.display.specshow(mel_spect, y_axis='mel', fmax=8000, x_axis='time')\n",
    "plt.title('Mel Spectrogram')\n",
    "plt.colorbar(format='%+2.0f dB')\n",
    "plt.show()"
   ],
   "id": "b9cc4e8cff00fd59",
   "outputs": [],
   "execution_count": null
  },
  {
   "metadata": {},
   "cell_type": "code",
   "source": [
    "import librosa\n",
    "import librosa.display\n",
    "import matplotlib.pyplot as plt\n",
    "import numpy as np"
   ],
   "id": "73a5fda34a2ed694",
   "outputs": [],
   "execution_count": null
  },
  {
   "metadata": {},
   "cell_type": "code",
   "source": [
    "# Load mp3 file\n",
    "signal, sr = librosa.load(\"data/006716.mp3\")\n",
    "\n",
    "# Mel filter banks\n",
    "filter_banks = librosa.filters.mel(n_fft=2048, sr=22050, n_mels=10)"
   ],
   "id": "9fcc6bfb788d54dc",
   "outputs": [],
   "execution_count": null
  },
  {
   "metadata": {},
   "cell_type": "code",
   "source": "filter_banks.shape",
   "id": "13adc03b0a6e9f2d",
   "outputs": [],
   "execution_count": null
  },
  {
   "metadata": {},
   "cell_type": "code",
   "source": [
    "plt.figure(figsize=(25, 10))\n",
    "librosa.display.specshow(filter_banks, sr=sr, x_axis='linear')\n",
    "plt.colorbar(format='%+2.f')\n",
    "plt.show()"
   ],
   "id": "ca57e952d5f2845e",
   "outputs": [],
   "execution_count": null
  },
  {
   "metadata": {},
   "cell_type": "code",
   "source": [
    "mel_spectrogram = librosa.feature.melspectrogram(y = signal, sr=sr, n_fft=2048, hop_length=512, n_mels=96)\n",
    "mel_spectrogram.shape"
   ],
   "id": "cd8811f4065833f3",
   "outputs": [],
   "execution_count": null
  },
  {
   "metadata": {},
   "cell_type": "code",
   "source": [
    "# Cut 1024 frames from the middle of mel spectrogram to have (96, 1024) shape\n",
    "num_frames = mel_spectrogram.shape[1]\n",
    "if num_frames < 1024:\n",
    "    raise ValueError(f\"The spectrogram is shorter than the required {1024} frames.\")\n",
    "else:\n",
    "\n",
    "    # Calculate the start and end frames to cut the middle part\n",
    "    start_frame = (num_frames - 1024) // 2\n",
    "    end_frame = start_frame + 1024\n",
    "\n",
    "    # Slice the spectrogram to get the 30-second segment\n",
    "    mel_spectrogram = mel_spectrogram[:, start_frame:end_frame]\n",
    "    \n",
    "mel_spectrogram.shape"
   ],
   "id": "449ade6c2656aa1a",
   "outputs": [],
   "execution_count": null
  },
  {
   "metadata": {},
   "cell_type": "code",
   "source": "log_mel_spectrogram = librosa.power_to_db(mel_spectrogram)",
   "id": "9664ad568cf97d39",
   "outputs": [],
   "execution_count": null
  },
  {
   "metadata": {},
   "cell_type": "code",
   "source": [
    "npy_mel_spectrogram = np.load('data/012_012567.npy')\n",
    "log_mel_spectrogram = librosa.power_to_db(npy_mel_spectrogram)\n"
   ],
   "id": "70f6a3bb620ca15b",
   "outputs": [],
   "execution_count": null
  },
  {
   "metadata": {},
   "cell_type": "code",
   "source": [
    "plt.figure(figsize=(25, 10))\n",
    "librosa.display.specshow(log_mel_spectrogram, sr=sr, x_axis='time', y_axis='mel')\n",
    "# Set cmap as 'viridis'\n",
    "plt.set_cmap('viridis')\n",
    "plt.colorbar(format='%+2.f')\n",
    "plt.show()"
   ],
   "id": "c9b835d048b3f89d",
   "outputs": [],
   "execution_count": null
  },
  {
   "metadata": {},
   "cell_type": "code",
   "source": [
    "# Save log mel spectrogram to npy file\n",
    "np.save('data/006716.npy', log_mel_spectrogram)"
   ],
   "id": "414baab35e7d7286",
   "outputs": [],
   "execution_count": null
  },
  {
   "metadata": {},
   "cell_type": "code",
   "source": "import pandas as pd",
   "id": "2571dcae36fc264e",
   "outputs": [],
   "execution_count": null
  },
  {
   "metadata": {},
   "cell_type": "code",
   "source": [
    "# Load the metadata\n",
    "fma = pd.read_csv('data/tracks.csv', header=[0, 1], skiprows=[2])"
   ],
   "id": "c196ca17afd32fef",
   "outputs": [],
   "execution_count": null
  },
  {
   "metadata": {},
   "cell_type": "code",
   "source": "fma.head()",
   "id": "6a1764e1561eb63d",
   "outputs": [],
   "execution_count": null
  },
  {
   "metadata": {},
   "cell_type": "code",
   "source": [
    "# Load from path /Users/julia.rozycka/Master/multi_modal_genre_classification/data/fma_full_echonest_lyrics.csv\n",
    "\n",
    "# Combine tracks with genre\n",
    "fma = fma.rename(columns={\"Unnamed: 0_level_1\": \"track_id\"}, level=1)\n",
    "fma = fma.rename(columns={\"Unnamed: 0_level_0\": \"track\"}, level=0)\n"
   ],
   "id": "44e5ffbc392397dc",
   "outputs": [],
   "execution_count": null
  },
  {
   "metadata": {},
   "cell_type": "code",
   "source": [
    "genres = pd.read_csv('data/genres.csv')\n",
    "\n",
    "def get_genres(row):\n",
    "    return ', '.join(genres[genres['genre_id'].isin(eval(row[('track', 'genres')]))]['title'])\n",
    "\n",
    "def get_genres_all(row):\n",
    "    return ', '.join(genres[genres['genre_id'].isin(eval(row[('track', 'genres_all')]))]['title'])\n",
    "\n",
    "fma[('track', 'genres')] = fma.apply(get_genres, axis=1)\n",
    "fma[('track', 'genres_all')] = fma.apply(get_genres_all, axis=1)"
   ],
   "id": "ac2165fb8e35721e",
   "outputs": [],
   "execution_count": null
  },
  {
   "metadata": {},
   "cell_type": "code",
   "source": "fma[('track', 'genres')].str.split(', ').explode().value_counts()",
   "id": "9864db6f3e597e75",
   "outputs": [],
   "execution_count": null
  },
  {
   "metadata": {},
   "cell_type": "code",
   "source": "fma[('track', 'genres_all')].str.split(', ').explode().value_counts()",
   "id": "8f41ad2f72dc88e2",
   "outputs": [],
   "execution_count": null
  },
  {
   "metadata": {},
   "cell_type": "code",
   "source": "fma[('track', 'genre_top')].value_counts()",
   "id": "3d60591e8324d415",
   "outputs": [],
   "execution_count": null
  },
  {
   "metadata": {},
   "cell_type": "code",
   "source": "fma[('track', 'one_genre')] = None",
   "id": "32cfacef8e40f2e2",
   "outputs": [],
   "execution_count": null
  },
  {
   "metadata": {},
   "cell_type": "code",
   "source": [
    "# If genre top is Country then one genre is Country\n",
    "fma.loc[fma[('track', 'genre_top')] == 'Country', ('track', 'one_genre')] = 'Country'\n",
    "\n",
    "# If genre top is Jazz then one genre is Jazz\n",
    "fma.loc[fma[('track', 'genre_top')] == 'Jazz', ('track', 'one_genre')] = 'Jazz'"
   ],
   "id": "e40c7fa1e4241155",
   "outputs": [],
   "execution_count": null
  },
  {
   "metadata": {},
   "cell_type": "code",
   "source": [
    "# Add records that have one genre to fma_one_genre\n",
    "fma_one_genre = fma[fma[('track', 'one_genre')].notnull()]"
   ],
   "id": "5211ace807e6e416",
   "outputs": [],
   "execution_count": null
  },
  {
   "metadata": {},
   "cell_type": "code",
   "source": [
    "# Remove tracks from fma that are in fma_one_genre\n",
    "fma = fma[~fma[('track', 'track_id')].isin(fma_one_genre[('track', 'track_id')])]"
   ],
   "id": "31da5f61cc8a82e3",
   "outputs": [],
   "execution_count": null
  },
  {
   "metadata": {},
   "cell_type": "code",
   "source": "fma.track.track_id.count()",
   "id": "1231a50894c9b03e",
   "outputs": [],
   "execution_count": null
  },
  {
   "metadata": {},
   "cell_type": "code",
   "source": "fma_one_genre.track.track_id.count()",
   "id": "abd3f7eb3fc20469",
   "outputs": [],
   "execution_count": null
  },
  {
   "metadata": {},
   "cell_type": "code",
   "source": [
    "# Now lets check what tracks don't have genre_top and to what genres they belong\n",
    "\n",
    "# Get tracks that don't have genre_top\n",
    "no_genre_top = fma[fma[('track', 'genre_top')].isnull()]\n",
    "\n",
    "# Get genres for tracks that don't have genre_top\n",
    "no_genre_top['track', 'genres'].str.split(', ').explode().value_counts()"
   ],
   "id": "ee66fc5631b5cdb2",
   "outputs": [],
   "execution_count": null
  },
  {
   "metadata": {},
   "cell_type": "code",
   "source": [
    "# To the track that contain anything with 'Metal' in genres assign one genre 'Metal'\n",
    "fma.loc[fma[('track', 'genres')].str.contains('Metal'), ('track', 'one_genre')] = 'Metal'"
   ],
   "id": "b363a2c24c1f0793",
   "outputs": [],
   "execution_count": null
  },
  {
   "metadata": {},
   "cell_type": "code",
   "source": [
    "# Check how many tracks have one genre assigned\n",
    "fma[('track', 'one_genre')].notnull().sum()"
   ],
   "id": "a1f5bfbd9b65f21f",
   "outputs": [],
   "execution_count": null
  },
  {
   "metadata": {},
   "cell_type": "code",
   "source": [
    "# Add them to fma_one_genre and delete from fma\n",
    "fma_one_genre = pd.concat([fma_one_genre, fma[fma[('track', 'one_genre')].notnull()]])"
   ],
   "id": "c46c4c216773efda",
   "outputs": [],
   "execution_count": null
  },
  {
   "metadata": {},
   "cell_type": "code",
   "source": "fma = fma[~fma[('track', 'track_id')].isin(fma_one_genre[('track', 'track_id')])]",
   "id": "a92eede885181f6d",
   "outputs": [],
   "execution_count": null
  },
  {
   "metadata": {},
   "cell_type": "code",
   "source": "fma.track.track_id.count()",
   "id": "150c40d54ecf8ccc",
   "outputs": [],
   "execution_count": null
  },
  {
   "metadata": {},
   "cell_type": "code",
   "source": "fma_one_genre.track.track_id.count()",
   "id": "f8dfb7d2e76053dc",
   "outputs": [],
   "execution_count": null
  },
  {
   "metadata": {},
   "cell_type": "code",
   "source": [
    "# Check for duplicates in fma_one_genre\n",
    "fma_one_genre.track.track_id.duplicated().sum()"
   ],
   "id": "3cca235a56c86bcf",
   "outputs": [],
   "execution_count": null
  },
  {
   "metadata": {},
   "cell_type": "code",
   "source": "fma_one_genre.track.one_genre.value_counts()",
   "id": "9bc30b1ce8168149",
   "outputs": [],
   "execution_count": null
  },
  {
   "metadata": {},
   "cell_type": "code",
   "source": [
    "# To the track that contain anything with 'Country' in genres assign one genre 'Country'\n",
    "fma.loc[fma[('track', 'genres')].str.contains('Country'), ('track', 'one_genre')] = 'Country'\n",
    "fma.track.one_genre.value_counts()"
   ],
   "id": "d20d02c443df0725",
   "outputs": [],
   "execution_count": null
  },
  {
   "metadata": {},
   "cell_type": "code",
   "source": [
    "# Add them to fma_one_genre and delete from fma\n",
    "fma_one_genre = pd.concat([fma_one_genre, fma[fma[('track', 'one_genre')].notnull()]])\n",
    "fma = fma[~fma[('track', 'track_id')].isin(fma_one_genre[('track', 'track_id')])]"
   ],
   "id": "600eca7bc1f720ba",
   "outputs": [],
   "execution_count": null
  },
  {
   "metadata": {},
   "cell_type": "code",
   "source": "fma_one_genre.track.one_genre.value_counts()",
   "id": "9ca2a8e8adceefb0",
   "outputs": [],
   "execution_count": null
  },
  {
   "metadata": {},
   "cell_type": "code",
   "source": [
    "# If exactly 'Jazz' to Jazz\n",
    "\n",
    "fma.loc[fma[('track', 'genres')].str.contains('Jazz'), ('track', 'one_genre')] = 'Jazz'\n",
    "\n",
    "fma.track.one_genre.value_counts()\n"
   ],
   "id": "192dc34b98fe03db",
   "outputs": [],
   "execution_count": null
  },
  {
   "metadata": {},
   "cell_type": "code",
   "source": [
    "# Add them to fma_one_genre and delete from fma\n",
    "fma_one_genre = pd.concat([fma_one_genre, fma[fma[('track', 'one_genre')].notnull()]])\n",
    "fma = fma[~fma[('track', 'track_id')].isin(fma_one_genre[('track', 'track_id')])]"
   ],
   "id": "b690be89db194236",
   "outputs": [],
   "execution_count": null
  },
  {
   "metadata": {},
   "cell_type": "code",
   "source": "fma_one_genre.track.one_genre.value_counts()",
   "id": "eee9ed661812953b",
   "outputs": [],
   "execution_count": null
  },
  {
   "metadata": {},
   "cell_type": "code",
   "source": [
    "# Now everything that has Indie in genres assign one genre Indie\n",
    "fma.loc[fma[('track', 'genres')].str.contains('Indie'), ('track', 'one_genre')] = 'Indie'\n",
    "fma.track.one_genre.value_counts()"
   ],
   "id": "a30d3f1ebcad6bc",
   "outputs": [],
   "execution_count": null
  },
  {
   "metadata": {},
   "cell_type": "code",
   "source": [
    "# Add them to fma_one_genre and delete from fma\n",
    "fma_one_genre = pd.concat([fma_one_genre, fma[fma[('track', 'one_genre')].notnull()]])\n",
    "fma = fma[~fma[('track', 'track_id')].isin(fma_one_genre[('track', 'track_id')])]\n"
   ],
   "id": "c19b7879b30ca6f1",
   "outputs": [],
   "execution_count": null
  },
  {
   "metadata": {},
   "cell_type": "code",
   "source": "fma_one_genre.track.one_genre.value_counts()",
   "id": "398ead259c87724f",
   "outputs": [],
   "execution_count": null
  },
  {
   "metadata": {},
   "cell_type": "code",
   "source": [
    "# Now everything that has Rap in genres assign one genre Rap\n",
    "fma.loc[fma[('track', 'genres')].str.contains('Rap'), ('track', 'one_genre')] = 'Rap'\n",
    "fma.track.one_genre.value_counts()"
   ],
   "id": "716fe22e806f2bc6",
   "outputs": [],
   "execution_count": null
  },
  {
   "metadata": {},
   "cell_type": "code",
   "source": [
    "# Add them to fma_one_genre and delete from fma\n",
    "fma_one_genre = pd.concat([fma_one_genre, fma[fma[('track', 'one_genre')].notnull()]])\n",
    "fma = fma[~fma[('track', 'track_id')].isin(fma_one_genre[('track', 'track_id')])]"
   ],
   "id": "9f0c4e915d8dce11",
   "outputs": [],
   "execution_count": null
  },
  {
   "metadata": {},
   "cell_type": "code",
   "source": [
    "# Now everything that has Rap in genres_all assign one genre Rap\n",
    "fma.loc[fma[('track', 'genres_all')].str.contains('Rap'), ('track', 'one_genre')] = 'Rap'\n",
    "fma.track.one_genre.value_counts()"
   ],
   "id": "352e94e6df9544f5",
   "outputs": [],
   "execution_count": null
  },
  {
   "metadata": {},
   "cell_type": "code",
   "source": [
    "# Now everything that is Rock in genre_top assign one genre Rock\n",
    "fma.loc[fma[('track', 'genre_top')] == 'Rock', ('track', 'one_genre')] = 'Rock'\n",
    "fma.track.one_genre.value_counts()"
   ],
   "id": "835fd0d5e1ed0841",
   "outputs": [],
   "execution_count": null
  },
  {
   "metadata": {},
   "cell_type": "code",
   "source": [
    "# Add them to fma_one_genre and delete from fma\n",
    "fma_one_genre = pd.concat([fma_one_genre, fma[fma[('track', 'one_genre')].notnull()]])\n",
    "fma = fma[~fma[('track', 'track_id')].isin(fma_one_genre[('track', 'track_id')])]"
   ],
   "id": "9e2f94c5f7a95fa5",
   "outputs": [],
   "execution_count": null
  },
  {
   "metadata": {},
   "cell_type": "code",
   "source": "fma_one_genre.track.one_genre.value_counts()",
   "id": "448354c15ce3479a",
   "outputs": [],
   "execution_count": null
  },
  {
   "metadata": {},
   "cell_type": "code",
   "source": [
    "# Now everything that is Pop in genre_top assign one genre Pop\n",
    "fma.loc[fma[('track', 'genre_top')] == 'Pop', ('track', 'one_genre')] = 'Pop'\n",
    "fma.track.one_genre.value_counts()\n"
   ],
   "id": "a9fd2d2db378979d",
   "outputs": [],
   "execution_count": null
  },
  {
   "metadata": {},
   "cell_type": "code",
   "source": [
    "# Add them to fma_one_genre and delete from fma\n",
    "fma_one_genre = pd.concat([fma_one_genre, fma[fma[('track', 'one_genre')].notnull()]])\n",
    "fma = fma[~fma[('track', 'track_id')].isin(fma_one_genre[('track', 'track_id')])]\n"
   ],
   "id": "aba60e1ea6cd69f3",
   "outputs": [],
   "execution_count": null
  },
  {
   "metadata": {},
   "cell_type": "code",
   "source": "fma_one_genre.track.one_genre.value_counts()",
   "id": "ad170eede8b0ff44",
   "outputs": [],
   "execution_count": null
  },
  {
   "metadata": {},
   "cell_type": "code",
   "source": [
    "# Now everything that is Hip-Hop in genre_top assign one genre Hip-Hop\n",
    "fma.loc[fma[('track', 'genre_top')] == 'Hip-Hop', ('track', 'one_genre')] = 'Hip-Hop'\n",
    "fma.track.one_genre.value_counts()"
   ],
   "id": "24ed5e176cd76010",
   "outputs": [],
   "execution_count": null
  },
  {
   "metadata": {},
   "cell_type": "code",
   "source": [
    "# Add them to fma_one_genre and delete from fma\n",
    "fma_one_genre = pd.concat([fma_one_genre, fma[fma[('track', 'one_genre')].notnull()]])\n",
    "fma = fma[~fma[('track', 'track_id')].isin(fma_one_genre[('track', 'track_id')])]"
   ],
   "id": "6ed04276edc837e6",
   "outputs": [],
   "execution_count": null
  },
  {
   "metadata": {},
   "cell_type": "code",
   "source": "fma_one_genre.track.one_genre.value_counts()",
   "id": "2904b242c629be30",
   "outputs": [],
   "execution_count": null
  },
  {
   "metadata": {},
   "cell_type": "code",
   "source": [
    "# Check for duplicates in fma_one_genre\n",
    "fma_one_genre.track.track_id.duplicated().sum()"
   ],
   "id": "535cb3ea72d38c9",
   "outputs": [],
   "execution_count": null
  },
  {
   "metadata": {},
   "cell_type": "code",
   "source": "duplicates = fma_one_genre.duplicated(subset=[('artist', 'name'), ('track', 'title')]).sum()",
   "id": "60eb624dc9f6d17d",
   "outputs": [],
   "execution_count": null
  },
  {
   "metadata": {},
   "cell_type": "code",
   "source": [
    "# Check genres in duplicates\n",
    "fma_one_genre[fma_one_genre.duplicated(subset=[('artist', 'name'), ('track', 'title')])]['track', 'one_genre'].value_counts()"
   ],
   "id": "7b6199498a575532",
   "outputs": [],
   "execution_count": null
  },
  {
   "metadata": {},
   "cell_type": "code",
   "source": [
    "# Drop duplicates\n",
    "fma_one_genre = fma_one_genre.drop_duplicates(subset=[('artist', 'name'), ('track', 'title')])"
   ],
   "id": "2cfe7d5b47fdef5e",
   "outputs": [],
   "execution_count": null
  },
  {
   "metadata": {},
   "cell_type": "code",
   "source": "fma_one_genre.track.one_genre.value_counts()",
   "id": "791d5ee7a0c67885",
   "outputs": [],
   "execution_count": null
  },
  {
   "metadata": {},
   "cell_type": "code",
   "source": [
    "# Save fma_one_genre to csv\n",
    "fma_one_genre.to_csv('data/fma_one_genre.csv', index=False)"
   ],
   "id": "aae6829d97732a36",
   "outputs": [],
   "execution_count": null
  },
  {
   "metadata": {},
   "cell_type": "code",
   "source": [
    "# Sample max 2000 records from each genre to create balanced dataset fma_one_genre_balanced but minding error ValueError: Cannot take a larger sample than population when 'replace=False'\n",
    "fma_one_genre_balanced = fma_one_genre.groupby([('track', 'one_genre')]).apply(lambda x: x.sample(min(len(x), 2000)))"
   ],
   "id": "e6df87da39fc81c",
   "outputs": [],
   "execution_count": null
  },
  {
   "metadata": {},
   "cell_type": "code",
   "source": "fma_one_genre_balanced.track.one_genre.value_counts()",
   "id": "c31a9c9cefd574c4",
   "outputs": [],
   "execution_count": null
  },
  {
   "metadata": {},
   "cell_type": "code",
   "source": [
    "# Save but skip first column\n",
    "\n",
    "fma_one_genre_balanced.to_csv('data/fma_one_genre_balanced.csv', index=False)"
   ],
   "id": "5f576e02a832422f",
   "outputs": [],
   "execution_count": null
  },
  {
   "metadata": {},
   "cell_type": "code",
   "source": "",
   "id": "c34a784e5af7b1ce",
   "outputs": [],
   "execution_count": null
  }
 ],
 "metadata": {
  "kernelspec": {
   "display_name": "Python 3",
   "language": "python",
   "name": "python3"
  },
  "language_info": {
   "codemirror_mode": {
    "name": "ipython",
    "version": 2
   },
   "file_extension": ".py",
   "mimetype": "text/x-python",
   "name": "python",
   "nbconvert_exporter": "python",
   "pygments_lexer": "ipython2",
   "version": "2.7.6"
  }
 },
 "nbformat": 4,
 "nbformat_minor": 5
}
