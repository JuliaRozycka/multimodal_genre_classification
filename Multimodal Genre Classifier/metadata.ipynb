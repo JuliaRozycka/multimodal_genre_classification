{
 "cells": [
  {
   "metadata": {
    "ExecuteTime": {
     "end_time": "2025-01-21T21:30:23.362262Z",
     "start_time": "2025-01-21T21:30:23.258943Z"
    }
   },
   "cell_type": "code",
   "source": [
    "import joblib\n",
    "import numpy as np\n",
    "import pandas as pd\n",
    "from xgboost import XGBClassifier\n",
    "from sklearn.preprocessing import LabelEncoder\n",
    "from sklearn.metrics import confusion_matrix\n",
    "import seaborn as sns\n",
    "import matplotlib.pyplot as plt\n",
    "from sklearn.metrics import classification_report\n",
    "from sklearn.metrics import accuracy_score"
   ],
   "id": "b7c9422dacfc4dc",
   "outputs": [],
   "execution_count": 1
  },
  {
   "metadata": {},
   "cell_type": "markdown",
   "source": "### Test trained model on new dataset (on metadata)",
   "id": "e1e3c93790b315ed"
  },
  {
   "metadata": {
    "ExecuteTime": {
     "end_time": "2025-01-21T21:30:23.389460Z",
     "start_time": "2025-01-21T21:30:23.364838Z"
    }
   },
   "cell_type": "code",
   "source": [
    "# Load the trained model from joblib file\n",
    "\n",
    "# # Parameters from Optuna \n",
    "# n_estimators = 80\n",
    "# max_depth = 12\n",
    "# learning_rate = 0.1684744342969461\n",
    "# gamma = 0.2935882001439162\n",
    "# min_child_weight = 4\n",
    "# \n",
    "# model = XGBClassifier(n_estimators=n_estimators, max_depth=max_depth, learning_rate=learning_rate, gamma=gamma, min_child_weight=min_child_weight, random_state=42)\n",
    "\n",
    "model = joblib.load('models/xgb_metadata_v1_8_genres_smote_normalized.joblib')\n",
    "\n",
    "# Load the new dataset\n",
    "df = pd.read_csv('data/fma_cut100_echonest_lyrics_fake_country.csv', header=[0, 1])"
   ],
   "id": "82d65ad889c4b8bd",
   "outputs": [],
   "execution_count": 2
  },
  {
   "metadata": {
    "ExecuteTime": {
     "end_time": "2025-01-21T21:30:23.462962Z",
     "start_time": "2025-01-21T21:30:23.454897Z"
    }
   },
   "cell_type": "code",
   "source": "df.sample(3)",
   "id": "f0405b41c9f10bd5",
   "outputs": [
    {
     "data": {
      "text/plain": [
       "       track    album                                                         \\\n",
       "    track_id comments         date_created        date_released     engineer   \n",
       "357    63775        0  2012-04-18 12:40:00  2012-04-14 00:00:00     Mike Sin   \n",
       "401     3515        0  2008-12-04 09:26:38  2006-06-27 00:00:00  Gil Shuster   \n",
       "558    49843        1  2011-06-29 16:34:02  2011-03-08 00:00:00          NaN   \n",
       "\n",
       "                                                                         \\\n",
       "    favorites     id                                        information   \n",
       "357         0  11516  <p><strong>CHAIN AND THE GANG Live on The Cher...   \n",
       "401         1    734  <p><span>London's masters of satirical, fallin...   \n",
       "558        23   9464  <p>three girls from Denmark, Sweden and Icelan...   \n",
       "\n",
       "                      ...     track                                     \\\n",
       "    listens producer  ... one_genre danceability    energy speechiness   \n",
       "357    3597  Terre T  ...      Rock     0.624407  0.815669    0.111800   \n",
       "401    5854      NaN  ...      Rock     0.660324  0.698184    0.038514   \n",
       "558   29632      NaN  ...   Country     0.556328  0.024630    0.048705   \n",
       "\n",
       "                                                                             \n",
       "    acousticness instrumentalness  liveness   valence    tempo track_folder  \n",
       "357     0.365769     8.200000e-09  0.051645  0.749134  138.770           63  \n",
       "401     0.825608     9.659841e-01  0.109871  0.723314  155.020            3  \n",
       "558     0.990580     1.146700e-05  0.103911  0.258253   65.207           49  \n",
       "\n",
       "[3 rows x 67 columns]"
      ],
      "text/html": [
       "<div>\n",
       "<style scoped>\n",
       "    .dataframe tbody tr th:only-of-type {\n",
       "        vertical-align: middle;\n",
       "    }\n",
       "\n",
       "    .dataframe tbody tr th {\n",
       "        vertical-align: top;\n",
       "    }\n",
       "\n",
       "    .dataframe thead tr th {\n",
       "        text-align: left;\n",
       "    }\n",
       "</style>\n",
       "<table border=\"1\" class=\"dataframe\">\n",
       "  <thead>\n",
       "    <tr>\n",
       "      <th></th>\n",
       "      <th>track</th>\n",
       "      <th colspan=\"9\" halign=\"left\">album</th>\n",
       "      <th>...</th>\n",
       "      <th colspan=\"10\" halign=\"left\">track</th>\n",
       "    </tr>\n",
       "    <tr>\n",
       "      <th></th>\n",
       "      <th>track_id</th>\n",
       "      <th>comments</th>\n",
       "      <th>date_created</th>\n",
       "      <th>date_released</th>\n",
       "      <th>engineer</th>\n",
       "      <th>favorites</th>\n",
       "      <th>id</th>\n",
       "      <th>information</th>\n",
       "      <th>listens</th>\n",
       "      <th>producer</th>\n",
       "      <th>...</th>\n",
       "      <th>one_genre</th>\n",
       "      <th>danceability</th>\n",
       "      <th>energy</th>\n",
       "      <th>speechiness</th>\n",
       "      <th>acousticness</th>\n",
       "      <th>instrumentalness</th>\n",
       "      <th>liveness</th>\n",
       "      <th>valence</th>\n",
       "      <th>tempo</th>\n",
       "      <th>track_folder</th>\n",
       "    </tr>\n",
       "  </thead>\n",
       "  <tbody>\n",
       "    <tr>\n",
       "      <th>357</th>\n",
       "      <td>63775</td>\n",
       "      <td>0</td>\n",
       "      <td>2012-04-18 12:40:00</td>\n",
       "      <td>2012-04-14 00:00:00</td>\n",
       "      <td>Mike Sin</td>\n",
       "      <td>0</td>\n",
       "      <td>11516</td>\n",
       "      <td>&lt;p&gt;&lt;strong&gt;CHAIN AND THE GANG Live on The Cher...</td>\n",
       "      <td>3597</td>\n",
       "      <td>Terre T</td>\n",
       "      <td>...</td>\n",
       "      <td>Rock</td>\n",
       "      <td>0.624407</td>\n",
       "      <td>0.815669</td>\n",
       "      <td>0.111800</td>\n",
       "      <td>0.365769</td>\n",
       "      <td>8.200000e-09</td>\n",
       "      <td>0.051645</td>\n",
       "      <td>0.749134</td>\n",
       "      <td>138.770</td>\n",
       "      <td>63</td>\n",
       "    </tr>\n",
       "    <tr>\n",
       "      <th>401</th>\n",
       "      <td>3515</td>\n",
       "      <td>0</td>\n",
       "      <td>2008-12-04 09:26:38</td>\n",
       "      <td>2006-06-27 00:00:00</td>\n",
       "      <td>Gil Shuster</td>\n",
       "      <td>1</td>\n",
       "      <td>734</td>\n",
       "      <td>&lt;p&gt;&lt;span&gt;London's masters of satirical, fallin...</td>\n",
       "      <td>5854</td>\n",
       "      <td>NaN</td>\n",
       "      <td>...</td>\n",
       "      <td>Rock</td>\n",
       "      <td>0.660324</td>\n",
       "      <td>0.698184</td>\n",
       "      <td>0.038514</td>\n",
       "      <td>0.825608</td>\n",
       "      <td>9.659841e-01</td>\n",
       "      <td>0.109871</td>\n",
       "      <td>0.723314</td>\n",
       "      <td>155.020</td>\n",
       "      <td>3</td>\n",
       "    </tr>\n",
       "    <tr>\n",
       "      <th>558</th>\n",
       "      <td>49843</td>\n",
       "      <td>1</td>\n",
       "      <td>2011-06-29 16:34:02</td>\n",
       "      <td>2011-03-08 00:00:00</td>\n",
       "      <td>NaN</td>\n",
       "      <td>23</td>\n",
       "      <td>9464</td>\n",
       "      <td>&lt;p&gt;three girls from Denmark, Sweden and Icelan...</td>\n",
       "      <td>29632</td>\n",
       "      <td>NaN</td>\n",
       "      <td>...</td>\n",
       "      <td>Country</td>\n",
       "      <td>0.556328</td>\n",
       "      <td>0.024630</td>\n",
       "      <td>0.048705</td>\n",
       "      <td>0.990580</td>\n",
       "      <td>1.146700e-05</td>\n",
       "      <td>0.103911</td>\n",
       "      <td>0.258253</td>\n",
       "      <td>65.207</td>\n",
       "      <td>49</td>\n",
       "    </tr>\n",
       "  </tbody>\n",
       "</table>\n",
       "<p>3 rows × 67 columns</p>\n",
       "</div>"
      ]
     },
     "execution_count": 3,
     "metadata": {},
     "output_type": "execute_result"
    }
   ],
   "execution_count": 3
  },
  {
   "metadata": {
    "ExecuteTime": {
     "end_time": "2025-01-21T21:30:23.489385Z",
     "start_time": "2025-01-21T21:30:23.486813Z"
    }
   },
   "cell_type": "code",
   "source": "df[('album','year_released')] = df[('album', 'date_released')].str.extract(r'(\\d{4})')",
   "id": "75812db65cb9a967",
   "outputs": [],
   "execution_count": 4
  },
  {
   "metadata": {
    "ExecuteTime": {
     "end_time": "2025-01-21T21:30:23.519252Z",
     "start_time": "2025-01-21T21:30:23.517538Z"
    }
   },
   "cell_type": "code",
   "source": [
    "# Select the features from the new dataset\n",
    "features = [('track', 'danceability'), ('track', 'energy'), ('track', 'speechiness'), ('track', 'acousticness'), ('track', 'instrumentalness'), ('track', 'liveness'), ('track', 'valence'), ('track', 'tempo'), ('track', 'duration'), ('album', 'year_released')]"
   ],
   "id": "e35ea8ea0793ac3e",
   "outputs": [],
   "execution_count": 5
  },
  {
   "metadata": {
    "ExecuteTime": {
     "end_time": "2025-01-21T21:30:23.575826Z",
     "start_time": "2025-01-21T21:30:23.571092Z"
    }
   },
   "cell_type": "code",
   "source": [
    "from sklearn.preprocessing import StandardScaler\n",
    "\n",
    "X = df[features]\n",
    "y = df[('track', 'one_genre')]\n",
    "label_encoder = LabelEncoder()\n",
    "y = label_encoder.fit_transform(y)\n",
    "\n",
    "# Normalize the features\n",
    "scaler = StandardScaler()\n",
    "X = scaler.fit_transform(X)\n"
   ],
   "id": "f1b85df2af7b4b7b",
   "outputs": [],
   "execution_count": 6
  },
  {
   "metadata": {
    "ExecuteTime": {
     "end_time": "2025-01-21T21:30:23.683399Z",
     "start_time": "2025-01-21T21:30:23.681425Z"
    }
   },
   "cell_type": "code",
   "source": "label_encoder.classes_",
   "id": "b3ba4e74d5d7cf85",
   "outputs": [
    {
     "data": {
      "text/plain": [
       "array(['Country', 'Hip-Hop', 'Indie', 'Jazz', 'Metal', 'Pop', 'Rap',\n",
       "       'Rock'], dtype=object)"
      ]
     },
     "execution_count": 7,
     "metadata": {},
     "output_type": "execute_result"
    }
   ],
   "execution_count": 7
  },
  {
   "metadata": {
    "ExecuteTime": {
     "end_time": "2025-01-21T21:30:23.786247Z",
     "start_time": "2025-01-21T21:30:23.784196Z"
    }
   },
   "cell_type": "code",
   "source": [
    "# Sample X\n",
    "X[:5]"
   ],
   "id": "c627e7a1c7eb58ab",
   "outputs": [
    {
     "data": {
      "text/plain": [
       "array([[ 0.18405976,  0.09947015, -0.22083213, -0.48698639,  1.13125619,\n",
       "        -0.62385964,  0.27723869,  1.06311612,  0.78389997, -1.10138778],\n",
       "       [-0.79285179,  1.04386124,  4.17166566, -0.07822536, -1.21567887,\n",
       "         1.29677798,  1.02189904, -1.05311257, -0.12855917,         nan],\n",
       "       [-0.25647753,  0.47128059,  3.03627977,  1.19461857, -1.17139083,\n",
       "        -0.58096541,  1.17021582,  1.28418754, -0.88179726,         nan],\n",
       "       [ 1.298953  ,  0.73828367, -0.10132005,  0.23631117,  0.63109602,\n",
       "        -0.51051839, -0.05310436, -0.89981813, -0.99815111,         nan],\n",
       "       [ 0.35203927,  0.23227779,  2.98446874,  0.56537367, -1.19789528,\n",
       "        -0.50433726, -1.0767329 , -1.01413941, -0.98590333,         nan]])"
      ]
     },
     "execution_count": 8,
     "metadata": {},
     "output_type": "execute_result"
    }
   ],
   "execution_count": 8
  },
  {
   "metadata": {
    "ExecuteTime": {
     "end_time": "2025-01-21T21:30:23.880838Z",
     "start_time": "2025-01-21T21:30:23.878746Z"
    }
   },
   "cell_type": "code",
   "source": [
    "# Sample y\n",
    "y[:5]"
   ],
   "id": "a02141eebd5062c1",
   "outputs": [
    {
     "data": {
      "text/plain": [
       "array([1, 1, 1, 1, 1])"
      ]
     },
     "execution_count": 9,
     "metadata": {},
     "output_type": "execute_result"
    }
   ],
   "execution_count": 9
  },
  {
   "metadata": {
    "ExecuteTime": {
     "end_time": "2025-01-21T21:30:23.946235Z",
     "start_time": "2025-01-21T21:30:23.934378Z"
    }
   },
   "cell_type": "code",
   "source": [
    "y_pred = model.predict(X)\n",
    "# Get probabilities for each class for each sample\n",
    "y_pred_proba = model.predict_proba(X)\n",
    "print(classification_report(y, y_pred, target_names=list(label_encoder.inverse_transform([0,1,2,3,4,5,6,7]))))\n",
    "accuracy_score(y, y_pred)"
   ],
   "id": "87f0bcf3652bec07",
   "outputs": [
    {
     "name": "stdout",
     "output_type": "stream",
     "text": [
      "              precision    recall  f1-score   support\n",
      "\n",
      "     Country       0.00      0.00      0.00        60\n",
      "     Hip-Hop       0.34      0.35      0.34        43\n",
      "       Indie       0.15      0.11      0.12        95\n",
      "        Jazz       0.39      0.32      0.35        82\n",
      "       Metal       0.36      0.31      0.33        51\n",
      "         Pop       0.40      0.27      0.32       100\n",
      "         Rap       0.30      0.65      0.41        46\n",
      "        Rock       0.27      0.40      0.32       100\n",
      "\n",
      "    accuracy                           0.28       577\n",
      "   macro avg       0.28      0.30      0.28       577\n",
      "weighted avg       0.28      0.28      0.27       577\n",
      "\n"
     ]
    },
    {
     "data": {
      "text/plain": [
       "0.28422876949740034"
      ]
     },
     "execution_count": 10,
     "metadata": {},
     "output_type": "execute_result"
    }
   ],
   "execution_count": 10
  },
  {
   "metadata": {
    "ExecuteTime": {
     "end_time": "2025-01-21T21:30:23.966219Z",
     "start_time": "2025-01-21T21:30:23.963583Z"
    }
   },
   "cell_type": "code",
   "source": [
    "# Get probabilities, and the predicted class for 1st sample\n",
    "print(y_pred_proba[0])\n",
    "print(y_pred[0])\n",
    "print(y[0])\n",
    "\n",
    "# Get as genres not as numbers\n",
    "print(label_encoder.inverse_transform([y[0]]))\n",
    "print(label_encoder.inverse_transform([y_pred[0]]))"
   ],
   "id": "389ca1cb9a110bcc",
   "outputs": [
    {
     "name": "stdout",
     "output_type": "stream",
     "text": [
      "[0.0049148  0.00407911 0.00359954 0.06472711 0.00380014 0.10632218\n",
      " 0.45183045 0.3607267 ]\n",
      "6\n",
      "1\n",
      "['Hip-Hop']\n",
      "['Rap']\n"
     ]
    }
   ],
   "execution_count": 11
  },
  {
   "metadata": {
    "ExecuteTime": {
     "end_time": "2025-01-21T21:30:26.838699Z",
     "start_time": "2025-01-21T21:30:23.975176Z"
    }
   },
   "cell_type": "code",
   "source": [
    "# Use latex\n",
    "plt.rc('text', usetex=True)\n",
    "plt.rc('font', family='serif')\n",
    "# Plot confusion matrix with genre names\n",
    "genre_names = list(label_encoder.inverse_transform([0, 1, 2, 3, 4, 5, 6, 7]))\n",
    "cm = confusion_matrix(y, y_pred)\n",
    "sns.heatmap(cm, annot=True, xticklabels=genre_names, yticklabels=genre_names, cmap='Blues')\n",
    "plt.xlabel('Predicted')\n",
    "plt.ylabel('True')\n",
    "\n",
    "plt.show()\n",
    "\n",
    "# Normalize confusion matrix with genre names\n",
    "cm = cm / cm.sum(axis=1)[:, np.newaxis]\n",
    "sns.heatmap(cm, annot=True, xticklabels=genre_names, yticklabels=genre_names, fmt='.2f', cmap='Blues', vmax=1.0)\n",
    "plt.xlabel('Predicted')\n",
    "plt.ylabel('True')\n",
    "plt.tight_layout()\n",
    "plt.savefig('confusion_matrix_metadata_xgb_8_genres_smote.png', dpi=300)\n",
    "plt.show()\n"
   ],
   "id": "85faa9bc8b8a4619",
   "outputs": [
    {
     "data": {
      "text/plain": [
       "<Figure size 640x480 with 2 Axes>"
      ],
      "image/png": "[encoded data removed]"
     },
     "metadata": {},
     "output_type": "display_data"
    },
    {
     "data": {
      "text/plain": [
       "<Figure size 640x480 with 2 Axes>"
      ],
      "image/png": "[encoded data removed]"
     },
     "metadata": {},
     "output_type": "display_data"
    }
   ],
   "execution_count": 12
  }
 ],
 "metadata": {
  "kernelspec": {
   "display_name": "Python 3",
   "language": "python",
   "name": "python3"
  },
  "language_info": {
   "codemirror_mode": {
    "name": "ipython",
    "version": 2
   },
   "file_extension": ".py",
   "mimetype": "text/x-python",
   "name": "python",
   "nbconvert_exporter": "python",
   "pygments_lexer": "ipython2",
   "version": "2.7.6"
  }
 },
 "nbformat": 4,
 "nbformat_minor": 5
}
