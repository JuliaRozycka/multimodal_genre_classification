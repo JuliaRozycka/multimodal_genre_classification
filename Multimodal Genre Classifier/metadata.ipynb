{
 "cells": [
  {
   "metadata": {},
   "cell_type": "code",
   "source": [
    "import joblib\n",
    "import numpy as np\n",
    "import pandas as pd\n",
    "from xgboost import XGBClassifier\n",
    "from sklearn.preprocessing import LabelEncoder\n",
    "from sklearn.metrics import confusion_matrix\n",
    "import seaborn as sns\n",
    "import matplotlib.pyplot as plt\n",
    "from sklearn.metrics import classification_report\n",
    "from sklearn.metrics import accuracy_score"
   ],
   "id": "b7c9422dacfc4dc",
   "outputs": [],
   "execution_count": null
  },
  {
   "metadata": {},
   "cell_type": "markdown",
   "source": "### Test trained model on new dataset (on metadata)",
   "id": "e1e3c93790b315ed"
  },
  {
   "metadata": {},
   "cell_type": "code",
   "source": [
    "# Load the trained model from joblib file\n",
    "\n",
    "# # Parameters from Optuna \n",
    "# n_estimators = 80\n",
    "# max_depth = 12\n",
    "# learning_rate = 0.1684744342969461\n",
    "# gamma = 0.2935882001439162\n",
    "# min_child_weight = 4\n",
    "# \n",
    "# model = XGBClassifier(n_estimators=n_estimators, max_depth=max_depth, learning_rate=learning_rate, gamma=gamma, min_child_weight=min_child_weight, random_state=42)\n",
    "\n",
    "model = joblib.load('models/xgb_metadata_v1_8_genres_smote_normalized.joblib')\n",
    "\n",
    "# Load the new dataset\n",
    "df = pd.read_csv('data/fma_cut100_echonest_lyrics_fake_country.csv', header=[0, 1])"
   ],
   "id": "82d65ad889c4b8bd",
   "outputs": [],
   "execution_count": null
  },
  {
   "metadata": {},
   "cell_type": "code",
   "source": "df.sample(3)",
   "id": "f0405b41c9f10bd5",
   "outputs": [],
   "execution_count": null
  },
  {
   "metadata": {},
   "cell_type": "code",
   "source": "df = df[df['track', 'language_code'].isin(['en', np.nan])]",
   "id": "c6a17199d98b957",
   "outputs": [],
   "execution_count": null
  },
  {
   "metadata": {},
   "cell_type": "code",
   "source": [
    "# Select the features from the new dataset\n",
    "features = [('track', 'danceability'), ('track', 'energy'), ('track', 'speechiness'), ('track', 'acousticness'), ('track', 'instrumentalness'), ('track', 'liveness'), ('track', 'valence'), ('track', 'tempo'), ('track', 'duration'), ('album', 'year_released')]"
   ],
   "id": "e35ea8ea0793ac3e",
   "outputs": [],
   "execution_count": null
  },
  {
   "metadata": {},
   "cell_type": "code",
   "source": "df[('album','year_released')] = df[('album', 'date_released')].str.extract(r'(\\d{4})')",
   "id": "75812db65cb9a967",
   "outputs": [],
   "execution_count": null
  },
  {
   "metadata": {},
   "cell_type": "code",
   "source": "df = df[features + [('track', 'one_genre')]]",
   "id": "1bf3e6a57ed4e919",
   "outputs": [],
   "execution_count": null
  },
  {
   "metadata": {},
   "cell_type": "code",
   "source": [
    "# Drop first level of header\n",
    "df.columns = df.columns.droplevel(0)"
   ],
   "id": "51c3af941c803665",
   "outputs": [],
   "execution_count": null
  },
  {
   "metadata": {},
   "cell_type": "code",
   "source": "df",
   "id": "56367c6dc3730a2d",
   "outputs": [],
   "execution_count": null
  },
  {
   "metadata": {},
   "cell_type": "code",
   "source": [
    "# Ensure all values in 'year_released' are numeric\n",
    "df['year_released'] = pd.to_numeric(df['year_released'], errors='coerce')\n",
    "df['year_released'] = df['year_released'].fillna(df.groupby('one_genre')['year_released'].transform('median'))\n",
    "\n"
   ],
   "id": "634cd671ccffb029",
   "outputs": [],
   "execution_count": null
  },
  {
   "metadata": {},
   "cell_type": "code",
   "source": "df.sort_values('one_genre', inplace=True)",
   "id": "2fd81b83ba68127c",
   "outputs": [],
   "execution_count": null
  },
  {
   "metadata": {},
   "cell_type": "code",
   "source": "features = ['danceability', 'energy', 'speechiness', 'acousticness', 'instrumentalness', 'liveness', 'valence', 'tempo', 'duration','year_released']",
   "id": "4e88f7893c45f189",
   "outputs": [],
   "execution_count": null
  },
  {
   "metadata": {},
   "cell_type": "code",
   "source": [
    "from sklearn.preprocessing import StandardScaler\n",
    "\n",
    "X = df[features]\n",
    "y = df['one_genre']\n",
    "label_encoder = LabelEncoder()\n",
    "y = label_encoder.fit_transform(y)\n",
    "\n",
    "# Normalize the features\n",
    "scaler = StandardScaler()\n",
    "X = scaler.fit_transform(X)\n"
   ],
   "id": "f1b85df2af7b4b7b",
   "outputs": [],
   "execution_count": null
  },
  {
   "metadata": {},
   "cell_type": "code",
   "source": "X",
   "id": "2640d686574df0ed",
   "outputs": [],
   "execution_count": null
  },
  {
   "metadata": {},
   "cell_type": "code",
   "source": "",
   "id": "5263763a0b1d58aa",
   "outputs": [],
   "execution_count": null
  },
  {
   "metadata": {},
   "cell_type": "code",
   "source": "y",
   "id": "ae14de1946e1b217",
   "outputs": [],
   "execution_count": null
  },
  {
   "metadata": {},
   "cell_type": "code",
   "source": [
    "# Save features and labels\n",
    "np.save('features/X_metadata.npy', X)\n",
    "np.save('features/y_metadata.npy', y)"
   ],
   "id": "2df1a4525481b130",
   "outputs": [],
   "execution_count": null
  },
  {
   "metadata": {},
   "cell_type": "code",
   "source": "X.shape",
   "id": "b157d7c5fd2fd73b",
   "outputs": [],
   "execution_count": null
  },
  {
   "metadata": {},
   "cell_type": "code",
   "source": "y.shape",
   "id": "fb04c7babb84e30f",
   "outputs": [],
   "execution_count": null
  },
  {
   "metadata": {},
   "cell_type": "code",
   "source": "y",
   "id": "2a1077c63a1d5018",
   "outputs": [],
   "execution_count": null
  },
  {
   "metadata": {},
   "cell_type": "code",
   "source": "label_encoder.classes_",
   "id": "b3ba4e74d5d7cf85",
   "outputs": [],
   "execution_count": null
  },
  {
   "metadata": {},
   "cell_type": "code",
   "source": [
    "# Sample X\n",
    "X[:5]"
   ],
   "id": "c627e7a1c7eb58ab",
   "outputs": [],
   "execution_count": null
  },
  {
   "metadata": {},
   "cell_type": "code",
   "source": [
    "# Sample y\n",
    "y[:5]"
   ],
   "id": "a02141eebd5062c1",
   "outputs": [],
   "execution_count": null
  },
  {
   "metadata": {},
   "cell_type": "code",
   "source": [
    "y_pred = model.predict(X)\n",
    "# Get probabilities for each class for each sample\n",
    "y_pred_proba = model.predict_proba(X)\n",
    "print(classification_report(y, y_pred, target_names=list(label_encoder.inverse_transform([0,1,2,3,4,5,6,7]))))\n",
    "accuracy_score(y, y_pred)"
   ],
   "id": "87f0bcf3652bec07",
   "outputs": [],
   "execution_count": null
  },
  {
   "metadata": {},
   "cell_type": "code",
   "source": [
    "# Get probabilities, and the predicted class for 1st sample\n",
    "print(y_pred_proba[0])\n",
    "print(y_pred[0])\n",
    "print(y[0])\n",
    "\n",
    "# Get as genres not as numbers\n",
    "print(label_encoder.inverse_transform([y[0]]))\n",
    "print(label_encoder.inverse_transform([y_pred[0]]))"
   ],
   "id": "389ca1cb9a110bcc",
   "outputs": [],
   "execution_count": null
  },
  {
   "metadata": {},
   "cell_type": "code",
   "source": [
    "# Use latex\n",
    "plt.rc('text', usetex=True)\n",
    "plt.rc('font', family='serif')\n",
    "# Plot confusion matrix with genre names\n",
    "genre_names = list(label_encoder.inverse_transform([0, 1, 2, 3, 4, 5, 6, 7]))\n",
    "cm = confusion_matrix(y, y_pred)\n",
    "sns.heatmap(cm, annot=True, xticklabels=genre_names, yticklabels=genre_names, cmap='Blues')\n",
    "plt.xlabel('Predicted')\n",
    "plt.ylabel('True')\n",
    "\n",
    "plt.show()\n",
    "\n",
    "from matplotlib.colors import LinearSegmentedColormap\n",
    "\n",
    "colors = [\"#FFFFFF\", \"#455681\"]  # White to #455681 gradient\n",
    "custom_cmap = LinearSegmentedColormap.from_list(\"custom_white_to_blue\", colors)\n",
    "\n",
    "# Normalize the confusion matrix# \n",
    "conf_matrix_norm = cm / cm.sum(axis=1)[:, np.newaxis]\n",
    "\n",
    "plt.rc('text', usetex=True)\n",
    "plt.rc('font', family='serif')\n",
    "# Plot the normalized confusion matrix\n",
    "plt.figure(figsize=(8, 6))\n",
    "sns.heatmap(conf_matrix_norm, cmap=custom_cmap, annot=True, fmt=\".2f\", xticklabels=genre_names, yticklabels=genre_names, vmax=1.0)\n",
    "plt.xlabel(\"Predicted\", fontdict={\"fontsize\": 12})\n",
    "plt.ylabel(\"True\", fontdict={\"fontsize\": 12})\n",
    "plt.tight_layout()\n",
    "plt.savefig(\"confusion_matrix_normalized_multi_metadata.eps\", dpi=300)\n",
    "plt.show()"
   ],
   "id": "85faa9bc8b8a4619",
   "outputs": [],
   "execution_count": null
  },
  {
   "metadata": {},
   "cell_type": "code",
   "source": [
    "import matplotlib.pyplot as plt\n",
    "from sklearn.metrics import roc_curve, auc, roc_auc_score\n",
    "from sklearn.preprocessing import label_binarize\n",
    "import numpy as np\n",
    "\n",
    "# Assuming `y_test` and `y_pred` are already defined\n",
    "# Binarize the labels for multi-class ROC computation\n",
    "classes = list(label_encoder.inverse_transform([0, 1, 2, 3, 4, 5, 6, 7]))\n",
    "y_test_bin = label_binarize(y, classes=range(len(classes)))\n",
    "y_pred_prob = model.predict_proba(X)  # Get probabilities for ROC computation\n",
    "\n",
    "# Compute ROC curve and ROC area for each class\n",
    "fpr = {}\n",
    "tpr = {}\n",
    "roc_auc = {}\n",
    "\n",
    "for i in range(len(classes)):\n",
    "    fpr[i], tpr[i], _ = roc_curve(y_test_bin[:, i], y_pred_prob[:, i])\n",
    "    roc_auc[i] = auc(fpr[i], tpr[i])\n",
    "\n",
    "\n",
    "np.save(\"fpr_meta_multi.npy\", fpr)\n",
    "np.save(\"tpr_meta_multi.npy\", tpr)\n",
    "np.save(\"roc_auc_meta_multi.npy\", roc_auc)\n",
    "\n",
    "# Save label\n",
    "np.save(\"labels_meta.npy\", classes)\n",
    "\n",
    "# Plot ROC curve for each class\n",
    "plt.figure(figsize=(8, 6))\n",
    "for i in range(len(classes)):\n",
    "    plt.plot(fpr[i], tpr[i], label=f\"Class {classes[i]} (AUC = {roc_auc[i]:.2f})\")\n",
    "\n",
    "# Plot diagonal line for random guess\n",
    "plt.plot([0, 1], [0, 1], 'k--')\n",
    "\n",
    "plt.title(\"Multi-Class ROC Curve\")\n",
    "plt.xlabel(\"False Positive Rate\", fontdict={\"fontsize\": 12})\n",
    "plt.ylabel(\"True Positive Rate\", fontdict={\"fontsize\": 12})\n",
    "plt.legend(loc=\"lower right\", prop={\"size\": 12})  # Adjust legend location if needed\n",
    "plt.yticks(fontsize=11)\n",
    "plt.xticks(fontsize=11)\n",
    "plt.style.use('fast')\n",
    "plt.tight_layout()\n",
    "plt.grid()\n",
    "plt.savefig(\"roc_curve_metadata.png\", dpi=300)\n",
    "plt.show()\n"
   ],
   "id": "44c20249f36039d4",
   "outputs": [],
   "execution_count": null
  }
 ],
 "metadata": {
  "kernelspec": {
   "display_name": "Python 3",
   "language": "python",
   "name": "python3"
  },
  "language_info": {
   "codemirror_mode": {
    "name": "ipython",
    "version": 2
   },
   "file_extension": ".py",
   "mimetype": "text/x-python",
   "name": "python",
   "nbconvert_exporter": "python",
   "pygments_lexer": "ipython2",
   "version": "2.7.6"
  }
 },
 "nbformat": 4,
 "nbformat_minor": 5
}
