{
 "cells": [
  {
   "metadata": {},
   "cell_type": "code",
   "source": [
    "import gc\n",
    "\n",
    "import requests\n",
    "import tempfile  # For temporary file storage\n",
    "import pandas as pd\n",
    "from tqdm import tqdm\n",
    "import plotly.express as px\n",
    "from concurrent.futures import ThreadPoolExecutor, as_completed, ProcessPoolExecutor\n",
    "import librosa\n",
    "import numpy as np\n",
    "from pydub import AudioSegment\n",
    "from pydub.utils import which\n",
    "\n",
    "# Explicitly set the path to ffmpeg and ffprobe\n",
    "AudioSegment.converter = which(\"ffmpeg\")\n",
    "AudioSegment.ffprobe = which(\"ffprobe\")"
   ],
   "id": "1fed3fddcbbc85b7",
   "outputs": [],
   "execution_count": null
  },
  {
   "metadata": {},
   "cell_type": "code",
   "source": [
    "import os\n",
    "os.cpu_count()"
   ],
   "id": "be65efd10cb387b7",
   "outputs": [],
   "execution_count": null
  },
  {
   "metadata": {},
   "cell_type": "code",
   "source": "mtg_genre_tags_filepath = 'assets/autotagging_genre.tsv'",
   "id": "ff6d3cf013ba66ea",
   "outputs": [],
   "execution_count": null
  },
  {
   "metadata": {},
   "cell_type": "code",
   "source": "columns = ['track_id', 'artist_id', 'album_id', 'path', 'duration', 'tag1', 'tag2', 'tag3', 'tag4', 'tag5', 'tag6', 'tag7', 'tag8', 'tag9']\n",
   "id": "4f530f72590d3f1",
   "outputs": [],
   "execution_count": null
  },
  {
   "metadata": {},
   "cell_type": "code",
   "source": "data = pd.read_csv(mtg_genre_tags_filepath, sep='\\t', names=columns, engine='python')",
   "id": "5c35bbd3251c3fd9",
   "outputs": [],
   "execution_count": null
  },
  {
   "metadata": {},
   "cell_type": "code",
   "source": "data.sample(5)",
   "id": "1a697d572e55cd49",
   "outputs": [],
   "execution_count": null
  },
  {
   "metadata": {},
   "cell_type": "code",
   "source": [
    "# Combine all tag columns into one column (if needed)\n",
    "data['tags'] = data.iloc[:, 5:].apply(\n",
    "    lambda row: ', '.join(\n",
    "        tag.replace('genre---', '') for tag in row.dropna().astype(str) if 'genre---' in tag\n",
    "    ),\n",
    "    axis=1\n",
    ")\n",
    "data = data[['track_id', 'artist_id', 'album_id', 'path', 'duration', 'tags']]"
   ],
   "id": "8cf0f44b52d9ed5f",
   "outputs": [],
   "execution_count": null
  },
  {
   "metadata": {},
   "cell_type": "code",
   "source": "data = data.drop(index=0)",
   "id": "91faaae46ca214fb",
   "outputs": [],
   "execution_count": null
  },
  {
   "metadata": {},
   "cell_type": "code",
   "source": "data.head()",
   "id": "b7c0b3fddfbbc8ec",
   "outputs": [],
   "execution_count": null
  },
  {
   "metadata": {},
   "cell_type": "code",
   "source": "data['duration'] = data['duration'].astype(float)",
   "id": "297303c3b2fceb",
   "outputs": [],
   "execution_count": null
  },
  {
   "metadata": {},
   "cell_type": "code",
   "source": [
    "data['genres_list'] = data['tags'].apply(lambda x: x.split(', '))\n",
    "\n",
    "unique_genres = set([genre for genres in data['genres_list'] for genre in genres])\n",
    "for genre in unique_genres:\n",
    "    data[genre] = data['genres_list'].apply(lambda x: 1 if genre in x else 0)"
   ],
   "id": "e1c93fc597cd2185",
   "outputs": [],
   "execution_count": null
  },
  {
   "metadata": {},
   "cell_type": "code",
   "source": "genre_distribution = data[list(unique_genres)].sum().sort_values(ascending=False)",
   "id": "3fc072d92f0766f1",
   "outputs": [],
   "execution_count": null
  },
  {
   "metadata": {},
   "cell_type": "code",
   "source": [
    "fig = px.bar(\n",
    "    x=genre_distribution.index,  # Genre names (x-axis)\n",
    "    y=genre_distribution.values,  # Count of tracks (y-axis)\n",
    "    labels={\"x\": \"Genres\", \"y\": \"Number of Tracks\"},  # Axis labels\n",
    "    title=\"Genre Distribution\",\n",
    "    template=\"plotly_white\"\n",
    ")\n",
    "\n",
    "fig.show()"
   ],
   "id": "cc460ebfbfb7a2cc",
   "outputs": [],
   "execution_count": null
  },
  {
   "metadata": {},
   "cell_type": "code",
   "source": [
    "fig = px.box(data,\n",
    "             x='duration',\n",
    "             points='outliers', \n",
    "             title=\"Box Plot of Track Durations\",\n",
    "             labels={\"duration\": \"Duration (seconds)\"},\n",
    "             template=\"plotly_white\") \n",
    "\n",
    "fig.show()"
   ],
   "id": "caa5efa4a843dcaa",
   "outputs": [],
   "execution_count": null
  },
  {
   "metadata": {},
   "cell_type": "code",
   "source": "lyrics_genres = ['pop', 'heavymetal','metal', 'rock', 'hiphop', 'rap', 'indie', 'jazz', 'country']",
   "id": "26980b2f6a489ec6",
   "outputs": [],
   "execution_count": null
  },
  {
   "metadata": {},
   "cell_type": "code",
   "source": "data_genres = data[['track_id', 'artist_id', 'album_id', 'path', 'duration']+lyrics_genres]",
   "id": "c466c0e3880c953b",
   "outputs": [],
   "execution_count": null
  },
  {
   "metadata": {},
   "cell_type": "code",
   "source": "data_genres.head()",
   "id": "e3c9b50510526f3b",
   "outputs": [],
   "execution_count": null
  },
  {
   "metadata": {},
   "cell_type": "code",
   "source": [
    "# Merge metal and heavy metal (due to similarity and small amount of data for heavy metal)\n",
    "data_genres['metal'] = (data_genres['metal'] | data_genres['heavymetal']).astype(int)\n",
    "\n",
    "# Drop the old 'heavy metal' column\n",
    "data_genres_filtered = data_genres.drop(columns=['heavymetal'])"
   ],
   "id": "232126ff31d0edbd",
   "outputs": [],
   "execution_count": null
  },
  {
   "metadata": {},
   "cell_type": "code",
   "source": "common_genres = ['pop', 'metal', 'rock', 'hiphop', 'rap', 'indie', 'jazz', 'country']",
   "id": "b938d2250981ece7",
   "outputs": [],
   "execution_count": null
  },
  {
   "metadata": {},
   "cell_type": "code",
   "source": [
    "genre_columns = common_genres\n",
    "\n",
    "# Filter out rows where the sum of genre values is 0\n",
    "data_genres_filtered = data_genres_filtered[data_genres_filtered[genre_columns].sum(axis=1) > 0]"
   ],
   "id": "d9ebf83828930c4a",
   "outputs": [],
   "execution_count": null
  },
  {
   "metadata": {},
   "cell_type": "code",
   "source": "data_genres_filtered.sample(10)",
   "id": "dd01b93b0d8b85b1",
   "outputs": [],
   "execution_count": null
  },
  {
   "metadata": {},
   "cell_type": "code",
   "source": [
    "# Delete duplicate tracks\n",
    "data_genres_filtered = data_genres_filtered.drop_duplicates(subset=['path'])"
   ],
   "id": "45dc59800e60ed07",
   "outputs": [],
   "execution_count": null
  },
  {
   "metadata": {},
   "cell_type": "code",
   "source": "genre_distribution_filtered = data_genres_filtered[common_genres].sum().sort_values(ascending=False)",
   "id": "b7e678820242988d",
   "outputs": [],
   "execution_count": null
  },
  {
   "metadata": {},
   "cell_type": "code",
   "source": [
    "# Get the distribution of genres divided by 10 rounded to integer\n",
    "genre_distribution_filtered_d10_int = genre_distribution_filtered.apply(lambda x: int(x / 10))"
   ],
   "id": "83dedc6cc95f75af",
   "outputs": [],
   "execution_count": null
  },
  {
   "metadata": {},
   "cell_type": "code",
   "source": "genre_distribution_filtered_d10_int['pop']",
   "id": "4b4afa87d7000373",
   "outputs": [],
   "execution_count": null
  },
  {
   "metadata": {},
   "cell_type": "code",
   "source": [
    "fig = px.bar(\n",
    "    x=genre_distribution_filtered.index,  # Genre names (x-axis)\n",
    "    y=genre_distribution_filtered.values,  # Count of tracks (y-axis)\n",
    "    labels={\"x\": \"Genres\", \"y\": \"Number of Tracks\"},  # Axis labels\n",
    "    title=\"Genre Distribution Filtered\",\n",
    "    template=\"plotly_white\"\n",
    ")\n",
    "\n",
    "fig.show()"
   ],
   "id": "6c49aa76a11a3c97",
   "outputs": [],
   "execution_count": null
  },
  {
   "metadata": {},
   "cell_type": "code",
   "source": [
    "fig = px.box(data_genres_filtered,\n",
    "             x='duration',\n",
    "             points='outliers',\n",
    "             title=\"Box Plot of Track Durations\",\n",
    "             labels={\"duration\": \"Duration (seconds)\"},\n",
    "             template=\"plotly_white\")\n",
    "\n",
    "fig.show()"
   ],
   "id": "db7b03b40d88eef3",
   "outputs": [],
   "execution_count": null
  },
  {
   "metadata": {},
   "cell_type": "code",
   "source": "data_genres_filtered.to_csv('assets/autotagging_genres_filtered.csv', index=False)",
   "id": "80a313aae485288",
   "outputs": [],
   "execution_count": null
  },
  {
   "metadata": {},
   "cell_type": "code",
   "source": "data_genres_filtered",
   "id": "fe73f6e5cdad588d",
   "outputs": [],
   "execution_count": null
  },
  {
   "metadata": {},
   "cell_type": "markdown",
   "source": [
    "### Download the data from certain path to certain path\n",
    "\n",
    "Based on MTG_Jamendo repository"
   ],
   "id": "a1f76aa5fbe05eb3"
  },
  {
   "metadata": {},
   "cell_type": "code",
   "source": [
    "CHUNK_SIZE = 512 * 1024  # 512 KB\n",
    "BASE_URL = \"https://cdn.freesound.org/mtg-jamendo/raw_30s/audio/\"\n",
    "\n",
    "# Function to download a track\n",
    "def download_track(path, save_directory):\n",
    "    try:\n",
    "        # Ensure save directory exists\n",
    "        if not os.path.exists(save_directory):\n",
    "            os.makedirs(save_directory)\n",
    "        \n",
    "        # Extract file name and construct URL\n",
    "        file_name = os.path.basename(path)\n",
    "        save_location = os.path.join(save_directory, file_name)\n",
    "        url = BASE_URL + path\n",
    "        \n",
    "        # Stream the file from the URL\n",
    "        with requests.get(url, stream=True) as res:\n",
    "            res.raise_for_status()\n",
    "            total = int(res.headers.get('content-length', 0))\n",
    "            with open(save_location, 'wb') as f:\n",
    "                with tqdm(total=total, unit='B', unit_scale=True, desc=path) as progressbar:\n",
    "                    for chunk in res.iter_content(chunk_size=CHUNK_SIZE):\n",
    "                        f.write(chunk)\n",
    "                        progressbar.update(len(chunk))\n",
    "        \n",
    "        return save_location  # Return the local file path\n",
    "        \n",
    "    except Exception as e:\n",
    "        print(f\"Error downloading {path}: {e}\")\n",
    "        return None"
   ],
   "id": "da4652fa26c47bcd",
   "outputs": [],
   "execution_count": null
  },
  {
   "metadata": {},
   "cell_type": "markdown",
   "source": "### Cut the files to 30s",
   "id": "e3ad7b08d96009b9"
  },
  {
   "metadata": {},
   "cell_type": "code",
   "source": [
    "from pydub import AudioSegment\n",
    "\n",
    "def cut_audio_to_30s_in_memory(input_path):\n",
    "    \"\"\"\n",
    "    Cuts an audio file to a 30-second segment, focusing on the middle portion if it's longer than 30 seconds.\n",
    "    The output audio is kept in memory for further processing.\n",
    "\n",
    "    Args:\n",
    "        input_path (str): Path to the input audio file.\n",
    "\n",
    "    Returns:\n",
    "        AudioSegment: The 30-second audio segment.\n",
    "    \"\"\"\n",
    "    try:\n",
    "        # Load the audio file\n",
    "        audio = AudioSegment.from_file(input_path)\n",
    "        duration_ms = len(audio)  # Duration of the audio in milliseconds\n",
    "\n",
    "        if duration_ms > 30 * 1000:  # If audio is longer than 30 seconds\n",
    "            # Calculate start and end times for the middle 30 seconds\n",
    "            start_time = (duration_ms // 2) - (15 * 1000)  # Middle minus 15 seconds\n",
    "            end_time = start_time + (30 * 1000)           # 30 seconds from the start_time\n",
    "            audio = audio[start_time:end_time]            # Slice the audio\n",
    "        else:\n",
    "            print(\"Audio is already less than or equal to 30 seconds.\")\n",
    "\n",
    "        return audio\n",
    "\n",
    "    except Exception as e:\n",
    "        print(f\"Error during cutting: {e}\")\n",
    "        return None\n"
   ],
   "id": "a4f411c3dcd01b06",
   "outputs": [],
   "execution_count": null
  },
  {
   "metadata": {},
   "cell_type": "markdown",
   "source": "### Extract features from the audio files",
   "id": "b78497c00c0948ce"
  },
  {
   "metadata": {},
   "cell_type": "code",
   "source": [
    "def extract_audio_features(input_audio_path):\n",
    "    \"\"\"\n",
    "    Extracts audio features from a 30-second audio file and returns them as a dataframe.\n",
    "\n",
    "    Args:\n",
    "        input_audio_path (str): Path to the 30-second audio file.\n",
    "\n",
    "    Returns:\n",
    "        pd.DataFrame: DataFrame containing the extracted audio features.\n",
    "    \"\"\"\n",
    "    try:\n",
    "        # Load the audio file\n",
    "        y, sr = librosa.load(input_audio_path, sr=None)  # Load with the original sampling rate\n",
    "\n",
    "        # Feature extraction\n",
    "        features = {}\n",
    "\n",
    "        # Zero Crossing Rate\n",
    "        features[\"zero_crossing_rate\"] = np.mean(librosa.feature.zero_crossing_rate(y)[0])\n",
    "\n",
    "        # Harmonic-Percussive Source Separation\n",
    "        harmonic, percussive = librosa.effects.hpss(y)\n",
    "        features[\"harmonic_mean\"] = np.mean(harmonic)\n",
    "        features[\"percussive_mean\"] = np.mean(percussive)\n",
    "\n",
    "        # Tempo using onset strength\n",
    "        onset_env = librosa.onset.onset_strength(y=y, sr=sr)\n",
    "        tempo = librosa.feature.tempo(onset_envelope=onset_env, sr=sr)[0]  # Extract tempo\n",
    "\n",
    "        features[\"tempo_bpm\"] = tempo\n",
    "\n",
    "        # Spectral Features\n",
    "        spectral_centroids = librosa.feature.spectral_centroid(y=y, sr=sr)[0]\n",
    "        features[\"spectral_centroid_mean\"] = np.mean(spectral_centroids)\n",
    "        features[\"spectral_bandwidth_mean\"] = np.mean(librosa.feature.spectral_bandwidth(y=y, sr=sr)[0])\n",
    "        features[\"spectral_rolloff_mean\"] = np.mean(librosa.feature.spectral_rolloff(y=y, sr=sr)[0])\n",
    "\n",
    "        # MFCCs\n",
    "        mfccs = librosa.feature.mfcc(y=y, sr=sr, n_mfcc=13)\n",
    "        for i, coeff in enumerate(mfccs, 1):\n",
    "            features[f\"mfcc_{i}_mean\"] = np.mean(coeff)\n",
    "\n",
    "        # Chroma Features\n",
    "        chroma = librosa.feature.chroma_stft(y=y, sr=sr)\n",
    "        for i, chroma_mean in enumerate(np.mean(chroma, axis=1)):\n",
    "            features[f\"chroma_{i+1}_mean\"] = chroma_mean\n",
    "\n",
    "        # STFT (Spectrogram-based features)\n",
    "        stft = librosa.stft(y)\n",
    "        features[\"stft_magnitude_mean\"] = np.mean(np.abs(stft))\n",
    "\n",
    "        # RMS (Root Mean Square)\n",
    "        rms = librosa.feature.rms(y=y)[0]\n",
    "        features[\"rms_mean\"] = np.mean(rms)\n",
    "\n",
    "        return features\n",
    "\n",
    "    except Exception as e:\n",
    "        print(f\"Error extracting features: {e}\")\n",
    "        return None"
   ],
   "id": "6f27a60d7052f4c5",
   "outputs": [],
   "execution_count": null
  },
  {
   "metadata": {},
   "cell_type": "markdown",
   "source": "### Download the file, cut it to 30s and extract features and then delete - repeat for all files in autotagging_genres_filtered.csv",
   "id": "bddbfb3c40afc167"
  },
  {
   "metadata": {},
   "cell_type": "code",
   "source": [
    "import tempfile  # For temporary file storage\n",
    "\n",
    "def process_single_track(row, save_directory):\n",
    "    \"\"\"\n",
    "    Processes a single track: downloads, cuts to 30s, extracts features, and deletes the file.\n",
    "\n",
    "    Args:\n",
    "        row (pd.Series): Row containing metadata and path.\n",
    "        save_directory (str): Temporary directory for storing downloaded audio.\n",
    "\n",
    "    Returns:\n",
    "        dict: Extracted features combined with metadata, or None if processing fails.\n",
    "    \"\"\"\n",
    "    try:\n",
    "        path = row['path']\n",
    "        metadata = row.drop('path')  # Exclude path column from metadata\n",
    "\n",
    "        # Download the track\n",
    "        local_path = download_track(path, save_directory)\n",
    "        if not local_path:\n",
    "            return None\n",
    "\n",
    "        # Cut the audio to 30 seconds in memory\n",
    "        audio_segment = cut_audio_to_30s_in_memory(local_path)\n",
    "        os.remove(local_path)  # Delete downloaded file immediately\n",
    "\n",
    "        if audio_segment is None:\n",
    "            return None\n",
    "\n",
    "        # Write the 30-second segment to a temporary file for librosa processing\n",
    "        with tempfile.NamedTemporaryFile(suffix=\".wav\", delete=False) as temp_audio_file:\n",
    "            temp_audio_path = temp_audio_file.name\n",
    "            audio_segment.export(temp_audio_path, format=\"wav\")\n",
    "\n",
    "        # Extract features\n",
    "        features = extract_audio_features(temp_audio_path)\n",
    "        os.remove(temp_audio_path)  # Delete temporary file immediately\n",
    "\n",
    "        if features is None:\n",
    "            return None\n",
    "\n",
    "        # Combine metadata and features\n",
    "        return {**metadata, **features}\n",
    "\n",
    "    except Exception as e:\n",
    "        print(f\"Error processing track {row['path']}: {e}\")\n",
    "        return None\n",
    "\n",
    "def process_tracks_sequentially(autotagging_genres_filtered, save_directory):\n",
    "    \"\"\"\n",
    "    Processes multiple tracks sequentially, extracting features and compiling into a DataFrame.\n",
    "\n",
    "    Args:\n",
    "        autotagging_genres_filtered (pd.DataFrame): DataFrame containing metadata and paths.\n",
    "        save_directory (str): Temporary directory for storing downloaded audio.\n",
    "\n",
    "    Returns:\n",
    "        pd.DataFrame: DataFrame with extracted features and metadata.\n",
    "    \"\"\"\n",
    "    genres_with_extracted_features = []\n",
    "    \n",
    "    total_tracks = len(autotagging_genres_filtered)\n",
    "    for _, row in tqdm(autotagging_genres_filtered.iterrows(), total=total_tracks, desc=\"Processing Tracks\"):\n",
    "        try:\n",
    "            result = process_single_track(row, save_directory)\n",
    "            if result:\n",
    "                genres_with_extracted_features.append(result)\n",
    "        except Exception as e:\n",
    "            print(f\"Error during processing: {e}\")\n",
    "\n",
    "    # Convert the results to a DataFrame\n",
    "    return pd.DataFrame(genres_with_extracted_features)\n"
   ],
   "id": "77beed43ad73a1b0",
   "outputs": [],
   "execution_count": null
  },
  {
   "metadata": {},
   "cell_type": "code",
   "source": "data_genres_filtered['num_genres'] = data_genres_filtered[common_genres].sum(axis=1)",
   "id": "a4d27164c5bbc6ee",
   "outputs": [],
   "execution_count": null
  },
  {
   "metadata": {},
   "cell_type": "code",
   "source": [
    "# Distribution of number of genres\n",
    "data_genres_filtered['num_genres'].value_counts()"
   ],
   "id": "443a51572fc19e05",
   "outputs": [],
   "execution_count": null
  },
  {
   "metadata": {},
   "cell_type": "code",
   "source": "data_genres_one_genre = data_genres_filtered[data_genres_filtered['num_genres'] == 1]",
   "id": "a4bad5d96f2e3d97",
   "outputs": [],
   "execution_count": null
  },
  {
   "metadata": {},
   "cell_type": "code",
   "source": [
    "# Introduce column named 'genre' with text value of the genre\n",
    "data_genres_one_genre['genre'] = data_genres_one_genre[common_genres].idxmax(axis=1)"
   ],
   "id": "7b55cc535c780c61",
   "outputs": [],
   "execution_count": null
  },
  {
   "metadata": {},
   "cell_type": "code",
   "source": "data_genres_one_genre.sample(5)",
   "id": "64240ce45d41bb6",
   "outputs": [],
   "execution_count": null
  },
  {
   "metadata": {},
   "cell_type": "code",
   "source": [
    "# Save to csv\n",
    "data_genres_one_genre.to_csv('assets/genres_one_genre.csv', index=False)"
   ],
   "id": "100aa8542436bd9e",
   "outputs": [],
   "execution_count": null
  },
  {
   "metadata": {},
   "cell_type": "code",
   "source": [
    "# Choose randomly 100 tracks from each genre into ona dataframe\n",
    "\n",
    "test_subset = pd.concat([\n",
    "    data_genres_one_genre[data_genres_one_genre[genre] == 1].sample(125)\n",
    "    for genre in common_genres\n",
    "])\n",
    "\n",
    "test_subset.to_csv('assets/test_subset.csv', index=False)"
   ],
   "id": "aece0eaea3d05917",
   "outputs": [],
   "execution_count": null
  },
  {
   "metadata": {},
   "cell_type": "code",
   "source": "genre_distribution_test_subset = test_subset[common_genres].sum().sort_values(ascending=False)",
   "id": "8952eb4557a3fa5f",
   "outputs": [],
   "execution_count": null
  },
  {
   "metadata": {},
   "cell_type": "code",
   "source": [
    "fig = px.bar(\n",
    "    x=genre_distribution_test_subset.index,  # Genre names (x-axis)\n",
    "    y=genre_distribution_test_subset.values,  # Count of tracks (y-axis)\n",
    "    labels={\"x\": \"Genres\", \"y\": \"Number of Tracks\"},  # Axis labels\n",
    "    title=\"Genre Distribution Test Subset\",\n",
    "    template=\"plotly_white\"\n",
    ")\n",
    "\n",
    "fig.show()"
   ],
   "id": "30217b37d82e0b8f",
   "outputs": [],
   "execution_count": null
  },
  {
   "metadata": {},
   "cell_type": "code",
   "source": "data_genres_one_genre = data_genres_one_genre.drop(columns=['num_genres'])",
   "id": "eecfa9ea7153efb8",
   "outputs": [],
   "execution_count": null
  },
  {
   "metadata": {},
   "cell_type": "code",
   "source": [
    "# Spliting the data into two parts due to memory issues\n",
    "data_genres_one_genre_subset_1 = data_genres_one_genre.iloc[:8000]\n",
    "data_genres_one_genre_subset_2 = data_genres_one_genre.iloc[8000:]"
   ],
   "id": "f01155113283bb2",
   "outputs": [],
   "execution_count": null
  },
  {
   "metadata": {},
   "cell_type": "code",
   "source": [
    "save_directory = \"temp_audio\"\n",
    "processed_data = process_tracks_sequentially(data_genres_one_genre_subset_1, save_directory)\n",
    "\n",
    "# Save to file\n",
    "output_file = \"assets/genres_with_extracted_features_subset_1.csv\"\n",
    "processed_data.to_csv(output_file, index=False)"
   ],
   "id": "87ea8894023ee7e7",
   "outputs": [],
   "execution_count": null
  },
  {
   "metadata": {},
   "cell_type": "code",
   "source": [
    "save_directory = \"temp_audio\"\n",
    "processed_data = process_tracks_sequentially(data_genres_one_genre_subset_2, save_directory)\n",
    "\n",
    "# Save to file\n",
    "output_file = \"assets/genres_with_extracted_features_subset_2.csv\"\n",
    "processed_data.to_csv(output_file, index=False)"
   ],
   "id": "f4ecad7d0f7afabc",
   "outputs": [],
   "execution_count": null
  },
  {
   "metadata": {},
   "cell_type": "code",
   "source": "processed_data #12885",
   "id": "bd2927046634da5a",
   "outputs": [],
   "execution_count": null
  },
  {
   "metadata": {},
   "cell_type": "code",
   "source": [
    "# Choose randomly 100 tracks from each genre into ona dataframe\n",
    "\n",
    "test_subset_inbalanced = pd.concat([\n",
    "    data_genres_one_genre[data_genres_one_genre[genre] == 1].sample(genre_distribution_filtered_d10_int[genre])\n",
    "    for genre in common_genres\n",
    "])\n",
    "test_subset_inbalanced.to_csv('assets/test_subset_inbalanced_big.csv', index=False)\n",
    "genre_distribution_test_subset_inbalanced = test_subset_inbalanced[common_genres].sum().sort_values(ascending=False)"
   ],
   "id": "d9f511ff4fac5599",
   "outputs": [],
   "execution_count": null
  },
  {
   "metadata": {},
   "cell_type": "code",
   "source": [
    "fig = px.bar(\n",
    "    x=genre_distribution_test_subset_inbalanced.index,  # Genre names (x-axis)\n",
    "    y=genre_distribution_test_subset_inbalanced.values,  # Count of tracks (y-axis)\n",
    "    labels={\"x\": \"Genres\", \"y\": \"Number of Tracks\"},  # Axis labels\n",
    "    title=\"Genre Distribution Test Subset\",\n",
    "    template=\"plotly_white\"\n",
    ")\n",
    "\n",
    "fig.show()"
   ],
   "id": "52a5b249698746ac",
   "outputs": [],
   "execution_count": null
  },
  {
   "metadata": {},
   "cell_type": "code",
   "source": [
    "save_directory = \"temp_audio\"\n",
    "processed_data = process_tracks_sequentially(test_subset_inbalanced, save_directory)\n",
    "\n",
    "# Save to file\n",
    "output_file = \"assets/genres_with_extracted_features_inbalanced_big.csv\"\n",
    "processed_data.to_csv(output_file, index=False)"
   ],
   "id": "97c8d4854948484f",
   "outputs": [],
   "execution_count": null
  },
  {
   "metadata": {},
   "cell_type": "code",
   "source": "data.sample()",
   "id": "3737a0800b1e57b0",
   "outputs": [],
   "execution_count": null
  },
  {
   "metadata": {},
   "cell_type": "code",
   "source": [
    "subset_1 = pd.read_csv('assets/genres_with_extracted_features_subset_1.csv')\n",
    "subset_2 = pd.read_csv('assets/genres_with_extracted_features_subset_2.csv')"
   ],
   "id": "5ebb2b504166e41b",
   "outputs": [],
   "execution_count": null
  },
  {
   "metadata": {},
   "cell_type": "code",
   "source": [
    "# When heavymetal 1 then metal 1\n",
    "subset_1"
   ],
   "id": "ece5ee6ebffe5c34",
   "outputs": [],
   "execution_count": null
  },
  {
   "metadata": {},
   "cell_type": "code",
   "source": "subset_1['metal'] = (subset_1['metal'] | subset_1['heavymetal']).astype(int)",
   "id": "ffd70406c4e33e9d",
   "outputs": [],
   "execution_count": null
  },
  {
   "metadata": {},
   "cell_type": "code",
   "source": "subset_1[subset_1['heavymetal']==1]",
   "id": "38518321e5797ee4",
   "outputs": [],
   "execution_count": null
  },
  {
   "metadata": {},
   "cell_type": "code",
   "source": "subset_1 = subset_1.drop(columns='heavymetal')",
   "id": "118b97166084ee22",
   "outputs": [],
   "execution_count": null
  },
  {
   "metadata": {},
   "cell_type": "code",
   "source": "subset_1",
   "id": "b479dc4cbe142f7a",
   "outputs": [],
   "execution_count": null
  },
  {
   "metadata": {},
   "cell_type": "code",
   "source": [
    "subset_2['metal'] = (subset_2['metal'] | subset_2['heavymetal']).astype(int)\n",
    "subset_2 = subset_2.drop(columns='heavymetal')"
   ],
   "id": "ca9e73609015e7bf",
   "outputs": [],
   "execution_count": null
  },
  {
   "metadata": {},
   "cell_type": "code",
   "source": [
    "# Combine subset 1 and 2 into one\n",
    "combined_df = pd.concat([subset_1, subset_2])"
   ],
   "id": "5797c84933e88c8a",
   "outputs": [],
   "execution_count": null
  },
  {
   "metadata": {},
   "cell_type": "code",
   "source": "combined_df",
   "id": "5664800d541b3b4",
   "outputs": [],
   "execution_count": null
  },
  {
   "metadata": {},
   "cell_type": "code",
   "source": "combined_df.to_csv('assets/data_one_genre_with_extracted_features_full.csv')",
   "id": "d36336a8cc2a2bf7",
   "outputs": [],
   "execution_count": null
  }
 ],
 "metadata": {
  "kernelspec": {
   "display_name": "Python 3",
   "language": "python",
   "name": "python3"
  },
  "language_info": {
   "codemirror_mode": {
    "name": "ipython",
    "version": 2
   },
   "file_extension": ".py",
   "mimetype": "text/x-python",
   "name": "python",
   "nbconvert_exporter": "python",
   "pygments_lexer": "ipython2",
   "version": "2.7.6"
  }
 },
 "nbformat": 4,
 "nbformat_minor": 5
}
